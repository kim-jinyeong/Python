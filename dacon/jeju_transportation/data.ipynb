{
 "cells": [
  {
   "cell_type": "code",
   "execution_count": 66,
   "metadata": {
    "collapsed": true
   },
   "outputs": [],
   "source": [
    "import pandas as pd\n",
    "import numpy as np\n",
    "from sklearn.preprocessing import LabelEncoder"
   ]
  },
  {
   "cell_type": "code",
   "execution_count": 67,
   "metadata": {
    "collapsed": false,
    "pycharm": {
     "name": "#%%\n"
    }
   },
   "outputs": [],
   "source": [
    "train = pd.read_csv('./data/train.csv')\n",
    "test = pd.read_csv('./data/test.csv')\n",
    "submission = pd.read_csv('./data/sample_submission.csv')\n"
   ]
  },
  {
   "cell_type": "code",
   "execution_count": 68,
   "metadata": {
    "collapsed": false,
    "pycharm": {
     "name": "#%%\n"
    }
   },
   "outputs": [],
   "source": [
    "# id\t\t\t\t\t아이디\t\t\t\t\tobject\n",
    "# base_date\t\t\t\t날짜\t\t\t\t\t\tint64\n",
    "# day_of_week\t\t\t요일\t\t\t\t\t\tobject\n",
    "# base_hour\t\t\t\t시간대\t\t\t\t\tint64\n",
    "# lane_count\t\t\t차로수\t\t\t\t\tint64\n",
    "# road_rating\t\t\t도로등급\t\t\t\t\tobject\n",
    "# multi_linked\t\t\t중용구간 여부\t\t\t\tint64\n",
    "# connect_code\t\t\t연결로 코드\t\t\t\tint64\n",
    "# maximum_speed_limit\t최고속도제한\t\t\t\tfloat64\n",
    "# weight_restricted\t\t통과제한하중\t\t\t\tfloat64\n",
    "# height_restricted\t\t통과제한높이\t\t\t\tfloat64\n",
    "# road_type\t\t\t\t도로유형\t\t\t\t\tfloat64\n",
    "# start_latitude\t\t시작지점의 위도\t\t\tint64\n",
    "# start_longitude\t\t시작지점의 경도\t\t\tobject\n",
    "# start_turn_restricted\t시작 지점의 회전제한 유무\tfloat64\n",
    "# end_latitude\t\t\t도착지점의 위도\t\t\tfloat64\n",
    "# end_longitude\t\t\t도착지점의 경도\t\t\tobject\n",
    "# end_turn_restricted\t도작지점의 회전제한 유무\tobject\n",
    "# road_name\t\t\t\t도로명\t\t\t\t\tfloat64\n",
    "# start_node_name\t\t시작지점명\t\t\t\tfloat64\n",
    "# end_node_name\t\t\t도착지점명\t\t\t\tobject\n",
    "# vehicle_restricted\t통과제한차량\t\t\t\tfloat64\n",
    "# target\t\t\t\t평균속도(km)\t\t\t\tobject(7)"
   ]
  },
  {
   "cell_type": "code",
   "execution_count": 69,
   "metadata": {},
   "outputs": [
    {
     "data": {
      "text/html": [
       "<div>\n",
       "<style scoped>\n",
       "    .dataframe tbody tr th:only-of-type {\n",
       "        vertical-align: middle;\n",
       "    }\n",
       "\n",
       "    .dataframe tbody tr th {\n",
       "        vertical-align: top;\n",
       "    }\n",
       "\n",
       "    .dataframe thead th {\n",
       "        text-align: right;\n",
       "    }\n",
       "</style>\n",
       "<table border=\"1\" class=\"dataframe\">\n",
       "  <thead>\n",
       "    <tr style=\"text-align: right;\">\n",
       "      <th></th>\n",
       "      <th>base_date</th>\n",
       "      <th>base_hour</th>\n",
       "      <th>lane_count</th>\n",
       "      <th>road_rating</th>\n",
       "      <th>multi_linked</th>\n",
       "      <th>connect_code</th>\n",
       "      <th>maximum_speed_limit</th>\n",
       "      <th>vehicle_restricted</th>\n",
       "      <th>weight_restricted</th>\n",
       "      <th>height_restricted</th>\n",
       "      <th>road_type</th>\n",
       "      <th>start_latitude</th>\n",
       "      <th>start_longitude</th>\n",
       "      <th>end_latitude</th>\n",
       "      <th>end_longitude</th>\n",
       "      <th>target</th>\n",
       "    </tr>\n",
       "  </thead>\n",
       "  <tbody>\n",
       "    <tr>\n",
       "      <th>count</th>\n",
       "      <td>4.701217e+06</td>\n",
       "      <td>4.701217e+06</td>\n",
       "      <td>4.701217e+06</td>\n",
       "      <td>4.701217e+06</td>\n",
       "      <td>4.701217e+06</td>\n",
       "      <td>4.701217e+06</td>\n",
       "      <td>4.701217e+06</td>\n",
       "      <td>4701217.0</td>\n",
       "      <td>4.701217e+06</td>\n",
       "      <td>4701217.0</td>\n",
       "      <td>4.701217e+06</td>\n",
       "      <td>4.701217e+06</td>\n",
       "      <td>4.701217e+06</td>\n",
       "      <td>4.701217e+06</td>\n",
       "      <td>4.701217e+06</td>\n",
       "      <td>4.701217e+06</td>\n",
       "    </tr>\n",
       "    <tr>\n",
       "      <th>mean</th>\n",
       "      <td>2.021672e+07</td>\n",
       "      <td>1.192820e+01</td>\n",
       "      <td>1.836651e+00</td>\n",
       "      <td>1.049585e+02</td>\n",
       "      <td>4.762597e-04</td>\n",
       "      <td>2.660218e-01</td>\n",
       "      <td>6.125329e+01</td>\n",
       "      <td>0.0</td>\n",
       "      <td>5.618742e+03</td>\n",
       "      <td>0.0</td>\n",
       "      <td>6.152237e-01</td>\n",
       "      <td>3.338432e+01</td>\n",
       "      <td>1.265217e+02</td>\n",
       "      <td>3.338432e+01</td>\n",
       "      <td>1.265217e+02</td>\n",
       "      <td>4.278844e+01</td>\n",
       "    </tr>\n",
       "    <tr>\n",
       "      <th>std</th>\n",
       "      <td>4.555709e+03</td>\n",
       "      <td>6.722092e+00</td>\n",
       "      <td>6.877513e-01</td>\n",
       "      <td>1.840107e+00</td>\n",
       "      <td>2.181818e-02</td>\n",
       "      <td>5.227760e+00</td>\n",
       "      <td>1.213354e+01</td>\n",
       "      <td>0.0</td>\n",
       "      <td>1.395343e+04</td>\n",
       "      <td>0.0</td>\n",
       "      <td>1.211268e+00</td>\n",
       "      <td>1.012015e-01</td>\n",
       "      <td>1.563657e-01</td>\n",
       "      <td>1.011948e-01</td>\n",
       "      <td>1.563519e-01</td>\n",
       "      <td>1.595443e+01</td>\n",
       "    </tr>\n",
       "    <tr>\n",
       "      <th>min</th>\n",
       "      <td>2.021090e+07</td>\n",
       "      <td>0.000000e+00</td>\n",
       "      <td>1.000000e+00</td>\n",
       "      <td>1.030000e+02</td>\n",
       "      <td>0.000000e+00</td>\n",
       "      <td>0.000000e+00</td>\n",
       "      <td>3.000000e+01</td>\n",
       "      <td>0.0</td>\n",
       "      <td>0.000000e+00</td>\n",
       "      <td>0.0</td>\n",
       "      <td>0.000000e+00</td>\n",
       "      <td>3.324343e+01</td>\n",
       "      <td>1.261826e+02</td>\n",
       "      <td>3.324343e+01</td>\n",
       "      <td>1.261826e+02</td>\n",
       "      <td>1.000000e+00</td>\n",
       "    </tr>\n",
       "    <tr>\n",
       "      <th>25%</th>\n",
       "      <td>2.021110e+07</td>\n",
       "      <td>6.000000e+00</td>\n",
       "      <td>1.000000e+00</td>\n",
       "      <td>1.030000e+02</td>\n",
       "      <td>0.000000e+00</td>\n",
       "      <td>0.000000e+00</td>\n",
       "      <td>5.000000e+01</td>\n",
       "      <td>0.0</td>\n",
       "      <td>0.000000e+00</td>\n",
       "      <td>0.0</td>\n",
       "      <td>0.000000e+00</td>\n",
       "      <td>3.326422e+01</td>\n",
       "      <td>1.264232e+02</td>\n",
       "      <td>3.326422e+01</td>\n",
       "      <td>1.264232e+02</td>\n",
       "      <td>3.000000e+01</td>\n",
       "    </tr>\n",
       "    <tr>\n",
       "      <th>50%</th>\n",
       "      <td>2.022013e+07</td>\n",
       "      <td>1.200000e+01</td>\n",
       "      <td>2.000000e+00</td>\n",
       "      <td>1.060000e+02</td>\n",
       "      <td>0.000000e+00</td>\n",
       "      <td>0.000000e+00</td>\n",
       "      <td>6.000000e+01</td>\n",
       "      <td>0.0</td>\n",
       "      <td>0.000000e+00</td>\n",
       "      <td>0.0</td>\n",
       "      <td>0.000000e+00</td>\n",
       "      <td>3.341257e+01</td>\n",
       "      <td>1.265112e+02</td>\n",
       "      <td>3.341257e+01</td>\n",
       "      <td>1.265112e+02</td>\n",
       "      <td>4.300000e+01</td>\n",
       "    </tr>\n",
       "    <tr>\n",
       "      <th>75%</th>\n",
       "      <td>2.022050e+07</td>\n",
       "      <td>1.800000e+01</td>\n",
       "      <td>2.000000e+00</td>\n",
       "      <td>1.070000e+02</td>\n",
       "      <td>0.000000e+00</td>\n",
       "      <td>0.000000e+00</td>\n",
       "      <td>7.000000e+01</td>\n",
       "      <td>0.0</td>\n",
       "      <td>0.000000e+00</td>\n",
       "      <td>0.0</td>\n",
       "      <td>0.000000e+00</td>\n",
       "      <td>3.347804e+01</td>\n",
       "      <td>1.265840e+02</td>\n",
       "      <td>3.347804e+01</td>\n",
       "      <td>1.265840e+02</td>\n",
       "      <td>5.400000e+01</td>\n",
       "    </tr>\n",
       "    <tr>\n",
       "      <th>max</th>\n",
       "      <td>2.022073e+07</td>\n",
       "      <td>2.300000e+01</td>\n",
       "      <td>3.000000e+00</td>\n",
       "      <td>1.070000e+02</td>\n",
       "      <td>1.000000e+00</td>\n",
       "      <td>1.030000e+02</td>\n",
       "      <td>8.000000e+01</td>\n",
       "      <td>0.0</td>\n",
       "      <td>5.000000e+04</td>\n",
       "      <td>0.0</td>\n",
       "      <td>3.000000e+00</td>\n",
       "      <td>3.355608e+01</td>\n",
       "      <td>1.269309e+02</td>\n",
       "      <td>3.355608e+01</td>\n",
       "      <td>1.269309e+02</td>\n",
       "      <td>1.130000e+02</td>\n",
       "    </tr>\n",
       "  </tbody>\n",
       "</table>\n",
       "</div>"
      ],
      "text/plain": [
       "          base_date     base_hour    lane_count   road_rating  multi_linked  \\\n",
       "count  4.701217e+06  4.701217e+06  4.701217e+06  4.701217e+06  4.701217e+06   \n",
       "mean   2.021672e+07  1.192820e+01  1.836651e+00  1.049585e+02  4.762597e-04   \n",
       "std    4.555709e+03  6.722092e+00  6.877513e-01  1.840107e+00  2.181818e-02   \n",
       "min    2.021090e+07  0.000000e+00  1.000000e+00  1.030000e+02  0.000000e+00   \n",
       "25%    2.021110e+07  6.000000e+00  1.000000e+00  1.030000e+02  0.000000e+00   \n",
       "50%    2.022013e+07  1.200000e+01  2.000000e+00  1.060000e+02  0.000000e+00   \n",
       "75%    2.022050e+07  1.800000e+01  2.000000e+00  1.070000e+02  0.000000e+00   \n",
       "max    2.022073e+07  2.300000e+01  3.000000e+00  1.070000e+02  1.000000e+00   \n",
       "\n",
       "       connect_code  maximum_speed_limit  vehicle_restricted  \\\n",
       "count  4.701217e+06         4.701217e+06           4701217.0   \n",
       "mean   2.660218e-01         6.125329e+01                 0.0   \n",
       "std    5.227760e+00         1.213354e+01                 0.0   \n",
       "min    0.000000e+00         3.000000e+01                 0.0   \n",
       "25%    0.000000e+00         5.000000e+01                 0.0   \n",
       "50%    0.000000e+00         6.000000e+01                 0.0   \n",
       "75%    0.000000e+00         7.000000e+01                 0.0   \n",
       "max    1.030000e+02         8.000000e+01                 0.0   \n",
       "\n",
       "       weight_restricted  height_restricted     road_type  start_latitude  \\\n",
       "count       4.701217e+06          4701217.0  4.701217e+06    4.701217e+06   \n",
       "mean        5.618742e+03                0.0  6.152237e-01    3.338432e+01   \n",
       "std         1.395343e+04                0.0  1.211268e+00    1.012015e-01   \n",
       "min         0.000000e+00                0.0  0.000000e+00    3.324343e+01   \n",
       "25%         0.000000e+00                0.0  0.000000e+00    3.326422e+01   \n",
       "50%         0.000000e+00                0.0  0.000000e+00    3.341257e+01   \n",
       "75%         0.000000e+00                0.0  0.000000e+00    3.347804e+01   \n",
       "max         5.000000e+04                0.0  3.000000e+00    3.355608e+01   \n",
       "\n",
       "       start_longitude  end_latitude  end_longitude        target  \n",
       "count     4.701217e+06  4.701217e+06   4.701217e+06  4.701217e+06  \n",
       "mean      1.265217e+02  3.338432e+01   1.265217e+02  4.278844e+01  \n",
       "std       1.563657e-01  1.011948e-01   1.563519e-01  1.595443e+01  \n",
       "min       1.261826e+02  3.324343e+01   1.261826e+02  1.000000e+00  \n",
       "25%       1.264232e+02  3.326422e+01   1.264232e+02  3.000000e+01  \n",
       "50%       1.265112e+02  3.341257e+01   1.265112e+02  4.300000e+01  \n",
       "75%       1.265840e+02  3.347804e+01   1.265840e+02  5.400000e+01  \n",
       "max       1.269309e+02  3.355608e+01   1.269309e+02  1.130000e+02  "
      ]
     },
     "execution_count": 69,
     "metadata": {},
     "output_type": "execute_result"
    }
   ],
   "source": [
    "train.describe()"
   ]
  },
  {
   "cell_type": "code",
   "execution_count": 70,
   "metadata": {},
   "outputs": [
    {
     "data": {
      "text/plain": [
       "Index(['vehicle_restricted', 'height_restricted'], dtype='object')"
      ]
     },
     "execution_count": 70,
     "metadata": {},
     "output_type": "execute_result"
    }
   ],
   "source": [
    "data = train.describe().transpose()\n",
    "data[data['std']==0].index\n"
   ]
  },
  {
   "cell_type": "code",
   "execution_count": 71,
   "metadata": {
    "collapsed": false,
    "pycharm": {
     "name": "#%%\n"
    }
   },
   "outputs": [
    {
     "name": "stdout",
     "output_type": "stream",
     "text": [
      "<class 'pandas.core.frame.DataFrame'>\n",
      "RangeIndex: 4701217 entries, 0 to 4701216\n",
      "Data columns (total 23 columns):\n",
      " #   Column                 Dtype  \n",
      "---  ------                 -----  \n",
      " 0   id                     object \n",
      " 1   base_date              int64  \n",
      " 2   day_of_week            object \n",
      " 3   base_hour              int64  \n",
      " 4   lane_count             int64  \n",
      " 5   road_rating            int64  \n",
      " 6   road_name              object \n",
      " 7   multi_linked           int64  \n",
      " 8   connect_code           int64  \n",
      " 9   maximum_speed_limit    float64\n",
      " 10  vehicle_restricted     float64\n",
      " 11  weight_restricted      float64\n",
      " 12  height_restricted      float64\n",
      " 13  road_type              int64  \n",
      " 14  start_node_name        object \n",
      " 15  start_latitude         float64\n",
      " 16  start_longitude        float64\n",
      " 17  start_turn_restricted  object \n",
      " 18  end_node_name          object \n",
      " 19  end_latitude           float64\n",
      " 20  end_longitude          float64\n",
      " 21  end_turn_restricted    object \n",
      " 22  target                 float64\n",
      "dtypes: float64(9), int64(7), object(7)\n",
      "memory usage: 825.0+ MB\n"
     ]
    }
   ],
   "source": [
    "train.info()"
   ]
  },
  {
   "cell_type": "code",
   "execution_count": 72,
   "metadata": {},
   "outputs": [
    {
     "data": {
      "text/html": [
       "<div>\n",
       "<style scoped>\n",
       "    .dataframe tbody tr th:only-of-type {\n",
       "        vertical-align: middle;\n",
       "    }\n",
       "\n",
       "    .dataframe tbody tr th {\n",
       "        vertical-align: top;\n",
       "    }\n",
       "\n",
       "    .dataframe thead th {\n",
       "        text-align: right;\n",
       "    }\n",
       "</style>\n",
       "<table border=\"1\" class=\"dataframe\">\n",
       "  <thead>\n",
       "    <tr style=\"text-align: right;\">\n",
       "      <th></th>\n",
       "      <th>id</th>\n",
       "      <th>base_date</th>\n",
       "      <th>day_of_week</th>\n",
       "      <th>base_hour</th>\n",
       "      <th>lane_count</th>\n",
       "      <th>road_rating</th>\n",
       "      <th>road_name</th>\n",
       "      <th>multi_linked</th>\n",
       "      <th>connect_code</th>\n",
       "      <th>maximum_speed_limit</th>\n",
       "      <th>...</th>\n",
       "      <th>road_type</th>\n",
       "      <th>start_node_name</th>\n",
       "      <th>start_latitude</th>\n",
       "      <th>start_longitude</th>\n",
       "      <th>start_turn_restricted</th>\n",
       "      <th>end_node_name</th>\n",
       "      <th>end_latitude</th>\n",
       "      <th>end_longitude</th>\n",
       "      <th>end_turn_restricted</th>\n",
       "      <th>target</th>\n",
       "    </tr>\n",
       "  </thead>\n",
       "  <tbody>\n",
       "    <tr>\n",
       "      <th>0</th>\n",
       "      <td>TRAIN_0000000</td>\n",
       "      <td>20220623</td>\n",
       "      <td>목</td>\n",
       "      <td>17</td>\n",
       "      <td>1</td>\n",
       "      <td>106</td>\n",
       "      <td>지방도1112호선</td>\n",
       "      <td>0</td>\n",
       "      <td>0</td>\n",
       "      <td>60.0</td>\n",
       "      <td>...</td>\n",
       "      <td>3</td>\n",
       "      <td>제3교래교</td>\n",
       "      <td>33.427747</td>\n",
       "      <td>126.662612</td>\n",
       "      <td>없음</td>\n",
       "      <td>제3교래교</td>\n",
       "      <td>33.427749</td>\n",
       "      <td>126.662335</td>\n",
       "      <td>없음</td>\n",
       "      <td>52.0</td>\n",
       "    </tr>\n",
       "    <tr>\n",
       "      <th>1</th>\n",
       "      <td>TRAIN_0000001</td>\n",
       "      <td>20220728</td>\n",
       "      <td>목</td>\n",
       "      <td>21</td>\n",
       "      <td>2</td>\n",
       "      <td>103</td>\n",
       "      <td>일반국도11호선</td>\n",
       "      <td>0</td>\n",
       "      <td>0</td>\n",
       "      <td>60.0</td>\n",
       "      <td>...</td>\n",
       "      <td>0</td>\n",
       "      <td>광양사거리</td>\n",
       "      <td>33.500730</td>\n",
       "      <td>126.529107</td>\n",
       "      <td>있음</td>\n",
       "      <td>KAL사거리</td>\n",
       "      <td>33.504811</td>\n",
       "      <td>126.526240</td>\n",
       "      <td>없음</td>\n",
       "      <td>30.0</td>\n",
       "    </tr>\n",
       "    <tr>\n",
       "      <th>2</th>\n",
       "      <td>TRAIN_0000002</td>\n",
       "      <td>20211010</td>\n",
       "      <td>일</td>\n",
       "      <td>7</td>\n",
       "      <td>2</td>\n",
       "      <td>103</td>\n",
       "      <td>일반국도16호선</td>\n",
       "      <td>0</td>\n",
       "      <td>0</td>\n",
       "      <td>80.0</td>\n",
       "      <td>...</td>\n",
       "      <td>0</td>\n",
       "      <td>창고천교</td>\n",
       "      <td>33.279145</td>\n",
       "      <td>126.368598</td>\n",
       "      <td>없음</td>\n",
       "      <td>상창육교</td>\n",
       "      <td>33.280072</td>\n",
       "      <td>126.362147</td>\n",
       "      <td>없음</td>\n",
       "      <td>61.0</td>\n",
       "    </tr>\n",
       "    <tr>\n",
       "      <th>3</th>\n",
       "      <td>TRAIN_0000003</td>\n",
       "      <td>20220311</td>\n",
       "      <td>금</td>\n",
       "      <td>13</td>\n",
       "      <td>2</td>\n",
       "      <td>107</td>\n",
       "      <td>태평로</td>\n",
       "      <td>0</td>\n",
       "      <td>0</td>\n",
       "      <td>50.0</td>\n",
       "      <td>...</td>\n",
       "      <td>0</td>\n",
       "      <td>남양리조트</td>\n",
       "      <td>33.246081</td>\n",
       "      <td>126.567204</td>\n",
       "      <td>없음</td>\n",
       "      <td>서현주택</td>\n",
       "      <td>33.245565</td>\n",
       "      <td>126.566228</td>\n",
       "      <td>없음</td>\n",
       "      <td>20.0</td>\n",
       "    </tr>\n",
       "    <tr>\n",
       "      <th>4</th>\n",
       "      <td>TRAIN_0000004</td>\n",
       "      <td>20211005</td>\n",
       "      <td>화</td>\n",
       "      <td>8</td>\n",
       "      <td>2</td>\n",
       "      <td>103</td>\n",
       "      <td>일반국도12호선</td>\n",
       "      <td>0</td>\n",
       "      <td>0</td>\n",
       "      <td>80.0</td>\n",
       "      <td>...</td>\n",
       "      <td>0</td>\n",
       "      <td>애월샷시</td>\n",
       "      <td>33.462214</td>\n",
       "      <td>126.326551</td>\n",
       "      <td>없음</td>\n",
       "      <td>애월입구</td>\n",
       "      <td>33.462677</td>\n",
       "      <td>126.330152</td>\n",
       "      <td>없음</td>\n",
       "      <td>38.0</td>\n",
       "    </tr>\n",
       "  </tbody>\n",
       "</table>\n",
       "<p>5 rows × 23 columns</p>\n",
       "</div>"
      ],
      "text/plain": [
       "              id  base_date day_of_week  base_hour  lane_count  road_rating  \\\n",
       "0  TRAIN_0000000   20220623           목         17           1          106   \n",
       "1  TRAIN_0000001   20220728           목         21           2          103   \n",
       "2  TRAIN_0000002   20211010           일          7           2          103   \n",
       "3  TRAIN_0000003   20220311           금         13           2          107   \n",
       "4  TRAIN_0000004   20211005           화          8           2          103   \n",
       "\n",
       "   road_name  multi_linked  connect_code  maximum_speed_limit  ...  road_type  \\\n",
       "0  지방도1112호선             0             0                 60.0  ...          3   \n",
       "1   일반국도11호선             0             0                 60.0  ...          0   \n",
       "2   일반국도16호선             0             0                 80.0  ...          0   \n",
       "3        태평로             0             0                 50.0  ...          0   \n",
       "4   일반국도12호선             0             0                 80.0  ...          0   \n",
       "\n",
       "   start_node_name  start_latitude  start_longitude start_turn_restricted  \\\n",
       "0            제3교래교       33.427747       126.662612                    없음   \n",
       "1            광양사거리       33.500730       126.529107                    있음   \n",
       "2             창고천교       33.279145       126.368598                    없음   \n",
       "3            남양리조트       33.246081       126.567204                    없음   \n",
       "4             애월샷시       33.462214       126.326551                    없음   \n",
       "\n",
       "   end_node_name  end_latitude end_longitude end_turn_restricted  target  \n",
       "0          제3교래교     33.427749    126.662335                  없음    52.0  \n",
       "1         KAL사거리     33.504811    126.526240                  없음    30.0  \n",
       "2           상창육교     33.280072    126.362147                  없음    61.0  \n",
       "3           서현주택     33.245565    126.566228                  없음    20.0  \n",
       "4           애월입구     33.462677    126.330152                  없음    38.0  \n",
       "\n",
       "[5 rows x 23 columns]"
      ]
     },
     "execution_count": 72,
     "metadata": {},
     "output_type": "execute_result"
    }
   ],
   "source": [
    "train.head()"
   ]
  },
  {
   "cell_type": "markdown",
   "metadata": {},
   "source": []
  },
  {
   "cell_type": "code",
   "execution_count": 73,
   "metadata": {
    "collapsed": false,
    "pycharm": {
     "name": "#%%\n"
    }
   },
   "outputs": [
    {
     "data": {
      "text/plain": [
       "id                       0\n",
       "base_date                0\n",
       "day_of_week              0\n",
       "base_hour                0\n",
       "lane_count               0\n",
       "road_rating              0\n",
       "road_name                0\n",
       "multi_linked             0\n",
       "connect_code             0\n",
       "maximum_speed_limit      0\n",
       "vehicle_restricted       0\n",
       "weight_restricted        0\n",
       "height_restricted        0\n",
       "road_type                0\n",
       "start_node_name          0\n",
       "start_latitude           0\n",
       "start_longitude          0\n",
       "start_turn_restricted    0\n",
       "end_node_name            0\n",
       "end_latitude             0\n",
       "end_longitude            0\n",
       "end_turn_restricted      0\n",
       "target                   0\n",
       "dtype: int64"
      ]
     },
     "execution_count": 73,
     "metadata": {},
     "output_type": "execute_result"
    }
   ],
   "source": [
    "train.isnull().sum()"
   ]
  },
  {
   "cell_type": "code",
   "execution_count": 74,
   "metadata": {
    "collapsed": false,
    "pycharm": {
     "name": "#%%\n"
    }
   },
   "outputs": [
    {
     "name": "stdout",
     "output_type": "stream",
     "text": [
      "<class 'pandas.core.frame.DataFrame'>\n",
      "RangeIndex: 291241 entries, 0 to 291240\n",
      "Data columns (total 22 columns):\n",
      " #   Column                 Non-Null Count   Dtype  \n",
      "---  ------                 --------------   -----  \n",
      " 0   id                     291241 non-null  object \n",
      " 1   base_date              291241 non-null  int64  \n",
      " 2   day_of_week            291241 non-null  object \n",
      " 3   base_hour              291241 non-null  int64  \n",
      " 4   lane_count             291241 non-null  int64  \n",
      " 5   road_rating            291241 non-null  int64  \n",
      " 6   road_name              291241 non-null  object \n",
      " 7   multi_linked           291241 non-null  int64  \n",
      " 8   connect_code           291241 non-null  int64  \n",
      " 9   maximum_speed_limit    291241 non-null  float64\n",
      " 10  vehicle_restricted     291241 non-null  float64\n",
      " 11  weight_restricted      291241 non-null  float64\n",
      " 12  height_restricted      291241 non-null  float64\n",
      " 13  road_type              291241 non-null  int64  \n",
      " 14  start_node_name        291241 non-null  object \n",
      " 15  start_latitude         291241 non-null  float64\n",
      " 16  start_longitude        291241 non-null  float64\n",
      " 17  start_turn_restricted  291241 non-null  object \n",
      " 18  end_node_name          291241 non-null  object \n",
      " 19  end_latitude           291241 non-null  float64\n",
      " 20  end_longitude          291241 non-null  float64\n",
      " 21  end_turn_restricted    291241 non-null  object \n",
      "dtypes: float64(8), int64(7), object(7)\n",
      "memory usage: 48.9+ MB\n"
     ]
    }
   ],
   "source": [
    "test.info()"
   ]
  },
  {
   "cell_type": "code",
   "execution_count": 75,
   "metadata": {},
   "outputs": [
    {
     "data": {
      "text/html": [
       "<div>\n",
       "<style scoped>\n",
       "    .dataframe tbody tr th:only-of-type {\n",
       "        vertical-align: middle;\n",
       "    }\n",
       "\n",
       "    .dataframe tbody tr th {\n",
       "        vertical-align: top;\n",
       "    }\n",
       "\n",
       "    .dataframe thead th {\n",
       "        text-align: right;\n",
       "    }\n",
       "</style>\n",
       "<table border=\"1\" class=\"dataframe\">\n",
       "  <thead>\n",
       "    <tr style=\"text-align: right;\">\n",
       "      <th></th>\n",
       "      <th>id</th>\n",
       "      <th>base_date</th>\n",
       "      <th>day_of_week</th>\n",
       "      <th>base_hour</th>\n",
       "      <th>lane_count</th>\n",
       "      <th>road_rating</th>\n",
       "      <th>road_name</th>\n",
       "      <th>multi_linked</th>\n",
       "      <th>connect_code</th>\n",
       "      <th>maximum_speed_limit</th>\n",
       "      <th>...</th>\n",
       "      <th>height_restricted</th>\n",
       "      <th>road_type</th>\n",
       "      <th>start_node_name</th>\n",
       "      <th>start_latitude</th>\n",
       "      <th>start_longitude</th>\n",
       "      <th>start_turn_restricted</th>\n",
       "      <th>end_node_name</th>\n",
       "      <th>end_latitude</th>\n",
       "      <th>end_longitude</th>\n",
       "      <th>end_turn_restricted</th>\n",
       "    </tr>\n",
       "  </thead>\n",
       "  <tbody>\n",
       "    <tr>\n",
       "      <th>0</th>\n",
       "      <td>TEST_000000</td>\n",
       "      <td>20220825</td>\n",
       "      <td>목</td>\n",
       "      <td>17</td>\n",
       "      <td>3</td>\n",
       "      <td>107</td>\n",
       "      <td>연삼로</td>\n",
       "      <td>0</td>\n",
       "      <td>0</td>\n",
       "      <td>70.0</td>\n",
       "      <td>...</td>\n",
       "      <td>0.0</td>\n",
       "      <td>0</td>\n",
       "      <td>산지2교</td>\n",
       "      <td>33.499427</td>\n",
       "      <td>126.541298</td>\n",
       "      <td>없음</td>\n",
       "      <td>제주은행사거리</td>\n",
       "      <td>33.500772</td>\n",
       "      <td>126.543837</td>\n",
       "      <td>있음</td>\n",
       "    </tr>\n",
       "    <tr>\n",
       "      <th>1</th>\n",
       "      <td>TEST_000001</td>\n",
       "      <td>20220809</td>\n",
       "      <td>화</td>\n",
       "      <td>12</td>\n",
       "      <td>2</td>\n",
       "      <td>103</td>\n",
       "      <td>일반국도12호선</td>\n",
       "      <td>0</td>\n",
       "      <td>0</td>\n",
       "      <td>70.0</td>\n",
       "      <td>...</td>\n",
       "      <td>0.0</td>\n",
       "      <td>3</td>\n",
       "      <td>중문입구</td>\n",
       "      <td>33.258507</td>\n",
       "      <td>126.427003</td>\n",
       "      <td>없음</td>\n",
       "      <td>관광단지입구</td>\n",
       "      <td>33.258119</td>\n",
       "      <td>126.415840</td>\n",
       "      <td>없음</td>\n",
       "    </tr>\n",
       "    <tr>\n",
       "      <th>2</th>\n",
       "      <td>TEST_000002</td>\n",
       "      <td>20220805</td>\n",
       "      <td>금</td>\n",
       "      <td>2</td>\n",
       "      <td>1</td>\n",
       "      <td>103</td>\n",
       "      <td>일반국도16호선</td>\n",
       "      <td>0</td>\n",
       "      <td>0</td>\n",
       "      <td>60.0</td>\n",
       "      <td>...</td>\n",
       "      <td>0.0</td>\n",
       "      <td>0</td>\n",
       "      <td>도순3교</td>\n",
       "      <td>33.258960</td>\n",
       "      <td>126.476508</td>\n",
       "      <td>없음</td>\n",
       "      <td>도순2교</td>\n",
       "      <td>33.259206</td>\n",
       "      <td>126.474687</td>\n",
       "      <td>없음</td>\n",
       "    </tr>\n",
       "    <tr>\n",
       "      <th>3</th>\n",
       "      <td>TEST_000003</td>\n",
       "      <td>20220818</td>\n",
       "      <td>목</td>\n",
       "      <td>23</td>\n",
       "      <td>3</td>\n",
       "      <td>103</td>\n",
       "      <td>일반국도11호선</td>\n",
       "      <td>0</td>\n",
       "      <td>0</td>\n",
       "      <td>70.0</td>\n",
       "      <td>...</td>\n",
       "      <td>0.0</td>\n",
       "      <td>0</td>\n",
       "      <td>아라주공아파트</td>\n",
       "      <td>33.473494</td>\n",
       "      <td>126.545647</td>\n",
       "      <td>없음</td>\n",
       "      <td>인다마을</td>\n",
       "      <td>33.471061</td>\n",
       "      <td>126.545467</td>\n",
       "      <td>없음</td>\n",
       "    </tr>\n",
       "    <tr>\n",
       "      <th>4</th>\n",
       "      <td>TEST_000004</td>\n",
       "      <td>20220810</td>\n",
       "      <td>수</td>\n",
       "      <td>17</td>\n",
       "      <td>3</td>\n",
       "      <td>106</td>\n",
       "      <td>번영로</td>\n",
       "      <td>0</td>\n",
       "      <td>0</td>\n",
       "      <td>70.0</td>\n",
       "      <td>...</td>\n",
       "      <td>0.0</td>\n",
       "      <td>0</td>\n",
       "      <td>부록교 시종점</td>\n",
       "      <td>33.501477</td>\n",
       "      <td>126.569223</td>\n",
       "      <td>없음</td>\n",
       "      <td>봉개교 시종점</td>\n",
       "      <td>33.496863</td>\n",
       "      <td>126.581230</td>\n",
       "      <td>없음</td>\n",
       "    </tr>\n",
       "  </tbody>\n",
       "</table>\n",
       "<p>5 rows × 22 columns</p>\n",
       "</div>"
      ],
      "text/plain": [
       "            id  base_date day_of_week  base_hour  lane_count  road_rating  \\\n",
       "0  TEST_000000   20220825           목         17           3          107   \n",
       "1  TEST_000001   20220809           화         12           2          103   \n",
       "2  TEST_000002   20220805           금          2           1          103   \n",
       "3  TEST_000003   20220818           목         23           3          103   \n",
       "4  TEST_000004   20220810           수         17           3          106   \n",
       "\n",
       "  road_name  multi_linked  connect_code  maximum_speed_limit  ...  \\\n",
       "0       연삼로             0             0                 70.0  ...   \n",
       "1  일반국도12호선             0             0                 70.0  ...   \n",
       "2  일반국도16호선             0             0                 60.0  ...   \n",
       "3  일반국도11호선             0             0                 70.0  ...   \n",
       "4       번영로             0             0                 70.0  ...   \n",
       "\n",
       "   height_restricted  road_type  start_node_name  start_latitude  \\\n",
       "0                0.0          0             산지2교       33.499427   \n",
       "1                0.0          3             중문입구       33.258507   \n",
       "2                0.0          0             도순3교       33.258960   \n",
       "3                0.0          0          아라주공아파트       33.473494   \n",
       "4                0.0          0          부록교 시종점       33.501477   \n",
       "\n",
       "  start_longitude  start_turn_restricted  end_node_name end_latitude  \\\n",
       "0      126.541298                     없음        제주은행사거리    33.500772   \n",
       "1      126.427003                     없음         관광단지입구    33.258119   \n",
       "2      126.476508                     없음           도순2교    33.259206   \n",
       "3      126.545647                     없음           인다마을    33.471061   \n",
       "4      126.569223                     없음        봉개교 시종점    33.496863   \n",
       "\n",
       "  end_longitude  end_turn_restricted  \n",
       "0    126.543837                   있음  \n",
       "1    126.415840                   없음  \n",
       "2    126.474687                   없음  \n",
       "3    126.545467                   없음  \n",
       "4    126.581230                   없음  \n",
       "\n",
       "[5 rows x 22 columns]"
      ]
     },
     "execution_count": 75,
     "metadata": {},
     "output_type": "execute_result"
    }
   ],
   "source": [
    "test.head()"
   ]
  },
  {
   "cell_type": "code",
   "execution_count": 76,
   "metadata": {},
   "outputs": [
    {
     "data": {
      "text/plain": [
       "id                       0\n",
       "base_date                0\n",
       "day_of_week              0\n",
       "base_hour                0\n",
       "lane_count               0\n",
       "road_rating              0\n",
       "road_name                0\n",
       "multi_linked             0\n",
       "connect_code             0\n",
       "maximum_speed_limit      0\n",
       "vehicle_restricted       0\n",
       "weight_restricted        0\n",
       "height_restricted        0\n",
       "road_type                0\n",
       "start_node_name          0\n",
       "start_latitude           0\n",
       "start_longitude          0\n",
       "start_turn_restricted    0\n",
       "end_node_name            0\n",
       "end_latitude             0\n",
       "end_longitude            0\n",
       "end_turn_restricted      0\n",
       "dtype: int64"
      ]
     },
     "execution_count": 76,
     "metadata": {},
     "output_type": "execute_result"
    }
   ],
   "source": [
    "test.isnull().sum()"
   ]
  },
  {
   "cell_type": "code",
   "execution_count": 77,
   "metadata": {},
   "outputs": [
    {
     "name": "stdout",
     "output_type": "stream",
     "text": [
      "20210901\n",
      "20220731\n",
      "--------------------------------\n",
      "20220801\n",
      "20220831\n"
     ]
    }
   ],
   "source": [
    "print(train['base_date'].unique().min())\n",
    "print(train['base_date'].unique().max())\n",
    "print('--------------------------------')\n",
    "print(test['base_date'].unique().min())\n",
    "print(test['base_date'].unique().max())"
   ]
  },
  {
   "cell_type": "markdown",
   "metadata": {},
   "source": [
    "train : 2021-09-01 ~ 2022-07-31\n",
    "test : 2022-08-01 ~ 2022-08-31"
   ]
  },
  {
   "cell_type": "code",
   "execution_count": 78,
   "metadata": {},
   "outputs": [
    {
     "data": {
      "text/plain": [
       "금    684024\n",
       "수    675583\n",
       "목    674070\n",
       "일    673632\n",
       "토    669767\n",
       "화    662498\n",
       "월    661643\n",
       "Name: day_of_week, dtype: int64"
      ]
     },
     "execution_count": 78,
     "metadata": {},
     "output_type": "execute_result"
    }
   ],
   "source": [
    "train['day_of_week'].value_counts()"
   ]
  },
  {
   "cell_type": "code",
   "execution_count": 79,
   "metadata": {},
   "outputs": [],
   "source": [
    "encoder = LabelEncoder()\n",
    "encoder.fit(train['day_of_week'])\n",
    "train['day_of_week'] = encoder.transform(train['day_of_week'])"
   ]
  },
  {
   "cell_type": "code",
   "execution_count": 80,
   "metadata": {},
   "outputs": [
    {
     "data": {
      "text/plain": [
       "0    684024\n",
       "2    675583\n",
       "1    674070\n",
       "4    673632\n",
       "5    669767\n",
       "6    662498\n",
       "3    661643\n",
       "Name: day_of_week, dtype: int64"
      ]
     },
     "execution_count": 80,
     "metadata": {},
     "output_type": "execute_result"
    }
   ],
   "source": [
    "train['day_of_week'].value_counts()"
   ]
  },
  {
   "cell_type": "code",
   "execution_count": 81,
   "metadata": {},
   "outputs": [
    {
     "data": {
      "text/plain": [
       "103    2159511\n",
       "107    1582214\n",
       "106     959492\n",
       "Name: road_rating, dtype: int64"
      ]
     },
     "execution_count": 81,
     "metadata": {},
     "output_type": "execute_result"
    }
   ],
   "source": [
    "# 103 : 일반 국도, 106 : 지방도, 107 : 시군도\n",
    "train['road_rating'].value_counts()"
   ]
  },
  {
   "cell_type": "code",
   "execution_count": 82,
   "metadata": {},
   "outputs": [
    {
     "data": {
      "text/plain": [
       "일반국도12호선    1046092\n",
       "-            569463\n",
       "일반국도16호선     554510\n",
       "일반국도95호선     248181\n",
       "일반국도11호선     215701\n",
       "             ...   \n",
       "애원로            7718\n",
       "아봉로            7342\n",
       "남조로            6813\n",
       "호서중앙로          2819\n",
       "호근로             587\n",
       "Name: road_name, Length: 61, dtype: int64"
      ]
     },
     "execution_count": 82,
     "metadata": {},
     "output_type": "execute_result"
    }
   ],
   "source": [
    "train['road_name'].value_counts()"
   ]
  },
  {
   "cell_type": "code",
   "execution_count": 83,
   "metadata": {},
   "outputs": [
    {
     "data": {
      "text/plain": [
       "0    4698978\n",
       "1       2239\n",
       "Name: multi_linked, dtype: int64"
      ]
     },
     "execution_count": 83,
     "metadata": {},
     "output_type": "execute_result"
    }
   ],
   "source": [
    "# 0,1  1은 전부 남조로에 해당\n",
    "train['multi_linked'].value_counts()"
   ]
  },
  {
   "cell_type": "code",
   "execution_count": 84,
   "metadata": {},
   "outputs": [
    {
     "data": {
      "text/plain": [
       "남조로    2239\n",
       "Name: road_name, dtype: int64"
      ]
     },
     "execution_count": 84,
     "metadata": {},
     "output_type": "execute_result"
    }
   ],
   "source": [
    "train.loc[train['multi_linked'] == 1, 'road_name'].value_counts()"
   ]
  },
  {
   "cell_type": "code",
   "execution_count": 85,
   "metadata": {},
   "outputs": [
    {
     "data": {
      "text/plain": [
       "0      4689075\n",
       "103      12142\n",
       "Name: connect_code, dtype: int64"
      ]
     },
     "execution_count": 85,
     "metadata": {},
     "output_type": "execute_result"
    }
   ],
   "source": [
    "train['connect_code'].value_counts()"
   ]
  },
  {
   "cell_type": "code",
   "execution_count": 86,
   "metadata": {},
   "outputs": [
    {
     "data": {
      "text/plain": [
       "60.0    1665573\n",
       "50.0    1103682\n",
       "70.0     995077\n",
       "80.0     700334\n",
       "30.0     229761\n",
       "40.0       6790\n",
       "Name: maximum_speed_limit, dtype: int64"
      ]
     },
     "execution_count": 86,
     "metadata": {},
     "output_type": "execute_result"
    }
   ],
   "source": [
    "train['maximum_speed_limit'].value_counts()"
   ]
  },
  {
   "cell_type": "code",
   "execution_count": 87,
   "metadata": {},
   "outputs": [
    {
     "data": {
      "text/plain": [
       "0.0        4032874\n",
       "43200.0     410361\n",
       "32400.0     239305\n",
       "50000.0      18677\n",
       "Name: weight_restricted, dtype: int64"
      ]
     },
     "execution_count": 87,
     "metadata": {},
     "output_type": "execute_result"
    }
   ],
   "source": [
    "train['weight_restricted'].value_counts()"
   ]
  },
  {
   "cell_type": "code",
   "execution_count": 88,
   "metadata": {},
   "outputs": [
    {
     "data": {
      "text/plain": [
       "0.0    4701217\n",
       "Name: height_restricted, dtype: int64"
      ]
     },
     "execution_count": 88,
     "metadata": {},
     "output_type": "execute_result"
    }
   ],
   "source": [
    "# height_restricted 은 필요 x \n",
    "train['height_restricted'].value_counts()"
   ]
  },
  {
   "cell_type": "code",
   "execution_count": 89,
   "metadata": {},
   "outputs": [
    {
     "data": {
      "text/plain": [
       "0    3737117\n",
       "3     964100\n",
       "Name: road_type, dtype: int64"
      ]
     },
     "execution_count": 89,
     "metadata": {},
     "output_type": "execute_result"
    }
   ],
   "source": [
    "train['road_type'].value_counts()"
   ]
  },
  {
   "cell_type": "code",
   "execution_count": 90,
   "metadata": {},
   "outputs": [
    {
     "data": {
      "text/plain": [
       "없음    4239701\n",
       "있음     461516\n",
       "Name: start_turn_restricted, dtype: int64"
      ]
     },
     "execution_count": 90,
     "metadata": {},
     "output_type": "execute_result"
    }
   ],
   "source": [
    "train['start_turn_restricted'].value_counts()"
   ]
  },
  {
   "cell_type": "code",
   "execution_count": 91,
   "metadata": {},
   "outputs": [
    {
     "data": {
      "text/plain": [
       "없음    4239599\n",
       "있음     461618\n",
       "Name: end_turn_restricted, dtype: int64"
      ]
     },
     "execution_count": 91,
     "metadata": {},
     "output_type": "execute_result"
    }
   ],
   "source": [
    "train['end_turn_restricted'].value_counts()"
   ]
  },
  {
   "cell_type": "code",
   "execution_count": 92,
   "metadata": {},
   "outputs": [
    {
     "data": {
      "text/plain": [
       "고성교차로              42169\n",
       "산신주유소              29386\n",
       "미수2교               26635\n",
       "영주교                24381\n",
       "봉개교 시종점            24290\n",
       "                   ...  \n",
       "외산리사무소               934\n",
       "와산리                  881\n",
       "성미가든                 788\n",
       "CU서귀호근로점             744\n",
       "서귀포시 호근동 1838-4      744\n",
       "Name: start_node_name, Length: 487, dtype: int64"
      ]
     },
     "execution_count": 92,
     "metadata": {},
     "output_type": "execute_result"
    }
   ],
   "source": [
    "train['start_node_name'].value_counts()"
   ]
  },
  {
   "cell_type": "code",
   "execution_count": 93,
   "metadata": {},
   "outputs": [
    {
     "data": {
      "text/plain": [
       "0.0    4701217\n",
       "Name: vehicle_restricted, dtype: int64"
      ]
     },
     "execution_count": 93,
     "metadata": {},
     "output_type": "execute_result"
    }
   ],
   "source": [
    "# vehicle_restricted 은 필요x\n",
    "train['vehicle_restricted'].value_counts()"
   ]
  },
  {
   "cell_type": "code",
   "execution_count": 94,
   "metadata": {},
   "outputs": [
    {
     "data": {
      "text/plain": [
       "48.0     112044\n",
       "49.0     110244\n",
       "50.0     108822\n",
       "54.0     108040\n",
       "51.0     107347\n",
       "          ...  \n",
       "113.0         2\n",
       "96.0          2\n",
       "112.0         2\n",
       "98.0          1\n",
       "103.0         1\n",
       "Name: target, Length: 102, dtype: int64"
      ]
     },
     "execution_count": 94,
     "metadata": {},
     "output_type": "execute_result"
    }
   ],
   "source": [
    "train['target'].value_counts()"
   ]
  },
  {
   "cell_type": "code",
   "execution_count": 95,
   "metadata": {},
   "outputs": [
    {
     "data": {
      "text/html": [
       "<div>\n",
       "<style scoped>\n",
       "    .dataframe tbody tr th:only-of-type {\n",
       "        vertical-align: middle;\n",
       "    }\n",
       "\n",
       "    .dataframe tbody tr th {\n",
       "        vertical-align: top;\n",
       "    }\n",
       "\n",
       "    .dataframe thead th {\n",
       "        text-align: right;\n",
       "    }\n",
       "</style>\n",
       "<table border=\"1\" class=\"dataframe\">\n",
       "  <thead>\n",
       "    <tr style=\"text-align: right;\">\n",
       "      <th></th>\n",
       "      <th>id</th>\n",
       "      <th>base_date</th>\n",
       "      <th>day_of_week</th>\n",
       "      <th>base_hour</th>\n",
       "      <th>lane_count</th>\n",
       "      <th>road_rating</th>\n",
       "      <th>road_name</th>\n",
       "      <th>multi_linked</th>\n",
       "      <th>connect_code</th>\n",
       "      <th>maximum_speed_limit</th>\n",
       "      <th>...</th>\n",
       "      <th>road_type</th>\n",
       "      <th>start_node_name</th>\n",
       "      <th>start_latitude</th>\n",
       "      <th>start_longitude</th>\n",
       "      <th>start_turn_restricted</th>\n",
       "      <th>end_node_name</th>\n",
       "      <th>end_latitude</th>\n",
       "      <th>end_longitude</th>\n",
       "      <th>end_turn_restricted</th>\n",
       "      <th>target</th>\n",
       "    </tr>\n",
       "  </thead>\n",
       "  <tbody>\n",
       "    <tr>\n",
       "      <th>0</th>\n",
       "      <td>TRAIN_0000000</td>\n",
       "      <td>20220623</td>\n",
       "      <td>1</td>\n",
       "      <td>17</td>\n",
       "      <td>1</td>\n",
       "      <td>106</td>\n",
       "      <td>지방도1112호선</td>\n",
       "      <td>0</td>\n",
       "      <td>0</td>\n",
       "      <td>60.0</td>\n",
       "      <td>...</td>\n",
       "      <td>3</td>\n",
       "      <td>제3교래교</td>\n",
       "      <td>33.427747</td>\n",
       "      <td>126.662612</td>\n",
       "      <td>없음</td>\n",
       "      <td>제3교래교</td>\n",
       "      <td>33.427749</td>\n",
       "      <td>126.662335</td>\n",
       "      <td>없음</td>\n",
       "      <td>52.0</td>\n",
       "    </tr>\n",
       "    <tr>\n",
       "      <th>1</th>\n",
       "      <td>TRAIN_0000001</td>\n",
       "      <td>20220728</td>\n",
       "      <td>1</td>\n",
       "      <td>21</td>\n",
       "      <td>2</td>\n",
       "      <td>103</td>\n",
       "      <td>일반국도11호선</td>\n",
       "      <td>0</td>\n",
       "      <td>0</td>\n",
       "      <td>60.0</td>\n",
       "      <td>...</td>\n",
       "      <td>0</td>\n",
       "      <td>광양사거리</td>\n",
       "      <td>33.500730</td>\n",
       "      <td>126.529107</td>\n",
       "      <td>있음</td>\n",
       "      <td>KAL사거리</td>\n",
       "      <td>33.504811</td>\n",
       "      <td>126.526240</td>\n",
       "      <td>없음</td>\n",
       "      <td>30.0</td>\n",
       "    </tr>\n",
       "    <tr>\n",
       "      <th>2</th>\n",
       "      <td>TRAIN_0000002</td>\n",
       "      <td>20211010</td>\n",
       "      <td>4</td>\n",
       "      <td>7</td>\n",
       "      <td>2</td>\n",
       "      <td>103</td>\n",
       "      <td>일반국도16호선</td>\n",
       "      <td>0</td>\n",
       "      <td>0</td>\n",
       "      <td>80.0</td>\n",
       "      <td>...</td>\n",
       "      <td>0</td>\n",
       "      <td>창고천교</td>\n",
       "      <td>33.279145</td>\n",
       "      <td>126.368598</td>\n",
       "      <td>없음</td>\n",
       "      <td>상창육교</td>\n",
       "      <td>33.280072</td>\n",
       "      <td>126.362147</td>\n",
       "      <td>없음</td>\n",
       "      <td>61.0</td>\n",
       "    </tr>\n",
       "    <tr>\n",
       "      <th>3</th>\n",
       "      <td>TRAIN_0000003</td>\n",
       "      <td>20220311</td>\n",
       "      <td>0</td>\n",
       "      <td>13</td>\n",
       "      <td>2</td>\n",
       "      <td>107</td>\n",
       "      <td>태평로</td>\n",
       "      <td>0</td>\n",
       "      <td>0</td>\n",
       "      <td>50.0</td>\n",
       "      <td>...</td>\n",
       "      <td>0</td>\n",
       "      <td>남양리조트</td>\n",
       "      <td>33.246081</td>\n",
       "      <td>126.567204</td>\n",
       "      <td>없음</td>\n",
       "      <td>서현주택</td>\n",
       "      <td>33.245565</td>\n",
       "      <td>126.566228</td>\n",
       "      <td>없음</td>\n",
       "      <td>20.0</td>\n",
       "    </tr>\n",
       "    <tr>\n",
       "      <th>4</th>\n",
       "      <td>TRAIN_0000004</td>\n",
       "      <td>20211005</td>\n",
       "      <td>6</td>\n",
       "      <td>8</td>\n",
       "      <td>2</td>\n",
       "      <td>103</td>\n",
       "      <td>일반국도12호선</td>\n",
       "      <td>0</td>\n",
       "      <td>0</td>\n",
       "      <td>80.0</td>\n",
       "      <td>...</td>\n",
       "      <td>0</td>\n",
       "      <td>애월샷시</td>\n",
       "      <td>33.462214</td>\n",
       "      <td>126.326551</td>\n",
       "      <td>없음</td>\n",
       "      <td>애월입구</td>\n",
       "      <td>33.462677</td>\n",
       "      <td>126.330152</td>\n",
       "      <td>없음</td>\n",
       "      <td>38.0</td>\n",
       "    </tr>\n",
       "    <tr>\n",
       "      <th>...</th>\n",
       "      <td>...</td>\n",
       "      <td>...</td>\n",
       "      <td>...</td>\n",
       "      <td>...</td>\n",
       "      <td>...</td>\n",
       "      <td>...</td>\n",
       "      <td>...</td>\n",
       "      <td>...</td>\n",
       "      <td>...</td>\n",
       "      <td>...</td>\n",
       "      <td>...</td>\n",
       "      <td>...</td>\n",
       "      <td>...</td>\n",
       "      <td>...</td>\n",
       "      <td>...</td>\n",
       "      <td>...</td>\n",
       "      <td>...</td>\n",
       "      <td>...</td>\n",
       "      <td>...</td>\n",
       "      <td>...</td>\n",
       "      <td>...</td>\n",
       "    </tr>\n",
       "    <tr>\n",
       "      <th>4701212</th>\n",
       "      <td>TRAIN_4701212</td>\n",
       "      <td>20211104</td>\n",
       "      <td>1</td>\n",
       "      <td>16</td>\n",
       "      <td>1</td>\n",
       "      <td>107</td>\n",
       "      <td>-</td>\n",
       "      <td>0</td>\n",
       "      <td>0</td>\n",
       "      <td>50.0</td>\n",
       "      <td>...</td>\n",
       "      <td>0</td>\n",
       "      <td>대림사거리</td>\n",
       "      <td>33.422145</td>\n",
       "      <td>126.278125</td>\n",
       "      <td>없음</td>\n",
       "      <td>금덕해운</td>\n",
       "      <td>33.420955</td>\n",
       "      <td>126.273750</td>\n",
       "      <td>없음</td>\n",
       "      <td>20.0</td>\n",
       "    </tr>\n",
       "    <tr>\n",
       "      <th>4701213</th>\n",
       "      <td>TRAIN_4701213</td>\n",
       "      <td>20220331</td>\n",
       "      <td>1</td>\n",
       "      <td>2</td>\n",
       "      <td>2</td>\n",
       "      <td>107</td>\n",
       "      <td>-</td>\n",
       "      <td>0</td>\n",
       "      <td>0</td>\n",
       "      <td>80.0</td>\n",
       "      <td>...</td>\n",
       "      <td>3</td>\n",
       "      <td>광삼교</td>\n",
       "      <td>33.472505</td>\n",
       "      <td>126.424368</td>\n",
       "      <td>없음</td>\n",
       "      <td>광삼교</td>\n",
       "      <td>33.472525</td>\n",
       "      <td>126.424890</td>\n",
       "      <td>없음</td>\n",
       "      <td>65.0</td>\n",
       "    </tr>\n",
       "    <tr>\n",
       "      <th>4701214</th>\n",
       "      <td>TRAIN_4701214</td>\n",
       "      <td>20220613</td>\n",
       "      <td>3</td>\n",
       "      <td>22</td>\n",
       "      <td>2</td>\n",
       "      <td>103</td>\n",
       "      <td>일반국도12호선</td>\n",
       "      <td>0</td>\n",
       "      <td>0</td>\n",
       "      <td>60.0</td>\n",
       "      <td>...</td>\n",
       "      <td>0</td>\n",
       "      <td>고성교차로</td>\n",
       "      <td>33.447183</td>\n",
       "      <td>126.912579</td>\n",
       "      <td>없음</td>\n",
       "      <td>성산교차로</td>\n",
       "      <td>33.444121</td>\n",
       "      <td>126.912948</td>\n",
       "      <td>없음</td>\n",
       "      <td>30.0</td>\n",
       "    </tr>\n",
       "    <tr>\n",
       "      <th>4701215</th>\n",
       "      <td>TRAIN_4701215</td>\n",
       "      <td>20211020</td>\n",
       "      <td>2</td>\n",
       "      <td>2</td>\n",
       "      <td>2</td>\n",
       "      <td>103</td>\n",
       "      <td>일반국도95호선</td>\n",
       "      <td>0</td>\n",
       "      <td>0</td>\n",
       "      <td>80.0</td>\n",
       "      <td>...</td>\n",
       "      <td>0</td>\n",
       "      <td>제6광령교</td>\n",
       "      <td>33.443596</td>\n",
       "      <td>126.431817</td>\n",
       "      <td>없음</td>\n",
       "      <td>관광대학입구</td>\n",
       "      <td>33.444996</td>\n",
       "      <td>126.433332</td>\n",
       "      <td>없음</td>\n",
       "      <td>73.0</td>\n",
       "    </tr>\n",
       "    <tr>\n",
       "      <th>4701216</th>\n",
       "      <td>TRAIN_4701216</td>\n",
       "      <td>20211019</td>\n",
       "      <td>6</td>\n",
       "      <td>6</td>\n",
       "      <td>2</td>\n",
       "      <td>107</td>\n",
       "      <td>경찰로</td>\n",
       "      <td>0</td>\n",
       "      <td>0</td>\n",
       "      <td>60.0</td>\n",
       "      <td>...</td>\n",
       "      <td>0</td>\n",
       "      <td>서귀포경찰서</td>\n",
       "      <td>33.256785</td>\n",
       "      <td>126.508940</td>\n",
       "      <td>없음</td>\n",
       "      <td>시민공원</td>\n",
       "      <td>33.257130</td>\n",
       "      <td>126.510364</td>\n",
       "      <td>없음</td>\n",
       "      <td>35.0</td>\n",
       "    </tr>\n",
       "  </tbody>\n",
       "</table>\n",
       "<p>4701217 rows × 23 columns</p>\n",
       "</div>"
      ],
      "text/plain": [
       "                    id  base_date  day_of_week  base_hour  lane_count  \\\n",
       "0        TRAIN_0000000   20220623            1         17           1   \n",
       "1        TRAIN_0000001   20220728            1         21           2   \n",
       "2        TRAIN_0000002   20211010            4          7           2   \n",
       "3        TRAIN_0000003   20220311            0         13           2   \n",
       "4        TRAIN_0000004   20211005            6          8           2   \n",
       "...                ...        ...          ...        ...         ...   \n",
       "4701212  TRAIN_4701212   20211104            1         16           1   \n",
       "4701213  TRAIN_4701213   20220331            1          2           2   \n",
       "4701214  TRAIN_4701214   20220613            3         22           2   \n",
       "4701215  TRAIN_4701215   20211020            2          2           2   \n",
       "4701216  TRAIN_4701216   20211019            6          6           2   \n",
       "\n",
       "         road_rating  road_name  multi_linked  connect_code  \\\n",
       "0                106  지방도1112호선             0             0   \n",
       "1                103   일반국도11호선             0             0   \n",
       "2                103   일반국도16호선             0             0   \n",
       "3                107        태평로             0             0   \n",
       "4                103   일반국도12호선             0             0   \n",
       "...              ...        ...           ...           ...   \n",
       "4701212          107          -             0             0   \n",
       "4701213          107          -             0             0   \n",
       "4701214          103   일반국도12호선             0             0   \n",
       "4701215          103   일반국도95호선             0             0   \n",
       "4701216          107        경찰로             0             0   \n",
       "\n",
       "         maximum_speed_limit  ...  road_type  start_node_name  start_latitude  \\\n",
       "0                       60.0  ...          3            제3교래교       33.427747   \n",
       "1                       60.0  ...          0            광양사거리       33.500730   \n",
       "2                       80.0  ...          0             창고천교       33.279145   \n",
       "3                       50.0  ...          0            남양리조트       33.246081   \n",
       "4                       80.0  ...          0             애월샷시       33.462214   \n",
       "...                      ...  ...        ...              ...             ...   \n",
       "4701212                 50.0  ...          0            대림사거리       33.422145   \n",
       "4701213                 80.0  ...          3              광삼교       33.472505   \n",
       "4701214                 60.0  ...          0            고성교차로       33.447183   \n",
       "4701215                 80.0  ...          0            제6광령교       33.443596   \n",
       "4701216                 60.0  ...          0           서귀포경찰서       33.256785   \n",
       "\n",
       "         start_longitude start_turn_restricted  end_node_name  end_latitude  \\\n",
       "0             126.662612                    없음          제3교래교     33.427749   \n",
       "1             126.529107                    있음         KAL사거리     33.504811   \n",
       "2             126.368598                    없음           상창육교     33.280072   \n",
       "3             126.567204                    없음           서현주택     33.245565   \n",
       "4             126.326551                    없음           애월입구     33.462677   \n",
       "...                  ...                   ...            ...           ...   \n",
       "4701212       126.278125                    없음           금덕해운     33.420955   \n",
       "4701213       126.424368                    없음            광삼교     33.472525   \n",
       "4701214       126.912579                    없음          성산교차로     33.444121   \n",
       "4701215       126.431817                    없음         관광대학입구     33.444996   \n",
       "4701216       126.508940                    없음           시민공원     33.257130   \n",
       "\n",
       "        end_longitude end_turn_restricted  target  \n",
       "0          126.662335                  없음    52.0  \n",
       "1          126.526240                  없음    30.0  \n",
       "2          126.362147                  없음    61.0  \n",
       "3          126.566228                  없음    20.0  \n",
       "4          126.330152                  없음    38.0  \n",
       "...               ...                 ...     ...  \n",
       "4701212    126.273750                  없음    20.0  \n",
       "4701213    126.424890                  없음    65.0  \n",
       "4701214    126.912948                  없음    30.0  \n",
       "4701215    126.433332                  없음    73.0  \n",
       "4701216    126.510364                  없음    35.0  \n",
       "\n",
       "[4701217 rows x 23 columns]"
      ]
     },
     "execution_count": 95,
     "metadata": {},
     "output_type": "execute_result"
    }
   ],
   "source": [
    "train"
   ]
  },
  {
   "cell_type": "code",
   "execution_count": 96,
   "metadata": {},
   "outputs": [],
   "source": [
    "import requests\n",
    "from bs4 import BeautifulSoup\n",
    "# 한국천문연구원_특일 정보 ( https://www.data.go.kr/iim/api/selectAPIAcountView.do )\n",
    "url = 'http://apis.data.go.kr/B090041/openapi/service/SpcdeInfoService/getRestDeInfo'\n",
    "\n",
    "def day_week(year):\n",
    "    weekday = []\n",
    "    for i in year:\n",
    "        params = {'serviceKey':'서비스키', 'solYear': i} \n",
    "        response = requests.get(url, params=params)\n",
    "        soup = BeautifulSoup(response.content, 'html.parser')\n",
    "        table = soup.find_all('locdate')\n",
    "        [weekday.append(i.text) for i in table]\n",
    "    return weekday"
   ]
  },
  {
   "cell_type": "code",
   "execution_count": 97,
   "metadata": {},
   "outputs": [],
   "source": [
    "year = ['2021', '2022']\n",
    "weekday = day_week(year)"
   ]
  },
  {
   "cell_type": "code",
   "execution_count": 98,
   "metadata": {},
   "outputs": [
    {
     "data": {
      "text/plain": [
       "[]"
      ]
     },
     "execution_count": 98,
     "metadata": {},
     "output_type": "execute_result"
    }
   ],
   "source": [
    "weekday"
   ]
  },
  {
   "cell_type": "code",
   "execution_count": 99,
   "metadata": {},
   "outputs": [],
   "source": [
    "# 주말과 공휴일은 1 아니면 0 처리  \n",
    "# day_of_week ( 주말 ) 4, 5\n",
    "\n",
    "train['weekday'] = [1 if (str(i) in weekday) or j == 4 or j == 5 else 0 for i, j in zip(train['base_date'], train['day_of_week'])]\n"
   ]
  },
  {
   "cell_type": "code",
   "execution_count": 100,
   "metadata": {},
   "outputs": [],
   "source": [
    "train['len_latitude'] = train['start_latitude'] - train['end_latitude']\n",
    "train['len_longitude'] = train['start_longitude'] - train['end_longitude']"
   ]
  },
  {
   "cell_type": "code",
   "execution_count": null,
   "metadata": {},
   "outputs": [],
   "source": []
  },
  {
   "cell_type": "code",
   "execution_count": 101,
   "metadata": {},
   "outputs": [],
   "source": [
    "# y_train = train['target']\n",
    "# X_train = train.drop(['id', 'height_restricted', 'vehicle_restricted', 'target'], axis=1)\n",
    "# X_test = test.drop(['id', 'height_restricted', 'vehicle_restricted'], axis=1)"
   ]
  },
  {
   "cell_type": "markdown",
   "metadata": {},
   "source": []
  },
  {
   "cell_type": "code",
   "execution_count": 102,
   "metadata": {},
   "outputs": [],
   "source": [
    "# print(X_train.shape)\n",
    "# print(y_train.shape)\n",
    "# print(X_test.shape)"
   ]
  },
  {
   "cell_type": "code",
   "execution_count": 103,
   "metadata": {},
   "outputs": [],
   "source": [
    "year = [ '2003']\n",
    "weekday = day_week(year)"
   ]
  },
  {
   "cell_type": "code",
   "execution_count": 104,
   "metadata": {},
   "outputs": [
    {
     "data": {
      "text/plain": [
       "[]"
      ]
     },
     "execution_count": 104,
     "metadata": {},
     "output_type": "execute_result"
    }
   ],
   "source": [
    "weekday"
   ]
  },
  {
   "cell_type": "code",
   "execution_count": null,
   "metadata": {},
   "outputs": [],
   "source": []
  }
 ],
 "metadata": {
  "kernelspec": {
   "display_name": "Python 3.6.13 ('cb')",
   "language": "python",
   "name": "python3"
  },
  "language_info": {
   "codemirror_mode": {
    "name": "ipython",
    "version": 3
   },
   "file_extension": ".py",
   "mimetype": "text/x-python",
   "name": "python",
   "nbconvert_exporter": "python",
   "pygments_lexer": "ipython3",
   "version": "3.6.13"
  },
  "vscode": {
   "interpreter": {
    "hash": "3c8d5bd3cad5bc346919d179d288858cb19a7b9ffb3b2d344c05ef81741433b8"
   }
  }
 },
 "nbformat": 4,
 "nbformat_minor": 0
}
