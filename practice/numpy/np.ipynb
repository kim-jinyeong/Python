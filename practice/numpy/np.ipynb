{
 "cells": [
  {
   "cell_type": "code",
   "execution_count": 3,
   "metadata": {
    "collapsed": true
   },
   "outputs": [],
   "source": [
    "import numpy as np"
   ]
  },
  {
   "cell_type": "code",
   "execution_count": 4,
   "metadata": {
    "collapsed": false
   },
   "outputs": [
    {
     "data": {
      "text/plain": [
       "(5,)"
      ]
     },
     "execution_count": 4,
     "metadata": {},
     "output_type": "execute_result"
    }
   ],
   "source": [
    "a1 = np.array([1, 2, 3, 4, 5])\n",
    "\n",
    "#배열 개수 , 모양\n",
    "a1.shape\n"
   ]
  },
  {
   "cell_type": "code",
   "execution_count": 5,
   "metadata": {},
   "outputs": [
    {
     "data": {
      "text/plain": [
       "array([[1, 2, 3],\n",
       "       [4, 5, 6],\n",
       "       [7, 8, 9]])"
      ]
     },
     "execution_count": 5,
     "metadata": {},
     "output_type": "execute_result"
    }
   ],
   "source": [
    "a2 = np.array([[1,2,3],[4,5,6],[7,8,9]])\n",
    "a2"
   ]
  },
  {
   "cell_type": "code",
   "execution_count": 6,
   "metadata": {},
   "outputs": [
    {
     "data": {
      "text/plain": [
       "array([[[1, 2, 3],\n",
       "        [4, 5, 6],\n",
       "        [7, 8, 9]],\n",
       "\n",
       "       [[1, 2, 3],\n",
       "        [4, 5, 6],\n",
       "        [7, 8, 9]],\n",
       "\n",
       "       [[1, 2, 3],\n",
       "        [4, 5, 6],\n",
       "        [7, 8, 9]]])"
      ]
     },
     "execution_count": 6,
     "metadata": {},
     "output_type": "execute_result"
    }
   ],
   "source": [
    "a3 = np.array([[[1,2,3],[4,5,6],[7,8,9]],\n",
    "                [[1,2,3],[4,5,6],[7,8,9]],\n",
    "                [[1,2,3],[4,5,6],[7,8,9]]])\n",
    "a3"
   ]
  },
  {
   "cell_type": "code",
   "execution_count": 7,
   "metadata": {
    "collapsed": false
   },
   "outputs": [
    {
     "data": {
      "text/plain": [
       "array([0., 0., 0., 0., 0., 0., 0., 0., 0., 0.])"
      ]
     },
     "execution_count": 7,
     "metadata": {},
     "output_type": "execute_result"
    }
   ],
   "source": [
    "# 모든 요소를 0으로 초기화\n",
    "np.zeros(10)"
   ]
  },
  {
   "cell_type": "code",
   "execution_count": 8,
   "metadata": {
    "collapsed": false
   },
   "outputs": [
    {
     "data": {
      "text/plain": [
       "array([[1., 1., 1.],\n",
       "       [1., 1., 1.],\n",
       "       [1., 1., 1.]])"
      ]
     },
     "execution_count": 8,
     "metadata": {},
     "output_type": "execute_result"
    }
   ],
   "source": [
    "# 모든 요소를 1로 초기화\n",
    "#np.ones(3)\n",
    "np.ones((3,3))"
   ]
  },
  {
   "cell_type": "code",
   "execution_count": 9,
   "metadata": {
    "collapsed": false
   },
   "outputs": [
    {
     "data": {
      "text/plain": [
       "array([[1.23, 1.23, 1.23],\n",
       "       [1.23, 1.23, 1.23],\n",
       "       [1.23, 1.23, 1.23]])"
      ]
     },
     "execution_count": 9,
     "metadata": {},
     "output_type": "execute_result"
    }
   ],
   "source": [
    "# 모든 요소를 지정한 값으로 초기화\n",
    "np.full((3, 3), 1.23)"
   ]
  },
  {
   "cell_type": "code",
   "execution_count": 10,
   "metadata": {
    "collapsed": false
   },
   "outputs": [
    {
     "data": {
      "text/plain": [
       "array([[1., 0., 0.],\n",
       "       [0., 1., 0.],\n",
       "       [0., 0., 1.]])"
      ]
     },
     "execution_count": 10,
     "metadata": {},
     "output_type": "execute_result"
    }
   ],
   "source": [
    "# 단위행렬(identity matrix) 생성\n",
    "# - 주대각선의 원소가 모두 1이고 나머지 원소는 모두 0인 정사각 행렬\n",
    "np.eye(3)"
   ]
  },
  {
   "cell_type": "code",
   "execution_count": 11,
   "metadata": {
    "collapsed": false
   },
   "outputs": [
    {
     "data": {
      "text/plain": [
       "array([[1., 0., 0.],\n",
       "       [1., 1., 0.],\n",
       "       [1., 1., 1.]])"
      ]
     },
     "execution_count": 11,
     "metadata": {},
     "output_type": "execute_result"
    }
   ],
   "source": [
    "# 삼각행렬 생성\n",
    "np.tri(3)"
   ]
  },
  {
   "cell_type": "code",
   "execution_count": 12,
   "metadata": {
    "collapsed": false
   },
   "outputs": [
    {
     "data": {
      "text/plain": [
       "array([1.01830046e-311, 6.95187041e-310, 4.40706556e-321, 6.95187124e-310,\n",
       "       4.00540456e-307])"
      ]
     },
     "execution_count": 12,
     "metadata": {},
     "output_type": "execute_result"
    }
   ],
   "source": [
    "# 초기화되지 않은 배열 생성\n",
    "# - 초기화가 없어서 배열 생성비용 저렴하고 빠름\n",
    "# - 초기화되지 않아서 기존 메모리 위치에 존재하는 값이 있음\n",
    "np.empty(5)"
   ]
  },
  {
   "cell_type": "code",
   "execution_count": 13,
   "metadata": {
    "collapsed": false
   },
   "outputs": [
    {
     "name": "stdout",
     "output_type": "stream",
     "text": [
      "[1 2 3 4 5]\n"
     ]
    },
    {
     "data": {
      "text/plain": [
       "array([0, 0, 0, 0, 0])"
      ]
     },
     "execution_count": 13,
     "metadata": {},
     "output_type": "execute_result"
    }
   ],
   "source": [
    "# 지정된 배열과 shape가 같은 행렬 생성\n",
    "# np.zeros_like()\n",
    "# np.ones_like()\n",
    "# np.full_like()\n",
    "# np.empty_like()\n",
    "print(a1)\n",
    "np.zeros_like(a1)\n"
   ]
  },
  {
   "cell_type": "code",
   "execution_count": 14,
   "metadata": {
    "collapsed": false
   },
   "outputs": [
    {
     "data": {
      "text/plain": [
       "array([10, 10, 10, 10, 10])"
      ]
     },
     "execution_count": 14,
     "metadata": {},
     "output_type": "execute_result"
    }
   ],
   "source": [
    "np.full_like(a1, 10)"
   ]
  },
  {
   "cell_type": "code",
   "execution_count": 15,
   "metadata": {
    "collapsed": false
   },
   "outputs": [
    {
     "data": {
      "text/plain": [
       "array([ 0,  2,  4,  6,  8, 10, 12, 14, 16, 18, 20, 22, 24, 26, 28])"
      ]
     },
     "execution_count": 15,
     "metadata": {},
     "output_type": "execute_result"
    }
   ],
   "source": [
    "# 정수 범위로 배열 생성\n",
    "np.arange(0, 30, 2)"
   ]
  },
  {
   "cell_type": "code",
   "execution_count": 16,
   "metadata": {
    "collapsed": false
   },
   "outputs": [
    {
     "data": {
      "text/plain": [
       "array([0.  , 0.25, 0.5 , 0.75, 1.  ])"
      ]
     },
     "execution_count": 16,
     "metadata": {},
     "output_type": "execute_result"
    }
   ],
   "source": [
    "# 범위 내에서 균든 간격의 배열 생성\n",
    "np.linspace(0, 1, 5)"
   ]
  },
  {
   "cell_type": "code",
   "execution_count": 17,
   "metadata": {
    "collapsed": false
   },
   "outputs": [
    {
     "data": {
      "text/plain": [
       "array([ 1.25892541,  1.58489319,  1.99526231,  2.51188643,  3.16227766,\n",
       "        3.98107171,  5.01187234,  6.30957344,  7.94328235, 10.        ])"
      ]
     },
     "execution_count": 17,
     "metadata": {},
     "output_type": "execute_result"
    }
   ],
   "source": [
    "# 범위 내에서 균등간격으로 로그 스케일로 배열 생성\n",
    "np.logspace(0.1, 1, 10)"
   ]
  },
  {
   "cell_type": "code",
   "execution_count": 18,
   "metadata": {
    "collapsed": false
   },
   "outputs": [
    {
     "data": {
      "text/plain": [
       "array([[0.71267204, 0.3439401 , 0.89739877],\n",
       "       [0.55729676, 0.95657879, 0.74845609],\n",
       "       [0.29119877, 0.67084131, 0.74662864]])"
      ]
     },
     "execution_count": 18,
     "metadata": {},
     "output_type": "execute_result"
    }
   ],
   "source": [
    "# 랜덤한 수의 배열 생성\n",
    "np.random.random((3,3))"
   ]
  },
  {
   "cell_type": "code",
   "execution_count": 19,
   "metadata": {
    "collapsed": false
   },
   "outputs": [
    {
     "data": {
      "text/plain": [
       "array([[6, 7, 7],\n",
       "       [6, 9, 3],\n",
       "       [8, 5, 9]])"
      ]
     },
     "execution_count": 19,
     "metadata": {},
     "output_type": "execute_result"
    }
   ],
   "source": [
    "# 일정 구간의 랜덤 정수의 배열 생성\n",
    "np.random.randint(0, 10, (3, 3))"
   ]
  },
  {
   "cell_type": "code",
   "execution_count": 20,
   "metadata": {
    "collapsed": false
   },
   "outputs": [
    {
     "data": {
      "text/plain": [
       "array([[-1.40537674, -0.23843273, -0.3312692 ],\n",
       "       [-0.07293439, -1.46836036,  2.20872106],\n",
       "       [-1.82175416, -1.63848559,  0.08134819]])"
      ]
     },
     "execution_count": 20,
     "metadata": {},
     "output_type": "execute_result"
    }
   ],
   "source": [
    "# np.random.normal() : 정규분포 ( normal distribution ) 를 고려한 랜덤한 수의 배열생성\n",
    "# 평균 = 0, 표준편차= 1,3x3 배열\n",
    "np.random.normal(0, 1, (3, 3))"
   ]
  },
  {
   "cell_type": "code",
   "execution_count": 21,
   "metadata": {
    "collapsed": false
   },
   "outputs": [
    {
     "data": {
      "text/plain": [
       "array([[0.10911929, 0.56642221, 0.30282874],\n",
       "       [0.22895816, 0.6111397 , 0.97300892],\n",
       "       [0.63035154, 0.29742571, 0.71588296]])"
      ]
     },
     "execution_count": 21,
     "metadata": {},
     "output_type": "execute_result"
    }
   ],
   "source": [
    "# random.rand() : 균등분포 (uniform distribution )를 고려한 랜덤한 수의 배열 생성\n",
    "np.random.rand(3,3)"
   ]
  },
  {
   "cell_type": "code",
   "execution_count": 22,
   "metadata": {
    "collapsed": false
   },
   "outputs": [
    {
     "data": {
      "text/plain": [
       "array([[ 0.22564695,  1.02023687,  0.05042227],\n",
       "       [ 0.52555043, -0.39847479, -0.92167598],\n",
       "       [-0.37521456, -0.09891383, -0.23266974]])"
      ]
     },
     "execution_count": 22,
     "metadata": {},
     "output_type": "execute_result"
    }
   ],
   "source": [
    "# random.randn() : 표준 정규 분포 ( standard normal distribution ) 를 고려한 랜덤한 수의 배열 생성\n",
    "np.random.randn(3,3)"
   ]
  },
  {
   "cell_type": "code",
   "execution_count": 23,
   "metadata": {
    "collapsed": false
   },
   "outputs": [
    {
     "data": {
      "text/plain": [
       "array([0, 0, 0, 0, 0, 0, 0, 0, 0, 0, 0, 0, 0, 0, 0, 0, 0, 0, 0, 0])"
      ]
     },
     "execution_count": 23,
     "metadata": {},
     "output_type": "execute_result"
    }
   ],
   "source": [
    "# dtype : 타입\n",
    "np.zeros(20, dtype=int)"
   ]
  },
  {
   "cell_type": "code",
   "execution_count": 24,
   "metadata": {
    "collapsed": false
   },
   "outputs": [
    {
     "data": {
      "text/plain": [
       "array([[ True,  True,  True],\n",
       "       [ True,  True,  True],\n",
       "       [ True,  True,  True]])"
      ]
     },
     "execution_count": 24,
     "metadata": {},
     "output_type": "execute_result"
    }
   ],
   "source": [
    "np.ones((3,3), dtype=bool)"
   ]
  },
  {
   "cell_type": "code",
   "execution_count": 25,
   "metadata": {
    "collapsed": false
   },
   "outputs": [
    {
     "data": {
      "text/plain": [
       "array([[1., 1., 1.],\n",
       "       [1., 1., 1.],\n",
       "       [1., 1., 1.]])"
      ]
     },
     "execution_count": 25,
     "metadata": {},
     "output_type": "execute_result"
    }
   ],
   "source": [
    "np.full((3,3),1, dtype=float)"
   ]
  },
  {
   "cell_type": "code",
   "execution_count": 26,
   "metadata": {
    "collapsed": false
   },
   "outputs": [
    {
     "data": {
      "text/plain": [
       "array('2020-01-01', dtype='datetime64[D]')"
      ]
     },
     "execution_count": 26,
     "metadata": {},
     "output_type": "execute_result"
    }
   ],
   "source": [
    "# 날짜 시간\n",
    "date = np.array('2020-01-01', dtype=np.datetime64)\n",
    "date"
   ]
  },
  {
   "cell_type": "code",
   "execution_count": 27,
   "metadata": {
    "collapsed": false
   },
   "outputs": [
    {
     "data": {
      "text/plain": [
       "array(['2020-01-01', '2020-01-02', '2020-01-03', '2020-01-04',\n",
       "       '2020-01-05', '2020-01-06', '2020-01-07', '2020-01-08',\n",
       "       '2020-01-09', '2020-01-10', '2020-01-11', '2020-01-12'],\n",
       "      dtype='datetime64[D]')"
      ]
     },
     "execution_count": 27,
     "metadata": {},
     "output_type": "execute_result"
    }
   ],
   "source": [
    "date + np.arange(12)"
   ]
  },
  {
   "cell_type": "code",
   "execution_count": 28,
   "metadata": {
    "collapsed": false
   },
   "outputs": [
    {
     "data": {
      "text/plain": [
       "numpy.datetime64('2020-10-20T12:00')"
      ]
     },
     "execution_count": 28,
     "metadata": {},
     "output_type": "execute_result"
    }
   ],
   "source": [
    "datetime = np.datetime64('2020-10-20 12:00')\n",
    "datetime"
   ]
  },
  {
   "cell_type": "code",
   "execution_count": 29,
   "metadata": {
    "collapsed": false
   },
   "outputs": [
    {
     "data": {
      "text/plain": [
       "numpy.datetime64('2020-10-20T12:00:12.340000000')"
      ]
     },
     "execution_count": 29,
     "metadata": {},
     "output_type": "execute_result"
    }
   ],
   "source": [
    "datetime = np.datetime64('2020-10-20 12:00:12.34', 'ns')\n",
    "datetime"
   ]
  },
  {
   "cell_type": "markdown",
   "metadata": {},
   "source": [
    "배열 값 삽입/수정/삭제/복사"
   ]
  },
  {
   "cell_type": "code",
   "execution_count": 30,
   "metadata": {},
   "outputs": [
    {
     "name": "stdout",
     "output_type": "stream",
     "text": [
      "[1 2 3 4 5]\n",
      "[10  1  2  3  4  5]\n",
      "[ 1  2 10  3  4  5]\n"
     ]
    }
   ],
   "source": [
    "print(a1)\n",
    "b1 = np.insert(a1, 0, 10)\n",
    "print(b1)\n",
    "c1 = np.insert(a1, 2, 10)\n",
    "print(c1)"
   ]
  },
  {
   "cell_type": "code",
   "execution_count": 31,
   "metadata": {
    "collapsed": false
   },
   "outputs": [
    {
     "name": "stdout",
     "output_type": "stream",
     "text": [
      "[1 2 3 4 5]\n",
      "[3 2 1 4 5]\n"
     ]
    }
   ],
   "source": [
    "print(a1)\n",
    "a1[0] = 3\n",
    "a1[1] = 2\n",
    "a1[2] = 1\n",
    "print(a1)\n",
    "a1[:3] = 1,2,3  "
   ]
  },
  {
   "cell_type": "code",
   "execution_count": 32,
   "metadata": {
    "collapsed": false
   },
   "outputs": [],
   "source": [
    "# copy() 배열이나 하위 배열 내의 값을 명시적으로 복사"
   ]
  },
  {
   "cell_type": "code",
   "execution_count": 33,
   "metadata": {},
   "outputs": [
    {
     "name": "stdout",
     "output_type": "stream",
     "text": [
      "[[[1 1 1]\n",
      "  [4 4 4]\n",
      "  [7 7 7]]\n",
      "\n",
      " [[2 2 2]\n",
      "  [5 5 5]\n",
      "  [8 8 8]]\n",
      "\n",
      " [[3 3 3]\n",
      "  [6 6 6]\n",
      "  [9 9 9]]]\n"
     ]
    }
   ],
   "source": [
    "#배열변환\n",
    "\n",
    "#배열 전치 및 축 변경\n",
    "\n",
    "\n",
    "print(a3.T)"
   ]
  },
  {
   "cell_type": "code",
   "execution_count": 34,
   "metadata": {},
   "outputs": [
    {
     "name": "stdout",
     "output_type": "stream",
     "text": [
      "[[1 2 3]\n",
      " [4 5 6]\n",
      " [7 8 9]]\n",
      "[[1 4 7]\n",
      " [2 5 8]\n",
      " [3 6 9]]\n"
     ]
    }
   ],
   "source": [
    "print(a2)\n",
    "print(a2.swapaxes(1, 0))"
   ]
  },
  {
   "cell_type": "code",
   "execution_count": 35,
   "metadata": {},
   "outputs": [
    {
     "name": "stdout",
     "output_type": "stream",
     "text": [
      "[1 2 3 4 5 6 7 8 9]\n",
      "[[1 2 3]\n",
      " [4 5 6]\n",
      " [7 8 9]]\n"
     ]
    }
   ],
   "source": [
    "#배열의 형상을 변경\n",
    "n1 = np.arange(1, 10)\n",
    "print(n1)\n",
    "print(n1.reshape(3,3))"
   ]
  },
  {
   "cell_type": "code",
   "execution_count": 36,
   "metadata": {},
   "outputs": [
    {
     "name": "stdout",
     "output_type": "stream",
     "text": [
      "[1 2 3 4 5 6 7 8 9]\n",
      "[[1 2 3 4 5]]\n",
      "[[1]\n",
      " [2]\n",
      " [3]\n",
      " [4]\n",
      " [5]]\n"
     ]
    }
   ],
   "source": [
    "# 새로운 축 추가\n",
    "print(n1)\n",
    "print(n1[np.newaxis, :5])\n",
    "print(n1[:5, np.newaxis])"
   ]
  },
  {
   "cell_type": "code",
   "execution_count": 37,
   "metadata": {},
   "outputs": [
    {
     "name": "stdout",
     "output_type": "stream",
     "text": [
      "[[2 1 2 0 0]\n",
      " [5 2 1 6 9]]\n",
      "[[2 1]\n",
      " [2 0]\n",
      " [0 5]\n",
      " [2 1]\n",
      " [6 9]]\n"
     ]
    }
   ],
   "source": [
    "# 배열 모양만 변경\n",
    "n2 = np.random.randint(0, 10, (2, 5))\n",
    "print(n2)\n",
    "n2.resize(5, 2)\n",
    "print(n2)"
   ]
  },
  {
   "cell_type": "code",
   "execution_count": 38,
   "metadata": {},
   "outputs": [
    {
     "data": {
      "text/plain": [
       "array([[2, 1, 2, 0, 0],\n",
       "       [5, 2, 1, 6, 9],\n",
       "       [0, 0, 0, 0, 0],\n",
       "       [0, 0, 0, 0, 0],\n",
       "       [0, 0, 0, 0, 0]])"
      ]
     },
     "execution_count": 38,
     "metadata": {},
     "output_type": "execute_result"
    }
   ],
   "source": [
    "# 배열 크기 증가\n",
    "# 남은 공간은 0으로 채워짐\n",
    "n2.resize((5, 5))\n",
    "n2"
   ]
  },
  {
   "cell_type": "code",
   "execution_count": 39,
   "metadata": {},
   "outputs": [
    {
     "name": "stdout",
     "output_type": "stream",
     "text": [
      "[[2 1 2]\n",
      " [0 0 5]\n",
      " [2 1 6]]\n"
     ]
    }
   ],
   "source": [
    "# 배열 크기 감소\n",
    "# 포함되지 않은 값은 삭제\n",
    "n2.resize((3, 3),refcheck=False)\n",
    "print(n2)"
   ]
  },
  {
   "cell_type": "code",
   "execution_count": 40,
   "metadata": {},
   "outputs": [
    {
     "name": "stdout",
     "output_type": "stream",
     "text": [
      "[[1 2 3]\n",
      " [4 5 6]\n",
      " [7 8 9]]\n",
      "[[10 11 12]\n",
      " [13 14 15]\n",
      " [16 17 18]]\n"
     ]
    }
   ],
   "source": [
    "a2 = np.arange(1, 10).reshape(3,3)\n",
    "print(a2)\n",
    "b2 = np.arange(10, 19).reshape(3,3)\n",
    "print(b2)"
   ]
  },
  {
   "cell_type": "code",
   "execution_count": 41,
   "metadata": {},
   "outputs": [
    {
     "name": "stdout",
     "output_type": "stream",
     "text": [
      "[ 1  2  3  4  5  6  7  8  9 10 11 12 13 14 15 16 17 18]\n"
     ]
    }
   ],
   "source": [
    "# axis 지정이 없으면 1차원 배열 형태로 변형되어 결합\n",
    "c2 = np.append(a2, b2)\n",
    "print(c2)"
   ]
  },
  {
   "cell_type": "code",
   "execution_count": 42,
   "metadata": {},
   "outputs": [
    {
     "name": "stdout",
     "output_type": "stream",
     "text": [
      "[[ 1  2  3]\n",
      " [ 4  5  6]\n",
      " [ 7  8  9]\n",
      " [10 11 12]\n",
      " [13 14 15]\n",
      " [16 17 18]]\n"
     ]
    }
   ],
   "source": [
    "# axis 를 0 로 지정\n",
    "# shape[0]을 제외한 나머지 shape는 갈아야함\n",
    "c2 = np.append(a2, b2, axis=0)\n",
    "print(c2)"
   ]
  },
  {
   "cell_type": "code",
   "execution_count": 43,
   "metadata": {},
   "outputs": [
    {
     "name": "stdout",
     "output_type": "stream",
     "text": [
      "[[ 1  2  3 10 11 12]\n",
      " [ 4  5  6 13 14 15]\n",
      " [ 7  8  9 16 17 18]]\n"
     ]
    }
   ],
   "source": [
    "# axis 를 1 로 지정\n",
    "# shape[1]을 제외한 나머지 shape는 갈아야함\n",
    "c2 = np.append(a2, b2, axis=1)\n",
    "print(c2)"
   ]
  },
  {
   "cell_type": "code",
   "execution_count": 44,
   "metadata": {},
   "outputs": [
    {
     "data": {
      "text/plain": [
       "array([1, 3, 5, 2, 4, 6])"
      ]
     },
     "execution_count": 44,
     "metadata": {},
     "output_type": "execute_result"
    }
   ],
   "source": [
    "# 배열 연결\n",
    "\n",
    "# 튜플이나 배열의 리스트를 인수로 사용해 배열 연결\n",
    "a1 = np.array([1, 3, 5])\n",
    "b1 = np.array([2, 4, 6])\n",
    "np.concatenate([a1, b1])"
   ]
  },
  {
   "cell_type": "code",
   "execution_count": 45,
   "metadata": {},
   "outputs": [
    {
     "data": {
      "text/plain": [
       "array([1, 3, 5, 2, 4, 6, 7, 8, 9])"
      ]
     },
     "execution_count": 45,
     "metadata": {},
     "output_type": "execute_result"
    }
   ],
   "source": [
    "c1 = np.array([7, 8 ,9])\n",
    "np.concatenate([a1, b1, c1])"
   ]
  },
  {
   "cell_type": "code",
   "execution_count": 46,
   "metadata": {},
   "outputs": [
    {
     "data": {
      "text/plain": [
       "array([[1, 2, 3],\n",
       "       [4, 5, 6],\n",
       "       [1, 2, 3],\n",
       "       [4, 5, 6]])"
      ]
     },
     "execution_count": 46,
     "metadata": {},
     "output_type": "execute_result"
    }
   ],
   "source": [
    "a2 = np.array([[1, 2, 3],\n",
    "                [4, 5, 6]])\n",
    "np.concatenate([a2, a2])"
   ]
  },
  {
   "cell_type": "code",
   "execution_count": 47,
   "metadata": {},
   "outputs": [
    {
     "data": {
      "text/plain": [
       "array([[1, 2, 3, 1, 2, 3],\n",
       "       [4, 5, 6, 4, 5, 6]])"
      ]
     },
     "execution_count": 47,
     "metadata": {},
     "output_type": "execute_result"
    }
   ],
   "source": [
    "a2 = np.array([[1, 2, 3],\n",
    "                [4, 5, 6]])\n",
    "np.concatenate([a2, a2], axis=1)"
   ]
  },
  {
   "cell_type": "code",
   "execution_count": 48,
   "metadata": {},
   "outputs": [
    {
     "data": {
      "text/plain": [
       "array([[1, 2, 3],\n",
       "       [4, 5, 6],\n",
       "       [1, 2, 3],\n",
       "       [4, 5, 6]])"
      ]
     },
     "execution_count": 48,
     "metadata": {},
     "output_type": "execute_result"
    }
   ],
   "source": [
    "# 수직 스택(vertical stack), 1차원으로 연결\n",
    "np.vstack([a2, a2])"
   ]
  },
  {
   "cell_type": "code",
   "execution_count": 49,
   "metadata": {},
   "outputs": [
    {
     "data": {
      "text/plain": [
       "array([[1, 2, 3, 1, 2, 3],\n",
       "       [4, 5, 6, 4, 5, 6]])"
      ]
     },
     "execution_count": 49,
     "metadata": {},
     "output_type": "execute_result"
    }
   ],
   "source": [
    "# 수평 스택(horizontal stack), 2차원으로 연결\n",
    "np.hstack([a2, a2])\n"
   ]
  },
  {
   "cell_type": "code",
   "execution_count": 50,
   "metadata": {},
   "outputs": [
    {
     "data": {
      "text/plain": [
       "array([[[1, 1],\n",
       "        [2, 2],\n",
       "        [3, 3]],\n",
       "\n",
       "       [[4, 4],\n",
       "        [5, 5],\n",
       "        [6, 6]]])"
      ]
     },
     "execution_count": 50,
     "metadata": {},
     "output_type": "execute_result"
    }
   ],
   "source": [
    "# 길이 스택(depth stack), 3차원으로 연결\n",
    "np.dstack([a2,a2])"
   ]
  },
  {
   "cell_type": "code",
   "execution_count": 51,
   "metadata": {},
   "outputs": [
    {
     "data": {
      "text/plain": [
       "array([[[1, 2, 3],\n",
       "        [4, 5, 6]],\n",
       "\n",
       "       [[1, 2, 3],\n",
       "        [4, 5, 6]]])"
      ]
     },
     "execution_count": 51,
     "metadata": {},
     "output_type": "execute_result"
    }
   ],
   "source": [
    "# 새로운 차원으로 연결\n",
    "np.stack([a2, a2])"
   ]
  },
  {
   "cell_type": "code",
   "execution_count": 52,
   "metadata": {},
   "outputs": [
    {
     "name": "stdout",
     "output_type": "stream",
     "text": [
      "[0 1 2 3 4 5 6 7 8 9]\n",
      "[0 1 2 3 4] [5 6 7 8 9]\n",
      "[0 1] [2 3] [4 5] [6 7] [8 9]\n"
     ]
    }
   ],
   "source": [
    "# 배열 분할\n",
    "a1 = np.arange(0,10)\n",
    "print(a1)\n",
    "b1, c1 = np.split(a1, [5])\n",
    "print(b1, c1)\n",
    "b1, c1, d1, e1, f1 = np.split(a1, [2, 4, 6, 8])\n",
    "print(b1, c1, d1, e1, f1)"
   ]
  },
  {
   "cell_type": "code",
   "execution_count": 53,
   "metadata": {},
   "outputs": [
    {
     "name": "stdout",
     "output_type": "stream",
     "text": [
      "[[1 2 3]\n",
      " [4 5 6]\n",
      " [7 8 9]]\n",
      "[[1 2 3]\n",
      " [4 5 6]]\n",
      "[[7 8 9]]\n"
     ]
    }
   ],
   "source": [
    "# 수직 분할, 1차원으로 분할\n",
    "a2 = np.arange(1, 10).reshape(3, 3)\n",
    "print(a2)\n",
    "b2, c2 = np.vsplit(a2, [2])\n",
    "print(b2)\n",
    "print(c2)"
   ]
  },
  {
   "cell_type": "code",
   "execution_count": 54,
   "metadata": {},
   "outputs": [
    {
     "name": "stdout",
     "output_type": "stream",
     "text": [
      "[[1 2 3]\n",
      " [4 5 6]\n",
      " [7 8 9]]\n",
      "[[1 2]\n",
      " [4 5]\n",
      " [7 8]]\n",
      "[[3]\n",
      " [6]\n",
      " [9]]\n"
     ]
    }
   ],
   "source": [
    "# 수평 분할, 2차원으로 분할\n",
    "a2 = np.arange(1, 10).reshape(3, 3)\n",
    "print(a2)\n",
    "b2, c2 = np.hsplit(a2, [2])\n",
    "print(b2)\n",
    "print(c2)"
   ]
  },
  {
   "cell_type": "code",
   "execution_count": 55,
   "metadata": {},
   "outputs": [
    {
     "name": "stdout",
     "output_type": "stream",
     "text": [
      "[[[ 1  2  3]\n",
      "  [ 4  5  6]\n",
      "  [ 7  8  9]]\n",
      "\n",
      " [[10 11 12]\n",
      "  [13 14 15]\n",
      "  [16 17 18]]\n",
      "\n",
      " [[19 20 21]\n",
      "  [22 23 24]\n",
      "  [25 26 27]]]\n",
      "[[[ 1  2  3]\n",
      "  [ 4  5  6]]\n",
      "\n",
      " [[10 11 12]\n",
      "  [13 14 15]]\n",
      "\n",
      " [[19 20 21]\n",
      "  [22 23 24]]]\n",
      "[[[ 7  8  9]]\n",
      "\n",
      " [[16 17 18]]\n",
      "\n",
      " [[25 26 27]]]\n"
     ]
    }
   ],
   "source": [
    "# 깊이 분할, 3차원으로 분할\n",
    "a3 = np.arange(1, 28).reshape(3, 3, 3)\n",
    "print(a3)\n",
    "b3, c3 = np.hsplit(a3, [2])\n",
    "print(b3)\n",
    "print(c3)"
   ]
  },
  {
   "cell_type": "code",
   "execution_count": 56,
   "metadata": {},
   "outputs": [],
   "source": [
    "# 브로드 캐스팅 ( Broadcasting )"
   ]
  },
  {
   "cell_type": "code",
   "execution_count": 57,
   "metadata": {},
   "outputs": [
    {
     "name": "stdout",
     "output_type": "stream",
     "text": [
      "[1 2 3]\n",
      "[6 7 8]\n",
      "[[1 2 3]\n",
      " [4 5 6]\n",
      " [7 8 9]]\n",
      "[[ 2  4  6]\n",
      " [ 5  7  9]\n",
      " [ 8 10 12]]\n",
      "[[1]\n",
      " [2]\n",
      " [3]]\n",
      "[[2 3 4]\n",
      " [3 4 5]\n",
      " [4 5 6]]\n"
     ]
    }
   ],
   "source": [
    "a1 = np.array([1, 2, 3])\n",
    "print(a1)\n",
    "print(a1 + 5)\n",
    "\n",
    "a2 = np.arange(1, 10).reshape(3, 3)\n",
    "print(a2)\n",
    "print(a1 + a2)\n",
    "\n",
    "b2 = np.array([1, 2, 3]).reshape(3, 1)\n",
    "print(b2)\n",
    "print(a1 + b2)"
   ]
  },
  {
   "cell_type": "code",
   "execution_count": 58,
   "metadata": {},
   "outputs": [
    {
     "name": "stdout",
     "output_type": "stream",
     "text": [
      "[1 2 3 4 5 6 7 8 9]\n",
      "[ 2  3  4  5  6  7  8  9 10]\n",
      "[11 12 13 14 15 16 17 18 19]\n",
      "[-1  0  1  2  3  4  5  6  7]\n",
      "[-9 -8 -7 -6 -5 -4 -3 -2 -1]\n",
      "[-1 -2 -3 -4 -5 -6 -7 -8 -9]\n",
      "[-1 -2 -3 -4 -5 -6 -7 -8 -9]\n",
      "[ 2  4  6  8 10 12 14 16 18]\n",
      "[ 2  4  6  8 10 12 14 16 18]\n",
      "[0.5 1.  1.5 2.  2.5 3.  3.5 4.  4.5]\n",
      "[0.5 1.  1.5 2.  2.5 3.  3.5 4.  4.5]\n",
      "[0 1 1 2 2 3 3 4 4]\n",
      "[0 1 1 2 2 3 3 4 4]\n",
      "[ 1  4  9 16 25 36 49 64 81]\n",
      "[ 1  4  9 16 25 36 49 64 81]\n",
      "[1 0 1 0 1 0 1 0 1]\n",
      "[1 0 1 0 1 0 1 0 1]\n"
     ]
    }
   ],
   "source": [
    "# 산술연산\n",
    "a1 = np.arange(1, 10)\n",
    "print(a1)\n",
    "print(a1 + 1)\n",
    "print(np.add(a1, 10))\n",
    "print(a1 - 2 )\n",
    "print(np.subtract(a1, 10))\n",
    "print(-a1)\n",
    "print(np.negative(a1))\n",
    "print(a1 * 2)\n",
    "print(np.multiply(a1, 2))\n",
    "print(a1 / 2)\n",
    "print(np.divide(a1 , 2))\n",
    "print(a1 // 2)\n",
    "print(np.floor_divide(a1, 2))\n",
    "print(a1 ** 2)\n",
    "print(np.power(a1, 2))\n",
    "print(a1 % 2)\n",
    "print(np.mod(a1, 2))"
   ]
  },
  {
   "cell_type": "code",
   "execution_count": 59,
   "metadata": {},
   "outputs": [
    {
     "name": "stdout",
     "output_type": "stream",
     "text": [
      "[1 2 3 4 5 6 7 8 9]\n",
      "[7 8 7 6 3 1 3 7 5]\n",
      "[ 8 10 10 10  8  7 10 15 14]\n",
      "[-6 -6 -4 -2  2  5  4  1  4]\n",
      "[ 7 16 21 24 15  6 21 56 45]\n",
      "[0.14285714 0.25       0.42857143 0.66666667 1.66666667 6.\n",
      " 2.33333333 1.14285714 1.8       ]\n",
      "[0 0 0 0 1 6 2 1 1]\n",
      "[      1     256    2187    4096     125       6     343 2097152   59049]\n",
      "[1 2 3 4 2 0 1 1 4]\n"
     ]
    }
   ],
   "source": [
    "a1 = np.arange(1, 10)\n",
    "print(a1)\n",
    "b1 = np.random.randint(1, 10, size=9)\n",
    "print(b1)\n",
    "print(a1 + b1)\n",
    "print(a1 - b1)\n",
    "print(a1 * b1)\n",
    "print(a1 / b1)\n",
    "print(a1 // b1)\n",
    "print(a1 ** b1)\n",
    "print(a1 % b1)\n"
   ]
  },
  {
   "cell_type": "code",
   "execution_count": 60,
   "metadata": {},
   "outputs": [
    {
     "name": "stdout",
     "output_type": "stream",
     "text": [
      "[[1 2 3]\n",
      " [4 5 6]\n",
      " [7 8 9]]\n",
      "[[3 2 1]\n",
      " [7 4 9]\n",
      " [9 4 8]]\n",
      "[[ 4  4  4]\n",
      " [11  9 15]\n",
      " [16 12 17]]\n",
      "[[-2  0  2]\n",
      " [-3  1 -3]\n",
      " [-2  4  1]]\n",
      "[[ 3  4  3]\n",
      " [28 20 54]\n",
      " [63 32 72]]\n",
      "[[0.33333333 1.         3.        ]\n",
      " [0.57142857 1.25       0.66666667]\n",
      " [0.77777778 2.         1.125     ]]\n",
      "[[0 1 3]\n",
      " [0 1 0]\n",
      " [0 2 1]]\n",
      "[[       1        4        3]\n",
      " [   16384      625 10077696]\n",
      " [40353607     4096 43046721]]\n",
      "[[1 0 0]\n",
      " [4 1 6]\n",
      " [7 0 1]]\n"
     ]
    }
   ],
   "source": [
    "a2 = np.arange(1, 10).reshape(3, 3)\n",
    "print(a2)\n",
    "b2 = np.random.randint(1, 10, size=(3, 3))\n",
    "print(b2)\n",
    "print(a2 + b2)\n",
    "print(a2 - b2)\n",
    "print(a2 * b2)\n",
    "print(a2 / b2)\n",
    "print(a2 // b2)\n",
    "print(a2 ** b2)\n",
    "print(a2 % b2)"
   ]
  },
  {
   "cell_type": "code",
   "execution_count": 61,
   "metadata": {},
   "outputs": [
    {
     "name": "stdout",
     "output_type": "stream",
     "text": [
      "[-8 -4  7  8  8]\n",
      "[8 4 7 8 8]\n",
      "[8 4 7 8 8]\n"
     ]
    }
   ],
   "source": [
    "# 절대값 함수 ( Absolute Function )\n",
    "\n",
    "# 내장된 절대값 함수\n",
    "a1 = np.random.randint(-10, 10, size=5)\n",
    "print(a1)\n",
    "print(np.absolute(a1))\n",
    "print(np.abs(a1))"
   ]
  },
  {
   "cell_type": "code",
   "execution_count": 62,
   "metadata": {},
   "outputs": [
    {
     "name": "stdout",
     "output_type": "stream",
     "text": [
      "[-8 -4  7  8  8]\n",
      "[64 16 49 64 64]\n",
      "[       nan        nan 2.64575131 2.82842712 2.82842712]\n"
     ]
    },
    {
     "name": "stderr",
     "output_type": "stream",
     "text": [
      "C:\\Users\\dxsystem\\AppData\\Local\\Temp\\ipykernel_19008\\3478212206.py:4: RuntimeWarning: invalid value encountered in sqrt\n",
      "  print(np.sqrt(a1))\n"
     ]
    }
   ],
   "source": [
    "# 제곱 제곱근 함수\n",
    "print(a1)\n",
    "print(np.square(a1))\n",
    "print(np.sqrt(a1))"
   ]
  },
  {
   "cell_type": "code",
   "execution_count": 64,
   "metadata": {},
   "outputs": [
    {
     "name": "stdout",
     "output_type": "stream",
     "text": [
      "[1 4 9 4 3]\n",
      "[2.71828183e+00 5.45981500e+01 8.10308393e+03 5.45981500e+01\n",
      " 2.00855369e+01]\n",
      "[  2.  16. 512.  16.   8.]\n",
      "[ 1 16 81 16  9]\n"
     ]
    }
   ],
   "source": [
    "# 지수와 로그 함수 ( Exponential and Log Function )\n",
    "a1 = np.random.randint(1, 10, size=5)\n",
    "print(a1)\n",
    "print(np.exp(a1)) \n",
    "print(np.exp2(a1)) \n",
    "print(np.power(a1, 2))"
   ]
  },
  {
   "cell_type": "code",
   "execution_count": 65,
   "metadata": {},
   "outputs": [
    {
     "name": "stdout",
     "output_type": "stream",
     "text": [
      "[1 4 9 4 3]\n",
      "[0.         1.38629436 2.19722458 1.38629436 1.09861229]\n",
      "[0.        2.        3.169925  2.        1.5849625]\n",
      "[0.         0.60205999 0.95424251 0.60205999 0.47712125]\n"
     ]
    }
   ],
   "source": [
    "print(a1)\n",
    "print(np.log(a1))\n",
    "print(np.log2(a1))\n",
    "print(np.log10(a1))"
   ]
  },
  {
   "cell_type": "code",
   "execution_count": 66,
   "metadata": {},
   "outputs": [
    {
     "name": "stdout",
     "output_type": "stream",
     "text": [
      "[0.         1.57079633 3.14159265]\n",
      "[0.0000000e+00 1.0000000e+00 1.2246468e-16]\n",
      "[ 1.000000e+00  6.123234e-17 -1.000000e+00]\n",
      "[ 0.00000000e+00  1.63312394e+16 -1.22464680e-16]\n"
     ]
    }
   ],
   "source": [
    "# 삼각함수\n",
    "\n",
    "t = np.linspace(0, np.pi, 3)\n",
    "print(t)\n",
    "print(np.sin(t))\n",
    "print(np.cos(t))\n",
    "print(np.tan(t))"
   ]
  },
  {
   "cell_type": "code",
   "execution_count": 67,
   "metadata": {},
   "outputs": [
    {
     "name": "stdout",
     "output_type": "stream",
     "text": [
      "[-1, 0, 1]\n",
      "[-1.57079633  0.          1.57079633]\n",
      "[3.14159265 1.57079633 0.        ]\n",
      "[-0.78539816  0.          0.78539816]\n"
     ]
    }
   ],
   "source": [
    "x = [-1, 0, 1]\n",
    "print(x)\n",
    "print(np.arcsin(x))\n",
    "print(np.arccos(x))\n",
    "print(np.arctan(x))"
   ]
  },
  {
   "cell_type": "code",
   "execution_count": 69,
   "metadata": {},
   "outputs": [
    {
     "name": "stdout",
     "output_type": "stream",
     "text": [
      "[[1 9 7]\n",
      " [8 7 3]\n",
      " [2 9 8]]\n",
      "54 54\n",
      "[11 25 18] [11 25 18]\n",
      "[17 18 19] [17 18 19]\n"
     ]
    }
   ],
   "source": [
    "# 집계함수\n",
    " \n",
    "# 합 계산\n",
    "a2 = np.random.randint(1, 10, size=(3, 3))\n",
    "print(a2)\n",
    "print(a2.sum(), np.sum(a2))\n",
    "print(a2.sum(axis=0), np.sum(a2, axis=0))\n",
    "print(a2.sum(axis=1), np.sum(a2, axis=1))"
   ]
  },
  {
   "cell_type": "code",
   "execution_count": 70,
   "metadata": {},
   "outputs": [
    {
     "name": "stdout",
     "output_type": "stream",
     "text": [
      "[[1 9 7]\n",
      " [8 7 3]\n",
      " [2 9 8]]\n",
      "[ 1 10 17 25 32 35 37 46 54]\n",
      "[[ 1  9  7]\n",
      " [ 9 16 10]\n",
      " [11 25 18]]\n",
      "[[ 1 10 17]\n",
      " [ 8 15 18]\n",
      " [ 2 11 19]]\n"
     ]
    }
   ],
   "source": [
    "# 누적합 계산\n",
    "print(a2)\n",
    "print(np.cumsum(a2))\n",
    "print(np.cumsum(a2, axis=0))\n",
    "print(np.cumsum(a2, axis=1))"
   ]
  },
  {
   "cell_type": "code",
   "execution_count": 71,
   "metadata": {},
   "outputs": [
    {
     "name": "stdout",
     "output_type": "stream",
     "text": [
      "[[1 9 7]\n",
      " [8 7 3]\n",
      " [2 9 8]]\n",
      "[[ 8 -2]\n",
      " [-1 -4]\n",
      " [ 7 -1]]\n",
      "[[ 7 -2 -4]\n",
      " [-6  2  5]]\n",
      "[[ 8 -2]\n",
      " [-1 -4]\n",
      " [ 7 -1]]\n"
     ]
    }
   ],
   "source": [
    "# 차분 계산\n",
    "print(a2)\n",
    "print(np.diff(a2))\n",
    "print(np.diff(a2, axis=0))\n",
    "print(np.diff(a2, axis=1))"
   ]
  },
  {
   "cell_type": "code",
   "execution_count": 72,
   "metadata": {},
   "outputs": [
    {
     "name": "stdout",
     "output_type": "stream",
     "text": [
      "[[1 9 7]\n",
      " [8 7 3]\n",
      " [2 9 8]]\n",
      "1524096\n",
      "[ 16 567 168]\n",
      "[ 63 168 144]\n"
     ]
    }
   ],
   "source": [
    "# 곱 계산\n",
    "print(a2)\n",
    "print(np.prod(a2))\n",
    "print(np.prod(a2, axis=0))\n",
    "print(np.prod(a2, axis=1))"
   ]
  },
  {
   "cell_type": "code",
   "execution_count": 73,
   "metadata": {},
   "outputs": [
    {
     "name": "stdout",
     "output_type": "stream",
     "text": [
      "[[1 9 7]\n",
      " [8 7 3]\n",
      " [2 9 8]]\n",
      "[      1       9      63     504    3528   10584   21168  190512 1524096]\n",
      "[[  1   9   7]\n",
      " [  8  63  21]\n",
      " [ 16 567 168]]\n",
      "[[  1   9  63]\n",
      " [  8  56 168]\n",
      " [  2  18 144]]\n"
     ]
    }
   ],
   "source": [
    "# 누적곱 계산\n",
    "print(a2)\n",
    "print(np.cumprod(a2))\n",
    "print(np.cumprod(a2, axis=0))\n",
    "print(np.cumprod(a2, axis=1))"
   ]
  },
  {
   "cell_type": "code",
   "execution_count": 74,
   "metadata": {},
   "outputs": [
    {
     "name": "stdout",
     "output_type": "stream",
     "text": [
      "[[1 9 7]\n",
      " [8 7 3]\n",
      " [2 9 8]]\n",
      "[[1 1 1]\n",
      " [1 1 1]\n",
      " [1 1 1]]\n",
      "[[17 17 17]\n",
      " [18 18 18]\n",
      " [19 19 19]]\n",
      "[[17 17 17]\n",
      " [18 18 18]\n",
      " [19 19 19]]\n"
     ]
    }
   ],
   "source": [
    "# 점곱 / 행렬곱 계산\n",
    "print(a2)\n",
    "b2 = np.ones_like(a2)\n",
    "print(b2)\n",
    "print(np.dot(a2, b2))\n",
    "print(np.matmul(a2, b2))"
   ]
  },
  {
   "cell_type": "code",
   "execution_count": 75,
   "metadata": {},
   "outputs": [
    {
     "name": "stdout",
     "output_type": "stream",
     "text": [
      "[[1 9 7]\n",
      " [8 7 3]\n",
      " [2 9 8]]\n",
      "[[1 1 1]\n",
      " [1 1 1]\n",
      " [1 1 1]]\n",
      "54\n",
      "[[[[1 1 1]\n",
      "   [1 1 1]\n",
      "   [1 1 1]]\n",
      "\n",
      "  [[9 9 9]\n",
      "   [9 9 9]\n",
      "   [9 9 9]]\n",
      "\n",
      "  [[7 7 7]\n",
      "   [7 7 7]\n",
      "   [7 7 7]]]\n",
      "\n",
      "\n",
      " [[[8 8 8]\n",
      "   [8 8 8]\n",
      "   [8 8 8]]\n",
      "\n",
      "  [[7 7 7]\n",
      "   [7 7 7]\n",
      "   [7 7 7]]\n",
      "\n",
      "  [[3 3 3]\n",
      "   [3 3 3]\n",
      "   [3 3 3]]]\n",
      "\n",
      "\n",
      " [[[2 2 2]\n",
      "   [2 2 2]\n",
      "   [2 2 2]]\n",
      "\n",
      "  [[9 9 9]\n",
      "   [9 9 9]\n",
      "   [9 9 9]]\n",
      "\n",
      "  [[8 8 8]\n",
      "   [8 8 8]\n",
      "   [8 8 8]]]]\n",
      "[[17 17 17]\n",
      " [18 18 18]\n",
      " [19 19 19]]\n"
     ]
    }
   ],
   "source": [
    "# 텐서곱 계산\n",
    "print(a2)\n",
    "print(b2)\n",
    "print(np.tensordot(a2, b2))\n",
    "print(np.tensordot(a2, b2, axes=0))\n",
    "print(np.tensordot(a2, b2, axes=1))"
   ]
  },
  {
   "cell_type": "code",
   "execution_count": 78,
   "metadata": {},
   "outputs": [
    {
     "name": "stdout",
     "output_type": "stream",
     "text": [
      "[-3  6 -3]\n"
     ]
    }
   ],
   "source": [
    "# 벡터곱\n",
    "x = [1, 2, 3]\n",
    "y = [4, 5, 6]\n",
    "print(np.cross(x, y))"
   ]
  },
  {
   "cell_type": "code",
   "execution_count": null,
   "metadata": {},
   "outputs": [],
   "source": []
  }
 ],
 "metadata": {
  "kernelspec": {
   "display_name": "Python 3.8.0 ('svm')",
   "language": "python",
   "name": "python3"
  },
  "language_info": {
   "codemirror_mode": {
    "name": "ipython",
    "version": 3
   },
   "file_extension": ".py",
   "mimetype": "text/x-python",
   "name": "python",
   "nbconvert_exporter": "python",
   "pygments_lexer": "ipython3",
   "version": "3.8.0"
  },
  "vscode": {
   "interpreter": {
    "hash": "8bf7326e726e1afdc25abde2449a88ed3f85d04f80718eed852b94fd6777a472"
   }
  }
 },
 "nbformat": 4,
 "nbformat_minor": 0
}
