{
 "cells": [
  {
   "cell_type": "code",
   "execution_count": 1,
   "metadata": {
    "collapsed": true
   },
   "outputs": [],
   "source": [
    "import pandas as pd"
   ]
  },
  {
   "cell_type": "code",
   "execution_count": 2,
   "outputs": [],
   "source": [
    "train = pd.read_csv('./data/train.csv')\n",
    "test = pd.read_csv('./data/test.csv')\n",
    "submission = pd.read_csv('./data/sample_submission.csv')\n"
   ],
   "metadata": {
    "collapsed": false,
    "pycharm": {
     "name": "#%%\n"
    }
   }
  },
  {
   "cell_type": "code",
   "execution_count": null,
   "outputs": [],
   "source": [
    "# id\t\t\t\t\t아이디\t\t\t\t\tobject\n",
    "# base_date\t\t\t\t날짜\t\t\t\t\t\tint64\n",
    "# day_of_week\t\t\t요일\t\t\t\t\t\tobject\n",
    "# base_hour\t\t\t\t시간대\t\t\t\t\tint64\n",
    "# road_in_use\t\t\t도로사용여부\t\t\t\tint64\n",
    "# lane_count\t\t\t차로수\t\t\t\t\tint64\n",
    "# road_rating\t\t\t도로등급\t\t\t\t\tobject\n",
    "# multi_linked\t\t\t중용구간 여부\t\t\t\tint64\n",
    "# connect_code\t\t\t연결로 코드\t\t\t\tint64\n",
    "# maximum_speed_limit\t최고속도제한\t\t\t\tfloat64\n",
    "# weight_restricted\t\t통과제한하중\t\t\t\tfloat64\n",
    "# height_restricted\t\t통과제한높이\t\t\t\tfloat64\n",
    "# road_type\t\t\t\t도로유형\t\t\t\t\tfloat64\n",
    "# start_latitude\t\t시작지점의 위도\t\t\tint64\n",
    "# start_longitude\t\t시작지점의 경도\t\t\tobject\n",
    "# start_turn_restricted\t시작 지점의 회전제한 유무\tfloat64\n",
    "# end_latitude\t\t\t도착지점의 위도\t\t\tfloat64\n",
    "# end_longitude\t\t\t도착지점의 경도\t\t\tobject\n",
    "# end_turn_restricted\t도작지점의 회전제한 유무\tobject\n",
    "# road_name\t\t\t\t도로명\t\t\t\t\tfloat64\n",
    "# start_node_name\t\t시작지점명\t\t\t\tfloat64\n",
    "# end_node_name\t\t\t도착지점명\t\t\t\tobject\n",
    "# vehicle_restricted\t통과제한차량\t\t\t\tfloat64\n",
    "# target\t\t\t\t평균속도(km)\t\t\t\tobject(7)"
   ],
   "metadata": {
    "collapsed": false,
    "pycharm": {
     "name": "#%%\n"
    }
   }
  },
  {
   "cell_type": "code",
   "execution_count": 7,
   "outputs": [
    {
     "name": "stdout",
     "output_type": "stream",
     "text": [
      "<class 'pandas.core.frame.DataFrame'>\n",
      "RangeIndex: 4701217 entries, 0 to 4701216\n",
      "Data columns (total 23 columns):\n",
      " #   Column                 Dtype  \n",
      "---  ------                 -----  \n",
      " 0   id                     object \n",
      " 1   base_date              int64  \n",
      " 2   day_of_week            object \n",
      " 3   base_hour              int64  \n",
      " 4   lane_count             int64  \n",
      " 5   road_rating            int64  \n",
      " 6   road_name              object \n",
      " 7   multi_linked           int64  \n",
      " 8   connect_code           int64  \n",
      " 9   maximum_speed_limit    float64\n",
      " 10  vehicle_restricted     float64\n",
      " 11  weight_restricted      float64\n",
      " 12  height_restricted      float64\n",
      " 13  road_type              int64  \n",
      " 14  start_node_name        object \n",
      " 15  start_latitude         float64\n",
      " 16  start_longitude        float64\n",
      " 17  start_turn_restricted  object \n",
      " 18  end_node_name          object \n",
      " 19  end_latitude           float64\n",
      " 20  end_longitude          float64\n",
      " 21  end_turn_restricted    object \n",
      " 22  target                 float64\n",
      "dtypes: float64(9), int64(7), object(7)\n",
      "memory usage: 825.0+ MB\n"
     ]
    }
   ],
   "source": [
    "train.info()"
   ],
   "metadata": {
    "collapsed": false,
    "pycharm": {
     "name": "#%%\n"
    }
   }
  },
  {
   "cell_type": "code",
   "execution_count": 6,
   "outputs": [
    {
     "data": {
      "text/plain": "id                       0\nbase_date                0\nday_of_week              0\nbase_hour                0\nlane_count               0\nroad_rating              0\nroad_name                0\nmulti_linked             0\nconnect_code             0\nmaximum_speed_limit      0\nvehicle_restricted       0\nweight_restricted        0\nheight_restricted        0\nroad_type                0\nstart_node_name          0\nstart_latitude           0\nstart_longitude          0\nstart_turn_restricted    0\nend_node_name            0\nend_latitude             0\nend_longitude            0\nend_turn_restricted      0\ntarget                   0\ndtype: int64"
     },
     "execution_count": 6,
     "metadata": {},
     "output_type": "execute_result"
    }
   ],
   "source": [
    "train.isnull().sum()"
   ],
   "metadata": {
    "collapsed": false,
    "pycharm": {
     "name": "#%%\n"
    }
   }
  },
  {
   "cell_type": "code",
   "execution_count": 9,
   "outputs": [
    {
     "data": {
      "text/plain": "              id  base_date day_of_week  base_hour  lane_count  road_rating  \\\n0  TRAIN_0000000   20220623           목         17           1          106   \n1  TRAIN_0000001   20220728           목         21           2          103   \n2  TRAIN_0000002   20211010           일          7           2          103   \n3  TRAIN_0000003   20220311           금         13           2          107   \n4  TRAIN_0000004   20211005           화          8           2          103   \n\n   road_name  multi_linked  connect_code  maximum_speed_limit  ...  road_type  \\\n0  지방도1112호선             0             0                 60.0  ...          3   \n1   일반국도11호선             0             0                 60.0  ...          0   \n2   일반국도16호선             0             0                 80.0  ...          0   \n3        태평로             0             0                 50.0  ...          0   \n4   일반국도12호선             0             0                 80.0  ...          0   \n\n   start_node_name  start_latitude  start_longitude start_turn_restricted  \\\n0            제3교래교       33.427747       126.662612                    없음   \n1            광양사거리       33.500730       126.529107                    있음   \n2             창고천교       33.279145       126.368598                    없음   \n3            남양리조트       33.246081       126.567204                    없음   \n4             애월샷시       33.462214       126.326551                    없음   \n\n   end_node_name  end_latitude end_longitude end_turn_restricted  target  \n0          제3교래교     33.427749    126.662335                  없음    52.0  \n1         KAL사거리     33.504811    126.526240                  없음    30.0  \n2           상창육교     33.280072    126.362147                  없음    61.0  \n3           서현주택     33.245565    126.566228                  없음    20.0  \n4           애월입구     33.462677    126.330152                  없음    38.0  \n\n[5 rows x 23 columns]",
      "text/html": "<div>\n<style scoped>\n    .dataframe tbody tr th:only-of-type {\n        vertical-align: middle;\n    }\n\n    .dataframe tbody tr th {\n        vertical-align: top;\n    }\n\n    .dataframe thead th {\n        text-align: right;\n    }\n</style>\n<table border=\"1\" class=\"dataframe\">\n  <thead>\n    <tr style=\"text-align: right;\">\n      <th></th>\n      <th>id</th>\n      <th>base_date</th>\n      <th>day_of_week</th>\n      <th>base_hour</th>\n      <th>lane_count</th>\n      <th>road_rating</th>\n      <th>road_name</th>\n      <th>multi_linked</th>\n      <th>connect_code</th>\n      <th>maximum_speed_limit</th>\n      <th>...</th>\n      <th>road_type</th>\n      <th>start_node_name</th>\n      <th>start_latitude</th>\n      <th>start_longitude</th>\n      <th>start_turn_restricted</th>\n      <th>end_node_name</th>\n      <th>end_latitude</th>\n      <th>end_longitude</th>\n      <th>end_turn_restricted</th>\n      <th>target</th>\n    </tr>\n  </thead>\n  <tbody>\n    <tr>\n      <th>0</th>\n      <td>TRAIN_0000000</td>\n      <td>20220623</td>\n      <td>목</td>\n      <td>17</td>\n      <td>1</td>\n      <td>106</td>\n      <td>지방도1112호선</td>\n      <td>0</td>\n      <td>0</td>\n      <td>60.0</td>\n      <td>...</td>\n      <td>3</td>\n      <td>제3교래교</td>\n      <td>33.427747</td>\n      <td>126.662612</td>\n      <td>없음</td>\n      <td>제3교래교</td>\n      <td>33.427749</td>\n      <td>126.662335</td>\n      <td>없음</td>\n      <td>52.0</td>\n    </tr>\n    <tr>\n      <th>1</th>\n      <td>TRAIN_0000001</td>\n      <td>20220728</td>\n      <td>목</td>\n      <td>21</td>\n      <td>2</td>\n      <td>103</td>\n      <td>일반국도11호선</td>\n      <td>0</td>\n      <td>0</td>\n      <td>60.0</td>\n      <td>...</td>\n      <td>0</td>\n      <td>광양사거리</td>\n      <td>33.500730</td>\n      <td>126.529107</td>\n      <td>있음</td>\n      <td>KAL사거리</td>\n      <td>33.504811</td>\n      <td>126.526240</td>\n      <td>없음</td>\n      <td>30.0</td>\n    </tr>\n    <tr>\n      <th>2</th>\n      <td>TRAIN_0000002</td>\n      <td>20211010</td>\n      <td>일</td>\n      <td>7</td>\n      <td>2</td>\n      <td>103</td>\n      <td>일반국도16호선</td>\n      <td>0</td>\n      <td>0</td>\n      <td>80.0</td>\n      <td>...</td>\n      <td>0</td>\n      <td>창고천교</td>\n      <td>33.279145</td>\n      <td>126.368598</td>\n      <td>없음</td>\n      <td>상창육교</td>\n      <td>33.280072</td>\n      <td>126.362147</td>\n      <td>없음</td>\n      <td>61.0</td>\n    </tr>\n    <tr>\n      <th>3</th>\n      <td>TRAIN_0000003</td>\n      <td>20220311</td>\n      <td>금</td>\n      <td>13</td>\n      <td>2</td>\n      <td>107</td>\n      <td>태평로</td>\n      <td>0</td>\n      <td>0</td>\n      <td>50.0</td>\n      <td>...</td>\n      <td>0</td>\n      <td>남양리조트</td>\n      <td>33.246081</td>\n      <td>126.567204</td>\n      <td>없음</td>\n      <td>서현주택</td>\n      <td>33.245565</td>\n      <td>126.566228</td>\n      <td>없음</td>\n      <td>20.0</td>\n    </tr>\n    <tr>\n      <th>4</th>\n      <td>TRAIN_0000004</td>\n      <td>20211005</td>\n      <td>화</td>\n      <td>8</td>\n      <td>2</td>\n      <td>103</td>\n      <td>일반국도12호선</td>\n      <td>0</td>\n      <td>0</td>\n      <td>80.0</td>\n      <td>...</td>\n      <td>0</td>\n      <td>애월샷시</td>\n      <td>33.462214</td>\n      <td>126.326551</td>\n      <td>없음</td>\n      <td>애월입구</td>\n      <td>33.462677</td>\n      <td>126.330152</td>\n      <td>없음</td>\n      <td>38.0</td>\n    </tr>\n  </tbody>\n</table>\n<p>5 rows × 23 columns</p>\n</div>"
     },
     "execution_count": 9,
     "metadata": {},
     "output_type": "execute_result"
    }
   ],
   "source": [
    "train.head()"
   ],
   "metadata": {
    "collapsed": false,
    "pycharm": {
     "name": "#%%\n"
    }
   }
  },
  {
   "cell_type": "code",
   "execution_count": null,
   "outputs": [],
   "source": [],
   "metadata": {
    "collapsed": false,
    "pycharm": {
     "name": "#%%\n"
    }
   }
  }
 ],
 "metadata": {
  "kernelspec": {
   "display_name": "Python 3",
   "language": "python",
   "name": "python3"
  },
  "language_info": {
   "codemirror_mode": {
    "name": "ipython",
    "version": 2
   },
   "file_extension": ".py",
   "mimetype": "text/x-python",
   "name": "python",
   "nbconvert_exporter": "python",
   "pygments_lexer": "ipython2",
   "version": "2.7.6"
  }
 },
 "nbformat": 4,
 "nbformat_minor": 0
}