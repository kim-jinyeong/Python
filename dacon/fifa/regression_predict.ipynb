{
 "cells": [
  {
   "cell_type": "code",
   "execution_count": 433,
   "metadata": {},
   "outputs": [],
   "source": [
    "# https://dacon.io/competitions/open/235538/data\n",
    "# id : 선수 고유의 아이디\n",
    "# name : 이름\n",
    "# age : 나이\n",
    "# continent : 선수들의 국적이 포함되어 있는 대륙입니다\n",
    "# contract_until : 선수의 계약기간이 언제까지인지 나타내어 줍니다\n",
    "# position : 선수가 선호하는 포지션입니다. ex) 공격수, 수비수 등\n",
    "# prefer_foot : 선수가 선호하는 발입니다. ex) 오른발\n",
    "# reputation : 선수가 유명한 정도입니다. ex) 높은 수치일 수록 유명한 선수\n",
    "# stat_overall : 선수의 현재 능력치 입니다.\n",
    "# stat_potential : 선수가 경험 및 노력을 통해 발전할 수 있는 정도입니다.\n",
    "# stat_skill_moves : 선수의 개인기 능력치 입니다.\n",
    "# value : FIFA가 선정한 선수의 이적 시장 가격 (단위 : 유로) 입니다\n"
   ]
  },
  {
   "cell_type": "code",
   "execution_count": 470,
   "metadata": {},
   "outputs": [],
   "source": [
    "import numpy as np\n",
    "import pandas as pd\n",
    "from catboost import CatBoostRegressor, Pool\n",
    "from sklearn.model_selection import KFold\n",
    "from sklearn.model_selection import train_test_split\n",
    "from sklearn.metrics import mean_absolute_error, mean_squared_error\n"
   ]
  },
  {
   "cell_type": "code",
   "execution_count": 435,
   "metadata": {},
   "outputs": [],
   "source": [
    "train_df = pd.read_csv('./data/FIFA_train.csv')\n",
    "test_df = pd.read_csv('./data/FIFA_test.csv')\n",
    "sub_df = pd.read_csv('./data/submission.csv')\n"
   ]
  },
  {
   "cell_type": "code",
   "execution_count": 436,
   "outputs": [
    {
     "name": "stdout",
     "output_type": "stream",
     "text": [
      "<class 'pandas.core.frame.DataFrame'>\n",
      "RangeIndex: 8932 entries, 0 to 8931\n",
      "Data columns (total 12 columns):\n",
      " #   Column            Non-Null Count  Dtype  \n",
      "---  ------            --------------  -----  \n",
      " 0   id                8932 non-null   int64  \n",
      " 1   name              8932 non-null   object \n",
      " 2   age               8932 non-null   int64  \n",
      " 3   continent         8932 non-null   object \n",
      " 4   contract_until    8932 non-null   object \n",
      " 5   position          8932 non-null   object \n",
      " 6   prefer_foot       8932 non-null   object \n",
      " 7   reputation        8932 non-null   float64\n",
      " 8   stat_overall      8932 non-null   int64  \n",
      " 9   stat_potential    8932 non-null   int64  \n",
      " 10  stat_skill_moves  8932 non-null   float64\n",
      " 11  value             8932 non-null   float64\n",
      "dtypes: float64(3), int64(4), object(5)\n",
      "memory usage: 837.5+ KB\n"
     ]
    }
   ],
   "source": [
    "train_df.info()"
   ],
   "metadata": {
    "collapsed": false,
    "pycharm": {
     "name": "#%%\n"
    }
   }
  },
  {
   "cell_type": "code",
   "execution_count": 437,
   "metadata": {},
   "outputs": [
    {
     "name": "stdout",
     "output_type": "stream",
     "text": [
      "<class 'pandas.core.frame.DataFrame'>\n",
      "RangeIndex: 3828 entries, 0 to 3827\n",
      "Data columns (total 11 columns):\n",
      " #   Column            Non-Null Count  Dtype  \n",
      "---  ------            --------------  -----  \n",
      " 0   id                3828 non-null   int64  \n",
      " 1   name              3828 non-null   object \n",
      " 2   age               3828 non-null   int64  \n",
      " 3   continent         3828 non-null   object \n",
      " 4   contract_until    3828 non-null   object \n",
      " 5   position          3828 non-null   object \n",
      " 6   prefer_foot       3828 non-null   object \n",
      " 7   reputation        3828 non-null   float64\n",
      " 8   stat_overall      3828 non-null   int64  \n",
      " 9   stat_potential    3828 non-null   int64  \n",
      " 10  stat_skill_moves  3828 non-null   float64\n",
      "dtypes: float64(2), int64(4), object(5)\n",
      "memory usage: 329.1+ KB\n"
     ]
    }
   ],
   "source": [
    "test_df.info()"
   ]
  },
  {
   "cell_type": "code",
   "execution_count": 438,
   "outputs": [],
   "source": [
    "train_df.drop(columns=['id','name'], inplace=True)\n",
    "test_df.drop(columns=['id','name'], inplace=True)"
   ],
   "metadata": {
    "collapsed": false,
    "pycharm": {
     "name": "#%%\n"
    }
   }
  },
  {
   "cell_type": "code",
   "execution_count": 439,
   "metadata": {},
   "outputs": [
    {
     "data": {
      "text/plain": "26    708\n24    691\n21    676\n23    663\n25    654\n22    632\n20    582\n27    581\n28    532\n19    491\n30    476\n29    472\n31    347\n18    344\n32    285\n34    216\n33    202\n17    131\n35     89\n36     64\n37     42\n16     18\n38     17\n39     16\n40      3\nName: age, dtype: int64"
     },
     "execution_count": 439,
     "metadata": {},
     "output_type": "execute_result"
    }
   ],
   "source": [
    "train_df['age'].value_counts()"
   ]
  },
  {
   "cell_type": "code",
   "execution_count": 440,
   "metadata": {},
   "outputs": [
    {
     "data": {
      "text/plain": "europe           5322\nsouth america    1927\nasia              787\nafrica            721\noceania           175\nName: continent, dtype: int64"
     },
     "execution_count": 440,
     "metadata": {},
     "output_type": "execute_result"
    }
   ],
   "source": [
    "train_df['continent'].value_counts()"
   ]
  },
  {
   "cell_type": "code",
   "execution_count": 441,
   "outputs": [
    {
     "data": {
      "text/plain": "2019            2366\n2021            2308\n2020            2041\n2022             761\n2023             506\nJun 30, 2019     501\n2018             327\nDec 31, 2018      64\nMay 31, 2019      19\n2024              12\nJan 31, 2019      10\nJun 30, 2020       9\n2025               3\nJan 1, 2019        2\n2026               1\nMay 31, 2020       1\nJan 12, 2019       1\nName: contract_until, dtype: int64"
     },
     "execution_count": 441,
     "metadata": {},
     "output_type": "execute_result"
    }
   ],
   "source": [
    "train_df['contract_until'].value_counts()"
   ],
   "metadata": {
    "collapsed": false,
    "pycharm": {
     "name": "#%%\n"
    }
   }
  },
  {
   "cell_type": "code",
   "execution_count": 442,
   "outputs": [
    {
     "data": {
      "text/plain": "MF    3428\nDF    2791\nST    1705\nGK    1008\nName: position, dtype: int64"
     },
     "execution_count": 442,
     "metadata": {},
     "output_type": "execute_result"
    }
   ],
   "source": [
    "train_df['position'].value_counts()"
   ],
   "metadata": {
    "collapsed": false,
    "pycharm": {
     "name": "#%%\n"
    }
   }
  },
  {
   "cell_type": "code",
   "execution_count": 443,
   "outputs": [
    {
     "data": {
      "text/plain": "right    6837\nleft     2095\nName: prefer_foot, dtype: int64"
     },
     "execution_count": 443,
     "metadata": {},
     "output_type": "execute_result"
    }
   ],
   "source": [
    "train_df['prefer_foot'].value_counts()"
   ],
   "metadata": {
    "collapsed": false,
    "pycharm": {
     "name": "#%%\n"
    }
   }
  },
  {
   "cell_type": "code",
   "execution_count": 444,
   "outputs": [
    {
     "data": {
      "text/plain": "1.0    8014\n2.0     706\n3.0     177\n4.0      31\n5.0       4\nName: reputation, dtype: int64"
     },
     "execution_count": 444,
     "metadata": {},
     "output_type": "execute_result"
    }
   ],
   "source": [
    "train_df['reputation'].value_counts()"
   ],
   "metadata": {
    "collapsed": false,
    "pycharm": {
     "name": "#%%\n"
    }
   }
  },
  {
   "cell_type": "code",
   "execution_count": 445,
   "outputs": [
    {
     "data": {
      "text/plain": "67    570\n66    559\n68    543\n69    532\n64    492\n65    479\n63    473\n70    463\n72    445\n71    431\n62    363\n73    332\n61    305\n74    303\n60    303\n75    281\n59    205\n76    204\n58    170\n77    169\n57    148\n56    143\n78    106\n55    104\n79    103\n54    102\n53     91\n80     83\n52     70\n82     58\n81     53\n51     51\n83     46\n50     42\n84     27\n85     22\n86     11\n88     10\n87      9\n48      7\n89      7\n49      6\n47      4\n91      3\n90      3\n94      1\nName: stat_overall, dtype: int64"
     },
     "execution_count": 445,
     "metadata": {},
     "output_type": "execute_result"
    }
   ],
   "source": [
    "train_df['stat_overall'].value_counts()"
   ],
   "metadata": {
    "collapsed": false,
    "pycharm": {
     "name": "#%%\n"
    }
   }
  },
  {
   "cell_type": "code",
   "execution_count": 446,
   "outputs": [],
   "source": [
    "train_df['contract_until'] = train_df['contract_until'].apply(lambda x : x[-4:])\n",
    "test_df['contract_until'] = test_df['contract_until'].apply(lambda x : x[-4:])"
   ],
   "metadata": {
    "collapsed": false,
    "pycharm": {
     "name": "#%%\n"
    }
   }
  },
  {
   "cell_type": "code",
   "execution_count": 447,
   "outputs": [
    {
     "data": {
      "text/plain": "['2021', '2020', '2019', '2023', '2022', '2024', '2026', '2018', '2025']"
     },
     "execution_count": 447,
     "metadata": {},
     "output_type": "execute_result"
    }
   ],
   "source": [
    "train_df['contract_until'].unique().tolist()"
   ],
   "metadata": {
    "collapsed": false,
    "pycharm": {
     "name": "#%%\n"
    }
   }
  },
  {
   "cell_type": "code",
   "execution_count": 448,
   "outputs": [
    {
     "data": {
      "text/plain": "2019    2899\n2021    2308\n2020    2051\n2022     761\n2023     506\n2018     391\n2024      12\n2025       3\n2026       1\nName: contract_until, dtype: int64"
     },
     "execution_count": 448,
     "metadata": {},
     "output_type": "execute_result"
    }
   ],
   "source": [
    "train_df['contract_until'].value_counts()"
   ],
   "metadata": {
    "collapsed": false,
    "pycharm": {
     "name": "#%%\n"
    }
   }
  },
  {
   "cell_type": "code",
   "execution_count": 449,
   "outputs": [
    {
     "data": {
      "text/plain": "contract_until\n2018    1.286407e+06\n2019    1.746123e+06\n2020    2.397036e+06\n2021    2.827543e+06\n2022    5.899074e+06\n2023    5.802115e+06\n2024    2.450833e+07\n2025    1.405333e+07\n2026    5.050000e+07\nName: value, dtype: float64"
     },
     "execution_count": 449,
     "metadata": {},
     "output_type": "execute_result"
    }
   ],
   "source": [
    "train_df.groupby('contract_until').mean()['value']"
   ],
   "metadata": {
    "collapsed": false,
    "pycharm": {
     "name": "#%%\n"
    }
   }
  },
  {
   "cell_type": "code",
   "execution_count": 450,
   "outputs": [
    {
     "name": "stdout",
     "output_type": "stream",
     "text": [
      "16\n",
      "40\n"
     ]
    }
   ],
   "source": [
    "print(train_df['age'].min())\n",
    "print(train_df['age'].max())"
   ],
   "metadata": {
    "collapsed": false,
    "pycharm": {
     "name": "#%%\n"
    }
   }
  },
  {
   "cell_type": "code",
   "execution_count": 451,
   "outputs": [],
   "source": [
    "def age_group(age):\n",
    "    if age < 20: age = 15\n",
    "    elif age >= 20 and age < 25 : age = 20\n",
    "    elif age >= 25 and age < 30: age = 25\n",
    "    elif age >= 30 and age < 35: age = 30\n",
    "    elif age >= 35: age = 35\n",
    "    return age\n",
    "\n",
    "def age_group2(age):\n",
    "    if age < 20: age = 10\n",
    "    elif age >= 20 and age < 30 : age = 20\n",
    "    elif age >= 30 and age < 40: age = 30\n",
    "    elif age >= 40: age = 40\n",
    "    return age\n",
    "\n",
    "train_df['age'] = train_df['age'].apply(lambda x : age_group2(x))\n",
    "test_df['age'] = test_df['age'].apply(lambda x : age_group2(x))"
   ],
   "metadata": {
    "collapsed": false,
    "pycharm": {
     "name": "#%%\n"
    }
   }
  },
  {
   "cell_type": "code",
   "execution_count": 452,
   "outputs": [
    {
     "data": {
      "text/plain": "20    6191\n30    1754\n10     984\n40       3\nName: age, dtype: int64"
     },
     "execution_count": 452,
     "metadata": {},
     "output_type": "execute_result"
    }
   ],
   "source": [
    "train_df['age'].value_counts()"
   ],
   "metadata": {
    "collapsed": false,
    "pycharm": {
     "name": "#%%\n"
    }
   }
  },
  {
   "cell_type": "code",
   "execution_count": 453,
   "outputs": [
    {
     "data": {
      "text/plain": "age\n10    7.277287e+05\n20    3.090281e+06\n30    2.831690e+06\n40    1.436667e+06\nName: value, dtype: float64"
     },
     "execution_count": 453,
     "metadata": {},
     "output_type": "execute_result"
    }
   ],
   "source": [
    "train_df.groupby('age').mean()['value']"
   ],
   "metadata": {
    "collapsed": false,
    "pycharm": {
     "name": "#%%\n"
    }
   }
  },
  {
   "cell_type": "markdown",
   "source": [],
   "metadata": {
    "collapsed": false
   }
  },
  {
   "cell_type": "code",
   "execution_count": 454,
   "outputs": [
    {
     "data": {
      "text/plain": "europe           5322\nsouth america    1927\nasia              787\nafrica            721\noceania           175\nName: continent, dtype: int64"
     },
     "execution_count": 454,
     "metadata": {},
     "output_type": "execute_result"
    }
   ],
   "source": [
    "train_df['continent'].value_counts()\n"
   ],
   "metadata": {
    "collapsed": false,
    "pycharm": {
     "name": "#%%\n"
    }
   }
  },
  {
   "cell_type": "code",
   "execution_count": 455,
   "outputs": [
    {
     "data": {
      "text/plain": "continent\nafrica           2.972247e+06\nasia             1.035146e+06\neurope           2.928125e+06\noceania          8.225429e+05\nsouth america    3.183204e+06\nName: value, dtype: float64"
     },
     "execution_count": 455,
     "metadata": {},
     "output_type": "execute_result"
    }
   ],
   "source": [
    "train_df.groupby('continent').mean()['value']"
   ],
   "metadata": {
    "collapsed": false,
    "pycharm": {
     "name": "#%%\n"
    }
   }
  },
  {
   "cell_type": "code",
   "execution_count": 456,
   "outputs": [],
   "source": [
    "temp_list = train_df['continent'].unique().tolist()\n",
    "train_df['continent'] = train_df.continent.map(lambda x : temp_list.index(x))\n",
    "temp_list = test_df['continent'].unique().tolist()\n",
    "test_df['continent'] = test_df.continent.map(lambda x : temp_list.index(x))"
   ],
   "metadata": {
    "collapsed": false,
    "pycharm": {
     "name": "#%%\n"
    }
   }
  },
  {
   "cell_type": "code",
   "execution_count": 457,
   "outputs": [
    {
     "data": {
      "text/plain": "1    5322\n0    1927\n3     787\n2     721\n4     175\nName: continent, dtype: int64"
     },
     "execution_count": 457,
     "metadata": {},
     "output_type": "execute_result"
    }
   ],
   "source": [
    "train_df['continent'].value_counts()"
   ],
   "metadata": {
    "collapsed": false,
    "pycharm": {
     "name": "#%%\n"
    }
   }
  },
  {
   "cell_type": "code",
   "execution_count": 458,
   "outputs": [
    {
     "data": {
      "text/plain": "position\nDF    2.304348e+06\nGK    1.992073e+06\nMF    3.121762e+06\nST    3.330361e+06\nName: value, dtype: float64"
     },
     "execution_count": 458,
     "metadata": {},
     "output_type": "execute_result"
    }
   ],
   "source": [
    "train_df.groupby('position').mean()['value']\n"
   ],
   "metadata": {
    "collapsed": false,
    "pycharm": {
     "name": "#%%\n"
    }
   }
  },
  {
   "cell_type": "code",
   "execution_count": 459,
   "outputs": [],
   "source": [
    "temp_list = train_df['position'].unique().tolist()\n",
    "train_df['position'] = train_df.position.map(lambda x : temp_list.index(x))\n",
    "temp_list = test_df['position'].unique().tolist()\n",
    "test_df['position'] = test_df.position.map(lambda x : temp_list.index(x))"
   ],
   "metadata": {
    "collapsed": false,
    "pycharm": {
     "name": "#%%\n"
    }
   }
  },
  {
   "cell_type": "code",
   "execution_count": 460,
   "outputs": [
    {
     "data": {
      "text/plain": "prefer_foot\nleft     2.865232e+06\nright    2.752150e+06\nName: value, dtype: float64"
     },
     "execution_count": 460,
     "metadata": {},
     "output_type": "execute_result"
    }
   ],
   "source": [
    "train_df.groupby('prefer_foot').mean()['value']"
   ],
   "metadata": {
    "collapsed": false,
    "pycharm": {
     "name": "#%%\n"
    }
   }
  },
  {
   "cell_type": "code",
   "execution_count": 461,
   "outputs": [],
   "source": [
    "temp_list = train_df['prefer_foot'].unique().tolist()\n",
    "train_df['prefer_foot'] = train_df.prefer_foot.map(lambda x : temp_list.index(x))\n",
    "temp_list = test_df['prefer_foot'].unique().tolist()\n",
    "test_df['prefer_foot'] = test_df.prefer_foot.map(lambda x : temp_list.index(x))"
   ],
   "metadata": {
    "collapsed": false,
    "pycharm": {
     "name": "#%%\n"
    }
   }
  },
  {
   "cell_type": "code",
   "execution_count": 462,
   "outputs": [],
   "source": [
    "y = train_df['value']\n",
    "X = train_df.drop('value', axis= 1)\n",
    "X_train, X_test, y_train, y_test = train_test_split(X, y, test_size=0.2, random_state=123)"
   ],
   "metadata": {
    "collapsed": false,
    "pycharm": {
     "name": "#%%\n"
    }
   }
  },
  {
   "cell_type": "code",
   "execution_count": 463,
   "outputs": [
    {
     "name": "stdout",
     "output_type": "stream",
     "text": [
      "Learning rate set to 0.069338\n",
      "0:\tlearn: 5617274.7671884\ttest: 5152616.3642692\tbest: 5152616.3642692 (0)\ttotal: 1.09ms\tremaining: 1.09s\n",
      "1:\tlearn: 5321545.7013885\ttest: 4867428.9696962\tbest: 4867428.9696962 (1)\ttotal: 2.22ms\tremaining: 1.11s\n",
      "2:\tlearn: 5045946.2846730\ttest: 4595965.4221137\tbest: 4595965.4221137 (2)\ttotal: 3.23ms\tremaining: 1.07s\n",
      "3:\tlearn: 4781179.7743354\ttest: 4363687.6954777\tbest: 4363687.6954777 (3)\ttotal: 4.29ms\tremaining: 1.07s\n",
      "4:\tlearn: 4529436.8977062\ttest: 4134237.5126681\tbest: 4134237.5126681 (4)\ttotal: 5.35ms\tremaining: 1.06s\n",
      "5:\tlearn: 4291354.1560008\ttest: 3925107.1305864\tbest: 3925107.1305864 (5)\ttotal: 6.41ms\tremaining: 1.06s\n",
      "6:\tlearn: 4063065.4587795\ttest: 3708876.6891367\tbest: 3708876.6891367 (6)\ttotal: 7.43ms\tremaining: 1.05s\n",
      "7:\tlearn: 3853650.1712369\ttest: 3500229.0087922\tbest: 3500229.0087922 (7)\ttotal: 8.48ms\tremaining: 1.05s\n",
      "8:\tlearn: 3659915.1704373\ttest: 3317328.8317483\tbest: 3317328.8317483 (8)\ttotal: 9.52ms\tremaining: 1.05s\n",
      "9:\tlearn: 3477105.9009717\ttest: 3152985.0208823\tbest: 3152985.0208823 (9)\ttotal: 10.7ms\tremaining: 1.06s\n",
      "10:\tlearn: 3321771.4841226\ttest: 3017907.4481986\tbest: 3017907.4481986 (10)\ttotal: 12.2ms\tremaining: 1.09s\n",
      "11:\tlearn: 3163998.3878931\ttest: 2879359.7069897\tbest: 2879359.7069897 (11)\ttotal: 13.4ms\tremaining: 1.1s\n",
      "12:\tlearn: 3017531.4139372\ttest: 2741801.8286640\tbest: 2741801.8286640 (12)\ttotal: 14.5ms\tremaining: 1.1s\n",
      "13:\tlearn: 2892385.8682056\ttest: 2626719.6906813\tbest: 2626719.6906813 (13)\ttotal: 15.6ms\tremaining: 1.1s\n",
      "14:\tlearn: 2773388.5821892\ttest: 2513706.1989472\tbest: 2513706.1989472 (14)\ttotal: 16.6ms\tremaining: 1.09s\n",
      "15:\tlearn: 2654777.9714910\ttest: 2402658.9550958\tbest: 2402658.9550958 (15)\ttotal: 17.6ms\tremaining: 1.08s\n",
      "16:\tlearn: 2544086.8776651\ttest: 2301357.8372175\tbest: 2301357.8372175 (16)\ttotal: 18.7ms\tremaining: 1.08s\n",
      "17:\tlearn: 2438114.1993244\ttest: 2196659.4944927\tbest: 2196659.4944927 (17)\ttotal: 19.7ms\tremaining: 1.07s\n",
      "18:\tlearn: 2338835.8047772\ttest: 2112924.4425358\tbest: 2112924.4425358 (18)\ttotal: 20.7ms\tremaining: 1.07s\n",
      "19:\tlearn: 2245110.6560096\ttest: 2021779.0863183\tbest: 2021779.0863183 (19)\ttotal: 21.7ms\tremaining: 1.06s\n",
      "20:\tlearn: 2158804.9106335\ttest: 1945313.4744364\tbest: 1945313.4744364 (20)\ttotal: 22.7ms\tremaining: 1.06s\n",
      "21:\tlearn: 2073472.7799339\ttest: 1867776.0704595\tbest: 1867776.0704595 (21)\ttotal: 23.7ms\tremaining: 1.05s\n",
      "22:\tlearn: 1999295.4573884\ttest: 1801053.4687240\tbest: 1801053.4687240 (22)\ttotal: 24.8ms\tremaining: 1.05s\n",
      "23:\tlearn: 1930002.1923633\ttest: 1745238.3352940\tbest: 1745238.3352940 (23)\ttotal: 25.8ms\tremaining: 1.05s\n",
      "24:\tlearn: 1866399.3321040\ttest: 1691240.7781130\tbest: 1691240.7781130 (24)\ttotal: 27.1ms\tremaining: 1.06s\n",
      "25:\tlearn: 1802710.9273777\ttest: 1623059.8052867\tbest: 1623059.8052867 (25)\ttotal: 28.1ms\tremaining: 1.05s\n",
      "26:\tlearn: 1751836.0541056\ttest: 1569784.1773809\tbest: 1569784.1773809 (26)\ttotal: 29.2ms\tremaining: 1.05s\n",
      "27:\tlearn: 1704611.9484292\ttest: 1531038.0639594\tbest: 1531038.0639594 (27)\ttotal: 30.2ms\tremaining: 1.05s\n",
      "28:\tlearn: 1652134.1102338\ttest: 1486815.0032212\tbest: 1486815.0032212 (28)\ttotal: 31.2ms\tremaining: 1.04s\n",
      "29:\tlearn: 1607945.9423764\ttest: 1446708.2822500\tbest: 1446708.2822500 (29)\ttotal: 32.3ms\tremaining: 1.04s\n",
      "30:\tlearn: 1558805.4003877\ttest: 1402998.0883420\tbest: 1402998.0883420 (30)\ttotal: 33.2ms\tremaining: 1.04s\n",
      "31:\tlearn: 1517788.4484380\ttest: 1365245.1951637\tbest: 1365245.1951637 (31)\ttotal: 34.2ms\tremaining: 1.03s\n",
      "32:\tlearn: 1481599.2033156\ttest: 1339744.0134636\tbest: 1339744.0134636 (32)\ttotal: 35.2ms\tremaining: 1.03s\n",
      "33:\tlearn: 1445860.2760860\ttest: 1313691.4572352\tbest: 1313691.4572352 (33)\ttotal: 36.2ms\tremaining: 1.03s\n",
      "34:\tlearn: 1407910.1815481\ttest: 1280113.0565852\tbest: 1280113.0565852 (34)\ttotal: 37.2ms\tremaining: 1.03s\n",
      "35:\tlearn: 1376453.4725013\ttest: 1253106.4079476\tbest: 1253106.4079476 (35)\ttotal: 38.3ms\tremaining: 1.02s\n",
      "36:\tlearn: 1344893.0948476\ttest: 1223379.7833543\tbest: 1223379.7833543 (36)\ttotal: 39.5ms\tremaining: 1.03s\n",
      "37:\tlearn: 1314236.6985186\ttest: 1197985.1803991\tbest: 1197985.1803991 (37)\ttotal: 40.6ms\tremaining: 1.03s\n",
      "38:\tlearn: 1288200.2427713\ttest: 1175405.7282009\tbest: 1175405.7282009 (38)\ttotal: 41.7ms\tremaining: 1.03s\n",
      "39:\tlearn: 1264962.3921009\ttest: 1149610.9978516\tbest: 1149610.9978516 (39)\ttotal: 42.8ms\tremaining: 1.03s\n",
      "40:\tlearn: 1245352.0924073\ttest: 1134428.7148114\tbest: 1134428.7148114 (40)\ttotal: 43.7ms\tremaining: 1.02s\n",
      "41:\tlearn: 1228179.3353566\ttest: 1117701.8085357\tbest: 1117701.8085357 (41)\ttotal: 44.7ms\tremaining: 1.02s\n",
      "42:\tlearn: 1205813.5633330\ttest: 1100108.1277364\tbest: 1100108.1277364 (42)\ttotal: 45.7ms\tremaining: 1.02s\n",
      "43:\tlearn: 1191765.6552203\ttest: 1085640.5086710\tbest: 1085640.5086710 (43)\ttotal: 46.6ms\tremaining: 1.01s\n",
      "44:\tlearn: 1185978.7982678\ttest: 1084893.9996949\tbest: 1084893.9996949 (44)\ttotal: 47.4ms\tremaining: 1.01s\n",
      "45:\tlearn: 1176302.0083216\ttest: 1078940.9072783\tbest: 1078940.9072783 (45)\ttotal: 48.3ms\tremaining: 1s\n",
      "46:\tlearn: 1170858.1834242\ttest: 1078527.4996093\tbest: 1078527.4996093 (46)\ttotal: 49.2ms\tremaining: 998ms\n",
      "47:\tlearn: 1165434.9269089\ttest: 1077801.0973914\tbest: 1077801.0973914 (47)\ttotal: 50.1ms\tremaining: 993ms\n",
      "48:\tlearn: 1160309.9696672\ttest: 1077399.8584750\tbest: 1077399.8584750 (48)\ttotal: 50.9ms\tremaining: 988ms\n",
      "49:\tlearn: 1156491.7214878\ttest: 1077422.8203118\tbest: 1077399.8584750 (48)\ttotal: 51.7ms\tremaining: 982ms\n",
      "50:\tlearn: 1136789.5580070\ttest: 1063798.3265997\tbest: 1063798.3265997 (50)\ttotal: 52.8ms\tremaining: 982ms\n",
      "51:\tlearn: 1132018.3397110\ttest: 1063623.7982496\tbest: 1063623.7982496 (51)\ttotal: 53.6ms\tremaining: 978ms\n",
      "52:\tlearn: 1116616.5870399\ttest: 1057749.6207543\tbest: 1057749.6207543 (52)\ttotal: 54.6ms\tremaining: 975ms\n",
      "53:\tlearn: 1112104.2233259\ttest: 1057843.6829853\tbest: 1057749.6207543 (52)\ttotal: 55.6ms\tremaining: 973ms\n",
      "54:\tlearn: 1108843.9069892\ttest: 1058117.8539459\tbest: 1057749.6207543 (52)\ttotal: 56.2ms\tremaining: 966ms\n",
      "55:\tlearn: 1094146.6215596\ttest: 1051853.0507889\tbest: 1051853.0507889 (55)\ttotal: 57.3ms\tremaining: 965ms\n",
      "56:\tlearn: 1090922.3343115\ttest: 1052162.5372575\tbest: 1051853.0507889 (55)\ttotal: 58.1ms\tremaining: 962ms\n",
      "57:\tlearn: 1086769.7940258\ttest: 1049440.6058893\tbest: 1049440.6058893 (57)\ttotal: 59ms\tremaining: 959ms\n",
      "58:\tlearn: 1082819.0646293\ttest: 1049616.2074433\tbest: 1049440.6058893 (57)\ttotal: 59.8ms\tremaining: 954ms\n",
      "59:\tlearn: 1069201.2149719\ttest: 1039507.4721533\tbest: 1039507.4721533 (59)\ttotal: 60.8ms\tremaining: 952ms\n",
      "60:\tlearn: 1065883.3078908\ttest: 1039293.4995888\tbest: 1039293.4995888 (60)\ttotal: 61.6ms\tremaining: 949ms\n",
      "61:\tlearn: 1053643.5106220\ttest: 1026937.5391995\tbest: 1026937.5391995 (61)\ttotal: 62.6ms\tremaining: 947ms\n",
      "62:\tlearn: 1051044.8070586\ttest: 1027454.6977742\tbest: 1026937.5391995 (61)\ttotal: 63.2ms\tremaining: 940ms\n",
      "63:\tlearn: 1047630.0599579\ttest: 1027918.2626272\tbest: 1026937.5391995 (61)\ttotal: 64ms\tremaining: 936ms\n",
      "64:\tlearn: 1035557.9017717\ttest: 1025675.6529715\tbest: 1025675.6529715 (64)\ttotal: 65.1ms\tremaining: 937ms\n",
      "65:\tlearn: 1021639.9036312\ttest: 1017320.6212310\tbest: 1017320.6212310 (65)\ttotal: 66.1ms\tremaining: 935ms\n",
      "66:\tlearn: 1010349.8936254\ttest: 1016200.9261310\tbest: 1016200.9261310 (66)\ttotal: 67ms\tremaining: 933ms\n",
      "67:\tlearn: 1001043.6001917\ttest: 1009758.5199360\tbest: 1009758.5199360 (67)\ttotal: 68ms\tremaining: 932ms\n",
      "68:\tlearn: 991698.4051151\ttest: 1003654.0491428\tbest: 1003654.0491428 (68)\ttotal: 69ms\tremaining: 930ms\n",
      "69:\tlearn: 981450.3859212\ttest: 999732.6632400\tbest: 999732.6632400 (69)\ttotal: 70ms\tremaining: 929ms\n",
      "70:\tlearn: 973683.4732081\ttest: 998164.1258058\tbest: 998164.1258058 (70)\ttotal: 70.9ms\tremaining: 928ms\n",
      "71:\tlearn: 970955.9628599\ttest: 998745.5926696\tbest: 998164.1258058 (70)\ttotal: 71.7ms\tremaining: 925ms\n",
      "72:\tlearn: 968330.9642051\ttest: 998097.0927885\tbest: 998097.0927885 (72)\ttotal: 72.7ms\tremaining: 923ms\n",
      "73:\tlearn: 965660.3571265\ttest: 997383.2027174\tbest: 997383.2027174 (73)\ttotal: 73.6ms\tremaining: 921ms\n",
      "74:\tlearn: 963065.4183711\ttest: 997763.9787522\tbest: 997383.2027174 (73)\ttotal: 74.5ms\tremaining: 918ms\n",
      "75:\tlearn: 955025.7514928\ttest: 990371.8417530\tbest: 990371.8417530 (75)\ttotal: 75.4ms\tremaining: 917ms\n",
      "76:\tlearn: 952480.4722171\ttest: 989671.1701648\tbest: 989671.1701648 (76)\ttotal: 76.4ms\tremaining: 915ms\n",
      "77:\tlearn: 950199.7899762\ttest: 990190.9406412\tbest: 989671.1701648 (76)\ttotal: 77.3ms\tremaining: 913ms\n",
      "78:\tlearn: 947899.2221701\ttest: 990695.2227025\tbest: 989671.1701648 (76)\ttotal: 78.1ms\tremaining: 911ms\n",
      "79:\tlearn: 945679.9431604\ttest: 990398.5411916\tbest: 989671.1701648 (76)\ttotal: 79.1ms\tremaining: 909ms\n",
      "80:\tlearn: 944135.1094207\ttest: 991192.0949848\tbest: 989671.1701648 (76)\ttotal: 79.8ms\tremaining: 905ms\n",
      "81:\tlearn: 933404.2823167\ttest: 985886.4106740\tbest: 985886.4106740 (81)\ttotal: 80.7ms\tremaining: 904ms\n",
      "82:\tlearn: 931345.3036572\ttest: 985707.0864183\tbest: 985707.0864183 (82)\ttotal: 81.6ms\tremaining: 902ms\n",
      "83:\tlearn: 929320.3389235\ttest: 986382.4665012\tbest: 985707.0864183 (82)\ttotal: 82.5ms\tremaining: 900ms\n",
      "84:\tlearn: 927949.7065132\ttest: 987230.0447853\tbest: 985707.0864183 (82)\ttotal: 83.1ms\tremaining: 895ms\n",
      "85:\tlearn: 926317.0622046\ttest: 987103.7897818\tbest: 985707.0864183 (82)\ttotal: 84ms\tremaining: 893ms\n",
      "86:\tlearn: 920997.6281556\ttest: 989951.8148248\tbest: 985707.0864183 (82)\ttotal: 85ms\tremaining: 892ms\n",
      "87:\tlearn: 919193.5772108\ttest: 989946.2250703\tbest: 985707.0864183 (82)\ttotal: 85.8ms\tremaining: 889ms\n",
      "88:\tlearn: 911951.0552497\ttest: 983070.4907247\tbest: 983070.4907247 (88)\ttotal: 86.8ms\tremaining: 888ms\n",
      "89:\tlearn: 905755.3839140\ttest: 981354.0439044\tbest: 981354.0439044 (89)\ttotal: 87.7ms\tremaining: 887ms\n",
      "90:\tlearn: 904216.9924393\ttest: 982210.5411622\tbest: 981354.0439044 (89)\ttotal: 88.5ms\tremaining: 884ms\n",
      "91:\tlearn: 893178.3634708\ttest: 973730.7472214\tbest: 973730.7472214 (91)\ttotal: 89.5ms\tremaining: 884ms\n",
      "92:\tlearn: 884308.1382636\ttest: 969328.6371161\tbest: 969328.6371161 (92)\ttotal: 90.6ms\tremaining: 883ms\n",
      "93:\tlearn: 878399.8229501\ttest: 965122.6564445\tbest: 965122.6564445 (93)\ttotal: 91.7ms\tremaining: 884ms\n",
      "94:\tlearn: 876868.6837278\ttest: 965830.6450066\tbest: 965122.6564445 (93)\ttotal: 92.8ms\tremaining: 884ms\n",
      "95:\tlearn: 875392.7828815\ttest: 965927.0487957\tbest: 965122.6564445 (93)\ttotal: 93.7ms\tremaining: 882ms\n",
      "96:\tlearn: 873923.8977570\ttest: 966678.1736099\tbest: 965122.6564445 (93)\ttotal: 94.7ms\tremaining: 882ms\n",
      "97:\tlearn: 867354.7622683\ttest: 961082.8587882\tbest: 961082.8587882 (97)\ttotal: 95.7ms\tremaining: 881ms\n",
      "98:\tlearn: 866245.8676797\ttest: 961382.4318059\tbest: 961082.8587882 (97)\ttotal: 96.4ms\tremaining: 877ms\n",
      "99:\tlearn: 864227.8877606\ttest: 959896.0165415\tbest: 959896.0165415 (99)\ttotal: 97.4ms\tremaining: 877ms\n",
      "100:\tlearn: 863364.6228652\ttest: 960763.9848624\tbest: 959896.0165415 (99)\ttotal: 98.1ms\tremaining: 873ms\n",
      "101:\tlearn: 859957.0894991\ttest: 958666.7083791\tbest: 958666.7083791 (101)\ttotal: 99ms\tremaining: 872ms\n",
      "102:\tlearn: 851000.8852575\ttest: 953365.5805371\tbest: 953365.5805371 (102)\ttotal: 100ms\tremaining: 871ms\n",
      "103:\tlearn: 849756.6905170\ttest: 954130.5824131\tbest: 953365.5805371 (102)\ttotal: 101ms\tremaining: 870ms\n",
      "104:\tlearn: 845340.3663884\ttest: 953139.8495371\tbest: 953139.8495371 (104)\ttotal: 102ms\tremaining: 869ms\n",
      "105:\tlearn: 841167.8135323\ttest: 952691.0204640\tbest: 952691.0204640 (105)\ttotal: 103ms\tremaining: 868ms\n",
      "106:\tlearn: 835233.6304049\ttest: 948701.9918159\tbest: 948701.9918159 (106)\ttotal: 104ms\tremaining: 866ms\n",
      "107:\tlearn: 834161.8592246\ttest: 949395.5870658\tbest: 948701.9918159 (106)\ttotal: 105ms\tremaining: 864ms\n",
      "108:\tlearn: 830580.8066657\ttest: 946160.7153507\tbest: 946160.7153507 (108)\ttotal: 106ms\tremaining: 864ms\n",
      "109:\tlearn: 822593.3981575\ttest: 942079.1629301\tbest: 942079.1629301 (109)\ttotal: 107ms\tremaining: 864ms\n",
      "110:\tlearn: 821564.6142445\ttest: 942796.6401099\tbest: 942079.1629301 (109)\ttotal: 108ms\tremaining: 863ms\n",
      "111:\tlearn: 820948.4377595\ttest: 943598.8324953\tbest: 942079.1629301 (109)\ttotal: 108ms\tremaining: 859ms\n",
      "112:\tlearn: 820214.6224955\ttest: 943946.8420806\tbest: 942079.1629301 (109)\ttotal: 109ms\tremaining: 856ms\n",
      "113:\tlearn: 815024.2866869\ttest: 941745.3933509\tbest: 941745.3933509 (113)\ttotal: 110ms\tremaining: 856ms\n",
      "114:\tlearn: 814104.6997129\ttest: 942305.1993514\tbest: 941745.3933509 (113)\ttotal: 111ms\tremaining: 855ms\n",
      "115:\tlearn: 813340.1318614\ttest: 941847.4642839\tbest: 941745.3933509 (113)\ttotal: 112ms\tremaining: 853ms\n",
      "116:\tlearn: 812498.0360334\ttest: 942201.8655927\tbest: 941745.3933509 (113)\ttotal: 113ms\tremaining: 852ms\n",
      "117:\tlearn: 811985.6624195\ttest: 942987.9784614\tbest: 941745.3933509 (113)\ttotal: 114ms\tremaining: 849ms\n",
      "118:\tlearn: 807645.1923859\ttest: 940004.2735433\tbest: 940004.2735433 (118)\ttotal: 115ms\tremaining: 848ms\n",
      "119:\tlearn: 801295.9431872\ttest: 936922.6813501\tbest: 936922.6813501 (119)\ttotal: 116ms\tremaining: 848ms\n",
      "120:\tlearn: 796895.3972885\ttest: 934936.4477521\tbest: 934936.4477521 (120)\ttotal: 117ms\tremaining: 849ms\n",
      "121:\tlearn: 796264.5903177\ttest: 934988.4838266\tbest: 934936.4477521 (120)\ttotal: 118ms\tremaining: 848ms\n",
      "122:\tlearn: 791971.6681777\ttest: 932373.5032407\tbest: 932373.5032407 (122)\ttotal: 119ms\tremaining: 848ms\n",
      "123:\tlearn: 790391.4202198\ttest: 931625.7708805\tbest: 931625.7708805 (123)\ttotal: 120ms\tremaining: 847ms\n",
      "124:\tlearn: 788293.8083656\ttest: 929521.2576863\tbest: 929521.2576863 (124)\ttotal: 121ms\tremaining: 846ms\n",
      "125:\tlearn: 787607.3614085\ttest: 929868.6411665\tbest: 929521.2576863 (124)\ttotal: 122ms\tremaining: 844ms\n",
      "126:\tlearn: 784394.3170489\ttest: 928629.1683939\tbest: 928629.1683939 (126)\ttotal: 123ms\tremaining: 843ms\n",
      "127:\tlearn: 784018.4031776\ttest: 929341.6591525\tbest: 928629.1683939 (126)\ttotal: 123ms\tremaining: 840ms\n",
      "128:\tlearn: 781650.8545135\ttest: 928424.8349631\tbest: 928424.8349631 (128)\ttotal: 124ms\tremaining: 839ms\n",
      "129:\tlearn: 777851.4961711\ttest: 926769.7013484\tbest: 926769.7013484 (129)\ttotal: 125ms\tremaining: 839ms\n",
      "130:\tlearn: 773980.0865462\ttest: 924686.5221198\tbest: 924686.5221198 (130)\ttotal: 126ms\tremaining: 838ms\n",
      "131:\tlearn: 771289.0467347\ttest: 924391.9976417\tbest: 924391.9976417 (131)\ttotal: 127ms\tremaining: 838ms\n",
      "132:\tlearn: 770720.3399701\ttest: 924748.3162814\tbest: 924391.9976417 (131)\ttotal: 128ms\tremaining: 836ms\n",
      "133:\tlearn: 770166.3894200\ttest: 925368.1491104\tbest: 924391.9976417 (131)\ttotal: 129ms\tremaining: 834ms\n",
      "134:\tlearn: 769693.7047780\ttest: 925096.7331001\tbest: 924391.9976417 (131)\ttotal: 130ms\tremaining: 832ms\n",
      "135:\tlearn: 769174.3926122\ttest: 925725.3674240\tbest: 924391.9976417 (131)\ttotal: 131ms\tremaining: 830ms\n",
      "136:\tlearn: 768894.9698010\ttest: 926365.7349715\tbest: 924391.9976417 (131)\ttotal: 132ms\tremaining: 829ms\n",
      "137:\tlearn: 765037.8833683\ttest: 923197.7838210\tbest: 923197.7838210 (137)\ttotal: 133ms\tremaining: 828ms\n",
      "138:\tlearn: 763785.8352553\ttest: 923201.5336863\tbest: 923197.7838210 (137)\ttotal: 134ms\tremaining: 828ms\n",
      "139:\tlearn: 763315.3760803\ttest: 923571.1844648\tbest: 923197.7838210 (137)\ttotal: 134ms\tremaining: 826ms\n",
      "140:\tlearn: 760619.3648162\ttest: 921804.7293226\tbest: 921804.7293226 (140)\ttotal: 136ms\tremaining: 826ms\n",
      "141:\tlearn: 760162.1207496\ttest: 922405.0578131\tbest: 921804.7293226 (140)\ttotal: 136ms\tremaining: 825ms\n",
      "142:\tlearn: 757917.0054570\ttest: 920298.5816987\tbest: 920298.5816987 (142)\ttotal: 138ms\tremaining: 824ms\n",
      "143:\tlearn: 757496.0451104\ttest: 920889.5691493\tbest: 920298.5816987 (142)\ttotal: 138ms\tremaining: 822ms\n",
      "144:\tlearn: 757047.4723519\ttest: 921958.2028152\tbest: 920298.5816987 (142)\ttotal: 139ms\tremaining: 821ms\n",
      "145:\tlearn: 754242.2212917\ttest: 920733.9566631\tbest: 920298.5816987 (142)\ttotal: 140ms\tremaining: 820ms\n",
      "146:\tlearn: 750295.5771567\ttest: 918437.1066939\tbest: 918437.1066939 (146)\ttotal: 141ms\tremaining: 820ms\n",
      "147:\tlearn: 745403.2147042\ttest: 915550.6539821\tbest: 915550.6539821 (147)\ttotal: 142ms\tremaining: 819ms\n",
      "148:\tlearn: 742291.4047106\ttest: 915148.8136276\tbest: 915148.8136276 (148)\ttotal: 143ms\tremaining: 818ms\n",
      "149:\tlearn: 741921.1269090\ttest: 915685.2138357\tbest: 915148.8136276 (148)\ttotal: 144ms\tremaining: 816ms\n",
      "150:\tlearn: 739344.6423447\ttest: 914232.2259480\tbest: 914232.2259480 (150)\ttotal: 145ms\tremaining: 816ms\n",
      "151:\tlearn: 737859.5894294\ttest: 912995.5718215\tbest: 912995.5718215 (151)\ttotal: 146ms\tremaining: 815ms\n",
      "152:\tlearn: 737514.7692213\ttest: 913523.1753529\tbest: 912995.5718215 (151)\ttotal: 147ms\tremaining: 814ms\n",
      "153:\tlearn: 737181.6513924\ttest: 914049.7012544\tbest: 912995.5718215 (151)\ttotal: 148ms\tremaining: 812ms\n",
      "154:\tlearn: 736859.8433009\ttest: 914574.8761602\tbest: 912995.5718215 (151)\ttotal: 149ms\tremaining: 810ms\n",
      "155:\tlearn: 733123.0151049\ttest: 913494.1464249\tbest: 912995.5718215 (151)\ttotal: 150ms\tremaining: 810ms\n",
      "156:\tlearn: 730220.0489625\ttest: 912426.8531568\tbest: 912426.8531568 (156)\ttotal: 151ms\tremaining: 809ms\n",
      "157:\tlearn: 727966.1210136\ttest: 911340.4569165\tbest: 911340.4569165 (157)\ttotal: 152ms\tremaining: 809ms\n",
      "158:\tlearn: 725715.6125819\ttest: 912141.7245648\tbest: 911340.4569165 (157)\ttotal: 153ms\tremaining: 808ms\n",
      "159:\tlearn: 723673.5400910\ttest: 910555.8695135\tbest: 910555.8695135 (159)\ttotal: 154ms\tremaining: 808ms\n",
      "160:\tlearn: 721106.7904630\ttest: 909547.0269267\tbest: 909547.0269267 (160)\ttotal: 155ms\tremaining: 808ms\n",
      "161:\tlearn: 719652.7928500\ttest: 908038.2194323\tbest: 908038.2194323 (161)\ttotal: 156ms\tremaining: 807ms\n",
      "162:\tlearn: 717276.9028783\ttest: 907105.6979753\tbest: 907105.6979753 (162)\ttotal: 157ms\tremaining: 807ms\n",
      "163:\tlearn: 715291.6159697\ttest: 906560.2017982\tbest: 906560.2017982 (163)\ttotal: 158ms\tremaining: 807ms\n",
      "164:\tlearn: 713119.9241492\ttest: 905699.6417131\tbest: 905699.6417131 (164)\ttotal: 159ms\tremaining: 807ms\n",
      "165:\tlearn: 711096.9795017\ttest: 904896.9268905\tbest: 904896.9268905 (165)\ttotal: 160ms\tremaining: 806ms\n",
      "166:\tlearn: 710852.1918589\ttest: 905456.0363899\tbest: 904896.9268905 (165)\ttotal: 162ms\tremaining: 806ms\n",
      "167:\tlearn: 710615.7407310\ttest: 906012.0541865\tbest: 904896.9268905 (165)\ttotal: 163ms\tremaining: 805ms\n",
      "168:\tlearn: 710386.1703575\ttest: 906561.3444098\tbest: 904896.9268905 (165)\ttotal: 164ms\tremaining: 806ms\n",
      "169:\tlearn: 708816.4772881\ttest: 905429.5419507\tbest: 904896.9268905 (165)\ttotal: 165ms\tremaining: 806ms\n",
      "170:\tlearn: 706866.6523950\ttest: 904100.3487768\tbest: 904100.3487768 (170)\ttotal: 166ms\tremaining: 806ms\n",
      "171:\tlearn: 705346.3613866\ttest: 904371.8780802\tbest: 904100.3487768 (170)\ttotal: 167ms\tremaining: 805ms\n",
      "172:\tlearn: 705147.4451207\ttest: 904903.6638422\tbest: 904100.3487768 (170)\ttotal: 168ms\tremaining: 803ms\n",
      "173:\tlearn: 703580.1396735\ttest: 903782.0596635\tbest: 903782.0596635 (173)\ttotal: 169ms\tremaining: 802ms\n",
      "174:\tlearn: 703391.4875399\ttest: 904288.3872587\tbest: 903782.0596635 (173)\ttotal: 170ms\tremaining: 800ms\n",
      "175:\tlearn: 701806.3751311\ttest: 903083.7750182\tbest: 903083.7750182 (175)\ttotal: 171ms\tremaining: 799ms\n",
      "176:\tlearn: 701631.3212879\ttest: 903585.0599419\tbest: 903083.7750182 (175)\ttotal: 172ms\tremaining: 798ms\n",
      "177:\tlearn: 699041.5434082\ttest: 905177.0970456\tbest: 903083.7750182 (175)\ttotal: 173ms\tremaining: 797ms\n",
      "178:\tlearn: 698879.7276108\ttest: 905586.5593156\tbest: 903083.7750182 (175)\ttotal: 173ms\tremaining: 795ms\n",
      "179:\tlearn: 697513.5984414\ttest: 904561.9814599\tbest: 903083.7750182 (175)\ttotal: 174ms\tremaining: 794ms\n",
      "180:\tlearn: 695939.6730133\ttest: 903134.6505401\tbest: 903083.7750182 (175)\ttotal: 175ms\tremaining: 793ms\n",
      "181:\tlearn: 693650.0578401\ttest: 902411.8253825\tbest: 902411.8253825 (181)\ttotal: 176ms\tremaining: 792ms\n",
      "182:\tlearn: 691268.8730641\ttest: 904003.0991691\tbest: 902411.8253825 (181)\ttotal: 177ms\tremaining: 791ms\n",
      "183:\tlearn: 689079.4112123\ttest: 904548.9536142\tbest: 902411.8253825 (181)\ttotal: 178ms\tremaining: 791ms\n",
      "184:\tlearn: 686895.1559111\ttest: 903799.8322573\tbest: 902411.8253825 (181)\ttotal: 179ms\tremaining: 790ms\n",
      "185:\tlearn: 685161.5774532\ttest: 902561.8164836\tbest: 902411.8253825 (181)\ttotal: 180ms\tremaining: 789ms\n",
      "186:\tlearn: 685032.8036532\ttest: 902854.4038943\tbest: 902411.8253825 (181)\ttotal: 181ms\tremaining: 787ms\n",
      "187:\tlearn: 683762.4185169\ttest: 901402.8608571\tbest: 901402.8608571 (187)\ttotal: 182ms\tremaining: 786ms\n",
      "188:\tlearn: 681580.7138651\ttest: 902956.8449729\tbest: 901402.8608571 (187)\ttotal: 183ms\tremaining: 785ms\n",
      "189:\tlearn: 679956.0207036\ttest: 902691.7407056\tbest: 901402.8608571 (187)\ttotal: 184ms\tremaining: 784ms\n",
      "190:\tlearn: 679837.8819167\ttest: 902961.1150444\tbest: 901402.8608571 (187)\ttotal: 185ms\tremaining: 784ms\n",
      "191:\tlearn: 678349.4934011\ttest: 903535.9548807\tbest: 901402.8608571 (187)\ttotal: 186ms\tremaining: 783ms\n",
      "192:\tlearn: 676591.7766411\ttest: 904161.3027591\tbest: 901402.8608571 (187)\ttotal: 187ms\tremaining: 782ms\n",
      "193:\tlearn: 674851.2001541\ttest: 904865.8420448\tbest: 901402.8608571 (187)\ttotal: 188ms\tremaining: 782ms\n",
      "194:\tlearn: 674741.1015210\ttest: 905114.0712901\tbest: 901402.8608571 (187)\ttotal: 189ms\tremaining: 780ms\n",
      "195:\tlearn: 674635.0659404\ttest: 905361.5808162\tbest: 901402.8608571 (187)\ttotal: 190ms\tremaining: 779ms\n",
      "196:\tlearn: 674529.0485016\ttest: 905649.2938317\tbest: 901402.8608571 (187)\ttotal: 191ms\tremaining: 779ms\n",
      "197:\tlearn: 674430.4164688\ttest: 905894.8927766\tbest: 901402.8608571 (187)\ttotal: 192ms\tremaining: 778ms\n",
      "198:\tlearn: 672224.7428983\ttest: 904347.9635069\tbest: 901402.8608571 (187)\ttotal: 193ms\tremaining: 778ms\n",
      "199:\tlearn: 672129.5030810\ttest: 904591.0370437\tbest: 901402.8608571 (187)\ttotal: 194ms\tremaining: 777ms\n",
      "200:\tlearn: 672037.7750497\ttest: 904833.0327870\tbest: 901402.8608571 (187)\ttotal: 195ms\tremaining: 776ms\n",
      "201:\tlearn: 669603.2076423\ttest: 902967.8211091\tbest: 901402.8608571 (187)\ttotal: 196ms\tremaining: 775ms\n",
      "202:\tlearn: 668081.6583234\ttest: 901707.1452836\tbest: 901402.8608571 (187)\ttotal: 197ms\tremaining: 775ms\n",
      "203:\tlearn: 667992.8637461\ttest: 901948.7555196\tbest: 901402.8608571 (187)\ttotal: 198ms\tremaining: 774ms\n",
      "204:\tlearn: 667907.3514439\ttest: 902189.1151864\tbest: 901402.8608571 (187)\ttotal: 199ms\tremaining: 772ms\n",
      "205:\tlearn: 665675.3613556\ttest: 902023.9186215\tbest: 901402.8608571 (187)\ttotal: 200ms\tremaining: 771ms\n",
      "206:\tlearn: 663829.7401974\ttest: 901179.5433482\tbest: 901179.5433482 (206)\ttotal: 201ms\tremaining: 770ms\n",
      "207:\tlearn: 661577.5699070\ttest: 901499.7015758\tbest: 901179.5433482 (206)\ttotal: 202ms\tremaining: 770ms\n",
      "208:\tlearn: 659585.6756311\ttest: 901833.6995399\tbest: 901179.5433482 (206)\ttotal: 203ms\tremaining: 769ms\n",
      "209:\tlearn: 658150.7094877\ttest: 902537.4274898\tbest: 901179.5433482 (206)\ttotal: 204ms\tremaining: 768ms\n",
      "210:\tlearn: 658071.3789394\ttest: 902773.0255602\tbest: 901179.5433482 (206)\ttotal: 205ms\tremaining: 766ms\n",
      "211:\tlearn: 657031.9134505\ttest: 903381.5252594\tbest: 901179.5433482 (206)\ttotal: 206ms\tremaining: 766ms\n",
      "212:\tlearn: 656955.8094176\ttest: 903609.7108297\tbest: 901179.5433482 (206)\ttotal: 207ms\tremaining: 764ms\n",
      "213:\tlearn: 656882.3126807\ttest: 903836.3300379\tbest: 901179.5433482 (206)\ttotal: 208ms\tremaining: 763ms\n",
      "214:\tlearn: 655286.2767309\ttest: 902633.3823095\tbest: 901179.5433482 (206)\ttotal: 209ms\tremaining: 762ms\n",
      "215:\tlearn: 653811.8041416\ttest: 903154.3245377\tbest: 901179.5433482 (206)\ttotal: 210ms\tremaining: 761ms\n",
      "216:\tlearn: 652188.1359982\ttest: 901345.8838300\tbest: 901179.5433482 (206)\ttotal: 210ms\tremaining: 760ms\n",
      "217:\tlearn: 650197.9433140\ttest: 901246.2043002\tbest: 901179.5433482 (206)\ttotal: 211ms\tremaining: 758ms\n",
      "218:\tlearn: 648842.4540389\ttest: 901751.4565650\tbest: 901179.5433482 (206)\ttotal: 212ms\tremaining: 757ms\n",
      "219:\tlearn: 648722.8453323\ttest: 901854.1812250\tbest: 901179.5433482 (206)\ttotal: 213ms\tremaining: 756ms\n",
      "220:\tlearn: 646238.7751082\ttest: 901221.3295303\tbest: 901179.5433482 (206)\ttotal: 214ms\tremaining: 755ms\n",
      "221:\tlearn: 645080.6719607\ttest: 900354.9715373\tbest: 900354.9715373 (221)\ttotal: 215ms\tremaining: 755ms\n",
      "222:\tlearn: 644138.0303623\ttest: 899908.2906186\tbest: 899908.2906186 (222)\ttotal: 216ms\tremaining: 754ms\n",
      "223:\tlearn: 643977.2297948\ttest: 899838.2168586\tbest: 899838.2168586 (223)\ttotal: 217ms\tremaining: 753ms\n",
      "224:\tlearn: 642160.2248208\ttest: 899759.1795199\tbest: 899759.1795199 (224)\ttotal: 218ms\tremaining: 752ms\n",
      "225:\tlearn: 642009.1951300\ttest: 899688.6414443\tbest: 899688.6414443 (225)\ttotal: 219ms\tremaining: 750ms\n",
      "226:\tlearn: 640592.0040388\ttest: 899078.9940987\tbest: 899078.9940987 (226)\ttotal: 220ms\tremaining: 750ms\n",
      "227:\tlearn: 640445.6285010\ttest: 899008.0709958\tbest: 899008.0709958 (227)\ttotal: 221ms\tremaining: 749ms\n",
      "228:\tlearn: 638764.0802850\ttest: 898925.2768065\tbest: 898925.2768065 (228)\ttotal: 222ms\tremaining: 749ms\n",
      "229:\tlearn: 637933.8769415\ttest: 898396.9878263\tbest: 898396.9878263 (229)\ttotal: 223ms\tremaining: 748ms\n",
      "230:\tlearn: 636472.5474897\ttest: 897986.9181307\tbest: 897986.9181307 (230)\ttotal: 224ms\tremaining: 747ms\n",
      "231:\tlearn: 635274.9063985\ttest: 897455.7753092\tbest: 897455.7753092 (231)\ttotal: 226ms\tremaining: 747ms\n",
      "232:\tlearn: 633965.5791195\ttest: 895872.4552497\tbest: 895872.4552497 (232)\ttotal: 227ms\tremaining: 746ms\n",
      "233:\tlearn: 633866.0005594\ttest: 895953.2482899\tbest: 895872.4552497 (232)\ttotal: 227ms\tremaining: 744ms\n",
      "234:\tlearn: 631971.5187176\ttest: 896166.5866987\tbest: 895872.4552497 (232)\ttotal: 228ms\tremaining: 743ms\n",
      "235:\tlearn: 631875.3408951\ttest: 896249.8871705\tbest: 895872.4552497 (232)\ttotal: 229ms\tremaining: 742ms\n",
      "236:\tlearn: 630143.0383502\ttest: 894746.4064996\tbest: 894746.4064996 (236)\ttotal: 230ms\tremaining: 741ms\n",
      "237:\tlearn: 628798.0200750\ttest: 894355.4884457\tbest: 894355.4884457 (237)\ttotal: 231ms\tremaining: 740ms\n",
      "238:\tlearn: 627539.5876195\ttest: 893424.8961416\tbest: 893424.8961416 (238)\ttotal: 232ms\tremaining: 739ms\n",
      "239:\tlearn: 626145.5099384\ttest: 893891.4118581\tbest: 893424.8961416 (238)\ttotal: 233ms\tremaining: 739ms\n",
      "240:\tlearn: 625099.1824709\ttest: 894061.0532494\tbest: 893424.8961416 (238)\ttotal: 234ms\tremaining: 738ms\n",
      "241:\tlearn: 623812.6035414\ttest: 893218.1606246\tbest: 893218.1606246 (241)\ttotal: 235ms\tremaining: 737ms\n",
      "242:\tlearn: 621671.9800872\ttest: 892044.8777942\tbest: 892044.8777942 (242)\ttotal: 236ms\tremaining: 736ms\n",
      "243:\tlearn: 619974.2093842\ttest: 892294.0232006\tbest: 892044.8777942 (242)\ttotal: 237ms\tremaining: 735ms\n",
      "244:\tlearn: 619078.6122430\ttest: 891377.0787498\tbest: 891377.0787498 (244)\ttotal: 238ms\tremaining: 734ms\n",
      "245:\tlearn: 618922.4368738\ttest: 891127.4260558\tbest: 891127.4260558 (245)\ttotal: 239ms\tremaining: 733ms\n",
      "246:\tlearn: 617409.9207420\ttest: 891276.3148198\tbest: 891127.4260558 (245)\ttotal: 240ms\tremaining: 732ms\n",
      "247:\tlearn: 614256.5132417\ttest: 890406.5483838\tbest: 890406.5483838 (247)\ttotal: 241ms\tremaining: 731ms\n",
      "248:\tlearn: 613587.3792706\ttest: 890170.4428334\tbest: 890170.4428334 (248)\ttotal: 242ms\tremaining: 730ms\n",
      "249:\tlearn: 612580.8368603\ttest: 890559.0294186\tbest: 890170.4428334 (248)\ttotal: 243ms\tremaining: 729ms\n",
      "250:\tlearn: 611913.6959594\ttest: 890008.6961772\tbest: 890008.6961772 (250)\ttotal: 244ms\tremaining: 728ms\n",
      "251:\tlearn: 609212.5230553\ttest: 888328.0219636\tbest: 888328.0219636 (251)\ttotal: 245ms\tremaining: 727ms\n",
      "252:\tlearn: 607857.7400946\ttest: 888815.4651823\tbest: 888328.0219636 (251)\ttotal: 246ms\tremaining: 726ms\n",
      "253:\tlearn: 606633.3539884\ttest: 890261.0386675\tbest: 888328.0219636 (251)\ttotal: 247ms\tremaining: 725ms\n",
      "254:\tlearn: 605229.3538358\ttest: 890389.5409601\tbest: 888328.0219636 (251)\ttotal: 248ms\tremaining: 724ms\n",
      "255:\tlearn: 603147.5388830\ttest: 890533.9722558\tbest: 888328.0219636 (251)\ttotal: 249ms\tremaining: 723ms\n",
      "256:\tlearn: 602163.5420270\ttest: 888789.5928795\tbest: 888328.0219636 (251)\ttotal: 250ms\tremaining: 722ms\n",
      "257:\tlearn: 600990.6772292\ttest: 886984.8250986\tbest: 886984.8250986 (257)\ttotal: 251ms\tremaining: 721ms\n",
      "258:\tlearn: 598630.8627458\ttest: 885742.9443980\tbest: 885742.9443980 (258)\ttotal: 252ms\tremaining: 721ms\n",
      "259:\tlearn: 597793.4704524\ttest: 885653.1206548\tbest: 885653.1206548 (259)\ttotal: 253ms\tremaining: 720ms\n",
      "260:\tlearn: 596468.1291252\ttest: 885945.8465760\tbest: 885653.1206548 (259)\ttotal: 254ms\tremaining: 719ms\n",
      "261:\tlearn: 596333.3965185\ttest: 885710.6811713\tbest: 885653.1206548 (259)\ttotal: 255ms\tremaining: 718ms\n",
      "262:\tlearn: 595450.3953883\ttest: 885297.1708760\tbest: 885297.1708760 (262)\ttotal: 256ms\tremaining: 717ms\n",
      "263:\tlearn: 595198.5082926\ttest: 885238.2418877\tbest: 885238.2418877 (263)\ttotal: 257ms\tremaining: 716ms\n",
      "264:\tlearn: 594958.7615369\ttest: 885181.6144467\tbest: 885181.6144467 (264)\ttotal: 258ms\tremaining: 715ms\n",
      "265:\tlearn: 593870.4033318\ttest: 883405.8745396\tbest: 883405.8745396 (265)\ttotal: 259ms\tremaining: 713ms\n",
      "266:\tlearn: 592041.6644109\ttest: 885749.4727219\tbest: 883405.8745396 (265)\ttotal: 260ms\tremaining: 712ms\n",
      "267:\tlearn: 589922.3886809\ttest: 884658.2357343\tbest: 883405.8745396 (265)\ttotal: 260ms\tremaining: 711ms\n",
      "268:\tlearn: 589634.5612020\ttest: 884542.7319907\tbest: 883405.8745396 (265)\ttotal: 261ms\tremaining: 710ms\n",
      "269:\tlearn: 588680.9511097\ttest: 883668.5708099\tbest: 883405.8745396 (265)\ttotal: 262ms\tremaining: 709ms\n",
      "270:\tlearn: 586584.3672249\ttest: 884247.6118692\tbest: 883405.8745396 (265)\ttotal: 263ms\tremaining: 709ms\n",
      "271:\tlearn: 585262.0941118\ttest: 884390.4288972\tbest: 883405.8745396 (265)\ttotal: 264ms\tremaining: 708ms\n",
      "272:\tlearn: 584422.0775847\ttest: 883965.7894209\tbest: 883405.8745396 (265)\ttotal: 265ms\tremaining: 707ms\n",
      "273:\tlearn: 584221.8951845\ttest: 883926.8869236\tbest: 883405.8745396 (265)\ttotal: 266ms\tremaining: 706ms\n",
      "274:\tlearn: 583530.6961529\ttest: 884944.2385919\tbest: 883405.8745396 (265)\ttotal: 267ms\tremaining: 705ms\n",
      "275:\tlearn: 582183.7375479\ttest: 884490.5947137\tbest: 883405.8745396 (265)\ttotal: 268ms\tremaining: 704ms\n",
      "276:\tlearn: 581723.1437015\ttest: 884402.1993628\tbest: 883405.8745396 (265)\ttotal: 269ms\tremaining: 703ms\n",
      "277:\tlearn: 581531.2206337\ttest: 884370.9219703\tbest: 883405.8745396 (265)\ttotal: 270ms\tremaining: 702ms\n",
      "278:\tlearn: 580031.5105318\ttest: 883698.3019048\tbest: 883405.8745396 (265)\ttotal: 271ms\tremaining: 701ms\n",
      "279:\tlearn: 578975.5393487\ttest: 882715.8449018\tbest: 882715.8449018 (279)\ttotal: 272ms\tremaining: 700ms\n",
      "280:\tlearn: 578791.2546690\ttest: 882689.7031050\tbest: 882689.7031050 (280)\ttotal: 273ms\tremaining: 699ms\n",
      "281:\tlearn: 578196.5165085\ttest: 882317.3760169\tbest: 882317.3760169 (281)\ttotal: 274ms\tremaining: 698ms\n",
      "282:\tlearn: 578020.9324663\ttest: 882290.8855438\tbest: 882290.8855438 (282)\ttotal: 275ms\tremaining: 697ms\n",
      "283:\tlearn: 577263.2181446\ttest: 882457.2360938\tbest: 882290.8855438 (282)\ttotal: 276ms\tremaining: 696ms\n",
      "284:\tlearn: 576626.8208208\ttest: 883146.9559666\tbest: 882290.8855438 (282)\ttotal: 277ms\tremaining: 695ms\n",
      "285:\tlearn: 575234.5140077\ttest: 882511.5391077\tbest: 882290.8855438 (282)\ttotal: 278ms\tremaining: 694ms\n",
      "286:\tlearn: 574089.4073850\ttest: 882194.0356478\tbest: 882194.0356478 (286)\ttotal: 279ms\tremaining: 693ms\n",
      "287:\tlearn: 573544.1320964\ttest: 881948.1461465\tbest: 881948.1461465 (287)\ttotal: 280ms\tremaining: 692ms\n",
      "288:\tlearn: 573341.5422499\ttest: 881762.1865628\tbest: 881762.1865628 (288)\ttotal: 281ms\tremaining: 691ms\n",
      "289:\tlearn: 573181.6029507\ttest: 881742.6013380\tbest: 881742.6013380 (289)\ttotal: 282ms\tremaining: 690ms\n",
      "290:\tlearn: 573029.2112685\ttest: 881723.4230999\tbest: 881723.4230999 (290)\ttotal: 283ms\tremaining: 689ms\n",
      "291:\tlearn: 572618.5669575\ttest: 881645.0418461\tbest: 881645.0418461 (291)\ttotal: 284ms\tremaining: 688ms\n",
      "292:\tlearn: 572225.6163619\ttest: 880364.0771662\tbest: 880364.0771662 (292)\ttotal: 285ms\tremaining: 687ms\n",
      "293:\tlearn: 572128.1653964\ttest: 880207.7025049\tbest: 880207.7025049 (293)\ttotal: 285ms\tremaining: 685ms\n",
      "294:\tlearn: 572035.0841778\ttest: 880056.6288980\tbest: 880056.6288980 (294)\ttotal: 286ms\tremaining: 684ms\n",
      "295:\tlearn: 571077.3433608\ttest: 879948.1771754\tbest: 879948.1771754 (295)\ttotal: 287ms\tremaining: 683ms\n",
      "296:\tlearn: 570569.0178580\ttest: 879440.7923025\tbest: 879440.7923025 (296)\ttotal: 288ms\tremaining: 682ms\n",
      "297:\tlearn: 570153.0005966\ttest: 879354.0044271\tbest: 879354.0044271 (297)\ttotal: 289ms\tremaining: 681ms\n",
      "298:\tlearn: 569294.0787062\ttest: 879774.8242214\tbest: 879354.0044271 (297)\ttotal: 290ms\tremaining: 680ms\n",
      "299:\tlearn: 568860.5186432\ttest: 879976.0056180\tbest: 879354.0044271 (297)\ttotal: 291ms\tremaining: 679ms\n",
      "300:\tlearn: 568773.5119713\ttest: 879839.7800123\tbest: 879354.0044271 (297)\ttotal: 292ms\tremaining: 678ms\n",
      "301:\tlearn: 568325.9194838\ttest: 880398.0177330\tbest: 879354.0044271 (297)\ttotal: 293ms\tremaining: 677ms\n",
      "302:\tlearn: 567048.9414645\ttest: 879815.7649648\tbest: 879354.0044271 (297)\ttotal: 294ms\tremaining: 676ms\n",
      "303:\tlearn: 566608.6883373\ttest: 879584.8924798\tbest: 879354.0044271 (297)\ttotal: 295ms\tremaining: 675ms\n",
      "304:\tlearn: 566527.8684130\ttest: 879449.1719867\tbest: 879354.0044271 (297)\ttotal: 296ms\tremaining: 674ms\n",
      "305:\tlearn: 566368.4424856\ttest: 879292.7205524\tbest: 879292.7205524 (305)\ttotal: 297ms\tremaining: 672ms\n",
      "306:\tlearn: 565690.5478544\ttest: 878640.9330880\tbest: 878640.9330880 (306)\ttotal: 298ms\tremaining: 672ms\n",
      "307:\tlearn: 565615.9665192\ttest: 878513.1325763\tbest: 878513.1325763 (307)\ttotal: 298ms\tremaining: 671ms\n",
      "308:\tlearn: 565590.1578032\ttest: 878636.2916241\tbest: 878513.1325763 (307)\ttotal: 299ms\tremaining: 669ms\n",
      "309:\tlearn: 565565.2117116\ttest: 878759.0973322\tbest: 878513.1325763 (307)\ttotal: 300ms\tremaining: 668ms\n",
      "310:\tlearn: 565406.6782151\ttest: 878695.1736869\tbest: 878513.1325763 (307)\ttotal: 301ms\tremaining: 667ms\n",
      "311:\tlearn: 565383.2899750\ttest: 878823.4272351\tbest: 878513.1325763 (307)\ttotal: 302ms\tremaining: 666ms\n",
      "312:\tlearn: 564374.6320955\ttest: 879108.2572038\tbest: 878513.1325763 (307)\ttotal: 303ms\tremaining: 665ms\n",
      "313:\tlearn: 563304.8776717\ttest: 879600.8506087\tbest: 878513.1325763 (307)\ttotal: 304ms\tremaining: 664ms\n",
      "314:\tlearn: 562470.2281349\ttest: 880270.9008307\tbest: 878513.1325763 (307)\ttotal: 305ms\tremaining: 662ms\n",
      "315:\tlearn: 562071.9124866\ttest: 879938.1255051\tbest: 878513.1325763 (307)\ttotal: 306ms\tremaining: 661ms\n",
      "316:\tlearn: 561310.8924868\ttest: 880368.4979507\tbest: 878513.1325763 (307)\ttotal: 307ms\tremaining: 661ms\n",
      "317:\tlearn: 560907.2342562\ttest: 880880.8984104\tbest: 878513.1325763 (307)\ttotal: 308ms\tremaining: 660ms\n",
      "318:\tlearn: 560070.4076749\ttest: 880411.9727040\tbest: 878513.1325763 (307)\ttotal: 309ms\tremaining: 659ms\n",
      "319:\tlearn: 559496.8935677\ttest: 879836.2160752\tbest: 878513.1325763 (307)\ttotal: 310ms\tremaining: 658ms\n",
      "320:\tlearn: 559472.3727734\ttest: 879990.4048264\tbest: 878513.1325763 (307)\ttotal: 310ms\tremaining: 657ms\n",
      "321:\tlearn: 559448.6937131\ttest: 880142.8010370\tbest: 878513.1325763 (307)\ttotal: 311ms\tremaining: 655ms\n",
      "322:\tlearn: 558089.8310799\ttest: 879862.2973422\tbest: 878513.1325763 (307)\ttotal: 312ms\tremaining: 655ms\n",
      "323:\tlearn: 557574.1524024\ttest: 880855.2257726\tbest: 878513.1325763 (307)\ttotal: 313ms\tremaining: 654ms\n",
      "324:\tlearn: 557550.7475181\ttest: 881026.5320548\tbest: 878513.1325763 (307)\ttotal: 314ms\tremaining: 652ms\n",
      "325:\tlearn: 557528.1460941\ttest: 881195.7090064\tbest: 878513.1325763 (307)\ttotal: 315ms\tremaining: 651ms\n",
      "326:\tlearn: 557506.3205793\ttest: 881362.7641912\tbest: 878513.1325763 (307)\ttotal: 316ms\tremaining: 650ms\n",
      "327:\tlearn: 556767.9995331\ttest: 881700.6080244\tbest: 878513.1325763 (307)\ttotal: 317ms\tremaining: 649ms\n",
      "328:\tlearn: 554767.3952536\ttest: 880999.9802168\tbest: 878513.1325763 (307)\ttotal: 318ms\tremaining: 648ms\n",
      "329:\tlearn: 552955.6202993\ttest: 880049.9130293\tbest: 878513.1325763 (307)\ttotal: 319ms\tremaining: 647ms\n",
      "330:\tlearn: 551465.0498161\ttest: 880230.9435103\tbest: 878513.1325763 (307)\ttotal: 320ms\tremaining: 646ms\n",
      "331:\tlearn: 550973.3358871\ttest: 881098.9774480\tbest: 878513.1325763 (307)\ttotal: 321ms\tremaining: 645ms\n",
      "332:\tlearn: 550022.9554351\ttest: 881160.0232998\tbest: 878513.1325763 (307)\ttotal: 322ms\tremaining: 644ms\n",
      "333:\tlearn: 548874.1051708\ttest: 880827.7475478\tbest: 878513.1325763 (307)\ttotal: 323ms\tremaining: 643ms\n",
      "334:\tlearn: 548407.6926001\ttest: 880710.0053288\tbest: 878513.1325763 (307)\ttotal: 324ms\tremaining: 643ms\n",
      "335:\tlearn: 548387.1241985\ttest: 880835.2958331\tbest: 878513.1325763 (307)\ttotal: 325ms\tremaining: 641ms\n",
      "336:\tlearn: 548367.0339172\ttest: 880988.1898838\tbest: 878513.1325763 (307)\ttotal: 325ms\tremaining: 640ms\n",
      "337:\tlearn: 547420.2066202\ttest: 881300.0209705\tbest: 878513.1325763 (307)\ttotal: 326ms\tremaining: 639ms\n",
      "338:\tlearn: 547400.3769492\ttest: 881448.1740472\tbest: 878513.1325763 (307)\ttotal: 327ms\tremaining: 638ms\n",
      "339:\tlearn: 547381.2281130\ttest: 881594.4246349\tbest: 878513.1325763 (307)\ttotal: 328ms\tremaining: 637ms\n",
      "340:\tlearn: 545624.4448266\ttest: 880985.3161781\tbest: 878513.1325763 (307)\ttotal: 329ms\tremaining: 636ms\n",
      "341:\tlearn: 544057.2654035\ttest: 880175.5283038\tbest: 878513.1325763 (307)\ttotal: 330ms\tremaining: 635ms\n",
      "342:\tlearn: 542677.2781088\ttest: 879296.3893809\tbest: 878513.1325763 (307)\ttotal: 331ms\tremaining: 634ms\n",
      "343:\tlearn: 542241.8421953\ttest: 879495.5666013\tbest: 878513.1325763 (307)\ttotal: 332ms\tremaining: 633ms\n",
      "344:\tlearn: 541387.1491164\ttest: 879783.1794332\tbest: 878513.1325763 (307)\ttotal: 333ms\tremaining: 632ms\n",
      "345:\tlearn: 540953.0217662\ttest: 880464.8331942\tbest: 878513.1325763 (307)\ttotal: 334ms\tremaining: 631ms\n",
      "346:\tlearn: 540933.7028367\ttest: 880606.6350241\tbest: 878513.1325763 (307)\ttotal: 335ms\tremaining: 630ms\n",
      "347:\tlearn: 540116.1611401\ttest: 880749.4865515\tbest: 878513.1325763 (307)\ttotal: 336ms\tremaining: 629ms\n",
      "348:\tlearn: 538790.0512845\ttest: 880392.6659660\tbest: 878513.1325763 (307)\ttotal: 337ms\tremaining: 628ms\n",
      "349:\tlearn: 538665.6385979\ttest: 880304.9562353\tbest: 878513.1325763 (307)\ttotal: 338ms\tremaining: 628ms\n",
      "350:\tlearn: 538646.6949429\ttest: 880442.5927529\tbest: 878513.1325763 (307)\ttotal: 339ms\tremaining: 626ms\n",
      "351:\tlearn: 538529.2041261\ttest: 880359.0951193\tbest: 878513.1325763 (307)\ttotal: 340ms\tremaining: 625ms\n",
      "352:\tlearn: 538165.3693002\ttest: 880315.3488972\tbest: 878513.1325763 (307)\ttotal: 341ms\tremaining: 624ms\n",
      "353:\tlearn: 537307.4383181\ttest: 880263.4354533\tbest: 878513.1325763 (307)\ttotal: 342ms\tremaining: 624ms\n",
      "354:\tlearn: 537289.4305075\ttest: 880399.8626223\tbest: 878513.1325763 (307)\ttotal: 343ms\tremaining: 623ms\n",
      "355:\tlearn: 537272.0410300\ttest: 880534.5452826\tbest: 878513.1325763 (307)\ttotal: 344ms\tremaining: 622ms\n",
      "356:\tlearn: 537255.2486726\ttest: 880667.4920702\tbest: 878513.1325763 (307)\ttotal: 344ms\tremaining: 620ms\n",
      "357:\tlearn: 536466.1906996\ttest: 880496.4146089\tbest: 878513.1325763 (307)\ttotal: 345ms\tremaining: 619ms\n",
      "358:\tlearn: 536355.7913390\ttest: 880424.1751059\tbest: 878513.1325763 (307)\ttotal: 346ms\tremaining: 618ms\n",
      "359:\tlearn: 536339.9997311\ttest: 880559.1936735\tbest: 878513.1325763 (307)\ttotal: 347ms\tremaining: 617ms\n",
      "360:\tlearn: 535740.5596247\ttest: 880270.7538681\tbest: 878513.1325763 (307)\ttotal: 348ms\tremaining: 616ms\n",
      "361:\tlearn: 535392.7924731\ttest: 880158.1291662\tbest: 878513.1325763 (307)\ttotal: 349ms\tremaining: 615ms\n",
      "362:\tlearn: 534394.5005182\ttest: 879939.9762969\tbest: 878513.1325763 (307)\ttotal: 350ms\tremaining: 614ms\n",
      "363:\tlearn: 533720.7305057\ttest: 880443.1825081\tbest: 878513.1325763 (307)\ttotal: 351ms\tremaining: 614ms\n",
      "364:\tlearn: 533109.6083329\ttest: 880807.3830035\tbest: 878513.1325763 (307)\ttotal: 352ms\tremaining: 613ms\n",
      "365:\tlearn: 532656.0667518\ttest: 880991.5814877\tbest: 878513.1325763 (307)\ttotal: 353ms\tremaining: 611ms\n",
      "366:\tlearn: 532235.3975290\ttest: 881723.6893372\tbest: 878513.1325763 (307)\ttotal: 354ms\tremaining: 610ms\n",
      "367:\tlearn: 531354.6868500\ttest: 882031.6430176\tbest: 878513.1325763 (307)\ttotal: 355ms\tremaining: 609ms\n",
      "368:\tlearn: 530847.7062654\ttest: 882011.3695207\tbest: 878513.1325763 (307)\ttotal: 356ms\tremaining: 608ms\n",
      "369:\tlearn: 529468.3432245\ttest: 881314.1391987\tbest: 878513.1325763 (307)\ttotal: 357ms\tremaining: 607ms\n",
      "370:\tlearn: 528693.3917667\ttest: 881029.5428497\tbest: 878513.1325763 (307)\ttotal: 358ms\tremaining: 606ms\n",
      "371:\tlearn: 528273.7327347\ttest: 881195.0919989\tbest: 878513.1325763 (307)\ttotal: 359ms\tremaining: 605ms\n",
      "372:\tlearn: 527884.3622852\ttest: 881523.4345807\tbest: 878513.1325763 (307)\ttotal: 359ms\tremaining: 604ms\n",
      "373:\tlearn: 526664.1878492\ttest: 881234.5139012\tbest: 878513.1325763 (307)\ttotal: 360ms\tremaining: 603ms\n",
      "374:\tlearn: 526095.8160122\ttest: 881352.4707646\tbest: 878513.1325763 (307)\ttotal: 361ms\tremaining: 602ms\n",
      "375:\tlearn: 525740.8021533\ttest: 881683.7998546\tbest: 878513.1325763 (307)\ttotal: 362ms\tremaining: 601ms\n",
      "376:\tlearn: 525469.2948267\ttest: 882125.1079829\tbest: 878513.1325763 (307)\ttotal: 363ms\tremaining: 601ms\n",
      "377:\tlearn: 525074.9851608\ttest: 882411.4329117\tbest: 878513.1325763 (307)\ttotal: 364ms\tremaining: 600ms\n",
      "378:\tlearn: 524754.1702329\ttest: 882804.5366761\tbest: 878513.1325763 (307)\ttotal: 365ms\tremaining: 599ms\n",
      "379:\tlearn: 524318.9854075\ttest: 882559.4699158\tbest: 878513.1325763 (307)\ttotal: 366ms\tremaining: 598ms\n",
      "380:\tlearn: 524303.7524056\ttest: 882715.8995760\tbest: 878513.1325763 (307)\ttotal: 367ms\tremaining: 597ms\n",
      "381:\tlearn: 523952.9769690\ttest: 881220.8179325\tbest: 878513.1325763 (307)\ttotal: 368ms\tremaining: 596ms\n",
      "382:\tlearn: 523938.2664955\ttest: 881375.7259787\tbest: 878513.1325763 (307)\ttotal: 369ms\tremaining: 595ms\n",
      "383:\tlearn: 523458.2128798\ttest: 881402.6881613\tbest: 878513.1325763 (307)\ttotal: 370ms\tremaining: 594ms\n",
      "384:\tlearn: 523444.4722683\ttest: 881545.8131471\tbest: 878513.1325763 (307)\ttotal: 371ms\tremaining: 593ms\n",
      "385:\tlearn: 523431.2036604\ttest: 881686.9188583\tbest: 878513.1325763 (307)\ttotal: 372ms\tremaining: 592ms\n",
      "386:\tlearn: 522715.5851847\ttest: 882142.9811277\tbest: 878513.1325763 (307)\ttotal: 373ms\tremaining: 591ms\n",
      "387:\tlearn: 522280.8724203\ttest: 881480.9571874\tbest: 878513.1325763 (307)\ttotal: 374ms\tremaining: 590ms\n",
      "388:\tlearn: 522268.1310833\ttest: 881604.3895824\tbest: 878513.1325763 (307)\ttotal: 375ms\tremaining: 589ms\n",
      "389:\tlearn: 522032.9869074\ttest: 881355.7899877\tbest: 878513.1325763 (307)\ttotal: 376ms\tremaining: 589ms\n",
      "390:\tlearn: 521776.6221942\ttest: 880947.0865729\tbest: 878513.1325763 (307)\ttotal: 377ms\tremaining: 588ms\n",
      "391:\tlearn: 521764.4527164\ttest: 881064.9665421\tbest: 878513.1325763 (307)\ttotal: 378ms\tremaining: 587ms\n",
      "392:\tlearn: 520627.5083355\ttest: 880310.9082820\tbest: 878513.1325763 (307)\ttotal: 379ms\tremaining: 586ms\n",
      "393:\tlearn: 519963.5741716\ttest: 879822.7658713\tbest: 878513.1325763 (307)\ttotal: 380ms\tremaining: 585ms\n",
      "394:\tlearn: 519951.4223118\ttest: 879940.5237113\tbest: 878513.1325763 (307)\ttotal: 381ms\tremaining: 584ms\n",
      "395:\tlearn: 519793.5845086\ttest: 879935.8366859\tbest: 878513.1325763 (307)\ttotal: 382ms\tremaining: 583ms\n",
      "396:\tlearn: 518725.1649086\ttest: 879235.3601497\tbest: 878513.1325763 (307)\ttotal: 383ms\tremaining: 582ms\n",
      "397:\tlearn: 518058.0153794\ttest: 879378.1026043\tbest: 878513.1325763 (307)\ttotal: 384ms\tremaining: 581ms\n",
      "398:\tlearn: 517393.2751969\ttest: 879140.3057072\tbest: 878513.1325763 (307)\ttotal: 385ms\tremaining: 580ms\n",
      "399:\tlearn: 517248.7031583\ttest: 879395.0883781\tbest: 878513.1325763 (307)\ttotal: 386ms\tremaining: 579ms\n",
      "400:\tlearn: 516531.6138074\ttest: 879824.7021883\tbest: 878513.1325763 (307)\ttotal: 387ms\tremaining: 578ms\n",
      "401:\tlearn: 516519.4079080\ttest: 879925.2714160\tbest: 878513.1325763 (307)\ttotal: 388ms\tremaining: 577ms\n",
      "402:\tlearn: 515491.1057397\ttest: 880167.4004164\tbest: 878513.1325763 (307)\ttotal: 389ms\tremaining: 576ms\n",
      "403:\tlearn: 515478.4235531\ttest: 880266.3008875\tbest: 878513.1325763 (307)\ttotal: 390ms\tremaining: 575ms\n",
      "404:\tlearn: 515466.1769490\ttest: 880363.9041219\tbest: 878513.1325763 (307)\ttotal: 391ms\tremaining: 574ms\n",
      "405:\tlearn: 515454.3509757\ttest: 880460.2181448\tbest: 878513.1325763 (307)\ttotal: 391ms\tremaining: 573ms\n",
      "406:\tlearn: 515311.8096165\ttest: 880459.5925107\tbest: 878513.1325763 (307)\ttotal: 392ms\tremaining: 572ms\n",
      "407:\tlearn: 515300.8394089\ttest: 880547.6278040\tbest: 878513.1325763 (307)\ttotal: 393ms\tremaining: 571ms\n",
      "408:\tlearn: 514963.6399025\ttest: 880779.2656564\tbest: 878513.1325763 (307)\ttotal: 394ms\tremaining: 570ms\n",
      "409:\tlearn: 514583.7983956\ttest: 880580.6127740\tbest: 878513.1325763 (307)\ttotal: 395ms\tremaining: 569ms\n",
      "410:\tlearn: 514573.0507999\ttest: 880665.8423168\tbest: 878513.1325763 (307)\ttotal: 396ms\tremaining: 567ms\n",
      "411:\tlearn: 514440.8276832\ttest: 880915.0244074\tbest: 878513.1325763 (307)\ttotal: 397ms\tremaining: 566ms\n",
      "412:\tlearn: 513916.2263223\ttest: 881371.4402558\tbest: 878513.1325763 (307)\ttotal: 398ms\tremaining: 565ms\n",
      "413:\tlearn: 513355.0753066\ttest: 881026.7431528\tbest: 878513.1325763 (307)\ttotal: 399ms\tremaining: 564ms\n",
      "414:\tlearn: 513344.6245985\ttest: 881126.2031303\tbest: 878513.1325763 (307)\ttotal: 400ms\tremaining: 563ms\n",
      "415:\tlearn: 513334.5328854\ttest: 881224.2808257\tbest: 878513.1325763 (307)\ttotal: 400ms\tremaining: 562ms\n",
      "416:\tlearn: 513324.7878398\ttest: 881320.9883548\tbest: 878513.1325763 (307)\ttotal: 401ms\tremaining: 561ms\n",
      "417:\tlearn: 513173.9021757\ttest: 881358.0638301\tbest: 878513.1325763 (307)\ttotal: 402ms\tremaining: 560ms\n",
      "418:\tlearn: 512748.3461689\ttest: 881389.1620175\tbest: 878513.1325763 (307)\ttotal: 403ms\tremaining: 559ms\n",
      "419:\tlearn: 511670.0678329\ttest: 881155.5028798\tbest: 878513.1325763 (307)\ttotal: 404ms\tremaining: 558ms\n",
      "420:\tlearn: 511542.6340408\ttest: 881154.9892963\tbest: 878513.1325763 (307)\ttotal: 405ms\tremaining: 557ms\n",
      "421:\tlearn: 511533.3011104\ttest: 881252.9398874\tbest: 878513.1325763 (307)\ttotal: 406ms\tremaining: 556ms\n",
      "422:\tlearn: 511411.7575263\ttest: 881490.6640615\tbest: 878513.1325763 (307)\ttotal: 407ms\tremaining: 555ms\n",
      "423:\tlearn: 511402.9028866\ttest: 881592.6835095\tbest: 878513.1325763 (307)\ttotal: 408ms\tremaining: 554ms\n",
      "424:\tlearn: 511289.2407656\ttest: 881821.8303284\tbest: 878513.1325763 (307)\ttotal: 409ms\tremaining: 553ms\n",
      "425:\tlearn: 510899.1867422\ttest: 881699.0203279\tbest: 878513.1325763 (307)\ttotal: 410ms\tremaining: 552ms\n",
      "426:\tlearn: 510890.7072349\ttest: 881803.7304283\tbest: 878513.1325763 (307)\ttotal: 411ms\tremaining: 551ms\n",
      "427:\tlearn: 510354.5193819\ttest: 882028.5127314\tbest: 878513.1325763 (307)\ttotal: 412ms\tremaining: 550ms\n",
      "428:\tlearn: 509230.3342346\ttest: 881628.8849469\tbest: 878513.1325763 (307)\ttotal: 413ms\tremaining: 549ms\n",
      "429:\tlearn: 509006.6405620\ttest: 881433.8244266\tbest: 878513.1325763 (307)\ttotal: 414ms\tremaining: 548ms\n",
      "430:\tlearn: 507994.7991641\ttest: 881545.8485587\tbest: 878513.1325763 (307)\ttotal: 415ms\tremaining: 547ms\n",
      "431:\tlearn: 507132.4813885\ttest: 882079.7503106\tbest: 878513.1325763 (307)\ttotal: 416ms\tremaining: 546ms\n",
      "432:\tlearn: 506744.4124753\ttest: 881780.2391667\tbest: 878513.1325763 (307)\ttotal: 417ms\tremaining: 545ms\n",
      "433:\tlearn: 505869.1646032\ttest: 881750.0296197\tbest: 878513.1325763 (307)\ttotal: 418ms\tremaining: 545ms\n",
      "434:\tlearn: 505380.8537631\ttest: 881371.4328389\tbest: 878513.1325763 (307)\ttotal: 419ms\tremaining: 544ms\n",
      "435:\tlearn: 505372.7685867\ttest: 881479.1691458\tbest: 878513.1325763 (307)\ttotal: 419ms\tremaining: 542ms\n",
      "436:\tlearn: 504407.4766016\ttest: 881736.8169043\tbest: 878513.1325763 (307)\ttotal: 420ms\tremaining: 542ms\n",
      "437:\tlearn: 503962.7789515\ttest: 881388.2009990\tbest: 878513.1325763 (307)\ttotal: 421ms\tremaining: 541ms\n",
      "438:\tlearn: 502839.1431029\ttest: 881924.8170856\tbest: 878513.1325763 (307)\ttotal: 422ms\tremaining: 540ms\n",
      "439:\tlearn: 502830.5342488\ttest: 882032.6019197\tbest: 878513.1325763 (307)\ttotal: 423ms\tremaining: 538ms\n",
      "440:\tlearn: 502822.2211538\ttest: 882138.7912588\tbest: 878513.1325763 (307)\ttotal: 424ms\tremaining: 537ms\n",
      "441:\tlearn: 502814.1936591\ttest: 882243.4032959\tbest: 878513.1325763 (307)\ttotal: 425ms\tremaining: 536ms\n",
      "442:\tlearn: 502806.4419549\ttest: 882346.4562380\tbest: 878513.1325763 (307)\ttotal: 426ms\tremaining: 535ms\n",
      "443:\tlearn: 502213.7082514\ttest: 882414.5233636\tbest: 878513.1325763 (307)\ttotal: 427ms\tremaining: 534ms\n",
      "444:\tlearn: 502206.1033702\ttest: 882515.2805508\tbest: 878513.1325763 (307)\ttotal: 428ms\tremaining: 533ms\n",
      "445:\tlearn: 502198.7597498\ttest: 882614.5278317\tbest: 878513.1325763 (307)\ttotal: 429ms\tremaining: 532ms\n",
      "446:\tlearn: 502148.2845034\ttest: 882626.2143628\tbest: 878513.1325763 (307)\ttotal: 429ms\tremaining: 531ms\n",
      "447:\tlearn: 502141.4088881\ttest: 882723.4758859\tbest: 878513.1325763 (307)\ttotal: 430ms\tremaining: 530ms\n",
      "448:\tlearn: 502134.7694888\ttest: 882819.2654948\tbest: 878513.1325763 (307)\ttotal: 431ms\tremaining: 529ms\n",
      "449:\tlearn: 501295.2602064\ttest: 883588.3182290\tbest: 878513.1325763 (307)\ttotal: 432ms\tremaining: 529ms\n",
      "450:\tlearn: 500849.3618805\ttest: 883786.6581111\tbest: 878513.1325763 (307)\ttotal: 434ms\tremaining: 528ms\n",
      "451:\tlearn: 499796.3085222\ttest: 884335.7229886\tbest: 878513.1325763 (307)\ttotal: 435ms\tremaining: 527ms\n",
      "452:\tlearn: 499789.2591193\ttest: 884440.4175139\tbest: 878513.1325763 (307)\ttotal: 435ms\tremaining: 526ms\n",
      "453:\tlearn: 499782.4519001\ttest: 884543.5144967\tbest: 878513.1325763 (307)\ttotal: 436ms\tremaining: 525ms\n",
      "454:\tlearn: 499771.9918541\ttest: 884580.4614875\tbest: 878513.1325763 (307)\ttotal: 437ms\tremaining: 524ms\n",
      "455:\tlearn: 499036.1815768\ttest: 885087.0960292\tbest: 878513.1325763 (307)\ttotal: 438ms\tremaining: 523ms\n",
      "456:\tlearn: 498979.8667252\ttest: 885046.0521775\tbest: 878513.1325763 (307)\ttotal: 439ms\tremaining: 522ms\n",
      "457:\tlearn: 498926.4851933\ttest: 885006.2563308\tbest: 878513.1325763 (307)\ttotal: 440ms\tremaining: 521ms\n",
      "458:\tlearn: 498651.0095776\ttest: 884715.9831553\tbest: 878513.1325763 (307)\ttotal: 442ms\tremaining: 521ms\n",
      "459:\tlearn: 498644.8824665\ttest: 884806.2054440\tbest: 878513.1325763 (307)\ttotal: 443ms\tremaining: 520ms\n",
      "460:\tlearn: 498513.6533659\ttest: 884726.8759212\tbest: 878513.1325763 (307)\ttotal: 444ms\tremaining: 519ms\n",
      "461:\tlearn: 498006.5840917\ttest: 885281.5583792\tbest: 878513.1325763 (307)\ttotal: 445ms\tremaining: 518ms\n",
      "462:\tlearn: 497833.9308161\ttest: 885219.2032276\tbest: 878513.1325763 (307)\ttotal: 446ms\tremaining: 517ms\n",
      "463:\tlearn: 497303.7649782\ttest: 885301.3256434\tbest: 878513.1325763 (307)\ttotal: 446ms\tremaining: 516ms\n",
      "464:\tlearn: 497242.9973725\ttest: 885382.6960049\tbest: 878513.1325763 (307)\ttotal: 447ms\tremaining: 515ms\n",
      "465:\tlearn: 497160.9592922\ttest: 885518.9498792\tbest: 878513.1325763 (307)\ttotal: 448ms\tremaining: 514ms\n",
      "466:\tlearn: 496537.5081690\ttest: 885852.6485404\tbest: 878513.1325763 (307)\ttotal: 449ms\tremaining: 513ms\n",
      "467:\tlearn: 496293.2730075\ttest: 885937.8514616\tbest: 878513.1325763 (307)\ttotal: 450ms\tremaining: 512ms\n",
      "468:\tlearn: 495623.0528280\ttest: 885776.3631421\tbest: 878513.1325763 (307)\ttotal: 451ms\tremaining: 511ms\n",
      "469:\tlearn: 495328.5122898\ttest: 885605.2676184\tbest: 878513.1325763 (307)\ttotal: 452ms\tremaining: 510ms\n",
      "470:\tlearn: 495322.7870026\ttest: 885692.6521912\tbest: 878513.1325763 (307)\ttotal: 453ms\tremaining: 509ms\n",
      "471:\tlearn: 495317.2584594\ttest: 885778.6996377\tbest: 878513.1325763 (307)\ttotal: 454ms\tremaining: 508ms\n",
      "472:\tlearn: 495311.9198976\ttest: 885863.4269647\tbest: 878513.1325763 (307)\ttotal: 455ms\tremaining: 507ms\n",
      "473:\tlearn: 495039.6904865\ttest: 885696.8967098\tbest: 878513.1325763 (307)\ttotal: 456ms\tremaining: 506ms\n",
      "474:\tlearn: 494775.7972274\ttest: 885536.3339136\tbest: 878513.1325763 (307)\ttotal: 457ms\tremaining: 505ms\n",
      "475:\tlearn: 494613.8743986\ttest: 885496.9889550\tbest: 878513.1325763 (307)\ttotal: 458ms\tremaining: 504ms\n",
      "476:\tlearn: 494608.6776342\ttest: 885578.8634527\tbest: 878513.1325763 (307)\ttotal: 459ms\tremaining: 503ms\n",
      "477:\tlearn: 494459.4947275\ttest: 885544.1698243\tbest: 878513.1325763 (307)\ttotal: 460ms\tremaining: 502ms\n",
      "478:\tlearn: 494454.5881926\ttest: 885625.9390140\tbest: 878513.1325763 (307)\ttotal: 461ms\tremaining: 501ms\n",
      "479:\tlearn: 494225.6482690\ttest: 885532.3176897\tbest: 878513.1325763 (307)\ttotal: 462ms\tremaining: 500ms\n",
      "480:\tlearn: 493471.3658708\ttest: 885493.0337184\tbest: 878513.1325763 (307)\ttotal: 463ms\tremaining: 499ms\n",
      "481:\tlearn: 493466.5956824\ttest: 885575.5291878\tbest: 878513.1325763 (307)\ttotal: 464ms\tremaining: 498ms\n",
      "482:\tlearn: 493329.2531535\ttest: 885546.9809686\tbest: 878513.1325763 (307)\ttotal: 465ms\tremaining: 497ms\n",
      "483:\tlearn: 493324.7492619\ttest: 885629.1586734\tbest: 878513.1325763 (307)\ttotal: 466ms\tremaining: 496ms\n",
      "484:\tlearn: 492624.8047579\ttest: 885637.1574919\tbest: 878513.1325763 (307)\ttotal: 467ms\tremaining: 495ms\n",
      "485:\tlearn: 492619.9989688\ttest: 885719.5635888\tbest: 878513.1325763 (307)\ttotal: 467ms\tremaining: 494ms\n",
      "486:\tlearn: 492615.3583102\ttest: 885800.6883758\tbest: 878513.1325763 (307)\ttotal: 468ms\tremaining: 493ms\n",
      "487:\tlearn: 492405.3458785\ttest: 885885.5796703\tbest: 878513.1325763 (307)\ttotal: 469ms\tremaining: 493ms\n",
      "488:\tlearn: 492400.8620150\ttest: 885965.4991971\tbest: 878513.1325763 (307)\ttotal: 470ms\tremaining: 492ms\n",
      "489:\tlearn: 492396.5322205\ttest: 886044.1705827\tbest: 878513.1325763 (307)\ttotal: 471ms\tremaining: 491ms\n",
      "490:\tlearn: 491920.3516674\ttest: 886135.8877784\tbest: 878513.1325763 (307)\ttotal: 472ms\tremaining: 490ms\n",
      "491:\tlearn: 491090.7256573\ttest: 886280.7710231\tbest: 878513.1325763 (307)\ttotal: 473ms\tremaining: 489ms\n",
      "492:\tlearn: 490555.2580720\ttest: 886522.2123928\tbest: 878513.1325763 (307)\ttotal: 474ms\tremaining: 488ms\n",
      "493:\tlearn: 490376.5831560\ttest: 886714.3708465\tbest: 878513.1325763 (307)\ttotal: 475ms\tremaining: 487ms\n",
      "494:\tlearn: 490263.5672146\ttest: 886592.7033672\tbest: 878513.1325763 (307)\ttotal: 476ms\tremaining: 486ms\n",
      "495:\tlearn: 489179.8779670\ttest: 887221.7274051\tbest: 878513.1325763 (307)\ttotal: 477ms\tremaining: 485ms\n",
      "496:\tlearn: 488481.0818349\ttest: 886999.9104065\tbest: 878513.1325763 (307)\ttotal: 478ms\tremaining: 484ms\n",
      "497:\tlearn: 488239.1081252\ttest: 886969.9296908\tbest: 878513.1325763 (307)\ttotal: 479ms\tremaining: 483ms\n",
      "498:\tlearn: 487663.0786897\ttest: 886990.4729229\tbest: 878513.1325763 (307)\ttotal: 480ms\tremaining: 482ms\n",
      "499:\tlearn: 487659.0508410\ttest: 887060.1504474\tbest: 878513.1325763 (307)\ttotal: 481ms\tremaining: 481ms\n",
      "500:\tlearn: 487182.7450170\ttest: 886709.1784796\tbest: 878513.1325763 (307)\ttotal: 482ms\tremaining: 480ms\n",
      "501:\tlearn: 487057.0427140\ttest: 886781.4456396\tbest: 878513.1325763 (307)\ttotal: 483ms\tremaining: 479ms\n",
      "502:\tlearn: 487053.0690590\ttest: 886851.2591868\tbest: 878513.1325763 (307)\ttotal: 484ms\tremaining: 478ms\n",
      "503:\tlearn: 487049.2319419\ttest: 886919.9807250\tbest: 878513.1325763 (307)\ttotal: 485ms\tremaining: 477ms\n",
      "504:\tlearn: 486619.2976780\ttest: 887013.9153715\tbest: 878513.1325763 (307)\ttotal: 486ms\tremaining: 476ms\n",
      "505:\tlearn: 486615.7744481\ttest: 887082.9317994\tbest: 878513.1325763 (307)\ttotal: 486ms\tremaining: 475ms\n",
      "506:\tlearn: 486237.6865193\ttest: 886770.2431380\tbest: 878513.1325763 (307)\ttotal: 487ms\tremaining: 474ms\n",
      "507:\tlearn: 485548.6083250\ttest: 887419.2692713\tbest: 878513.1325763 (307)\ttotal: 488ms\tremaining: 473ms\n",
      "508:\tlearn: 485169.7019703\ttest: 887728.2290129\tbest: 878513.1325763 (307)\ttotal: 489ms\tremaining: 472ms\n",
      "509:\tlearn: 485056.7590981\ttest: 887619.3771516\tbest: 878513.1325763 (307)\ttotal: 490ms\tremaining: 471ms\n",
      "510:\tlearn: 484351.4985204\ttest: 887330.9860575\tbest: 878513.1325763 (307)\ttotal: 491ms\tremaining: 470ms\n",
      "511:\tlearn: 483813.8353793\ttest: 887514.3644796\tbest: 878513.1325763 (307)\ttotal: 492ms\tremaining: 469ms\n",
      "512:\tlearn: 483809.9149667\ttest: 887582.9953405\tbest: 878513.1325763 (307)\ttotal: 494ms\tremaining: 469ms\n",
      "513:\tlearn: 483799.9159850\ttest: 887622.7280299\tbest: 878513.1325763 (307)\ttotal: 494ms\tremaining: 468ms\n",
      "514:\tlearn: 483539.3848063\ttest: 887545.5528523\tbest: 878513.1325763 (307)\ttotal: 495ms\tremaining: 467ms\n",
      "515:\tlearn: 483014.2198906\ttest: 887559.3931239\tbest: 878513.1325763 (307)\ttotal: 497ms\tremaining: 466ms\n",
      "516:\tlearn: 483010.5718720\ttest: 887628.5063095\tbest: 878513.1325763 (307)\ttotal: 498ms\tremaining: 465ms\n",
      "517:\tlearn: 482749.6017287\ttest: 887487.8448705\tbest: 878513.1325763 (307)\ttotal: 499ms\tremaining: 464ms\n",
      "518:\tlearn: 482746.0034094\ttest: 887556.7270078\tbest: 878513.1325763 (307)\ttotal: 500ms\tremaining: 463ms\n",
      "519:\tlearn: 482742.5287581\ttest: 887624.5196932\tbest: 878513.1325763 (307)\ttotal: 501ms\tremaining: 462ms\n",
      "520:\tlearn: 482276.1009174\ttest: 887305.1292225\tbest: 878513.1325763 (307)\ttotal: 502ms\tremaining: 461ms\n",
      "521:\tlearn: 481873.9056774\ttest: 887410.3658990\tbest: 878513.1325763 (307)\ttotal: 503ms\tremaining: 461ms\n",
      "522:\tlearn: 481505.1390412\ttest: 887513.3169050\tbest: 878513.1325763 (307)\ttotal: 504ms\tremaining: 460ms\n",
      "523:\tlearn: 481313.7322085\ttest: 887388.6498532\tbest: 878513.1325763 (307)\ttotal: 506ms\tremaining: 459ms\n",
      "524:\tlearn: 480947.3211669\ttest: 887630.1805981\tbest: 878513.1325763 (307)\ttotal: 507ms\tremaining: 458ms\n",
      "525:\tlearn: 480744.2225377\ttest: 887695.6201581\tbest: 878513.1325763 (307)\ttotal: 508ms\tremaining: 458ms\n",
      "526:\tlearn: 480421.7530412\ttest: 887845.5299470\tbest: 878513.1325763 (307)\ttotal: 509ms\tremaining: 457ms\n",
      "527:\tlearn: 480139.5254206\ttest: 888280.5305339\tbest: 878513.1325763 (307)\ttotal: 510ms\tremaining: 456ms\n",
      "528:\tlearn: 479788.4038147\ttest: 888086.5379229\tbest: 878513.1325763 (307)\ttotal: 511ms\tremaining: 455ms\n",
      "529:\tlearn: 479602.9150406\ttest: 887940.8346771\tbest: 878513.1325763 (307)\ttotal: 512ms\tremaining: 454ms\n",
      "530:\tlearn: 479274.3324078\ttest: 888032.0971164\tbest: 878513.1325763 (307)\ttotal: 513ms\tremaining: 453ms\n",
      "531:\tlearn: 479070.6124648\ttest: 888204.3521569\tbest: 878513.1325763 (307)\ttotal: 514ms\tremaining: 452ms\n",
      "532:\tlearn: 478819.6000122\ttest: 888622.7677557\tbest: 878513.1325763 (307)\ttotal: 515ms\tremaining: 451ms\n",
      "533:\tlearn: 478243.7138557\ttest: 888446.2127664\tbest: 878513.1325763 (307)\ttotal: 516ms\tremaining: 450ms\n",
      "534:\tlearn: 478134.1939608\ttest: 888596.6937000\tbest: 878513.1325763 (307)\ttotal: 517ms\tremaining: 450ms\n",
      "535:\tlearn: 477722.1489852\ttest: 888282.3936848\tbest: 878513.1325763 (307)\ttotal: 518ms\tremaining: 449ms\n",
      "536:\tlearn: 477255.6276831\ttest: 888413.5713402\tbest: 878513.1325763 (307)\ttotal: 519ms\tremaining: 448ms\n",
      "537:\tlearn: 476300.9994836\ttest: 889071.0678578\tbest: 878513.1325763 (307)\ttotal: 520ms\tremaining: 447ms\n",
      "538:\tlearn: 476095.4059366\ttest: 888923.3222495\tbest: 878513.1325763 (307)\ttotal: 521ms\tremaining: 446ms\n",
      "539:\tlearn: 475664.6561114\ttest: 888888.5278455\tbest: 878513.1325763 (307)\ttotal: 522ms\tremaining: 445ms\n",
      "540:\tlearn: 474911.9006430\ttest: 888861.3930666\tbest: 878513.1325763 (307)\ttotal: 523ms\tremaining: 444ms\n",
      "541:\tlearn: 474628.6199537\ttest: 888944.5088916\tbest: 878513.1325763 (307)\ttotal: 525ms\tremaining: 443ms\n",
      "542:\tlearn: 474338.5140221\ttest: 889128.2634569\tbest: 878513.1325763 (307)\ttotal: 526ms\tremaining: 442ms\n",
      "543:\tlearn: 473640.8566808\ttest: 889266.3947708\tbest: 878513.1325763 (307)\ttotal: 527ms\tremaining: 441ms\n",
      "544:\tlearn: 473094.5445014\ttest: 889660.2876213\tbest: 878513.1325763 (307)\ttotal: 528ms\tremaining: 441ms\n",
      "545:\tlearn: 472096.4632359\ttest: 889194.9291854\tbest: 878513.1325763 (307)\ttotal: 529ms\tremaining: 440ms\n",
      "546:\tlearn: 471563.0678346\ttest: 889284.9990047\tbest: 878513.1325763 (307)\ttotal: 531ms\tremaining: 440ms\n",
      "547:\tlearn: 471286.5756836\ttest: 889459.1766302\tbest: 878513.1325763 (307)\ttotal: 532ms\tremaining: 439ms\n",
      "548:\tlearn: 471031.4927757\ttest: 889546.8862516\tbest: 878513.1325763 (307)\ttotal: 533ms\tremaining: 438ms\n",
      "549:\tlearn: 470771.4984350\ttest: 889724.5288475\tbest: 878513.1325763 (307)\ttotal: 535ms\tremaining: 437ms\n",
      "550:\tlearn: 470689.6905097\ttest: 889685.4237746\tbest: 878513.1325763 (307)\ttotal: 536ms\tremaining: 437ms\n",
      "551:\tlearn: 470078.0631881\ttest: 889830.2952727\tbest: 878513.1325763 (307)\ttotal: 537ms\tremaining: 436ms\n",
      "552:\tlearn: 469686.6270698\ttest: 889471.4963459\tbest: 878513.1325763 (307)\ttotal: 539ms\tremaining: 435ms\n",
      "553:\tlearn: 469494.8723345\ttest: 889732.7889026\tbest: 878513.1325763 (307)\ttotal: 540ms\tremaining: 435ms\n",
      "554:\tlearn: 469246.7100415\ttest: 889892.5320313\tbest: 878513.1325763 (307)\ttotal: 541ms\tremaining: 434ms\n",
      "555:\tlearn: 468652.2745573\ttest: 890004.9646156\tbest: 878513.1325763 (307)\ttotal: 542ms\tremaining: 433ms\n",
      "556:\tlearn: 468419.7245719\ttest: 890087.7539815\tbest: 878513.1325763 (307)\ttotal: 543ms\tremaining: 432ms\n",
      "557:\tlearn: 468241.2877131\ttest: 890346.6656109\tbest: 878513.1325763 (307)\ttotal: 544ms\tremaining: 431ms\n",
      "558:\tlearn: 467995.2804130\ttest: 890438.9090956\tbest: 878513.1325763 (307)\ttotal: 546ms\tremaining: 430ms\n",
      "559:\tlearn: 467458.8812314\ttest: 890601.9672217\tbest: 878513.1325763 (307)\ttotal: 547ms\tremaining: 430ms\n",
      "560:\tlearn: 467266.7483447\ttest: 890702.7980909\tbest: 878513.1325763 (307)\ttotal: 548ms\tremaining: 429ms\n",
      "561:\tlearn: 466688.9198334\ttest: 891099.9686171\tbest: 878513.1325763 (307)\ttotal: 549ms\tremaining: 428ms\n",
      "562:\tlearn: 466453.2080605\ttest: 890704.8209454\tbest: 878513.1325763 (307)\ttotal: 550ms\tremaining: 427ms\n",
      "563:\tlearn: 466282.4965053\ttest: 890655.8409839\tbest: 878513.1325763 (307)\ttotal: 551ms\tremaining: 426ms\n",
      "564:\tlearn: 466055.2880323\ttest: 890545.0100993\tbest: 878513.1325763 (307)\ttotal: 553ms\tremaining: 425ms\n",
      "565:\tlearn: 465830.5255236\ttest: 890733.9713290\tbest: 878513.1325763 (307)\ttotal: 554ms\tremaining: 425ms\n",
      "566:\tlearn: 464738.1400831\ttest: 890080.6649879\tbest: 878513.1325763 (307)\ttotal: 555ms\tremaining: 424ms\n",
      "567:\tlearn: 463880.8377848\ttest: 889672.6593613\tbest: 878513.1325763 (307)\ttotal: 556ms\tremaining: 423ms\n",
      "568:\tlearn: 463486.0199427\ttest: 889587.1600685\tbest: 878513.1325763 (307)\ttotal: 557ms\tremaining: 422ms\n",
      "569:\tlearn: 463023.6343788\ttest: 889948.0026104\tbest: 878513.1325763 (307)\ttotal: 558ms\tremaining: 421ms\n",
      "570:\tlearn: 462615.9131599\ttest: 889838.6476240\tbest: 878513.1325763 (307)\ttotal: 559ms\tremaining: 420ms\n",
      "571:\tlearn: 462425.1953627\ttest: 889983.2252135\tbest: 878513.1325763 (307)\ttotal: 561ms\tremaining: 419ms\n",
      "572:\tlearn: 461607.8423621\ttest: 889904.0909375\tbest: 878513.1325763 (307)\ttotal: 562ms\tremaining: 419ms\n",
      "573:\tlearn: 461087.4673198\ttest: 890185.3081090\tbest: 878513.1325763 (307)\ttotal: 563ms\tremaining: 418ms\n",
      "574:\tlearn: 460677.4048732\ttest: 890169.9621243\tbest: 878513.1325763 (307)\ttotal: 564ms\tremaining: 417ms\n",
      "575:\tlearn: 460375.5712021\ttest: 890239.5087396\tbest: 878513.1325763 (307)\ttotal: 565ms\tremaining: 416ms\n",
      "576:\tlearn: 460123.7647708\ttest: 890457.6942616\tbest: 878513.1325763 (307)\ttotal: 566ms\tremaining: 415ms\n",
      "577:\tlearn: 459346.0028469\ttest: 890144.6688313\tbest: 878513.1325763 (307)\ttotal: 568ms\tremaining: 414ms\n",
      "578:\tlearn: 459188.1804961\ttest: 890015.7451694\tbest: 878513.1325763 (307)\ttotal: 569ms\tremaining: 414ms\n",
      "579:\tlearn: 458347.4243790\ttest: 889841.0691702\tbest: 878513.1325763 (307)\ttotal: 570ms\tremaining: 413ms\n",
      "580:\tlearn: 457995.4485854\ttest: 889395.1428918\tbest: 878513.1325763 (307)\ttotal: 571ms\tremaining: 412ms\n",
      "581:\tlearn: 457591.3858015\ttest: 889375.7938980\tbest: 878513.1325763 (307)\ttotal: 573ms\tremaining: 411ms\n",
      "582:\tlearn: 456823.5116052\ttest: 889220.0919043\tbest: 878513.1325763 (307)\ttotal: 574ms\tremaining: 410ms\n",
      "583:\tlearn: 456468.5352188\ttest: 888897.6898701\tbest: 878513.1325763 (307)\ttotal: 575ms\tremaining: 410ms\n",
      "584:\tlearn: 456279.8330271\ttest: 888797.5903621\tbest: 878513.1325763 (307)\ttotal: 576ms\tremaining: 409ms\n",
      "585:\tlearn: 456157.5859769\ttest: 888716.7778292\tbest: 878513.1325763 (307)\ttotal: 577ms\tremaining: 408ms\n",
      "586:\tlearn: 455828.8497260\ttest: 888952.3509335\tbest: 878513.1325763 (307)\ttotal: 578ms\tremaining: 407ms\n",
      "587:\tlearn: 455480.3767844\ttest: 888856.1226494\tbest: 878513.1325763 (307)\ttotal: 579ms\tremaining: 406ms\n",
      "588:\tlearn: 455109.0988949\ttest: 888966.6058237\tbest: 878513.1325763 (307)\ttotal: 580ms\tremaining: 405ms\n",
      "589:\tlearn: 454775.0893917\ttest: 889212.1262715\tbest: 878513.1325763 (307)\ttotal: 581ms\tremaining: 404ms\n",
      "590:\tlearn: 454698.5259756\ttest: 889306.8096386\tbest: 878513.1325763 (307)\ttotal: 582ms\tremaining: 403ms\n",
      "591:\tlearn: 454696.2981959\ttest: 889324.5297828\tbest: 878513.1325763 (307)\ttotal: 583ms\tremaining: 402ms\n",
      "592:\tlearn: 454623.8792434\ttest: 889412.9949876\tbest: 878513.1325763 (307)\ttotal: 584ms\tremaining: 401ms\n",
      "593:\tlearn: 454501.5635202\ttest: 889427.3835000\tbest: 878513.1325763 (307)\ttotal: 585ms\tremaining: 400ms\n",
      "594:\tlearn: 454000.4617105\ttest: 889658.6504067\tbest: 878513.1325763 (307)\ttotal: 586ms\tremaining: 399ms\n",
      "595:\tlearn: 453998.5252189\ttest: 889673.4328867\tbest: 878513.1325763 (307)\ttotal: 587ms\tremaining: 398ms\n",
      "596:\tlearn: 453549.5376438\ttest: 889747.4180714\tbest: 878513.1325763 (307)\ttotal: 588ms\tremaining: 397ms\n",
      "597:\tlearn: 453314.4549824\ttest: 889954.2833000\tbest: 878513.1325763 (307)\ttotal: 589ms\tremaining: 396ms\n",
      "598:\tlearn: 453232.7729812\ttest: 889886.7269163\tbest: 878513.1325763 (307)\ttotal: 590ms\tremaining: 395ms\n",
      "599:\tlearn: 452638.3884856\ttest: 889638.9545245\tbest: 878513.1325763 (307)\ttotal: 591ms\tremaining: 394ms\n",
      "600:\tlearn: 452529.6913619\ttest: 889566.4393107\tbest: 878513.1325763 (307)\ttotal: 592ms\tremaining: 393ms\n",
      "601:\tlearn: 452381.4367491\ttest: 889821.9593094\tbest: 878513.1325763 (307)\ttotal: 593ms\tremaining: 392ms\n",
      "602:\tlearn: 451807.9023662\ttest: 890191.0412448\tbest: 878513.1325763 (307)\ttotal: 594ms\tremaining: 391ms\n",
      "603:\tlearn: 451399.8444443\ttest: 890545.2432271\tbest: 878513.1325763 (307)\ttotal: 595ms\tremaining: 390ms\n",
      "604:\tlearn: 451229.6567633\ttest: 890363.3876436\tbest: 878513.1325763 (307)\ttotal: 596ms\tremaining: 389ms\n",
      "605:\tlearn: 451046.6626829\ttest: 890361.6782038\tbest: 878513.1325763 (307)\ttotal: 597ms\tremaining: 388ms\n",
      "606:\tlearn: 450960.7795174\ttest: 890284.1182625\tbest: 878513.1325763 (307)\ttotal: 598ms\tremaining: 387ms\n",
      "607:\tlearn: 450595.3455599\ttest: 890628.0860525\tbest: 878513.1325763 (307)\ttotal: 599ms\tremaining: 386ms\n",
      "608:\tlearn: 450027.3639259\ttest: 890582.1361491\tbest: 878513.1325763 (307)\ttotal: 600ms\tremaining: 385ms\n",
      "609:\tlearn: 449435.2212050\ttest: 890326.6362386\tbest: 878513.1325763 (307)\ttotal: 601ms\tremaining: 384ms\n",
      "610:\tlearn: 449088.0431147\ttest: 890324.9787684\tbest: 878513.1325763 (307)\ttotal: 601ms\tremaining: 383ms\n",
      "611:\tlearn: 448942.8320349\ttest: 890326.1298262\tbest: 878513.1325763 (307)\ttotal: 602ms\tremaining: 382ms\n",
      "612:\tlearn: 448809.5745227\ttest: 890326.5419431\tbest: 878513.1325763 (307)\ttotal: 603ms\tremaining: 381ms\n",
      "613:\tlearn: 448551.0748416\ttest: 890130.5439406\tbest: 878513.1325763 (307)\ttotal: 604ms\tremaining: 380ms\n",
      "614:\tlearn: 448204.6061663\ttest: 890466.0479152\tbest: 878513.1325763 (307)\ttotal: 605ms\tremaining: 379ms\n",
      "615:\tlearn: 448001.8063437\ttest: 890607.8191637\tbest: 878513.1325763 (307)\ttotal: 606ms\tremaining: 378ms\n",
      "616:\tlearn: 448000.0539422\ttest: 890641.4575824\tbest: 878513.1325763 (307)\ttotal: 607ms\tremaining: 377ms\n",
      "617:\tlearn: 447545.4622282\ttest: 891004.6365416\tbest: 878513.1325763 (307)\ttotal: 608ms\tremaining: 376ms\n",
      "618:\tlearn: 447119.8584125\ttest: 890855.3005533\tbest: 878513.1325763 (307)\ttotal: 609ms\tremaining: 375ms\n",
      "619:\tlearn: 446936.3515962\ttest: 890993.2138506\tbest: 878513.1325763 (307)\ttotal: 610ms\tremaining: 374ms\n",
      "620:\tlearn: 446772.9507269\ttest: 891116.7810027\tbest: 878513.1325763 (307)\ttotal: 611ms\tremaining: 373ms\n",
      "621:\tlearn: 446768.1467957\ttest: 891150.4895960\tbest: 878513.1325763 (307)\ttotal: 612ms\tremaining: 372ms\n",
      "622:\tlearn: 446611.6337297\ttest: 891303.5620416\tbest: 878513.1325763 (307)\ttotal: 613ms\tremaining: 371ms\n",
      "623:\tlearn: 446450.4278519\ttest: 891462.3273857\tbest: 878513.1325763 (307)\ttotal: 614ms\tremaining: 370ms\n",
      "624:\tlearn: 445732.4901868\ttest: 891439.9783011\tbest: 878513.1325763 (307)\ttotal: 615ms\tremaining: 369ms\n",
      "625:\tlearn: 445492.3295751\ttest: 891535.9678199\tbest: 878513.1325763 (307)\ttotal: 616ms\tremaining: 368ms\n",
      "626:\tlearn: 445305.5684918\ttest: 891425.6887479\tbest: 878513.1325763 (307)\ttotal: 617ms\tremaining: 367ms\n",
      "627:\tlearn: 445161.3327729\ttest: 891591.5798086\tbest: 878513.1325763 (307)\ttotal: 618ms\tremaining: 366ms\n",
      "628:\tlearn: 445100.5304793\ttest: 891601.1067730\tbest: 878513.1325763 (307)\ttotal: 619ms\tremaining: 365ms\n",
      "629:\tlearn: 444816.8436124\ttest: 891348.5221229\tbest: 878513.1325763 (307)\ttotal: 620ms\tremaining: 364ms\n",
      "630:\tlearn: 444522.6064120\ttest: 891033.1305897\tbest: 878513.1325763 (307)\ttotal: 620ms\tremaining: 363ms\n",
      "631:\tlearn: 444161.5643702\ttest: 891509.7581266\tbest: 878513.1325763 (307)\ttotal: 621ms\tremaining: 362ms\n",
      "632:\tlearn: 443537.3851917\ttest: 891149.0098755\tbest: 878513.1325763 (307)\ttotal: 622ms\tremaining: 361ms\n",
      "633:\tlearn: 443230.5538125\ttest: 890995.9124884\tbest: 878513.1325763 (307)\ttotal: 623ms\tremaining: 360ms\n",
      "634:\tlearn: 442615.8318174\ttest: 890600.1117559\tbest: 878513.1325763 (307)\ttotal: 624ms\tremaining: 359ms\n",
      "635:\tlearn: 442232.3469026\ttest: 890659.2767423\tbest: 878513.1325763 (307)\ttotal: 625ms\tremaining: 358ms\n",
      "636:\tlearn: 441904.4734911\ttest: 890984.7603671\tbest: 878513.1325763 (307)\ttotal: 626ms\tremaining: 357ms\n",
      "637:\tlearn: 441783.6395525\ttest: 890946.8406988\tbest: 878513.1325763 (307)\ttotal: 627ms\tremaining: 356ms\n",
      "638:\tlearn: 441402.3216800\ttest: 891255.7680696\tbest: 878513.1325763 (307)\ttotal: 628ms\tremaining: 355ms\n",
      "639:\tlearn: 441002.3493121\ttest: 890813.6823040\tbest: 878513.1325763 (307)\ttotal: 629ms\tremaining: 354ms\n",
      "640:\tlearn: 441000.6540285\ttest: 890842.5710726\tbest: 878513.1325763 (307)\ttotal: 629ms\tremaining: 353ms\n",
      "641:\tlearn: 440941.6261976\ttest: 890826.6099458\tbest: 878513.1325763 (307)\ttotal: 630ms\tremaining: 352ms\n",
      "642:\tlearn: 440588.7099794\ttest: 890827.0817438\tbest: 878513.1325763 (307)\ttotal: 631ms\tremaining: 351ms\n",
      "643:\tlearn: 440279.3435076\ttest: 890714.3975716\tbest: 878513.1325763 (307)\ttotal: 632ms\tremaining: 350ms\n",
      "644:\tlearn: 439957.2433209\ttest: 890580.5686220\tbest: 878513.1325763 (307)\ttotal: 633ms\tremaining: 349ms\n",
      "645:\tlearn: 439893.8985368\ttest: 890532.8599920\tbest: 878513.1325763 (307)\ttotal: 634ms\tremaining: 348ms\n",
      "646:\tlearn: 439825.8067631\ttest: 890442.4800269\tbest: 878513.1325763 (307)\ttotal: 635ms\tremaining: 347ms\n",
      "647:\tlearn: 439545.5650801\ttest: 890506.1520569\tbest: 878513.1325763 (307)\ttotal: 636ms\tremaining: 345ms\n",
      "648:\tlearn: 439324.8850571\ttest: 890683.3746948\tbest: 878513.1325763 (307)\ttotal: 637ms\tremaining: 344ms\n",
      "649:\tlearn: 439019.5830560\ttest: 890693.0747949\tbest: 878513.1325763 (307)\ttotal: 638ms\tremaining: 343ms\n",
      "650:\tlearn: 438772.7584914\ttest: 890614.5781569\tbest: 878513.1325763 (307)\ttotal: 639ms\tremaining: 342ms\n",
      "651:\tlearn: 438649.9031172\ttest: 890583.7203556\tbest: 878513.1325763 (307)\ttotal: 640ms\tremaining: 341ms\n",
      "652:\tlearn: 438328.5546350\ttest: 890582.5100560\tbest: 878513.1325763 (307)\ttotal: 641ms\tremaining: 340ms\n",
      "653:\tlearn: 437681.2751744\ttest: 890498.3790994\tbest: 878513.1325763 (307)\ttotal: 642ms\tremaining: 339ms\n",
      "654:\tlearn: 436942.5384633\ttest: 890999.8041167\tbest: 878513.1325763 (307)\ttotal: 643ms\tremaining: 338ms\n",
      "655:\tlearn: 436661.5354272\ttest: 890882.6877381\tbest: 878513.1325763 (307)\ttotal: 643ms\tremaining: 337ms\n",
      "656:\tlearn: 436336.3643741\ttest: 890479.5000351\tbest: 878513.1325763 (307)\ttotal: 644ms\tremaining: 336ms\n",
      "657:\tlearn: 436034.2519673\ttest: 890634.0844023\tbest: 878513.1325763 (307)\ttotal: 645ms\tremaining: 335ms\n",
      "658:\tlearn: 436032.4203979\ttest: 890640.9405913\tbest: 878513.1325763 (307)\ttotal: 646ms\tremaining: 334ms\n",
      "659:\tlearn: 436030.6532582\ttest: 890647.7059879\tbest: 878513.1325763 (307)\ttotal: 647ms\tremaining: 333ms\n",
      "660:\tlearn: 436028.9482522\ttest: 890654.3811418\tbest: 878513.1325763 (307)\ttotal: 648ms\tremaining: 332ms\n",
      "661:\tlearn: 436027.3031672\ttest: 890660.9666302\tbest: 878513.1325763 (307)\ttotal: 649ms\tremaining: 331ms\n",
      "662:\tlearn: 436025.7158713\ttest: 890667.4630568\tbest: 878513.1325763 (307)\ttotal: 650ms\tremaining: 330ms\n",
      "663:\tlearn: 435583.6831984\ttest: 890531.5660537\tbest: 878513.1325763 (307)\ttotal: 650ms\tremaining: 329ms\n",
      "664:\tlearn: 435372.5942737\ttest: 890525.3641921\tbest: 878513.1325763 (307)\ttotal: 651ms\tremaining: 328ms\n",
      "665:\tlearn: 434709.1710496\ttest: 891014.5461848\tbest: 878513.1325763 (307)\ttotal: 652ms\tremaining: 327ms\n",
      "666:\tlearn: 434439.6945472\ttest: 890909.5440521\tbest: 878513.1325763 (307)\ttotal: 653ms\tremaining: 326ms\n",
      "667:\tlearn: 434160.9607797\ttest: 890696.7501434\tbest: 878513.1325763 (307)\ttotal: 654ms\tremaining: 325ms\n",
      "668:\tlearn: 434114.3291047\ttest: 890665.9940291\tbest: 878513.1325763 (307)\ttotal: 655ms\tremaining: 324ms\n",
      "669:\tlearn: 433462.6957401\ttest: 890871.4112204\tbest: 878513.1325763 (307)\ttotal: 656ms\tremaining: 323ms\n",
      "670:\tlearn: 433460.8970631\ttest: 890872.8832391\tbest: 878513.1325763 (307)\ttotal: 657ms\tremaining: 322ms\n",
      "671:\tlearn: 433459.2822030\ttest: 890874.6982913\tbest: 878513.1325763 (307)\ttotal: 658ms\tremaining: 321ms\n",
      "672:\tlearn: 432962.1172455\ttest: 891122.6251058\tbest: 878513.1325763 (307)\ttotal: 659ms\tremaining: 320ms\n",
      "673:\tlearn: 432543.4293108\ttest: 890821.3615774\tbest: 878513.1325763 (307)\ttotal: 660ms\tremaining: 319ms\n",
      "674:\tlearn: 432323.6192766\ttest: 891373.7703930\tbest: 878513.1325763 (307)\ttotal: 661ms\tremaining: 318ms\n",
      "675:\tlearn: 432066.0143417\ttest: 891397.4490376\tbest: 878513.1325763 (307)\ttotal: 662ms\tremaining: 317ms\n",
      "676:\tlearn: 431812.8893280\ttest: 891431.3497632\tbest: 878513.1325763 (307)\ttotal: 663ms\tremaining: 316ms\n",
      "677:\tlearn: 431647.7621576\ttest: 891311.6178998\tbest: 878513.1325763 (307)\ttotal: 664ms\tremaining: 315ms\n",
      "678:\tlearn: 431646.2287947\ttest: 891316.0440837\tbest: 878513.1325763 (307)\ttotal: 665ms\tremaining: 314ms\n",
      "679:\tlearn: 431553.0433296\ttest: 891081.3019964\tbest: 878513.1325763 (307)\ttotal: 666ms\tremaining: 313ms\n",
      "680:\tlearn: 431158.8799753\ttest: 891345.5519580\tbest: 878513.1325763 (307)\ttotal: 666ms\tremaining: 312ms\n",
      "681:\tlearn: 430940.4128939\ttest: 891761.5148510\tbest: 878513.1325763 (307)\ttotal: 667ms\tremaining: 311ms\n",
      "682:\tlearn: 430832.3030259\ttest: 891890.9796754\tbest: 878513.1325763 (307)\ttotal: 668ms\tremaining: 310ms\n",
      "683:\tlearn: 430670.8342567\ttest: 891835.6192697\tbest: 878513.1325763 (307)\ttotal: 669ms\tremaining: 309ms\n",
      "684:\tlearn: 430618.4702050\ttest: 891796.7041772\tbest: 878513.1325763 (307)\ttotal: 670ms\tremaining: 308ms\n",
      "685:\tlearn: 430616.9801549\ttest: 891805.4029402\tbest: 878513.1325763 (307)\ttotal: 671ms\tremaining: 307ms\n",
      "686:\tlearn: 430519.5552191\ttest: 891928.3635544\tbest: 878513.1325763 (307)\ttotal: 672ms\tremaining: 306ms\n",
      "687:\tlearn: 430457.9451434\ttest: 891912.9938548\tbest: 878513.1325763 (307)\ttotal: 673ms\tremaining: 305ms\n",
      "688:\tlearn: 430265.0089033\ttest: 891732.1440331\tbest: 878513.1325763 (307)\ttotal: 674ms\tremaining: 304ms\n",
      "689:\tlearn: 429694.0504995\ttest: 891945.0337015\tbest: 878513.1325763 (307)\ttotal: 675ms\tremaining: 303ms\n",
      "690:\tlearn: 429507.2440869\ttest: 891983.3381304\tbest: 878513.1325763 (307)\ttotal: 676ms\tremaining: 302ms\n",
      "691:\tlearn: 429322.9742255\ttest: 891816.2047707\tbest: 878513.1325763 (307)\ttotal: 677ms\tremaining: 301ms\n",
      "692:\tlearn: 428900.2668636\ttest: 891986.1388747\tbest: 878513.1325763 (307)\ttotal: 678ms\tremaining: 300ms\n",
      "693:\tlearn: 428680.6282417\ttest: 891735.0890183\tbest: 878513.1325763 (307)\ttotal: 679ms\tremaining: 299ms\n",
      "694:\tlearn: 428305.4362225\ttest: 891903.6152727\tbest: 878513.1325763 (307)\ttotal: 680ms\tremaining: 298ms\n",
      "695:\tlearn: 428191.6238669\ttest: 892022.7779045\tbest: 878513.1325763 (307)\ttotal: 681ms\tremaining: 297ms\n",
      "696:\tlearn: 428143.3622437\ttest: 891991.9062942\tbest: 878513.1325763 (307)\ttotal: 682ms\tremaining: 296ms\n",
      "697:\tlearn: 427964.6151734\ttest: 891825.5470602\tbest: 878513.1325763 (307)\ttotal: 683ms\tremaining: 295ms\n",
      "698:\tlearn: 427671.6376444\ttest: 891784.2974959\tbest: 878513.1325763 (307)\ttotal: 684ms\tremaining: 294ms\n",
      "699:\tlearn: 427670.1852102\ttest: 891790.0582791\tbest: 878513.1325763 (307)\ttotal: 685ms\tremaining: 293ms\n",
      "700:\tlearn: 427289.6760596\ttest: 891856.9423249\tbest: 878513.1325763 (307)\ttotal: 686ms\tremaining: 292ms\n",
      "701:\tlearn: 426850.5056092\ttest: 891834.4387422\tbest: 878513.1325763 (307)\ttotal: 687ms\tremaining: 291ms\n",
      "702:\tlearn: 426382.4390565\ttest: 892233.4534402\tbest: 878513.1325763 (307)\ttotal: 688ms\tremaining: 291ms\n",
      "703:\tlearn: 425966.7130863\ttest: 892678.1885834\tbest: 878513.1325763 (307)\ttotal: 689ms\tremaining: 290ms\n",
      "704:\tlearn: 425568.5326039\ttest: 892591.6874307\tbest: 878513.1325763 (307)\ttotal: 690ms\tremaining: 289ms\n",
      "705:\tlearn: 425320.8907317\ttest: 892616.3759714\tbest: 878513.1325763 (307)\ttotal: 691ms\tremaining: 288ms\n",
      "706:\tlearn: 425242.7376896\ttest: 892570.2721209\tbest: 878513.1325763 (307)\ttotal: 691ms\tremaining: 287ms\n",
      "707:\tlearn: 424686.7281781\ttest: 892838.7348968\tbest: 878513.1325763 (307)\ttotal: 693ms\tremaining: 286ms\n",
      "708:\tlearn: 424299.7465417\ttest: 893285.3209631\tbest: 878513.1325763 (307)\ttotal: 693ms\tremaining: 285ms\n",
      "709:\tlearn: 424109.5059515\ttest: 893287.9716641\tbest: 878513.1325763 (307)\ttotal: 694ms\tremaining: 284ms\n",
      "710:\tlearn: 423719.2592092\ttest: 893252.4431007\tbest: 878513.1325763 (307)\ttotal: 696ms\tremaining: 283ms\n",
      "711:\tlearn: 423293.0377120\ttest: 893260.1789353\tbest: 878513.1325763 (307)\ttotal: 697ms\tremaining: 282ms\n",
      "712:\tlearn: 422531.0412292\ttest: 892783.2144863\tbest: 878513.1325763 (307)\ttotal: 698ms\tremaining: 281ms\n",
      "713:\tlearn: 422025.7632010\ttest: 892721.9600513\tbest: 878513.1325763 (307)\ttotal: 699ms\tremaining: 280ms\n",
      "714:\tlearn: 421943.8716485\ttest: 892662.8412545\tbest: 878513.1325763 (307)\ttotal: 700ms\tremaining: 279ms\n",
      "715:\tlearn: 421538.9242604\ttest: 892801.9253231\tbest: 878513.1325763 (307)\ttotal: 701ms\tremaining: 278ms\n",
      "716:\tlearn: 421178.6992026\ttest: 892762.3401960\tbest: 878513.1325763 (307)\ttotal: 702ms\tremaining: 277ms\n",
      "717:\tlearn: 420815.1918335\ttest: 892495.9890754\tbest: 878513.1325763 (307)\ttotal: 703ms\tremaining: 276ms\n",
      "718:\tlearn: 420813.4348647\ttest: 892494.0598523\tbest: 878513.1325763 (307)\ttotal: 704ms\tremaining: 275ms\n",
      "719:\tlearn: 420125.1973316\ttest: 892047.3245194\tbest: 878513.1325763 (307)\ttotal: 705ms\tremaining: 274ms\n",
      "720:\tlearn: 419909.1535955\ttest: 891871.6856918\tbest: 878513.1325763 (307)\ttotal: 706ms\tremaining: 273ms\n",
      "721:\tlearn: 419420.6201849\ttest: 892200.1185312\tbest: 878513.1325763 (307)\ttotal: 707ms\tremaining: 272ms\n",
      "722:\tlearn: 419418.8562937\ttest: 892201.2044899\tbest: 878513.1325763 (307)\ttotal: 707ms\tremaining: 271ms\n",
      "723:\tlearn: 419417.1557717\ttest: 892202.2965734\tbest: 878513.1325763 (307)\ttotal: 708ms\tremaining: 270ms\n",
      "724:\tlearn: 419198.9492071\ttest: 892376.9535769\tbest: 878513.1325763 (307)\ttotal: 709ms\tremaining: 269ms\n",
      "725:\tlearn: 419197.2162649\ttest: 892379.5722979\tbest: 878513.1325763 (307)\ttotal: 710ms\tremaining: 268ms\n",
      "726:\tlearn: 419195.5453291\ttest: 892382.1715005\tbest: 878513.1325763 (307)\ttotal: 711ms\tremaining: 267ms\n",
      "727:\tlearn: 419061.7063332\ttest: 892429.8936172\tbest: 878513.1325763 (307)\ttotal: 712ms\tremaining: 266ms\n",
      "728:\tlearn: 418857.0208908\ttest: 892257.7811397\tbest: 878513.1325763 (307)\ttotal: 713ms\tremaining: 265ms\n",
      "729:\tlearn: 418480.4618813\ttest: 892261.3059506\tbest: 878513.1325763 (307)\ttotal: 714ms\tremaining: 264ms\n",
      "730:\tlearn: 418182.6690958\ttest: 892273.4436349\tbest: 878513.1325763 (307)\ttotal: 715ms\tremaining: 263ms\n",
      "731:\tlearn: 417986.4640882\ttest: 892098.2028239\tbest: 878513.1325763 (307)\ttotal: 717ms\tremaining: 262ms\n",
      "732:\tlearn: 417689.9355004\ttest: 892204.8025237\tbest: 878513.1325763 (307)\ttotal: 718ms\tremaining: 262ms\n",
      "733:\tlearn: 417353.4777031\ttest: 892481.7908079\tbest: 878513.1325763 (307)\ttotal: 720ms\tremaining: 261ms\n",
      "734:\tlearn: 417024.1407766\ttest: 892648.1204329\tbest: 878513.1325763 (307)\ttotal: 721ms\tremaining: 260ms\n",
      "735:\tlearn: 416883.9089314\ttest: 892631.2910650\tbest: 878513.1325763 (307)\ttotal: 722ms\tremaining: 259ms\n",
      "736:\tlearn: 416687.1379628\ttest: 892465.8928333\tbest: 878513.1325763 (307)\ttotal: 723ms\tremaining: 258ms\n",
      "737:\tlearn: 416622.6513849\ttest: 892398.6324117\tbest: 878513.1325763 (307)\ttotal: 724ms\tremaining: 257ms\n",
      "738:\tlearn: 416281.0340857\ttest: 892350.0419919\tbest: 878513.1325763 (307)\ttotal: 725ms\tremaining: 256ms\n",
      "739:\tlearn: 415960.7013845\ttest: 892314.9987373\tbest: 878513.1325763 (307)\ttotal: 726ms\tremaining: 255ms\n",
      "740:\tlearn: 415893.1874155\ttest: 892414.3590245\tbest: 878513.1325763 (307)\ttotal: 727ms\tremaining: 254ms\n",
      "741:\tlearn: 415690.2529085\ttest: 891347.8797669\tbest: 878513.1325763 (307)\ttotal: 728ms\tremaining: 253ms\n",
      "742:\tlearn: 415348.7890285\ttest: 891560.4702608\tbest: 878513.1325763 (307)\ttotal: 729ms\tremaining: 252ms\n",
      "743:\tlearn: 415314.7893234\ttest: 891465.8251924\tbest: 878513.1325763 (307)\ttotal: 730ms\tremaining: 251ms\n",
      "744:\tlearn: 414994.7197450\ttest: 891669.7095959\tbest: 878513.1325763 (307)\ttotal: 731ms\tremaining: 250ms\n",
      "745:\tlearn: 414545.9169487\ttest: 891930.4286900\tbest: 878513.1325763 (307)\ttotal: 732ms\tremaining: 249ms\n",
      "746:\tlearn: 414543.6577309\ttest: 891922.5141390\tbest: 878513.1325763 (307)\ttotal: 733ms\tremaining: 248ms\n",
      "747:\tlearn: 414244.7223923\ttest: 892121.6462634\tbest: 878513.1325763 (307)\ttotal: 734ms\tremaining: 247ms\n",
      "748:\tlearn: 414242.3450312\ttest: 892117.8235624\tbest: 878513.1325763 (307)\ttotal: 735ms\tremaining: 246ms\n",
      "749:\tlearn: 414060.2590519\ttest: 891108.6844104\tbest: 878513.1325763 (307)\ttotal: 736ms\tremaining: 245ms\n",
      "750:\tlearn: 413777.2689217\ttest: 890761.1275570\tbest: 878513.1325763 (307)\ttotal: 736ms\tremaining: 244ms\n",
      "751:\tlearn: 413496.7466278\ttest: 890959.0785934\tbest: 878513.1325763 (307)\ttotal: 737ms\tremaining: 243ms\n",
      "752:\tlearn: 413260.7149275\ttest: 890999.7086685\tbest: 878513.1325763 (307)\ttotal: 738ms\tremaining: 242ms\n",
      "753:\tlearn: 413258.2132147\ttest: 891000.7996024\tbest: 878513.1325763 (307)\ttotal: 739ms\tremaining: 241ms\n",
      "754:\tlearn: 412901.0713457\ttest: 891135.7586246\tbest: 878513.1325763 (307)\ttotal: 740ms\tremaining: 240ms\n",
      "755:\tlearn: 412638.2085068\ttest: 891330.2120675\tbest: 878513.1325763 (307)\ttotal: 741ms\tremaining: 239ms\n",
      "756:\tlearn: 412471.2253556\ttest: 891269.0166645\tbest: 878513.1325763 (307)\ttotal: 742ms\tremaining: 238ms\n",
      "757:\tlearn: 412468.6787243\ttest: 891272.0537835\tbest: 878513.1325763 (307)\ttotal: 743ms\tremaining: 237ms\n",
      "758:\tlearn: 412466.2222712\ttest: 891275.0908700\tbest: 878513.1325763 (307)\ttotal: 744ms\tremaining: 236ms\n",
      "759:\tlearn: 412463.8527389\ttest: 891278.1261105\tbest: 878513.1325763 (307)\ttotal: 745ms\tremaining: 235ms\n",
      "760:\tlearn: 412461.5669923\ttest: 891281.1577833\tbest: 878513.1325763 (307)\ttotal: 746ms\tremaining: 234ms\n",
      "761:\tlearn: 411877.7165214\ttest: 891971.6501731\tbest: 878513.1325763 (307)\ttotal: 746ms\tremaining: 233ms\n",
      "762:\tlearn: 411875.4152624\ttest: 891976.2792429\tbest: 878513.1325763 (307)\ttotal: 747ms\tremaining: 232ms\n",
      "763:\tlearn: 411873.1954602\ttest: 891980.8744757\tbest: 878513.1325763 (307)\ttotal: 748ms\tremaining: 231ms\n",
      "764:\tlearn: 411871.0541744\ttest: 891985.4348625\tbest: 878513.1325763 (307)\ttotal: 749ms\tremaining: 230ms\n",
      "765:\tlearn: 411544.2301440\ttest: 891684.8438736\tbest: 878513.1325763 (307)\ttotal: 750ms\tremaining: 229ms\n",
      "766:\tlearn: 411542.2160164\ttest: 891703.9209259\tbest: 878513.1325763 (307)\ttotal: 751ms\tremaining: 228ms\n",
      "767:\tlearn: 411540.2712406\ttest: 891722.7171605\tbest: 878513.1325763 (307)\ttotal: 752ms\tremaining: 227ms\n",
      "768:\tlearn: 411437.8668517\ttest: 891623.8027590\tbest: 878513.1325763 (307)\ttotal: 753ms\tremaining: 226ms\n",
      "769:\tlearn: 411435.9560842\ttest: 891626.0212246\tbest: 878513.1325763 (307)\ttotal: 754ms\tremaining: 225ms\n",
      "770:\tlearn: 411434.1131695\ttest: 891628.2389043\tbest: 878513.1325763 (307)\ttotal: 755ms\tremaining: 224ms\n",
      "771:\tlearn: 411406.7577229\ttest: 891546.9152830\tbest: 878513.1325763 (307)\ttotal: 756ms\tremaining: 223ms\n",
      "772:\tlearn: 411405.0227908\ttest: 891548.4980653\tbest: 878513.1325763 (307)\ttotal: 757ms\tremaining: 222ms\n",
      "773:\tlearn: 411294.1950980\ttest: 891793.0615071\tbest: 878513.1325763 (307)\ttotal: 758ms\tremaining: 221ms\n",
      "774:\tlearn: 411292.6579508\ttest: 891810.7073213\tbest: 878513.1325763 (307)\ttotal: 758ms\tremaining: 220ms\n",
      "775:\tlearn: 411291.1236490\ttest: 891813.6218573\tbest: 878513.1325763 (307)\ttotal: 759ms\tremaining: 219ms\n",
      "776:\tlearn: 410982.9408076\ttest: 891529.7989193\tbest: 878513.1325763 (307)\ttotal: 760ms\tremaining: 218ms\n",
      "777:\tlearn: 410839.6922197\ttest: 891630.8934817\tbest: 878513.1325763 (307)\ttotal: 761ms\tremaining: 217ms\n",
      "778:\tlearn: 410620.6777834\ttest: 891501.4457149\tbest: 878513.1325763 (307)\ttotal: 762ms\tremaining: 216ms\n",
      "779:\tlearn: 410223.7101732\ttest: 891623.3183197\tbest: 878513.1325763 (307)\ttotal: 763ms\tremaining: 215ms\n",
      "780:\tlearn: 409851.8770483\ttest: 891602.8043368\tbest: 878513.1325763 (307)\ttotal: 764ms\tremaining: 214ms\n",
      "781:\tlearn: 409499.7651761\ttest: 891583.6666980\tbest: 878513.1325763 (307)\ttotal: 765ms\tremaining: 213ms\n",
      "782:\tlearn: 409184.3856189\ttest: 892022.9026578\tbest: 878513.1325763 (307)\ttotal: 766ms\tremaining: 212ms\n",
      "783:\tlearn: 409083.4807333\ttest: 891974.8351602\tbest: 878513.1325763 (307)\ttotal: 767ms\tremaining: 211ms\n",
      "784:\tlearn: 409057.5613853\ttest: 891986.0910974\tbest: 878513.1325763 (307)\ttotal: 768ms\tremaining: 210ms\n",
      "785:\tlearn: 408711.4316874\ttest: 892155.7685520\tbest: 878513.1325763 (307)\ttotal: 769ms\tremaining: 209ms\n",
      "786:\tlearn: 408322.8251506\ttest: 891979.1622412\tbest: 878513.1325763 (307)\ttotal: 770ms\tremaining: 208ms\n",
      "787:\tlearn: 407950.9604983\ttest: 892093.3590969\tbest: 878513.1325763 (307)\ttotal: 771ms\tremaining: 207ms\n",
      "788:\tlearn: 407479.4449234\ttest: 891890.3812716\tbest: 878513.1325763 (307)\ttotal: 772ms\tremaining: 206ms\n",
      "789:\tlearn: 407396.4041724\ttest: 891980.9082673\tbest: 878513.1325763 (307)\ttotal: 773ms\tremaining: 205ms\n",
      "790:\tlearn: 407348.7787591\ttest: 891926.6320992\tbest: 878513.1325763 (307)\ttotal: 773ms\tremaining: 204ms\n",
      "791:\tlearn: 407301.0540516\ttest: 891893.9698389\tbest: 878513.1325763 (307)\ttotal: 774ms\tremaining: 203ms\n",
      "792:\tlearn: 407193.0750436\ttest: 891822.7874405\tbest: 878513.1325763 (307)\ttotal: 775ms\tremaining: 202ms\n",
      "793:\tlearn: 407094.9636645\ttest: 892009.1675428\tbest: 878513.1325763 (307)\ttotal: 776ms\tremaining: 201ms\n",
      "794:\tlearn: 406995.1588538\ttest: 891942.7330156\tbest: 878513.1325763 (307)\ttotal: 777ms\tremaining: 200ms\n",
      "795:\tlearn: 406679.9449892\ttest: 891323.6699067\tbest: 878513.1325763 (307)\ttotal: 778ms\tremaining: 199ms\n",
      "796:\tlearn: 406639.6548536\ttest: 891364.2937392\tbest: 878513.1325763 (307)\ttotal: 779ms\tremaining: 198ms\n",
      "797:\tlearn: 406369.5935298\ttest: 891118.2374099\tbest: 878513.1325763 (307)\ttotal: 780ms\tremaining: 197ms\n",
      "798:\tlearn: 406076.7898833\ttest: 890534.4937038\tbest: 878513.1325763 (307)\ttotal: 781ms\tremaining: 196ms\n",
      "799:\tlearn: 406075.2539148\ttest: 890541.9705399\tbest: 878513.1325763 (307)\ttotal: 782ms\tremaining: 195ms\n",
      "800:\tlearn: 406073.7708432\ttest: 890549.3580942\tbest: 878513.1325763 (307)\ttotal: 782ms\tremaining: 194ms\n",
      "801:\tlearn: 406072.3388359\ttest: 890556.6565247\tbest: 878513.1325763 (307)\ttotal: 783ms\tremaining: 193ms\n",
      "802:\tlearn: 406070.9561250\ttest: 890563.8660349\tbest: 878513.1325763 (307)\ttotal: 784ms\tremaining: 192ms\n",
      "803:\tlearn: 405927.4304231\ttest: 890700.5019477\tbest: 878513.1325763 (307)\ttotal: 785ms\tremaining: 191ms\n",
      "804:\tlearn: 405926.1008313\ttest: 890707.8051209\tbest: 878513.1325763 (307)\ttotal: 786ms\tremaining: 190ms\n",
      "805:\tlearn: 405605.0327758\ttest: 890702.8951416\tbest: 878513.1325763 (307)\ttotal: 787ms\tremaining: 189ms\n",
      "806:\tlearn: 405267.9702869\ttest: 890670.8791176\tbest: 878513.1325763 (307)\ttotal: 788ms\tremaining: 188ms\n",
      "807:\tlearn: 404795.3785775\ttest: 891199.9141605\tbest: 878513.1325763 (307)\ttotal: 789ms\tremaining: 187ms\n",
      "808:\tlearn: 404517.0626261\ttest: 891346.8315226\tbest: 878513.1325763 (307)\ttotal: 790ms\tremaining: 186ms\n",
      "809:\tlearn: 404251.1105136\ttest: 891488.7855985\tbest: 878513.1325763 (307)\ttotal: 791ms\tremaining: 185ms\n",
      "810:\tlearn: 403934.4263895\ttest: 891455.9678568\tbest: 878513.1325763 (307)\ttotal: 791ms\tremaining: 184ms\n",
      "811:\tlearn: 403695.1403676\ttest: 891587.6731090\tbest: 878513.1325763 (307)\ttotal: 792ms\tremaining: 183ms\n",
      "812:\tlearn: 403465.8034531\ttest: 891714.4192163\tbest: 878513.1325763 (307)\ttotal: 793ms\tremaining: 183ms\n",
      "813:\tlearn: 403173.8899175\ttest: 891489.1228932\tbest: 878513.1325763 (307)\ttotal: 794ms\tremaining: 182ms\n",
      "814:\tlearn: 402941.5489650\ttest: 891623.0172110\tbest: 878513.1325763 (307)\ttotal: 795ms\tremaining: 181ms\n",
      "815:\tlearn: 402694.5890059\ttest: 891121.8479782\tbest: 878513.1325763 (307)\ttotal: 796ms\tremaining: 180ms\n",
      "816:\tlearn: 402459.2730595\ttest: 890640.5501302\tbest: 878513.1325763 (307)\ttotal: 797ms\tremaining: 179ms\n",
      "817:\tlearn: 402234.9650743\ttest: 890178.2955174\tbest: 878513.1325763 (307)\ttotal: 798ms\tremaining: 178ms\n",
      "818:\tlearn: 401983.0973210\ttest: 890005.4927175\tbest: 878513.1325763 (307)\ttotal: 799ms\tremaining: 177ms\n",
      "819:\tlearn: 401774.2733071\ttest: 889567.7513780\tbest: 878513.1325763 (307)\ttotal: 800ms\tremaining: 176ms\n",
      "820:\tlearn: 401556.3863335\ttest: 889866.6833229\tbest: 878513.1325763 (307)\ttotal: 801ms\tremaining: 175ms\n",
      "821:\tlearn: 401359.9131764\ttest: 889445.8070863\tbest: 878513.1325763 (307)\ttotal: 802ms\tremaining: 174ms\n",
      "822:\tlearn: 401157.3204951\ttest: 889742.0365464\tbest: 878513.1325763 (307)\ttotal: 802ms\tremaining: 173ms\n",
      "823:\tlearn: 400910.4637271\ttest: 889890.0477039\tbest: 878513.1325763 (307)\ttotal: 803ms\tremaining: 172ms\n",
      "824:\tlearn: 400693.7400050\ttest: 889755.7523225\tbest: 878513.1325763 (307)\ttotal: 804ms\tremaining: 171ms\n",
      "825:\tlearn: 400619.1146792\ttest: 889710.4326593\tbest: 878513.1325763 (307)\ttotal: 805ms\tremaining: 170ms\n",
      "826:\tlearn: 400434.8773960\ttest: 889994.3510278\tbest: 878513.1325763 (307)\ttotal: 806ms\tremaining: 169ms\n",
      "827:\tlearn: 400261.1918190\ttest: 890267.5924745\tbest: 878513.1325763 (307)\ttotal: 807ms\tremaining: 168ms\n",
      "828:\tlearn: 400062.2008943\ttest: 890142.6940814\tbest: 878513.1325763 (307)\ttotal: 808ms\tremaining: 167ms\n",
      "829:\tlearn: 399733.5688034\ttest: 890018.7925415\tbest: 878513.1325763 (307)\ttotal: 809ms\tremaining: 166ms\n",
      "830:\tlearn: 399563.2259526\ttest: 889622.3454033\tbest: 878513.1325763 (307)\ttotal: 810ms\tremaining: 165ms\n",
      "831:\tlearn: 399402.2891094\ttest: 889897.3035547\tbest: 878513.1325763 (307)\ttotal: 811ms\tremaining: 164ms\n",
      "832:\tlearn: 399221.3691573\ttest: 889787.5147257\tbest: 878513.1325763 (307)\ttotal: 812ms\tremaining: 163ms\n",
      "833:\tlearn: 398922.5851852\ttest: 889675.2529643\tbest: 878513.1325763 (307)\ttotal: 813ms\tremaining: 162ms\n",
      "834:\tlearn: 398679.5892625\ttest: 889845.3484484\tbest: 878513.1325763 (307)\ttotal: 813ms\tremaining: 161ms\n",
      "835:\tlearn: 398468.0801989\ttest: 889889.8637993\tbest: 878513.1325763 (307)\ttotal: 814ms\tremaining: 160ms\n",
      "836:\tlearn: 397898.8386962\ttest: 889675.4428886\tbest: 878513.1325763 (307)\ttotal: 815ms\tremaining: 159ms\n",
      "837:\tlearn: 397602.9644889\ttest: 889595.8831541\tbest: 878513.1325763 (307)\ttotal: 816ms\tremaining: 158ms\n",
      "838:\tlearn: 397458.4118141\ttest: 889525.9047076\tbest: 878513.1325763 (307)\ttotal: 817ms\tremaining: 157ms\n",
      "839:\tlearn: 397208.4970077\ttest: 889683.1668479\tbest: 878513.1325763 (307)\ttotal: 818ms\tremaining: 156ms\n",
      "840:\tlearn: 396897.3751190\ttest: 890189.9088110\tbest: 878513.1325763 (307)\ttotal: 819ms\tremaining: 155ms\n",
      "841:\tlearn: 396535.1678784\ttest: 889983.6287523\tbest: 878513.1325763 (307)\ttotal: 820ms\tremaining: 154ms\n",
      "842:\tlearn: 395968.1147002\ttest: 890067.4313245\tbest: 878513.1325763 (307)\ttotal: 821ms\tremaining: 153ms\n",
      "843:\tlearn: 395686.8308677\ttest: 890545.7930788\tbest: 878513.1325763 (307)\ttotal: 822ms\tremaining: 152ms\n",
      "844:\tlearn: 395308.5526382\ttest: 890869.4302505\tbest: 878513.1325763 (307)\ttotal: 823ms\tremaining: 151ms\n",
      "845:\tlearn: 395162.8910878\ttest: 891140.8320840\tbest: 878513.1325763 (307)\ttotal: 824ms\tremaining: 150ms\n",
      "846:\tlearn: 395003.6064230\ttest: 891045.2999257\tbest: 878513.1325763 (307)\ttotal: 825ms\tremaining: 149ms\n",
      "847:\tlearn: 394700.7793715\ttest: 891000.0335770\tbest: 878513.1325763 (307)\ttotal: 826ms\tremaining: 148ms\n",
      "848:\tlearn: 394486.1177143\ttest: 891186.5002767\tbest: 878513.1325763 (307)\ttotal: 826ms\tremaining: 147ms\n",
      "849:\tlearn: 394239.5294092\ttest: 891035.3454020\tbest: 878513.1325763 (307)\ttotal: 827ms\tremaining: 146ms\n",
      "850:\tlearn: 394070.2896865\ttest: 890897.6394829\tbest: 878513.1325763 (307)\ttotal: 828ms\tremaining: 145ms\n",
      "851:\tlearn: 393938.6771606\ttest: 891168.1914183\tbest: 878513.1325763 (307)\ttotal: 829ms\tremaining: 144ms\n",
      "852:\tlearn: 393781.9928229\ttest: 891037.8364066\tbest: 878513.1325763 (307)\ttotal: 830ms\tremaining: 143ms\n",
      "853:\tlearn: 393658.9390167\ttest: 891299.5605232\tbest: 878513.1325763 (307)\ttotal: 831ms\tremaining: 142ms\n",
      "854:\tlearn: 393511.2982096\ttest: 891178.7566461\tbest: 878513.1325763 (307)\ttotal: 832ms\tremaining: 141ms\n",
      "855:\tlearn: 393144.0779854\ttest: 891221.7688229\tbest: 878513.1325763 (307)\ttotal: 833ms\tremaining: 140ms\n",
      "856:\tlearn: 393007.5473299\ttest: 891445.5211399\tbest: 878513.1325763 (307)\ttotal: 834ms\tremaining: 139ms\n",
      "857:\tlearn: 392877.0372652\ttest: 891662.6028115\tbest: 878513.1325763 (307)\ttotal: 835ms\tremaining: 138ms\n",
      "858:\tlearn: 392740.4386539\ttest: 891582.4918339\tbest: 878513.1325763 (307)\ttotal: 835ms\tremaining: 137ms\n",
      "859:\tlearn: 392664.8324960\ttest: 891577.8991151\tbest: 878513.1325763 (307)\ttotal: 836ms\tremaining: 136ms\n",
      "860:\tlearn: 392461.1278839\ttest: 891613.7110151\tbest: 878513.1325763 (307)\ttotal: 837ms\tremaining: 135ms\n",
      "861:\tlearn: 392323.9644860\ttest: 891504.4275642\tbest: 878513.1325763 (307)\ttotal: 838ms\tremaining: 134ms\n",
      "862:\tlearn: 392033.0236315\ttest: 891454.1482704\tbest: 878513.1325763 (307)\ttotal: 839ms\tremaining: 133ms\n",
      "863:\tlearn: 391907.8968067\ttest: 891664.3066175\tbest: 878513.1325763 (307)\ttotal: 840ms\tremaining: 132ms\n",
      "864:\tlearn: 391786.0542529\ttest: 891338.1300010\tbest: 878513.1325763 (307)\ttotal: 841ms\tremaining: 131ms\n",
      "865:\tlearn: 391677.8615477\ttest: 891593.8787732\tbest: 878513.1325763 (307)\ttotal: 842ms\tremaining: 130ms\n",
      "866:\tlearn: 391561.5747451\ttest: 891696.5032851\tbest: 878513.1325763 (307)\ttotal: 843ms\tremaining: 129ms\n",
      "867:\tlearn: 391439.4183987\ttest: 891628.7752998\tbest: 878513.1325763 (307)\ttotal: 844ms\tremaining: 128ms\n",
      "868:\tlearn: 391338.9214950\ttest: 891871.5924103\tbest: 878513.1325763 (307)\ttotal: 845ms\tremaining: 127ms\n",
      "869:\tlearn: 391188.8103900\ttest: 891594.2633432\tbest: 878513.1325763 (307)\ttotal: 846ms\tremaining: 126ms\n",
      "870:\tlearn: 391095.3945452\ttest: 891829.3428878\tbest: 878513.1325763 (307)\ttotal: 847ms\tremaining: 125ms\n",
      "871:\tlearn: 390979.1117878\ttest: 892028.3021296\tbest: 878513.1325763 (307)\ttotal: 848ms\tremaining: 124ms\n",
      "872:\tlearn: 390484.1584196\ttest: 891861.8551564\tbest: 878513.1325763 (307)\ttotal: 849ms\tremaining: 123ms\n",
      "873:\tlearn: 390326.6342858\ttest: 891823.2399794\tbest: 878513.1325763 (307)\ttotal: 850ms\tremaining: 122ms\n",
      "874:\tlearn: 390216.1336167\ttest: 892007.7510411\tbest: 878513.1325763 (307)\ttotal: 850ms\tremaining: 121ms\n",
      "875:\tlearn: 390130.4171919\ttest: 892231.8202556\tbest: 878513.1325763 (307)\ttotal: 851ms\tremaining: 121ms\n",
      "876:\tlearn: 389976.6437090\ttest: 892259.9328526\tbest: 878513.1325763 (307)\ttotal: 852ms\tremaining: 120ms\n",
      "877:\tlearn: 389697.8364606\ttest: 892215.5301062\tbest: 878513.1325763 (307)\ttotal: 853ms\tremaining: 119ms\n",
      "878:\tlearn: 389451.7704422\ttest: 892365.9198423\tbest: 878513.1325763 (307)\ttotal: 854ms\tremaining: 118ms\n",
      "879:\tlearn: 389449.4030349\ttest: 892341.1206810\tbest: 878513.1325763 (307)\ttotal: 855ms\tremaining: 117ms\n",
      "880:\tlearn: 389091.0249642\ttest: 892236.5335213\tbest: 878513.1325763 (307)\ttotal: 856ms\tremaining: 116ms\n",
      "881:\tlearn: 388979.9941022\ttest: 892171.2632562\tbest: 878513.1325763 (307)\ttotal: 857ms\tremaining: 115ms\n",
      "882:\tlearn: 388978.0610203\ttest: 892167.8042201\tbest: 878513.1325763 (307)\ttotal: 858ms\tremaining: 114ms\n",
      "883:\tlearn: 388975.9714284\ttest: 892158.4840076\tbest: 878513.1325763 (307)\ttotal: 859ms\tremaining: 113ms\n",
      "884:\tlearn: 388928.7611770\ttest: 892133.6189279\tbest: 878513.1325763 (307)\ttotal: 860ms\tremaining: 112ms\n",
      "885:\tlearn: 388926.6230661\ttest: 892106.7930680\tbest: 878513.1325763 (307)\ttotal: 861ms\tremaining: 111ms\n",
      "886:\tlearn: 388833.5086801\ttest: 892023.4542082\tbest: 878513.1325763 (307)\ttotal: 862ms\tremaining: 110ms\n",
      "887:\tlearn: 388715.2137776\ttest: 892108.5256691\tbest: 878513.1325763 (307)\ttotal: 862ms\tremaining: 109ms\n",
      "888:\tlearn: 388713.1833120\ttest: 892082.7139742\tbest: 878513.1325763 (307)\ttotal: 863ms\tremaining: 108ms\n",
      "889:\tlearn: 388569.1433752\ttest: 892050.7184990\tbest: 878513.1325763 (307)\ttotal: 864ms\tremaining: 107ms\n",
      "890:\tlearn: 388473.8834411\ttest: 892117.0512862\tbest: 878513.1325763 (307)\ttotal: 865ms\tremaining: 106ms\n",
      "891:\tlearn: 387990.8053254\ttest: 892182.0849893\tbest: 878513.1325763 (307)\ttotal: 866ms\tremaining: 105ms\n",
      "892:\tlearn: 387844.8011268\ttest: 892350.3489535\tbest: 878513.1325763 (307)\ttotal: 867ms\tremaining: 104ms\n",
      "893:\tlearn: 387842.5195036\ttest: 892368.1207713\tbest: 878513.1325763 (307)\ttotal: 868ms\tremaining: 103ms\n",
      "894:\tlearn: 387762.3867516\ttest: 892345.4544745\tbest: 878513.1325763 (307)\ttotal: 869ms\tremaining: 102ms\n",
      "895:\tlearn: 387663.5445874\ttest: 892281.8950480\tbest: 878513.1325763 (307)\ttotal: 870ms\tremaining: 101ms\n",
      "896:\tlearn: 387580.0524357\ttest: 892235.6785222\tbest: 878513.1325763 (307)\ttotal: 871ms\tremaining: 100ms\n",
      "897:\tlearn: 387237.2498298\ttest: 892322.7969974\tbest: 878513.1325763 (307)\ttotal: 872ms\tremaining: 99ms\n",
      "898:\tlearn: 387117.4272850\ttest: 892067.8099680\tbest: 878513.1325763 (307)\ttotal: 873ms\tremaining: 98.1ms\n",
      "899:\tlearn: 387005.9244256\ttest: 891824.9566235\tbest: 878513.1325763 (307)\ttotal: 874ms\tremaining: 97.1ms\n",
      "900:\tlearn: 386914.1629148\ttest: 891827.1924914\tbest: 878513.1325763 (307)\ttotal: 875ms\tremaining: 96.1ms\n",
      "901:\tlearn: 386779.1778683\ttest: 892026.1568554\tbest: 878513.1325763 (307)\ttotal: 876ms\tremaining: 95.2ms\n",
      "902:\tlearn: 386661.1443561\ttest: 892012.6387231\tbest: 878513.1325763 (307)\ttotal: 877ms\tremaining: 94.2ms\n",
      "903:\tlearn: 386476.7540290\ttest: 892045.9210959\tbest: 878513.1325763 (307)\ttotal: 878ms\tremaining: 93.2ms\n",
      "904:\tlearn: 386474.5291565\ttest: 892017.4887887\tbest: 878513.1325763 (307)\ttotal: 879ms\tremaining: 92.2ms\n",
      "905:\tlearn: 386472.4013777\ttest: 891989.9918197\tbest: 878513.1325763 (307)\ttotal: 880ms\tremaining: 91.3ms\n",
      "906:\tlearn: 386304.7101249\ttest: 892026.7595612\tbest: 878513.1325763 (307)\ttotal: 881ms\tremaining: 90.3ms\n",
      "907:\tlearn: 386179.0231799\ttest: 892223.0727086\tbest: 878513.1325763 (307)\ttotal: 882ms\tremaining: 89.3ms\n",
      "908:\tlearn: 385877.8373272\ttest: 891960.3577954\tbest: 878513.1325763 (307)\ttotal: 882ms\tremaining: 88.3ms\n",
      "909:\tlearn: 385729.0580921\ttest: 891954.3509679\tbest: 878513.1325763 (307)\ttotal: 883ms\tremaining: 87.4ms\n",
      "910:\tlearn: 385726.9336449\ttest: 891925.3122450\tbest: 878513.1325763 (307)\ttotal: 884ms\tremaining: 86.4ms\n",
      "911:\tlearn: 385607.9755189\ttest: 892066.4044763\tbest: 878513.1325763 (307)\ttotal: 885ms\tremaining: 85.4ms\n",
      "912:\tlearn: 385490.6643020\ttest: 892232.9263893\tbest: 878513.1325763 (307)\ttotal: 886ms\tremaining: 84.5ms\n",
      "913:\tlearn: 385488.4094116\ttest: 892242.8437902\tbest: 878513.1325763 (307)\ttotal: 887ms\tremaining: 83.5ms\n",
      "914:\tlearn: 385154.4332757\ttest: 892299.7799134\tbest: 878513.1325763 (307)\ttotal: 888ms\tremaining: 82.5ms\n",
      "915:\tlearn: 385033.9410698\ttest: 892404.1609899\tbest: 878513.1325763 (307)\ttotal: 889ms\tremaining: 81.5ms\n",
      "916:\tlearn: 384838.6976739\ttest: 892510.4518906\tbest: 878513.1325763 (307)\ttotal: 890ms\tremaining: 80.6ms\n",
      "917:\tlearn: 384836.6295792\ttest: 892520.0660061\tbest: 878513.1325763 (307)\ttotal: 891ms\tremaining: 79.6ms\n",
      "918:\tlearn: 384834.7629565\ttest: 892492.9724802\tbest: 878513.1325763 (307)\ttotal: 892ms\tremaining: 78.6ms\n",
      "919:\tlearn: 384832.9823705\ttest: 892466.5604525\tbest: 878513.1325763 (307)\ttotal: 893ms\tremaining: 77.6ms\n",
      "920:\tlearn: 384533.6247886\ttest: 892665.7077857\tbest: 878513.1325763 (307)\ttotal: 894ms\tremaining: 76.7ms\n",
      "921:\tlearn: 384531.9412142\ttest: 892640.6740802\tbest: 878513.1325763 (307)\ttotal: 895ms\tremaining: 75.7ms\n",
      "922:\tlearn: 384530.3312672\ttest: 892616.4621836\tbest: 878513.1325763 (307)\ttotal: 896ms\tremaining: 74.7ms\n",
      "923:\tlearn: 384465.2492761\ttest: 892646.3450352\tbest: 878513.1325763 (307)\ttotal: 897ms\tremaining: 73.7ms\n",
      "924:\tlearn: 384463.7663873\ttest: 892624.0877685\tbest: 878513.1325763 (307)\ttotal: 897ms\tremaining: 72.8ms\n",
      "925:\tlearn: 384196.3314473\ttest: 892436.5287984\tbest: 878513.1325763 (307)\ttotal: 898ms\tremaining: 71.8ms\n",
      "926:\tlearn: 383981.0053486\ttest: 892535.3447718\tbest: 878513.1325763 (307)\ttotal: 899ms\tremaining: 70.8ms\n",
      "927:\tlearn: 383942.4765135\ttest: 892511.5249821\tbest: 878513.1325763 (307)\ttotal: 900ms\tremaining: 69.9ms\n",
      "928:\tlearn: 383841.3122571\ttest: 892675.0710108\tbest: 878513.1325763 (307)\ttotal: 901ms\tremaining: 68.9ms\n",
      "929:\tlearn: 383571.7082460\ttest: 892845.4446731\tbest: 878513.1325763 (307)\ttotal: 902ms\tremaining: 67.9ms\n",
      "930:\tlearn: 383359.5180773\ttest: 892890.7605401\tbest: 878513.1325763 (307)\ttotal: 903ms\tremaining: 66.9ms\n",
      "931:\tlearn: 383243.7390917\ttest: 893075.2218802\tbest: 878513.1325763 (307)\ttotal: 904ms\tremaining: 66ms\n",
      "932:\tlearn: 383100.5833614\ttest: 893120.3755854\tbest: 878513.1325763 (307)\ttotal: 905ms\tremaining: 65ms\n",
      "933:\tlearn: 383001.3240917\ttest: 892882.0078133\tbest: 878513.1325763 (307)\ttotal: 906ms\tremaining: 64ms\n",
      "934:\tlearn: 382999.5392585\ttest: 892897.8826169\tbest: 878513.1325763 (307)\ttotal: 907ms\tremaining: 63ms\n",
      "935:\tlearn: 382921.3361125\ttest: 892687.0010260\tbest: 878513.1325763 (307)\ttotal: 908ms\tremaining: 62.1ms\n",
      "936:\tlearn: 382743.8389248\ttest: 892797.2192268\tbest: 878513.1325763 (307)\ttotal: 909ms\tremaining: 61.1ms\n",
      "937:\tlearn: 382595.4621466\ttest: 892773.1985609\tbest: 878513.1325763 (307)\ttotal: 910ms\tremaining: 60.1ms\n",
      "938:\tlearn: 382465.4981772\ttest: 892821.5476809\tbest: 878513.1325763 (307)\ttotal: 911ms\tremaining: 59.1ms\n",
      "939:\tlearn: 382372.6345567\ttest: 892595.4581604\tbest: 878513.1325763 (307)\ttotal: 911ms\tremaining: 58.2ms\n",
      "940:\tlearn: 382275.3728880\ttest: 892697.7835256\tbest: 878513.1325763 (307)\ttotal: 912ms\tremaining: 57.2ms\n",
      "941:\tlearn: 382136.8404572\ttest: 892668.0710066\tbest: 878513.1325763 (307)\ttotal: 913ms\tremaining: 56.2ms\n",
      "942:\tlearn: 382134.9280212\ttest: 892655.3548073\tbest: 878513.1325763 (307)\ttotal: 914ms\tremaining: 55.3ms\n",
      "943:\tlearn: 382132.9433635\ttest: 892678.2668492\tbest: 878513.1325763 (307)\ttotal: 915ms\tremaining: 54.3ms\n",
      "944:\tlearn: 382012.9664336\ttest: 892685.0807752\tbest: 878513.1325763 (307)\ttotal: 916ms\tremaining: 53.3ms\n",
      "945:\tlearn: 381862.1137430\ttest: 892703.7774685\tbest: 878513.1325763 (307)\ttotal: 917ms\tremaining: 52.4ms\n",
      "946:\tlearn: 381797.0792741\ttest: 892752.4236516\tbest: 878513.1325763 (307)\ttotal: 918ms\tremaining: 51.4ms\n",
      "947:\tlearn: 381668.9812847\ttest: 892730.5222429\tbest: 878513.1325763 (307)\ttotal: 919ms\tremaining: 50.4ms\n",
      "948:\tlearn: 381667.2623001\ttest: 892723.8722797\tbest: 878513.1325763 (307)\ttotal: 920ms\tremaining: 49.5ms\n",
      "949:\tlearn: 381665.6212163\ttest: 892720.1873787\tbest: 878513.1325763 (307)\ttotal: 921ms\tremaining: 48.5ms\n",
      "950:\tlearn: 381664.0163180\ttest: 892713.6939771\tbest: 878513.1325763 (307)\ttotal: 922ms\tremaining: 47.5ms\n",
      "951:\tlearn: 381662.4699631\ttest: 892707.3403185\tbest: 878513.1325763 (307)\ttotal: 923ms\tremaining: 46.5ms\n",
      "952:\tlearn: 381660.9913281\ttest: 892704.2396580\tbest: 878513.1325763 (307)\ttotal: 924ms\tremaining: 45.5ms\n",
      "953:\tlearn: 381529.4231407\ttest: 892649.9310795\tbest: 878513.1325763 (307)\ttotal: 925ms\tremaining: 44.6ms\n",
      "954:\tlearn: 381189.2192944\ttest: 892409.3655421\tbest: 878513.1325763 (307)\ttotal: 926ms\tremaining: 43.6ms\n",
      "955:\tlearn: 381187.7731975\ttest: 892404.4570137\tbest: 878513.1325763 (307)\ttotal: 926ms\tremaining: 42.6ms\n",
      "956:\tlearn: 381186.2333785\ttest: 892426.6220632\tbest: 878513.1325763 (307)\ttotal: 927ms\tremaining: 41.7ms\n",
      "957:\tlearn: 381184.8880237\ttest: 892421.9218801\tbest: 878513.1325763 (307)\ttotal: 928ms\tremaining: 40.7ms\n",
      "958:\tlearn: 380998.9614514\ttest: 892514.1086871\tbest: 878513.1325763 (307)\ttotal: 929ms\tremaining: 39.7ms\n",
      "959:\tlearn: 380878.6669556\ttest: 892486.7820204\tbest: 878513.1325763 (307)\ttotal: 930ms\tremaining: 38.8ms\n",
      "960:\tlearn: 380877.1933118\ttest: 892488.0899489\tbest: 878513.1325763 (307)\ttotal: 931ms\tremaining: 37.8ms\n",
      "961:\tlearn: 380875.7716642\ttest: 892487.4592351\tbest: 878513.1325763 (307)\ttotal: 932ms\tremaining: 36.8ms\n",
      "962:\tlearn: 380874.4014664\ttest: 892486.8627496\tbest: 878513.1325763 (307)\ttotal: 933ms\tremaining: 35.8ms\n",
      "963:\tlearn: 380873.0716003\ttest: 892488.4375130\tbest: 878513.1325763 (307)\ttotal: 934ms\tremaining: 34.9ms\n",
      "964:\tlearn: 380871.7985386\ttest: 892486.9231632\tbest: 878513.1325763 (307)\ttotal: 934ms\tremaining: 33.9ms\n",
      "965:\tlearn: 380870.5583131\ttest: 892486.3254857\tbest: 878513.1325763 (307)\ttotal: 935ms\tremaining: 32.9ms\n",
      "966:\tlearn: 380869.3705588\ttest: 892484.9167331\tbest: 878513.1325763 (307)\ttotal: 936ms\tremaining: 31.9ms\n",
      "967:\tlearn: 380770.8929252\ttest: 892470.1017000\tbest: 878513.1325763 (307)\ttotal: 937ms\tremaining: 31ms\n",
      "968:\tlearn: 380655.2242079\ttest: 892514.7436821\tbest: 878513.1325763 (307)\ttotal: 938ms\tremaining: 30ms\n",
      "969:\tlearn: 380571.5922757\ttest: 892292.9967212\tbest: 878513.1325763 (307)\ttotal: 939ms\tremaining: 29ms\n",
      "970:\tlearn: 380467.3659903\ttest: 892422.0197830\tbest: 878513.1325763 (307)\ttotal: 940ms\tremaining: 28.1ms\n",
      "971:\tlearn: 380353.3074825\ttest: 892389.2924045\tbest: 878513.1325763 (307)\ttotal: 941ms\tremaining: 27.1ms\n",
      "972:\tlearn: 380317.0663939\ttest: 892462.8593541\tbest: 878513.1325763 (307)\ttotal: 942ms\tremaining: 26.1ms\n",
      "973:\tlearn: 380315.6441382\ttest: 892463.7207631\tbest: 878513.1325763 (307)\ttotal: 943ms\tremaining: 25.2ms\n",
      "974:\tlearn: 380180.6893427\ttest: 892362.0302909\tbest: 878513.1325763 (307)\ttotal: 944ms\tremaining: 24.2ms\n",
      "975:\tlearn: 379938.3551916\ttest: 892113.5370057\tbest: 878513.1325763 (307)\ttotal: 945ms\tremaining: 23.2ms\n",
      "976:\tlearn: 379937.0748024\ttest: 892112.3578990\tbest: 878513.1325763 (307)\ttotal: 946ms\tremaining: 22.3ms\n",
      "977:\tlearn: 379825.1277402\ttest: 892193.9874357\tbest: 878513.1325763 (307)\ttotal: 947ms\tremaining: 21.3ms\n",
      "978:\tlearn: 379775.4061593\ttest: 892176.8037500\tbest: 878513.1325763 (307)\ttotal: 948ms\tremaining: 20.3ms\n",
      "979:\tlearn: 379649.7533186\ttest: 892682.2029788\tbest: 878513.1325763 (307)\ttotal: 948ms\tremaining: 19.4ms\n",
      "980:\tlearn: 379591.5849863\ttest: 892780.7104689\tbest: 878513.1325763 (307)\ttotal: 949ms\tremaining: 18.4ms\n",
      "981:\tlearn: 379395.3756446\ttest: 892848.9467333\tbest: 878513.1325763 (307)\ttotal: 950ms\tremaining: 17.4ms\n",
      "982:\tlearn: 379270.2773320\ttest: 892788.0270421\tbest: 878513.1325763 (307)\ttotal: 951ms\tremaining: 16.5ms\n",
      "983:\tlearn: 379167.0466683\ttest: 892835.4766201\tbest: 878513.1325763 (307)\ttotal: 952ms\tremaining: 15.5ms\n",
      "984:\tlearn: 378919.7114236\ttest: 893154.3429857\tbest: 878513.1325763 (307)\ttotal: 953ms\tremaining: 14.5ms\n",
      "985:\tlearn: 378918.0792384\ttest: 893159.9896579\tbest: 878513.1325763 (307)\ttotal: 954ms\tremaining: 13.5ms\n",
      "986:\tlearn: 378916.5186665\ttest: 893164.7780683\tbest: 878513.1325763 (307)\ttotal: 955ms\tremaining: 12.6ms\n",
      "987:\tlearn: 378655.7005595\ttest: 893243.7187419\tbest: 878513.1325763 (307)\ttotal: 956ms\tremaining: 11.6ms\n",
      "988:\tlearn: 378490.1620071\ttest: 893164.1700745\tbest: 878513.1325763 (307)\ttotal: 957ms\tremaining: 10.6ms\n",
      "989:\tlearn: 378389.2521440\ttest: 893294.6640379\tbest: 878513.1325763 (307)\ttotal: 958ms\tremaining: 9.68ms\n",
      "990:\tlearn: 378303.2922158\ttest: 893281.0805391\tbest: 878513.1325763 (307)\ttotal: 959ms\tremaining: 8.71ms\n",
      "991:\tlearn: 378193.6770698\ttest: 893751.0068995\tbest: 878513.1325763 (307)\ttotal: 960ms\tremaining: 7.74ms\n",
      "992:\tlearn: 378192.1961413\ttest: 893751.7122675\tbest: 878513.1325763 (307)\ttotal: 961ms\tremaining: 6.78ms\n",
      "993:\tlearn: 378190.6863518\ttest: 893746.1501526\tbest: 878513.1325763 (307)\ttotal: 962ms\tremaining: 5.81ms\n",
      "994:\tlearn: 377864.1917060\ttest: 894064.4462901\tbest: 878513.1325763 (307)\ttotal: 963ms\tremaining: 4.84ms\n",
      "995:\tlearn: 377792.7652378\ttest: 894203.7872844\tbest: 878513.1325763 (307)\ttotal: 964ms\tremaining: 3.87ms\n",
      "996:\tlearn: 377791.2973101\ttest: 894206.4545279\tbest: 878513.1325763 (307)\ttotal: 965ms\tremaining: 2.9ms\n",
      "997:\tlearn: 377622.0019344\ttest: 894267.8803864\tbest: 878513.1325763 (307)\ttotal: 966ms\tremaining: 1.94ms\n",
      "998:\tlearn: 377430.4103912\ttest: 894451.7015988\tbest: 878513.1325763 (307)\ttotal: 967ms\tremaining: 967us\n",
      "999:\tlearn: 377213.7454690\ttest: 894757.4051949\tbest: 878513.1325763 (307)\ttotal: 968ms\tremaining: 0us\n",
      "\n",
      "bestTest = 878513.1326\n",
      "bestIteration = 307\n",
      "\n",
      "Shrink model to first 308 iterations.\n"
     ]
    },
    {
     "data": {
      "text/plain": "<catboost.core.CatBoostRegressor at 0x17d8be732e0>"
     },
     "execution_count": 463,
     "metadata": {},
     "output_type": "execute_result"
    }
   ],
   "source": [
    "model = CatBoostRegressor(random_state = 123)\n",
    "model.fit(X_train, y_train, eval_set = [(X_test,y_test)])"
   ],
   "metadata": {
    "collapsed": false,
    "pycharm": {
     "name": "#%%\n"
    }
   }
  },
  {
   "cell_type": "code",
   "execution_count": 471,
   "outputs": [
    {
     "data": {
      "text/plain": "878513.1325762578"
     },
     "execution_count": 471,
     "metadata": {},
     "output_type": "execute_result"
    }
   ],
   "source": [
    "y_pred = model.predict(X_test)\n",
    "MSE = mean_squared_error(y_test, y_pred)\n",
    "np.sqrt(MSE)"
   ],
   "metadata": {
    "collapsed": false,
    "pycharm": {
     "name": "#%%\n"
    }
   }
  },
  {
   "cell_type": "code",
   "execution_count": 464,
   "outputs": [],
   "source": [
    "pred = model.predict(test_df)\n",
    "sub_df['value'] = pred"
   ],
   "metadata": {
    "collapsed": false,
    "pycharm": {
     "name": "#%%\n"
    }
   }
  },
  {
   "cell_type": "code",
   "execution_count": 465,
   "outputs": [],
   "source": [
    "sub_df['value'] = pred"
   ],
   "metadata": {
    "collapsed": false,
    "pycharm": {
     "name": "#%%\n"
    }
   }
  },
  {
   "cell_type": "code",
   "execution_count": 466,
   "outputs": [],
   "source": [
    "sub_df.to_csv('./save/submission.csv', index=False)"
   ],
   "metadata": {
    "collapsed": false,
    "pycharm": {
     "name": "#%%\n"
    }
   }
  },
  {
   "cell_type": "code",
   "execution_count": 466,
   "outputs": [],
   "source": [],
   "metadata": {
    "collapsed": false,
    "pycharm": {
     "name": "#%%\n"
    }
   }
  }
 ],
 "metadata": {
  "kernelspec": {
   "display_name": "Python 3.8.0 ('svm')",
   "language": "python",
   "name": "python3"
  },
  "language_info": {
   "codemirror_mode": {
    "name": "ipython",
    "version": 3
   },
   "file_extension": ".py",
   "mimetype": "text/x-python",
   "name": "python",
   "nbconvert_exporter": "python",
   "pygments_lexer": "ipython3",
   "version": "3.8.0"
  },
  "orig_nbformat": 4,
  "vscode": {
   "interpreter": {
    "hash": "8bf7326e726e1afdc25abde2449a88ed3f85d04f80718eed852b94fd6777a472"
   }
  }
 },
 "nbformat": 4,
 "nbformat_minor": 2
}