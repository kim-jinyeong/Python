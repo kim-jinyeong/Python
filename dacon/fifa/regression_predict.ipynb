{
 "cells": [
  {
   "cell_type": "code",
   "execution_count": 2,
   "metadata": {},
   "outputs": [],
   "source": [
    "# https://dacon.io/competitions/open/235538/data\n",
    "# id : 선수 고유의 아이디\n",
    "# name : 이름\n",
    "# age : 나이\n",
    "# continent : 선수들의 국적이 포함되어 있는 대륙입니다\n",
    "# contract_until : 선수의 계약기간이 언제까지인지 나타내어 줍니다\n",
    "# position : 선수가 선호하는 포지션입니다. ex) 공격수, 수비수 등\n",
    "# prefer_foot : 선수가 선호하는 발입니다. ex) 오른발\n",
    "# reputation : 선수가 유명한 정도입니다. ex) 높은 수치일 수록 유명한 선수\n",
    "# stat_overall : 선수의 현재 능력치 입니다.\n",
    "# stat_potential : 선수가 경험 및 노력을 통해 발전할 수 있는 정도입니다.\n",
    "# stat_skill_moves : 선수의 개인기 능력치 입니다.\n",
    "# value : FIFA가 선정한 선수의 이적 시장 가격 (단위 : 유로) 입니다\n"
   ]
  },
  {
   "cell_type": "code",
   "execution_count": 74,
   "metadata": {},
   "outputs": [],
   "source": [
    "import numpy as np\n",
    "import pandas as pd\n",
    "from catboost import CatBoostRegressor, Pool\n",
    "from sklearn.model_selection import KFold\n",
    "from sklearn.model_selection import train_test_split\n",
    "from sklearn.metrics import mean_absolute_error, mean_squared_error\n",
    "from lightgbm import LGBMRegressor\n",
    "from bayes_opt import BayesianOptimization"
   ]
  },
  {
   "cell_type": "code",
   "execution_count": 43,
   "metadata": {},
   "outputs": [],
   "source": [
    "train_df = pd.read_csv('./data/FIFA_train.csv')\n",
    "test_df = pd.read_csv('./data/FIFA_test.csv')\n",
    "sub_df = pd.read_csv('./data/submission.csv')\n"
   ]
  },
  {
   "cell_type": "code",
   "execution_count": 44,
   "metadata": {
    "collapsed": false,
    "pycharm": {
     "name": "#%%\n"
    }
   },
   "outputs": [
    {
     "name": "stdout",
     "output_type": "stream",
     "text": [
      "<class 'pandas.core.frame.DataFrame'>\n",
      "RangeIndex: 8932 entries, 0 to 8931\n",
      "Data columns (total 12 columns):\n",
      " #   Column            Non-Null Count  Dtype  \n",
      "---  ------            --------------  -----  \n",
      " 0   id                8932 non-null   int64  \n",
      " 1   name              8932 non-null   object \n",
      " 2   age               8932 non-null   int64  \n",
      " 3   continent         8932 non-null   object \n",
      " 4   contract_until    8932 non-null   object \n",
      " 5   position          8932 non-null   object \n",
      " 6   prefer_foot       8932 non-null   object \n",
      " 7   reputation        8932 non-null   float64\n",
      " 8   stat_overall      8932 non-null   int64  \n",
      " 9   stat_potential    8932 non-null   int64  \n",
      " 10  stat_skill_moves  8932 non-null   float64\n",
      " 11  value             8932 non-null   float64\n",
      "dtypes: float64(3), int64(4), object(5)\n",
      "memory usage: 837.5+ KB\n"
     ]
    }
   ],
   "source": [
    "train_df.info()"
   ]
  },
  {
   "cell_type": "code",
   "execution_count": 45,
   "metadata": {},
   "outputs": [
    {
     "name": "stdout",
     "output_type": "stream",
     "text": [
      "<class 'pandas.core.frame.DataFrame'>\n",
      "RangeIndex: 3828 entries, 0 to 3827\n",
      "Data columns (total 11 columns):\n",
      " #   Column            Non-Null Count  Dtype  \n",
      "---  ------            --------------  -----  \n",
      " 0   id                3828 non-null   int64  \n",
      " 1   name              3828 non-null   object \n",
      " 2   age               3828 non-null   int64  \n",
      " 3   continent         3828 non-null   object \n",
      " 4   contract_until    3828 non-null   object \n",
      " 5   position          3828 non-null   object \n",
      " 6   prefer_foot       3828 non-null   object \n",
      " 7   reputation        3828 non-null   float64\n",
      " 8   stat_overall      3828 non-null   int64  \n",
      " 9   stat_potential    3828 non-null   int64  \n",
      " 10  stat_skill_moves  3828 non-null   float64\n",
      "dtypes: float64(2), int64(4), object(5)\n",
      "memory usage: 329.1+ KB\n"
     ]
    }
   ],
   "source": [
    "test_df.info()"
   ]
  },
  {
   "cell_type": "code",
   "execution_count": 46,
   "metadata": {
    "collapsed": false,
    "pycharm": {
     "name": "#%%\n"
    }
   },
   "outputs": [],
   "source": [
    "train_df.drop(columns=['id','name'], inplace=True)\n",
    "test_df.drop(columns=['id','name'], inplace=True)"
   ]
  },
  {
   "cell_type": "code",
   "execution_count": 47,
   "metadata": {},
   "outputs": [
    {
     "data": {
      "text/plain": [
       "26    708\n",
       "24    691\n",
       "21    676\n",
       "23    663\n",
       "25    654\n",
       "22    632\n",
       "20    582\n",
       "27    581\n",
       "28    532\n",
       "19    491\n",
       "30    476\n",
       "29    472\n",
       "31    347\n",
       "18    344\n",
       "32    285\n",
       "34    216\n",
       "33    202\n",
       "17    131\n",
       "35     89\n",
       "36     64\n",
       "37     42\n",
       "16     18\n",
       "38     17\n",
       "39     16\n",
       "40      3\n",
       "Name: age, dtype: int64"
      ]
     },
     "execution_count": 47,
     "metadata": {},
     "output_type": "execute_result"
    }
   ],
   "source": [
    "train_df['age'].value_counts()"
   ]
  },
  {
   "cell_type": "code",
   "execution_count": 48,
   "metadata": {},
   "outputs": [
    {
     "data": {
      "text/plain": [
       "europe           5322\n",
       "south america    1927\n",
       "asia              787\n",
       "africa            721\n",
       "oceania           175\n",
       "Name: continent, dtype: int64"
      ]
     },
     "execution_count": 48,
     "metadata": {},
     "output_type": "execute_result"
    }
   ],
   "source": [
    "train_df['continent'].value_counts()"
   ]
  },
  {
   "cell_type": "code",
   "execution_count": 49,
   "metadata": {
    "collapsed": false,
    "pycharm": {
     "name": "#%%\n"
    }
   },
   "outputs": [
    {
     "data": {
      "text/plain": [
       "2019            2366\n",
       "2021            2308\n",
       "2020            2041\n",
       "2022             761\n",
       "2023             506\n",
       "Jun 30, 2019     501\n",
       "2018             327\n",
       "Dec 31, 2018      64\n",
       "May 31, 2019      19\n",
       "2024              12\n",
       "Jan 31, 2019      10\n",
       "Jun 30, 2020       9\n",
       "2025               3\n",
       "Jan 1, 2019        2\n",
       "Jan 12, 2019       1\n",
       "2026               1\n",
       "May 31, 2020       1\n",
       "Name: contract_until, dtype: int64"
      ]
     },
     "execution_count": 49,
     "metadata": {},
     "output_type": "execute_result"
    }
   ],
   "source": [
    "train_df['contract_until'].value_counts()"
   ]
  },
  {
   "cell_type": "code",
   "execution_count": 50,
   "metadata": {
    "collapsed": false,
    "pycharm": {
     "name": "#%%\n"
    }
   },
   "outputs": [
    {
     "data": {
      "text/plain": [
       "MF    3428\n",
       "DF    2791\n",
       "ST    1705\n",
       "GK    1008\n",
       "Name: position, dtype: int64"
      ]
     },
     "execution_count": 50,
     "metadata": {},
     "output_type": "execute_result"
    }
   ],
   "source": [
    "train_df['position'].value_counts()"
   ]
  },
  {
   "cell_type": "code",
   "execution_count": 51,
   "metadata": {
    "collapsed": false,
    "pycharm": {
     "name": "#%%\n"
    }
   },
   "outputs": [
    {
     "data": {
      "text/plain": [
       "right    6837\n",
       "left     2095\n",
       "Name: prefer_foot, dtype: int64"
      ]
     },
     "execution_count": 51,
     "metadata": {},
     "output_type": "execute_result"
    }
   ],
   "source": [
    "train_df['prefer_foot'].value_counts()"
   ]
  },
  {
   "cell_type": "code",
   "execution_count": 52,
   "metadata": {
    "collapsed": false,
    "pycharm": {
     "name": "#%%\n"
    }
   },
   "outputs": [
    {
     "data": {
      "text/plain": [
       "1.0    8014\n",
       "2.0     706\n",
       "3.0     177\n",
       "4.0      31\n",
       "5.0       4\n",
       "Name: reputation, dtype: int64"
      ]
     },
     "execution_count": 52,
     "metadata": {},
     "output_type": "execute_result"
    }
   ],
   "source": [
    "train_df['reputation'].value_counts()"
   ]
  },
  {
   "cell_type": "code",
   "execution_count": 53,
   "metadata": {
    "collapsed": false,
    "pycharm": {
     "name": "#%%\n"
    }
   },
   "outputs": [
    {
     "data": {
      "text/plain": [
       "67    570\n",
       "66    559\n",
       "68    543\n",
       "69    532\n",
       "64    492\n",
       "65    479\n",
       "63    473\n",
       "70    463\n",
       "72    445\n",
       "71    431\n",
       "62    363\n",
       "73    332\n",
       "61    305\n",
       "74    303\n",
       "60    303\n",
       "75    281\n",
       "59    205\n",
       "76    204\n",
       "58    170\n",
       "77    169\n",
       "57    148\n",
       "56    143\n",
       "78    106\n",
       "55    104\n",
       "79    103\n",
       "54    102\n",
       "53     91\n",
       "80     83\n",
       "52     70\n",
       "82     58\n",
       "81     53\n",
       "51     51\n",
       "83     46\n",
       "50     42\n",
       "84     27\n",
       "85     22\n",
       "86     11\n",
       "88     10\n",
       "87      9\n",
       "89      7\n",
       "48      7\n",
       "49      6\n",
       "47      4\n",
       "90      3\n",
       "91      3\n",
       "94      1\n",
       "Name: stat_overall, dtype: int64"
      ]
     },
     "execution_count": 53,
     "metadata": {},
     "output_type": "execute_result"
    }
   ],
   "source": [
    "train_df['stat_overall'].value_counts()"
   ]
  },
  {
   "cell_type": "code",
   "execution_count": 54,
   "metadata": {
    "collapsed": false,
    "pycharm": {
     "name": "#%%\n"
    }
   },
   "outputs": [],
   "source": [
    "train_df['contract_until'] = train_df['contract_until'].apply(lambda x : int(x[-4:]))\n",
    "test_df['contract_until'] = test_df['contract_until'].apply(lambda x : int(x[-4:]))"
   ]
  },
  {
   "cell_type": "code",
   "execution_count": 55,
   "metadata": {
    "collapsed": false,
    "pycharm": {
     "name": "#%%\n"
    }
   },
   "outputs": [
    {
     "data": {
      "text/plain": [
       "[2021, 2020, 2019, 2023, 2022, 2024, 2026, 2018, 2025]"
      ]
     },
     "execution_count": 55,
     "metadata": {},
     "output_type": "execute_result"
    }
   ],
   "source": [
    "train_df['contract_until'].unique().tolist()"
   ]
  },
  {
   "cell_type": "code",
   "execution_count": 56,
   "metadata": {
    "collapsed": false,
    "pycharm": {
     "name": "#%%\n"
    }
   },
   "outputs": [
    {
     "data": {
      "text/plain": [
       "2019    2899\n",
       "2021    2308\n",
       "2020    2051\n",
       "2022     761\n",
       "2023     506\n",
       "2018     391\n",
       "2024      12\n",
       "2025       3\n",
       "2026       1\n",
       "Name: contract_until, dtype: int64"
      ]
     },
     "execution_count": 56,
     "metadata": {},
     "output_type": "execute_result"
    }
   ],
   "source": [
    "train_df['contract_until'].value_counts()"
   ]
  },
  {
   "cell_type": "code",
   "execution_count": 57,
   "metadata": {
    "collapsed": false,
    "pycharm": {
     "name": "#%%\n"
    }
   },
   "outputs": [
    {
     "data": {
      "text/plain": [
       "contract_until\n",
       "2018    1.286407e+06\n",
       "2019    1.746123e+06\n",
       "2020    2.397036e+06\n",
       "2021    2.827543e+06\n",
       "2022    5.899074e+06\n",
       "2023    5.802115e+06\n",
       "2024    2.450833e+07\n",
       "2025    1.405333e+07\n",
       "2026    5.050000e+07\n",
       "Name: value, dtype: float64"
      ]
     },
     "execution_count": 57,
     "metadata": {},
     "output_type": "execute_result"
    }
   ],
   "source": [
    "train_df.groupby('contract_until').mean()['value']"
   ]
  },
  {
   "cell_type": "code",
   "execution_count": 58,
   "metadata": {
    "collapsed": false,
    "pycharm": {
     "name": "#%%\n"
    }
   },
   "outputs": [
    {
     "name": "stdout",
     "output_type": "stream",
     "text": [
      "16\n",
      "40\n"
     ]
    }
   ],
   "source": [
    "print(train_df['age'].min())\n",
    "print(train_df['age'].max())"
   ]
  },
  {
   "cell_type": "code",
   "execution_count": 59,
   "metadata": {
    "collapsed": false,
    "pycharm": {
     "name": "#%%\n"
    }
   },
   "outputs": [],
   "source": [
    "def age_group(age):\n",
    "    if age < 20: age = 15\n",
    "    elif age >= 20 and age < 25 : age = 20\n",
    "    elif age >= 25 and age < 30: age = 25\n",
    "    elif age >= 30 and age < 35: age = 30\n",
    "    elif age >= 35: age = 35\n",
    "    return age\n",
    "\n",
    "def age_group2(age):\n",
    "    if age < 20: age = 10\n",
    "    elif age >= 20 and age < 30 : age = 20\n",
    "    elif age >= 30 and age < 40: age = 30\n",
    "    elif age >= 40: age = 40\n",
    "    return age\n",
    "\n",
    "train_df['age'] = train_df['age'].apply(lambda x : age_group2(x))\n",
    "test_df['age'] = test_df['age'].apply(lambda x : age_group2(x))"
   ]
  },
  {
   "cell_type": "code",
   "execution_count": 60,
   "metadata": {
    "collapsed": false,
    "pycharm": {
     "name": "#%%\n"
    }
   },
   "outputs": [
    {
     "data": {
      "text/plain": [
       "20    6191\n",
       "30    1754\n",
       "10     984\n",
       "40       3\n",
       "Name: age, dtype: int64"
      ]
     },
     "execution_count": 60,
     "metadata": {},
     "output_type": "execute_result"
    }
   ],
   "source": [
    "train_df['age'].value_counts()"
   ]
  },
  {
   "cell_type": "code",
   "execution_count": 61,
   "metadata": {
    "collapsed": false,
    "pycharm": {
     "name": "#%%\n"
    }
   },
   "outputs": [
    {
     "data": {
      "text/plain": [
       "age\n",
       "10    7.277287e+05\n",
       "20    3.090281e+06\n",
       "30    2.831690e+06\n",
       "40    1.436667e+06\n",
       "Name: value, dtype: float64"
      ]
     },
     "execution_count": 61,
     "metadata": {},
     "output_type": "execute_result"
    }
   ],
   "source": [
    "train_df.groupby('age').mean()['value']"
   ]
  },
  {
   "cell_type": "markdown",
   "metadata": {
    "collapsed": false
   },
   "source": []
  },
  {
   "cell_type": "code",
   "execution_count": 62,
   "metadata": {
    "collapsed": false,
    "pycharm": {
     "name": "#%%\n"
    }
   },
   "outputs": [
    {
     "data": {
      "text/plain": [
       "europe           5322\n",
       "south america    1927\n",
       "asia              787\n",
       "africa            721\n",
       "oceania           175\n",
       "Name: continent, dtype: int64"
      ]
     },
     "execution_count": 62,
     "metadata": {},
     "output_type": "execute_result"
    }
   ],
   "source": [
    "train_df['continent'].value_counts()\n"
   ]
  },
  {
   "cell_type": "code",
   "execution_count": 63,
   "metadata": {
    "collapsed": false,
    "pycharm": {
     "name": "#%%\n"
    }
   },
   "outputs": [
    {
     "data": {
      "text/plain": [
       "continent\n",
       "africa           2.972247e+06\n",
       "asia             1.035146e+06\n",
       "europe           2.928125e+06\n",
       "oceania          8.225429e+05\n",
       "south america    3.183204e+06\n",
       "Name: value, dtype: float64"
      ]
     },
     "execution_count": 63,
     "metadata": {},
     "output_type": "execute_result"
    }
   ],
   "source": [
    "train_df.groupby('continent').mean()['value']"
   ]
  },
  {
   "cell_type": "code",
   "execution_count": 64,
   "metadata": {
    "collapsed": false,
    "pycharm": {
     "name": "#%%\n"
    }
   },
   "outputs": [],
   "source": [
    "temp_list = train_df['continent'].unique().tolist()\n",
    "train_df['continent'] = train_df.continent.map(lambda x : temp_list.index(x))\n",
    "temp_list = test_df['continent'].unique().tolist()\n",
    "test_df['continent'] = test_df.continent.map(lambda x : temp_list.index(x))"
   ]
  },
  {
   "cell_type": "code",
   "execution_count": 65,
   "metadata": {
    "collapsed": false,
    "pycharm": {
     "name": "#%%\n"
    }
   },
   "outputs": [
    {
     "data": {
      "text/plain": [
       "1    5322\n",
       "0    1927\n",
       "3     787\n",
       "2     721\n",
       "4     175\n",
       "Name: continent, dtype: int64"
      ]
     },
     "execution_count": 65,
     "metadata": {},
     "output_type": "execute_result"
    }
   ],
   "source": [
    "train_df['continent'].value_counts()"
   ]
  },
  {
   "cell_type": "code",
   "execution_count": 66,
   "metadata": {
    "collapsed": false,
    "pycharm": {
     "name": "#%%\n"
    }
   },
   "outputs": [
    {
     "data": {
      "text/plain": [
       "position\n",
       "DF    2.304348e+06\n",
       "GK    1.992073e+06\n",
       "MF    3.121762e+06\n",
       "ST    3.330361e+06\n",
       "Name: value, dtype: float64"
      ]
     },
     "execution_count": 66,
     "metadata": {},
     "output_type": "execute_result"
    }
   ],
   "source": [
    "train_df.groupby('position').mean()['value']\n"
   ]
  },
  {
   "cell_type": "code",
   "execution_count": 67,
   "metadata": {
    "collapsed": false,
    "pycharm": {
     "name": "#%%\n"
    }
   },
   "outputs": [],
   "source": [
    "temp_list = train_df['position'].unique().tolist()\n",
    "train_df['position'] = train_df.position.map(lambda x : temp_list.index(x))\n",
    "temp_list = test_df['position'].unique().tolist()\n",
    "test_df['position'] = test_df.position.map(lambda x : temp_list.index(x))"
   ]
  },
  {
   "cell_type": "code",
   "execution_count": 68,
   "metadata": {
    "collapsed": false,
    "pycharm": {
     "name": "#%%\n"
    }
   },
   "outputs": [
    {
     "data": {
      "text/plain": [
       "prefer_foot\n",
       "left     2.865232e+06\n",
       "right    2.752150e+06\n",
       "Name: value, dtype: float64"
      ]
     },
     "execution_count": 68,
     "metadata": {},
     "output_type": "execute_result"
    }
   ],
   "source": [
    "train_df.groupby('prefer_foot').mean()['value']"
   ]
  },
  {
   "cell_type": "code",
   "execution_count": 69,
   "metadata": {
    "collapsed": false,
    "pycharm": {
     "name": "#%%\n"
    }
   },
   "outputs": [],
   "source": [
    "temp_list = train_df['prefer_foot'].unique().tolist()\n",
    "train_df['prefer_foot'] = train_df.prefer_foot.map(lambda x : temp_list.index(x))\n",
    "temp_list = test_df['prefer_foot'].unique().tolist()\n",
    "test_df['prefer_foot'] = test_df.prefer_foot.map(lambda x : temp_list.index(x))"
   ]
  },
  {
   "cell_type": "code",
   "execution_count": 70,
   "metadata": {
    "collapsed": false,
    "pycharm": {
     "name": "#%%\n"
    }
   },
   "outputs": [],
   "source": [
    "y = train_df['value']\n",
    "X = train_df.drop('value', axis= 1)\n",
    "X_train, X_test, y_train, y_test = train_test_split(X, y, test_size=0.2, random_state=123)"
   ]
  },
  {
   "cell_type": "code",
   "execution_count": 71,
   "metadata": {},
   "outputs": [
    {
     "data": {
      "text/plain": [
       "0.9744428483760013"
      ]
     },
     "execution_count": 71,
     "metadata": {},
     "output_type": "execute_result"
    }
   ],
   "source": [
    "lgbm = LGBMRegressor()\n",
    "\n",
    "lgbm.fit(X_train, y_train).score(X_test, y_test)"
   ]
  },
  {
   "cell_type": "code",
   "execution_count": 75,
   "metadata": {},
   "outputs": [],
   "source": [
    "from sklearn.metrics import r2_score, mean_squared_error\n",
    "from sklearn.metrics import mean_absolute_error\n",
    "\n",
    "  # MAPE Metric\n",
    "def mean_absolute_percentage_error(y_test, y_pred):\n",
    "  y_test, y_pred = np.array(y_test), np.array(y_pred)\n",
    "  return np.mean(np.abs((y_test - y_pred) / y_test)) * 100\n",
    "\n",
    "  # 탐색 대상 함수 (XGBRegressor)\n",
    "def lgbm_cv(max_depth,learning_rate, n_estimators, \n",
    "            min_child_weight, subsample\n",
    "            ,colsample_bytree, silent=True, nthread=-1):\n",
    "  \n",
    "\n",
    "      # 모델 정의\n",
    "  model = LGBMRegressor(max_depth=int(max_depth),\n",
    "                        learning_rate=learning_rate,\n",
    "                        n_estimators=int(n_estimators),\n",
    "                        # gamma=gamma,\n",
    "                        min_child_weight=min_child_weight,\n",
    "                        subsample=subsample,\n",
    "                        colsample_bytree=colsample_bytree, \n",
    "                        nthread=nthread)\n",
    "      # 모델 훈련\n",
    "  model.fit(X_train, y_train)\n",
    "\n",
    "      # 예측값 출력\n",
    "  y_pred = model.predict(X_test)\n",
    "\n",
    "  rmse = np.sqrt(mean_squared_error(y_test, y_pred))\n",
    "  r2 = r2_score(y_test, y_pred)\n",
    "  mape = mean_absolute_percentage_error(y_test, y_pred)\n",
    "  mean_absolute_error(y_test, y_pred)\n",
    "\n",
    "      # 오차 최적화로 사용할 metric 반환\n",
    "  return r2"
   ]
  },
  {
   "cell_type": "code",
   "execution_count": 76,
   "metadata": {},
   "outputs": [
    {
     "name": "stdout",
     "output_type": "stream",
     "text": [
      "|   iter    |  target   | colsam... | learni... | max_depth | min_ch... | n_esti... | subsample |\n",
      "-------------------------------------------------------------------------------------------------\n",
      "[LightGBM] [Warning] num_threads is set with n_jobs=-1, nthread=-1 will be ignored. Current value: num_threads=-1\n",
      "| \u001b[0m1        \u001b[0m | \u001b[0m0.9398   \u001b[0m | \u001b[0m0.4711   \u001b[0m | \u001b[0m0.363    \u001b[0m | \u001b[0m1.002    \u001b[0m | \u001b[0m0.907    \u001b[0m | \u001b[0m189.4    \u001b[0m | \u001b[0m0.1822   \u001b[0m |\n",
      "[LightGBM] [Warning] num_threads is set with n_jobs=-1, nthread=-1 will be ignored. Current value: num_threads=-1\n",
      "| \u001b[95m2        \u001b[0m | \u001b[95m0.9625   \u001b[0m | \u001b[95m0.2658   \u001b[0m | \u001b[95m0.1793   \u001b[0m | \u001b[95m6.555    \u001b[0m | \u001b[95m1.616    \u001b[0m | \u001b[95m448.2    \u001b[0m | \u001b[95m0.7098   \u001b[0m |\n",
      "[LightGBM] [Warning] num_threads is set with n_jobs=-1, nthread=-1 will be ignored. Current value: num_threads=-1\n",
      "| \u001b[0m3        \u001b[0m | \u001b[0m0.9392   \u001b[0m | \u001b[0m0.1598   \u001b[0m | \u001b[0m0.4424   \u001b[0m | \u001b[0m6.773    \u001b[0m | \u001b[0m1.157    \u001b[0m | \u001b[0m449.3    \u001b[0m | \u001b[0m0.1903   \u001b[0m |\n",
      "[LightGBM] [Warning] num_threads is set with n_jobs=-1, nthread=-1 will be ignored. Current value: num_threads=-1\n",
      "| \u001b[95m4        \u001b[0m | \u001b[95m0.9706   \u001b[0m | \u001b[95m0.632    \u001b[0m | \u001b[95m0.166    \u001b[0m | \u001b[95m10.28    \u001b[0m | \u001b[95m1.345    \u001b[0m | \u001b[95m213.6    \u001b[0m | \u001b[95m0.3696   \u001b[0m |\n",
      "[LightGBM] [Warning] num_threads is set with n_jobs=-1, nthread=-1 will be ignored. Current value: num_threads=-1\n",
      "| \u001b[0m5        \u001b[0m | \u001b[0m0.9397   \u001b[0m | \u001b[0m0.8985   \u001b[0m | \u001b[0m0.2695   \u001b[0m | \u001b[0m1.826    \u001b[0m | \u001b[0m2.512    \u001b[0m | \u001b[0m265.5    \u001b[0m | \u001b[0m0.2648   \u001b[0m |\n",
      "[LightGBM] [Warning] num_threads is set with n_jobs=-1, nthread=-1 will be ignored. Current value: num_threads=-1\n",
      "| \u001b[95m6        \u001b[0m | \u001b[95m0.9782   \u001b[0m | \u001b[95m0.4645   \u001b[0m | \u001b[95m0.06993  \u001b[0m | \u001b[95m11.22    \u001b[0m | \u001b[95m2.604    \u001b[0m | \u001b[95m679.7    \u001b[0m | \u001b[95m0.4515   \u001b[0m |\n",
      "[LightGBM] [Warning] num_threads is set with n_jobs=-1, nthread=-1 will be ignored. Current value: num_threads=-1\n",
      "| \u001b[0m7        \u001b[0m | \u001b[0m0.9744   \u001b[0m | \u001b[0m0.916    \u001b[0m | \u001b[0m0.05636  \u001b[0m | \u001b[0m14.81    \u001b[0m | \u001b[0m2.841    \u001b[0m | \u001b[0m62.66    \u001b[0m | \u001b[0m0.5041   \u001b[0m |\n",
      "[LightGBM] [Warning] num_threads is set with n_jobs=-1, nthread=-1 will be ignored. Current value: num_threads=-1\n",
      "| \u001b[0m8        \u001b[0m | \u001b[0m0.953    \u001b[0m | \u001b[0m0.7177   \u001b[0m | \u001b[0m0.2911   \u001b[0m | \u001b[0m5.607    \u001b[0m | \u001b[0m2.129    \u001b[0m | \u001b[0m807.6    \u001b[0m | \u001b[0m0.127    \u001b[0m |\n",
      "[LightGBM] [Warning] num_threads is set with n_jobs=-1, nthread=-1 will be ignored. Current value: num_threads=-1\n",
      "| \u001b[0m9        \u001b[0m | \u001b[0m0.9781   \u001b[0m | \u001b[0m0.2796   \u001b[0m | \u001b[0m0.1539   \u001b[0m | \u001b[0m3.229    \u001b[0m | \u001b[0m0.8408   \u001b[0m | \u001b[0m820.9    \u001b[0m | \u001b[0m0.7286   \u001b[0m |\n",
      "[LightGBM] [Warning] num_threads is set with n_jobs=-1, nthread=-1 will be ignored. Current value: num_threads=-1\n",
      "| \u001b[0m10       \u001b[0m | \u001b[0m0.9392   \u001b[0m | \u001b[0m0.1041   \u001b[0m | \u001b[0m0.4123   \u001b[0m | \u001b[0m8.174    \u001b[0m | \u001b[0m1.61     \u001b[0m | \u001b[0m751.5    \u001b[0m | \u001b[0m0.9413   \u001b[0m |\n",
      "[LightGBM] [Warning] num_threads is set with n_jobs=-1, nthread=-1 will be ignored. Current value: num_threads=-1\n",
      "| \u001b[0m11       \u001b[0m | \u001b[0m0.9392   \u001b[0m | \u001b[0m0.1602   \u001b[0m | \u001b[0m0.2888   \u001b[0m | \u001b[0m11.69    \u001b[0m | \u001b[0m2.613    \u001b[0m | \u001b[0m679.6    \u001b[0m | \u001b[0m0.5194   \u001b[0m |\n",
      "[LightGBM] [Warning] num_threads is set with n_jobs=-1, nthread=-1 will be ignored. Current value: num_threads=-1\n",
      "| \u001b[0m12       \u001b[0m | \u001b[0m0.97     \u001b[0m | \u001b[0m0.8993   \u001b[0m | \u001b[0m0.05234  \u001b[0m | \u001b[0m8.834    \u001b[0m | \u001b[0m0.7644   \u001b[0m | \u001b[0m767.8    \u001b[0m | \u001b[0m0.3116   \u001b[0m |\n",
      "=================================================================================================\n",
      "{'target': 0.9782026921588854, 'params': {'colsample_bytree': 0.4644714492933195, 'learning_rate': 0.06992563875043578, 'max_depth': 11.219742607052595, 'min_child_weight': 2.6042580042130297, 'n_estimators': 679.743763265249, 'subsample': 0.4515458667175529}}\n"
     ]
    }
   ],
   "source": [
    "# 실험해보고자하는 hyperparameter 집합\n",
    "pbounds = {'max_depth': (1, 15),\n",
    "           'learning_rate': (0.01, 0.5),\n",
    "           'n_estimators': (50, 1000),\n",
    "          #  'gamma': (0, 100),/\n",
    "           'min_child_weight': (0, 3),\n",
    "           'subsample': (0.1, 0.99),\n",
    "           'colsample_bytree' :(0.1, 0.99)\n",
    "           }\n",
    "\n",
    "  # verbose = 2 항상 출력, verbose = 1 최댓값일 때 출력, verbose = 0 출력 안함\n",
    "  # random_state : Bayesian Optimization 상의 랜덤성이 존재하는 부분을 통제 \n",
    "bo=BayesianOptimization(f=lgbm_cv, pbounds=pbounds, verbose=2, random_state=1 )\n",
    "\n",
    "  # init_points :  초기 Random Search 갯수\n",
    "  # n_iter : 반복 횟수 (몇개의 입력값-함숫값 점들을 확인할지! 많을 수록 정확한 값을 얻을 수 있다.)\n",
    "  # acq : Acquisition Function들 중 Expected Improvement(EI) 를 사용\n",
    "  # xi : exploration 강도 (기본값은 0.0)\n",
    "bo.maximize(init_points=2, n_iter=10, acq='ei', xi=0.01)\n",
    "\n",
    "  # 찾은 파라미터 값 확인\n",
    "print(bo.max)"
   ]
  },
  {
   "cell_type": "code",
   "execution_count": 78,
   "metadata": {},
   "outputs": [
    {
     "data": {
      "text/plain": [
       "LGBMRegressor(learning_rate=0.0699, max_depth=11, metric='mae',\n",
       "              min_child_weight=2.6042, n_estimators=679, random_state=0)"
      ]
     },
     "execution_count": 78,
     "metadata": {},
     "output_type": "execute_result"
    }
   ],
   "source": [
    "# 2차 학습\n",
    "lgbm_ff = LGBMRegressor(random_state=0, learning_rate=0.0699, metric = 'mae',\n",
    "                      n_estimators=679,max_depth=11,min_child_weight=2.6042)\n",
    "\n",
    "\n",
    "\n",
    "lgbm_ff.fit(X, y)"
   ]
  },
  {
   "cell_type": "code",
   "execution_count": 79,
   "metadata": {},
   "outputs": [
    {
     "data": {
      "text/plain": [
       "581100.5760913864"
      ]
     },
     "execution_count": 79,
     "metadata": {},
     "output_type": "execute_result"
    }
   ],
   "source": [
    "y_pred = lgbm_ff.predict(X_test)\n",
    "MSE = mean_squared_error(y_test, y_pred)\n",
    "np.sqrt(MSE)"
   ]
  },
  {
   "cell_type": "code",
   "execution_count": null,
   "metadata": {},
   "outputs": [],
   "source": [
    "pred = lgbm_ff.predict(test_df)\n",
    "sub_df['value'] = pred"
   ]
  },
  {
   "cell_type": "code",
   "execution_count": null,
   "metadata": {},
   "outputs": [],
   "source": [
    "sub_df.to_csv('./save/submission.csv', index=False)"
   ]
  },
  {
   "cell_type": "code",
   "execution_count": 32,
   "metadata": {
    "collapsed": false,
    "pycharm": {
     "name": "#%%\n"
    }
   },
   "outputs": [
    {
     "name": "stdout",
     "output_type": "stream",
     "text": [
      "Learning rate set to 0.066818\n",
      "0:\tlearn: 5628830.7010575\ttest: 5162979.6827977\tbest: 5162979.6827977 (0)\ttotal: 155ms\tremaining: 2m 35s\n",
      "1:\tlearn: 5343138.5946339\ttest: 4887506.0326632\tbest: 4887506.0326632 (1)\ttotal: 157ms\tremaining: 1m 18s\n",
      "2:\tlearn: 5076240.5266443\ttest: 4624673.8275921\tbest: 4624673.8275921 (2)\ttotal: 158ms\tremaining: 52.7s\n",
      "3:\tlearn: 4833628.7274693\ttest: 4402552.7401185\tbest: 4402552.7401185 (3)\ttotal: 160ms\tremaining: 39.8s\n",
      "4:\tlearn: 4588291.6804829\ttest: 4179058.8163623\tbest: 4179058.8163623 (4)\ttotal: 161ms\tremaining: 32.1s\n",
      "5:\tlearn: 4354088.8244695\ttest: 3973889.3800404\tbest: 3973889.3800404 (5)\ttotal: 163ms\tremaining: 27s\n",
      "6:\tlearn: 4129790.4954815\ttest: 3761400.3176633\tbest: 3761400.3176633 (6)\ttotal: 164ms\tremaining: 23.3s\n",
      "7:\tlearn: 3924067.3033692\ttest: 3556816.7149940\tbest: 3556816.7149940 (7)\ttotal: 166ms\tremaining: 20.5s\n",
      "8:\tlearn: 3731828.6608202\ttest: 3367206.8927873\tbest: 3367206.8927873 (8)\ttotal: 167ms\tremaining: 18.4s\n",
      "9:\tlearn: 3549787.4451687\ttest: 3194739.6425894\tbest: 3194739.6425894 (9)\ttotal: 169ms\tremaining: 16.7s\n",
      "10:\tlearn: 3378117.7887519\ttest: 3026721.5694708\tbest: 3026721.5694708 (10)\ttotal: 170ms\tremaining: 15.3s\n",
      "11:\tlearn: 3232601.3902509\ttest: 2895136.2367492\tbest: 2895136.2367492 (11)\ttotal: 172ms\tremaining: 14.2s\n",
      "12:\tlearn: 3094126.1099630\ttest: 2781731.5451892\tbest: 2781731.5451892 (12)\ttotal: 173ms\tremaining: 13.2s\n",
      "13:\tlearn: 2961883.1015034\ttest: 2662606.9248665\tbest: 2662606.9248665 (13)\ttotal: 175ms\tremaining: 12.3s\n",
      "14:\tlearn: 2828365.9601637\ttest: 2529762.2419624\tbest: 2529762.2419624 (14)\ttotal: 176ms\tremaining: 11.6s\n",
      "15:\tlearn: 2708200.7854575\ttest: 2419409.6415469\tbest: 2419409.6415469 (15)\ttotal: 178ms\tremaining: 11s\n",
      "16:\tlearn: 2599931.8244492\ttest: 2338975.8030065\tbest: 2338975.8030065 (16)\ttotal: 180ms\tremaining: 10.4s\n",
      "17:\tlearn: 2496818.1594480\ttest: 2251250.5857891\tbest: 2251250.5857891 (17)\ttotal: 181ms\tremaining: 9.89s\n",
      "18:\tlearn: 2389518.7830573\ttest: 2145027.7205360\tbest: 2145027.7205360 (18)\ttotal: 183ms\tremaining: 9.45s\n",
      "19:\tlearn: 2298894.2000226\ttest: 2064366.5502152\tbest: 2064366.5502152 (19)\ttotal: 185ms\tremaining: 9.05s\n",
      "20:\tlearn: 2211987.2522111\ttest: 1982574.6165539\tbest: 1982574.6165539 (20)\ttotal: 186ms\tremaining: 8.68s\n",
      "21:\tlearn: 2135242.2736408\ttest: 1915029.0730983\tbest: 1915029.0730983 (21)\ttotal: 188ms\tremaining: 8.35s\n",
      "22:\tlearn: 2059123.4513161\ttest: 1848486.1691289\tbest: 1848486.1691289 (22)\ttotal: 189ms\tremaining: 8.04s\n",
      "23:\tlearn: 1990862.2216590\ttest: 1790233.2184474\tbest: 1790233.2184474 (23)\ttotal: 191ms\tremaining: 7.77s\n",
      "24:\tlearn: 1924121.8988445\ttest: 1732906.4241564\tbest: 1732906.4241564 (24)\ttotal: 192ms\tremaining: 7.5s\n",
      "25:\tlearn: 1864945.5478913\ttest: 1679977.3005132\tbest: 1679977.3005132 (25)\ttotal: 194ms\tremaining: 7.26s\n",
      "26:\tlearn: 1806842.1960207\ttest: 1629657.0408966\tbest: 1629657.0408966 (26)\ttotal: 195ms\tremaining: 7.03s\n",
      "27:\tlearn: 1757707.3598257\ttest: 1590517.7356185\tbest: 1590517.7356185 (27)\ttotal: 197ms\tremaining: 6.82s\n",
      "28:\tlearn: 1705959.0507241\ttest: 1544630.4196714\tbest: 1544630.4196714 (28)\ttotal: 198ms\tremaining: 6.63s\n",
      "29:\tlearn: 1661931.1317577\ttest: 1506605.2636188\tbest: 1506605.2636188 (29)\ttotal: 200ms\tremaining: 6.46s\n",
      "30:\tlearn: 1613394.4401146\ttest: 1459322.4848242\tbest: 1459322.4848242 (30)\ttotal: 201ms\tremaining: 6.29s\n",
      "31:\tlearn: 1573981.4926349\ttest: 1419759.2886139\tbest: 1419759.2886139 (31)\ttotal: 203ms\tremaining: 6.13s\n",
      "32:\tlearn: 1532250.1519168\ttest: 1390493.6144785\tbest: 1390493.6144785 (32)\ttotal: 204ms\tremaining: 5.99s\n",
      "33:\tlearn: 1496805.0952206\ttest: 1365454.4426172\tbest: 1365454.4426172 (33)\ttotal: 206ms\tremaining: 5.84s\n",
      "34:\tlearn: 1457895.8574330\ttest: 1330515.8477268\tbest: 1330515.8477268 (34)\ttotal: 207ms\tremaining: 5.71s\n",
      "35:\tlearn: 1421397.5256111\ttest: 1294540.7443602\tbest: 1294540.7443602 (35)\ttotal: 209ms\tremaining: 5.59s\n",
      "36:\tlearn: 1388470.0431711\ttest: 1263233.5182770\tbest: 1263233.5182770 (36)\ttotal: 210ms\tremaining: 5.47s\n",
      "37:\tlearn: 1357947.2341775\ttest: 1236040.9945431\tbest: 1236040.9945431 (37)\ttotal: 212ms\tremaining: 5.36s\n",
      "38:\tlearn: 1331038.9881775\ttest: 1213918.7074192\tbest: 1213918.7074192 (38)\ttotal: 213ms\tremaining: 5.25s\n",
      "39:\tlearn: 1306327.3766348\ttest: 1190309.3444515\tbest: 1190309.3444515 (39)\ttotal: 215ms\tremaining: 5.15s\n",
      "40:\tlearn: 1282602.8210522\ttest: 1166997.0680239\tbest: 1166997.0680239 (40)\ttotal: 216ms\tremaining: 5.05s\n",
      "41:\tlearn: 1258837.0868241\ttest: 1146144.0123927\tbest: 1146144.0123927 (41)\ttotal: 218ms\tremaining: 4.97s\n",
      "42:\tlearn: 1238218.0298297\ttest: 1129118.8755360\tbest: 1129118.8755360 (42)\ttotal: 219ms\tremaining: 4.88s\n",
      "43:\tlearn: 1223428.4871487\ttest: 1113175.8315256\tbest: 1113175.8315256 (43)\ttotal: 221ms\tremaining: 4.79s\n",
      "44:\tlearn: 1217646.2043383\ttest: 1112567.6455776\tbest: 1112567.6455776 (44)\ttotal: 222ms\tremaining: 4.71s\n",
      "45:\tlearn: 1197432.4298306\ttest: 1099828.7014746\tbest: 1099828.7014746 (45)\ttotal: 223ms\tremaining: 4.63s\n",
      "46:\tlearn: 1176706.2125767\ttest: 1084346.3367176\tbest: 1084346.3367176 (46)\ttotal: 225ms\tremaining: 4.55s\n",
      "47:\tlearn: 1158063.6302508\ttest: 1067861.0541007\tbest: 1067861.0541007 (47)\ttotal: 226ms\tremaining: 4.48s\n",
      "48:\tlearn: 1144371.1500006\ttest: 1056953.1808187\tbest: 1056953.1808187 (48)\ttotal: 228ms\tremaining: 4.42s\n",
      "49:\tlearn: 1139974.3646699\ttest: 1054920.2097788\tbest: 1054920.2097788 (49)\ttotal: 229ms\tremaining: 4.35s\n",
      "50:\tlearn: 1136298.0120842\ttest: 1054712.7948989\tbest: 1054712.7948989 (50)\ttotal: 230ms\tremaining: 4.28s\n",
      "51:\tlearn: 1132733.2500649\ttest: 1054588.9441863\tbest: 1054588.9441863 (51)\ttotal: 231ms\tremaining: 4.21s\n",
      "52:\tlearn: 1119225.2781079\ttest: 1043265.1576161\tbest: 1043265.1576161 (52)\ttotal: 232ms\tremaining: 4.15s\n",
      "53:\tlearn: 1114614.7939806\ttest: 1041556.5775847\tbest: 1041556.5775847 (53)\ttotal: 234ms\tremaining: 4.09s\n",
      "54:\tlearn: 1110657.6594090\ttest: 1039962.7451163\tbest: 1039962.7451163 (54)\ttotal: 235ms\tremaining: 4.04s\n",
      "55:\tlearn: 1095624.4572781\ttest: 1037461.5817581\tbest: 1037461.5817581 (55)\ttotal: 236ms\tremaining: 3.98s\n",
      "56:\tlearn: 1080163.7251738\ttest: 1027206.3051896\tbest: 1027206.3051896 (56)\ttotal: 238ms\tremaining: 3.93s\n",
      "57:\tlearn: 1068850.1084696\ttest: 1020348.4100046\tbest: 1020348.4100046 (57)\ttotal: 239ms\tremaining: 3.88s\n",
      "58:\tlearn: 1056712.8304451\ttest: 1018268.6770599\tbest: 1018268.6770599 (58)\ttotal: 241ms\tremaining: 3.84s\n",
      "59:\tlearn: 1052600.7025777\ttest: 1018107.6113528\tbest: 1018107.6113528 (59)\ttotal: 242ms\tremaining: 3.79s\n",
      "60:\tlearn: 1048579.4038059\ttest: 1016503.9365217\tbest: 1016503.9365217 (60)\ttotal: 243ms\tremaining: 3.75s\n",
      "61:\tlearn: 1044995.3132238\ttest: 1014234.7806070\tbest: 1014234.7806070 (61)\ttotal: 245ms\tremaining: 3.7s\n",
      "62:\tlearn: 1041277.6057849\ttest: 1014278.5954113\tbest: 1014234.7806070 (61)\ttotal: 246ms\tremaining: 3.66s\n",
      "63:\tlearn: 1037643.7429189\ttest: 1014504.5340575\tbest: 1014234.7806070 (61)\ttotal: 247ms\tremaining: 3.62s\n",
      "64:\tlearn: 1034539.4292091\ttest: 1013104.3832928\tbest: 1013104.3832928 (64)\ttotal: 249ms\tremaining: 3.58s\n",
      "65:\tlearn: 1031438.9110843\ttest: 1011229.1381904\tbest: 1011229.1381904 (65)\ttotal: 250ms\tremaining: 3.54s\n",
      "66:\tlearn: 1028038.7353664\ttest: 1011495.7409941\tbest: 1011229.1381904 (65)\ttotal: 252ms\tremaining: 3.5s\n",
      "67:\tlearn: 1024821.5082364\ttest: 1011878.1086866\tbest: 1011229.1381904 (65)\ttotal: 253ms\tremaining: 3.47s\n",
      "68:\tlearn: 1022578.9476911\ttest: 1012318.8302969\tbest: 1011229.1381904 (65)\ttotal: 254ms\tremaining: 3.43s\n",
      "69:\tlearn: 1008156.9784518\ttest: 1004938.0135335\tbest: 1004938.0135335 (69)\ttotal: 256ms\tremaining: 3.4s\n",
      "70:\tlearn: 1006024.6171561\ttest: 1005419.4523297\tbest: 1004938.0135335 (69)\ttotal: 257ms\tremaining: 3.36s\n",
      "71:\tlearn: 1003080.4931481\ttest: 1004737.2709755\tbest: 1004737.2709755 (71)\ttotal: 258ms\tremaining: 3.32s\n",
      "72:\tlearn: 993505.6414791\ttest: 997223.2769142\tbest: 997223.2769142 (72)\ttotal: 259ms\tremaining: 3.29s\n",
      "73:\tlearn: 984493.7644806\ttest: 988694.6219266\tbest: 988694.6219266 (73)\ttotal: 260ms\tremaining: 3.25s\n",
      "74:\tlearn: 973601.1003467\ttest: 978633.2379390\tbest: 978633.2379390 (74)\ttotal: 261ms\tremaining: 3.22s\n",
      "75:\tlearn: 971627.9084521\ttest: 979155.6164601\tbest: 978633.2379390 (74)\ttotal: 263ms\tremaining: 3.19s\n",
      "76:\tlearn: 969727.2670992\ttest: 979719.5723005\tbest: 978633.2379390 (74)\ttotal: 264ms\tremaining: 3.16s\n",
      "77:\tlearn: 963633.9354338\ttest: 977698.5872231\tbest: 977698.5872231 (77)\ttotal: 265ms\tremaining: 3.13s\n",
      "78:\tlearn: 955432.3093361\ttest: 978480.1772506\tbest: 977698.5872231 (77)\ttotal: 266ms\tremaining: 3.11s\n",
      "79:\tlearn: 947940.0076882\ttest: 972594.8781296\tbest: 972594.8781296 (79)\ttotal: 268ms\tremaining: 3.08s\n",
      "80:\tlearn: 946011.4114204\ttest: 972598.2280108\tbest: 972594.8781296 (79)\ttotal: 268ms\tremaining: 3.05s\n",
      "81:\tlearn: 943647.3093491\ttest: 973123.4673004\tbest: 972594.8781296 (79)\ttotal: 270ms\tremaining: 3.02s\n",
      "82:\tlearn: 941371.9375760\ttest: 972937.8895388\tbest: 972594.8781296 (79)\ttotal: 271ms\tremaining: 2.99s\n",
      "83:\tlearn: 934103.7811387\ttest: 970240.0003931\tbest: 970240.0003931 (83)\ttotal: 272ms\tremaining: 2.96s\n",
      "84:\tlearn: 932652.3004749\ttest: 970254.1054614\tbest: 970240.0003931 (83)\ttotal: 273ms\tremaining: 2.94s\n",
      "85:\tlearn: 926324.5191252\ttest: 969460.8802778\tbest: 969460.8802778 (85)\ttotal: 274ms\tremaining: 2.91s\n",
      "86:\tlearn: 924270.5138555\ttest: 970014.2125914\tbest: 969460.8802778 (85)\ttotal: 275ms\tremaining: 2.89s\n",
      "87:\tlearn: 916097.4146341\ttest: 963713.8600575\tbest: 963713.8600575 (87)\ttotal: 276ms\tremaining: 2.87s\n",
      "88:\tlearn: 914798.5822501\ttest: 964333.1355295\tbest: 963713.8600575 (87)\ttotal: 277ms\tremaining: 2.84s\n",
      "89:\tlearn: 909266.7607505\ttest: 963077.5176971\tbest: 963077.5176971 (89)\ttotal: 279ms\tremaining: 2.82s\n",
      "90:\tlearn: 907740.7270401\ttest: 963092.9775647\tbest: 963077.5176971 (89)\ttotal: 280ms\tremaining: 2.8s\n",
      "91:\tlearn: 904539.3154183\ttest: 964378.7146550\tbest: 963077.5176971 (89)\ttotal: 281ms\tremaining: 2.77s\n",
      "92:\tlearn: 899826.9634288\ttest: 964103.1336313\tbest: 963077.5176971 (89)\ttotal: 282ms\tremaining: 2.75s\n",
      "93:\tlearn: 898619.7278322\ttest: 964655.7842145\tbest: 963077.5176971 (89)\ttotal: 283ms\tremaining: 2.73s\n",
      "94:\tlearn: 888194.1721932\ttest: 958547.5417156\tbest: 958547.5417156 (94)\ttotal: 285ms\tremaining: 2.71s\n",
      "95:\tlearn: 883680.3630812\ttest: 957855.0727238\tbest: 957855.0727238 (95)\ttotal: 286ms\tremaining: 2.69s\n",
      "96:\tlearn: 878259.4101463\ttest: 954432.6644306\tbest: 954432.6644306 (96)\ttotal: 287ms\tremaining: 2.67s\n",
      "97:\tlearn: 877042.0807372\ttest: 954525.5672578\tbest: 954432.6644306 (96)\ttotal: 288ms\tremaining: 2.65s\n",
      "98:\tlearn: 876229.0959635\ttest: 954516.2076537\tbest: 954432.6644306 (96)\ttotal: 289ms\tremaining: 2.63s\n",
      "99:\tlearn: 867576.5192026\ttest: 949243.4494462\tbest: 949243.4494462 (99)\ttotal: 291ms\tremaining: 2.61s\n",
      "100:\tlearn: 866071.5603218\ttest: 949442.2128020\tbest: 949243.4494462 (99)\ttotal: 292ms\tremaining: 2.6s\n",
      "101:\tlearn: 864578.5939364\ttest: 949344.6655244\tbest: 949243.4494462 (99)\ttotal: 293ms\tremaining: 2.58s\n",
      "102:\tlearn: 860635.4040320\ttest: 947565.7233016\tbest: 947565.7233016 (102)\ttotal: 294ms\tremaining: 2.56s\n",
      "103:\tlearn: 859256.9177155\ttest: 948139.8960911\tbest: 947565.7233016 (102)\ttotal: 295ms\tremaining: 2.54s\n",
      "104:\tlearn: 858146.5764410\ttest: 948081.0862805\tbest: 947565.7233016 (102)\ttotal: 297ms\tremaining: 2.53s\n",
      "105:\tlearn: 853755.8863301\ttest: 944872.6593232\tbest: 944872.6593232 (105)\ttotal: 298ms\tremaining: 2.51s\n",
      "106:\tlearn: 844844.0066010\ttest: 939784.1049506\tbest: 939784.1049506 (106)\ttotal: 299ms\tremaining: 2.5s\n",
      "107:\tlearn: 843483.1276806\ttest: 940230.6744890\tbest: 939784.1049506 (106)\ttotal: 300ms\tremaining: 2.48s\n",
      "108:\tlearn: 836987.7901620\ttest: 935879.6030805\tbest: 935879.6030805 (108)\ttotal: 302ms\tremaining: 2.47s\n",
      "109:\tlearn: 835701.2261657\ttest: 936066.2541467\tbest: 935879.6030805 (108)\ttotal: 303ms\tremaining: 2.45s\n",
      "110:\tlearn: 834858.7058016\ttest: 936269.2702831\tbest: 935879.6030805 (108)\ttotal: 304ms\tremaining: 2.44s\n",
      "111:\tlearn: 829213.4297835\ttest: 933555.8170552\tbest: 933555.8170552 (111)\ttotal: 306ms\tremaining: 2.42s\n",
      "112:\tlearn: 823651.6362363\ttest: 931420.1202155\tbest: 931420.1202155 (112)\ttotal: 307ms\tremaining: 2.41s\n",
      "113:\tlearn: 822545.9235827\ttest: 931561.1015134\tbest: 931420.1202155 (112)\ttotal: 309ms\tremaining: 2.4s\n",
      "114:\tlearn: 821598.6780344\ttest: 931583.7996720\tbest: 931420.1202155 (112)\ttotal: 310ms\tremaining: 2.39s\n",
      "115:\tlearn: 817798.4680973\ttest: 927711.2226680\tbest: 927711.2226680 (115)\ttotal: 312ms\tremaining: 2.38s\n",
      "116:\tlearn: 813590.9724776\ttest: 924531.5637185\tbest: 924531.5637185 (116)\ttotal: 314ms\tremaining: 2.37s\n",
      "117:\tlearn: 812588.2947006\ttest: 925150.3500563\tbest: 924531.5637185 (116)\ttotal: 315ms\tremaining: 2.35s\n",
      "118:\tlearn: 812018.6875280\ttest: 925745.8445292\tbest: 924531.5637185 (116)\ttotal: 316ms\tremaining: 2.34s\n",
      "119:\tlearn: 811296.1598106\ttest: 926372.0855360\tbest: 924531.5637185 (116)\ttotal: 318ms\tremaining: 2.33s\n",
      "120:\tlearn: 806924.2878855\ttest: 925471.7937337\tbest: 924531.5637185 (116)\ttotal: 319ms\tremaining: 2.32s\n",
      "121:\tlearn: 806039.6463854\ttest: 925897.6832095\tbest: 924531.5637185 (116)\ttotal: 321ms\tremaining: 2.31s\n",
      "122:\tlearn: 802675.2377325\ttest: 925893.1172437\tbest: 924531.5637185 (116)\ttotal: 322ms\tremaining: 2.3s\n",
      "123:\tlearn: 801819.7331065\ttest: 926535.6631564\tbest: 924531.5637185 (116)\ttotal: 324ms\tremaining: 2.29s\n",
      "124:\tlearn: 797924.2989986\ttest: 925949.3140558\tbest: 924531.5637185 (116)\ttotal: 325ms\tremaining: 2.27s\n",
      "125:\tlearn: 792269.0291818\ttest: 922887.9422181\tbest: 922887.9422181 (125)\ttotal: 326ms\tremaining: 2.26s\n",
      "126:\tlearn: 791844.2764901\ttest: 923450.5764013\tbest: 922887.9422181 (125)\ttotal: 327ms\tremaining: 2.25s\n",
      "127:\tlearn: 788885.1882787\ttest: 922695.5113031\tbest: 922695.5113031 (127)\ttotal: 329ms\tremaining: 2.24s\n",
      "128:\tlearn: 786953.5991391\ttest: 921910.6230269\tbest: 921910.6230269 (128)\ttotal: 330ms\tremaining: 2.23s\n",
      "129:\tlearn: 785596.3364348\ttest: 922637.6079922\tbest: 921910.6230269 (128)\ttotal: 331ms\tremaining: 2.22s\n",
      "130:\tlearn: 780097.0737690\ttest: 919721.3608983\tbest: 919721.3608983 (130)\ttotal: 333ms\tremaining: 2.21s\n",
      "131:\tlearn: 779481.4636150\ttest: 919586.8756685\tbest: 919586.8756685 (131)\ttotal: 334ms\tremaining: 2.19s\n",
      "132:\tlearn: 778813.5294918\ttest: 920200.0040329\tbest: 919586.8756685 (131)\ttotal: 335ms\tremaining: 2.18s\n",
      "133:\tlearn: 778469.6009403\ttest: 920721.6479997\tbest: 919586.8756685 (131)\ttotal: 336ms\tremaining: 2.17s\n",
      "134:\tlearn: 774909.5088271\ttest: 917978.8961747\tbest: 917978.8961747 (134)\ttotal: 337ms\tremaining: 2.16s\n",
      "135:\tlearn: 771458.8437687\ttest: 915229.6991061\tbest: 915229.6991061 (135)\ttotal: 339ms\tremaining: 2.15s\n",
      "136:\tlearn: 769249.4696972\ttest: 913697.5869223\tbest: 913697.5869223 (136)\ttotal: 341ms\tremaining: 2.15s\n",
      "137:\tlearn: 767932.0577251\ttest: 912272.8505940\tbest: 912272.8505940 (137)\ttotal: 342ms\tremaining: 2.14s\n",
      "138:\tlearn: 763564.8607190\ttest: 910147.5727443\tbest: 910147.5727443 (138)\ttotal: 344ms\tremaining: 2.13s\n",
      "139:\tlearn: 762989.7444110\ttest: 910750.6132724\tbest: 910147.5727443 (138)\ttotal: 345ms\tremaining: 2.12s\n",
      "140:\tlearn: 762430.4324625\ttest: 911235.2793938\tbest: 910147.5727443 (138)\ttotal: 347ms\tremaining: 2.11s\n",
      "141:\tlearn: 761892.4974089\ttest: 911705.5217601\tbest: 910147.5727443 (138)\ttotal: 348ms\tremaining: 2.1s\n",
      "142:\tlearn: 757831.9409163\ttest: 909269.8072165\tbest: 909269.8072165 (142)\ttotal: 350ms\tremaining: 2.1s\n",
      "143:\tlearn: 755211.0033270\ttest: 907016.5835925\tbest: 907016.5835925 (143)\ttotal: 351ms\tremaining: 2.09s\n",
      "144:\tlearn: 754675.5805350\ttest: 907472.6209107\tbest: 907016.5835925 (143)\ttotal: 352ms\tremaining: 2.08s\n",
      "145:\tlearn: 751218.1979799\ttest: 905456.7706304\tbest: 905456.7706304 (145)\ttotal: 354ms\tremaining: 2.07s\n",
      "146:\tlearn: 750736.8268760\ttest: 905857.3548528\tbest: 905456.7706304 (145)\ttotal: 355ms\tremaining: 2.06s\n",
      "147:\tlearn: 748741.8074221\ttest: 904565.8135409\tbest: 904565.8135409 (147)\ttotal: 357ms\tremaining: 2.06s\n",
      "148:\tlearn: 747051.3832767\ttest: 902941.1530679\tbest: 902941.1530679 (148)\ttotal: 359ms\tremaining: 2.05s\n",
      "149:\tlearn: 746598.1268176\ttest: 903387.5653602\tbest: 902941.1530679 (148)\ttotal: 360ms\tremaining: 2.04s\n",
      "150:\tlearn: 744693.6410551\ttest: 902457.0513773\tbest: 902457.0513773 (150)\ttotal: 362ms\tremaining: 2.03s\n",
      "151:\tlearn: 743816.1795729\ttest: 901263.1254629\tbest: 901263.1254629 (151)\ttotal: 363ms\tremaining: 2.02s\n",
      "152:\tlearn: 743389.1935680\ttest: 901799.4963996\tbest: 901263.1254629 (151)\ttotal: 364ms\tremaining: 2.02s\n",
      "153:\tlearn: 742976.1250890\ttest: 902337.5059192\tbest: 901263.1254629 (151)\ttotal: 366ms\tremaining: 2.01s\n",
      "154:\tlearn: 742579.4977629\ttest: 902751.3574383\tbest: 901263.1254629 (151)\ttotal: 367ms\tremaining: 2s\n",
      "155:\tlearn: 740673.3899071\ttest: 901578.0986657\tbest: 901263.1254629 (151)\ttotal: 368ms\tremaining: 1.99s\n",
      "156:\tlearn: 740299.9432663\ttest: 902000.2175765\tbest: 901263.1254629 (151)\ttotal: 370ms\tremaining: 1.99s\n",
      "157:\tlearn: 739911.6796835\ttest: 902422.2808903\tbest: 901263.1254629 (151)\ttotal: 371ms\tremaining: 1.98s\n",
      "158:\tlearn: 737958.6948307\ttest: 900850.9109095\tbest: 900850.9109095 (158)\ttotal: 374ms\tremaining: 1.98s\n",
      "159:\tlearn: 734623.4830301\ttest: 898472.8414130\tbest: 898472.8414130 (159)\ttotal: 375ms\tremaining: 1.97s\n",
      "160:\tlearn: 734282.8045624\ttest: 899001.3779726\tbest: 898472.8414130 (159)\ttotal: 376ms\tremaining: 1.96s\n",
      "161:\tlearn: 733956.2529163\ttest: 899421.0560605\tbest: 898472.8414130 (159)\ttotal: 378ms\tremaining: 1.95s\n",
      "162:\tlearn: 733255.1152686\ttest: 898407.5672387\tbest: 898407.5672387 (162)\ttotal: 379ms\tremaining: 1.95s\n",
      "163:\tlearn: 730843.8946584\ttest: 896904.4474671\tbest: 896904.4474671 (163)\ttotal: 381ms\tremaining: 1.94s\n",
      "164:\tlearn: 730531.8203280\ttest: 897415.4300622\tbest: 896904.4474671 (163)\ttotal: 383ms\tremaining: 1.94s\n",
      "165:\tlearn: 730229.9603603\ttest: 897925.7250588\tbest: 896904.4474671 (163)\ttotal: 385ms\tremaining: 1.93s\n",
      "166:\tlearn: 726940.1155960\ttest: 897050.0313169\tbest: 896904.4474671 (163)\ttotal: 387ms\tremaining: 1.93s\n",
      "167:\tlearn: 726329.1132829\ttest: 896109.9215634\tbest: 896109.9215634 (167)\ttotal: 389ms\tremaining: 1.93s\n",
      "168:\tlearn: 724078.3632493\ttest: 894554.5561188\tbest: 894554.5561188 (168)\ttotal: 391ms\tremaining: 1.92s\n",
      "169:\tlearn: 723540.3155217\ttest: 893683.9392043\tbest: 893683.9392043 (169)\ttotal: 392ms\tremaining: 1.92s\n",
      "170:\tlearn: 721864.3437208\ttest: 892506.0667780\tbest: 892506.0667780 (170)\ttotal: 395ms\tremaining: 1.91s\n",
      "171:\tlearn: 719008.8925629\ttest: 892103.0256556\tbest: 892103.0256556 (171)\ttotal: 397ms\tremaining: 1.91s\n",
      "172:\tlearn: 716348.5324209\ttest: 891742.5765826\tbest: 891742.5765826 (172)\ttotal: 399ms\tremaining: 1.9s\n",
      "173:\tlearn: 714114.4600667\ttest: 892869.7064656\tbest: 891742.5765826 (172)\ttotal: 401ms\tremaining: 1.9s\n",
      "174:\tlearn: 710744.0450457\ttest: 893887.0638562\tbest: 891742.5765826 (172)\ttotal: 405ms\tremaining: 1.91s\n",
      "175:\tlearn: 710500.8181332\ttest: 894348.3398852\tbest: 891742.5765826 (172)\ttotal: 406ms\tremaining: 1.9s\n",
      "176:\tlearn: 708346.4199649\ttest: 893619.8596186\tbest: 891742.5765826 (172)\ttotal: 409ms\tremaining: 1.9s\n",
      "177:\tlearn: 708119.9247931\ttest: 894026.4152307\tbest: 891742.5765826 (172)\ttotal: 411ms\tremaining: 1.9s\n",
      "178:\tlearn: 707897.0449491\ttest: 894432.3389059\tbest: 891742.5765826 (172)\ttotal: 413ms\tremaining: 1.89s\n",
      "179:\tlearn: 707682.0988519\ttest: 894898.1403266\tbest: 891742.5765826 (172)\ttotal: 415ms\tremaining: 1.89s\n",
      "180:\tlearn: 705790.1732406\ttest: 894387.7820348\tbest: 891742.5765826 (172)\ttotal: 416ms\tremaining: 1.88s\n",
      "181:\tlearn: 705587.3993248\ttest: 894857.4326001\tbest: 891742.5765826 (172)\ttotal: 418ms\tremaining: 1.88s\n",
      "182:\tlearn: 705390.6912361\ttest: 895264.8559095\tbest: 891742.5765826 (172)\ttotal: 420ms\tremaining: 1.87s\n",
      "183:\tlearn: 703816.4718252\ttest: 895216.6259282\tbest: 891742.5765826 (172)\ttotal: 421ms\tremaining: 1.87s\n",
      "184:\tlearn: 703627.7821038\ttest: 895679.9720837\tbest: 891742.5765826 (172)\ttotal: 423ms\tremaining: 1.86s\n",
      "185:\tlearn: 703445.2964533\ttest: 896140.6338616\tbest: 891742.5765826 (172)\ttotal: 425ms\tremaining: 1.86s\n",
      "186:\tlearn: 703268.8123166\ttest: 896598.4805616\tbest: 891742.5765826 (172)\ttotal: 427ms\tremaining: 1.85s\n",
      "187:\tlearn: 700710.5775619\ttest: 894996.8825215\tbest: 891742.5765826 (172)\ttotal: 429ms\tremaining: 1.85s\n",
      "188:\tlearn: 699241.0108699\ttest: 893753.5190646\tbest: 891742.5765826 (172)\ttotal: 431ms\tremaining: 1.85s\n",
      "189:\tlearn: 699071.0014053\ttest: 894204.8553648\tbest: 891742.5765826 (172)\ttotal: 434ms\tremaining: 1.85s\n",
      "190:\tlearn: 698906.7037309\ttest: 894653.1712478\tbest: 891742.5765826 (172)\ttotal: 436ms\tremaining: 1.85s\n",
      "191:\tlearn: 697422.4903801\ttest: 894390.4286384\tbest: 891742.5765826 (172)\ttotal: 438ms\tremaining: 1.84s\n",
      "192:\tlearn: 695535.0657303\ttest: 890077.1589370\tbest: 890077.1589370 (192)\ttotal: 442ms\tremaining: 1.85s\n",
      "193:\tlearn: 693834.6661472\ttest: 891107.2606702\tbest: 890077.1589370 (192)\ttotal: 444ms\tremaining: 1.84s\n",
      "194:\tlearn: 692494.3256415\ttest: 890814.2137847\tbest: 890077.1589370 (192)\ttotal: 446ms\tremaining: 1.84s\n",
      "195:\tlearn: 690270.1623959\ttest: 890276.7528571\tbest: 890077.1589370 (192)\ttotal: 448ms\tremaining: 1.84s\n",
      "196:\tlearn: 689001.7924090\ttest: 889984.5782046\tbest: 889984.5782046 (196)\ttotal: 450ms\tremaining: 1.83s\n",
      "197:\tlearn: 687798.9801007\ttest: 889706.8169913\tbest: 889706.8169913 (197)\ttotal: 451ms\tremaining: 1.83s\n",
      "198:\tlearn: 685043.7312810\ttest: 890698.0739077\tbest: 889706.8169913 (197)\ttotal: 452ms\tremaining: 1.82s\n",
      "199:\tlearn: 682207.7528297\ttest: 888945.2785394\tbest: 888945.2785394 (199)\ttotal: 454ms\tremaining: 1.81s\n",
      "200:\tlearn: 679588.6134743\ttest: 888090.2057988\tbest: 888090.2057988 (200)\ttotal: 456ms\tremaining: 1.81s\n",
      "201:\tlearn: 678472.8775903\ttest: 887817.6759606\tbest: 887817.6759606 (201)\ttotal: 457ms\tremaining: 1.8s\n",
      "202:\tlearn: 675410.3056773\ttest: 885498.4187182\tbest: 885498.4187182 (202)\ttotal: 459ms\tremaining: 1.8s\n",
      "203:\tlearn: 672951.7644110\ttest: 885997.6404447\tbest: 885498.4187182 (202)\ttotal: 460ms\tremaining: 1.8s\n",
      "204:\tlearn: 672805.4583307\ttest: 886334.1116226\tbest: 885498.4187182 (202)\ttotal: 462ms\tremaining: 1.79s\n",
      "205:\tlearn: 672663.9700084\ttest: 886669.7357474\tbest: 885498.4187182 (202)\ttotal: 464ms\tremaining: 1.79s\n",
      "206:\tlearn: 671277.9625022\ttest: 886056.7659720\tbest: 885498.4187182 (202)\ttotal: 465ms\tremaining: 1.78s\n",
      "207:\tlearn: 669494.1661685\ttest: 886746.9948624\tbest: 885498.4187182 (202)\ttotal: 467ms\tremaining: 1.78s\n",
      "208:\tlearn: 669357.9708717\ttest: 887067.8754263\tbest: 885498.4187182 (202)\ttotal: 468ms\tremaining: 1.77s\n",
      "209:\tlearn: 669226.2618401\ttest: 887387.8147263\tbest: 885498.4187182 (202)\ttotal: 469ms\tremaining: 1.77s\n",
      "210:\tlearn: 669098.8920855\ttest: 887706.6773453\tbest: 885498.4187182 (202)\ttotal: 471ms\tremaining: 1.76s\n",
      "211:\tlearn: 666857.6464431\ttest: 886781.8541602\tbest: 885498.4187182 (202)\ttotal: 472ms\tremaining: 1.75s\n",
      "212:\tlearn: 666733.7526691\ttest: 887091.5563129\tbest: 885498.4187182 (202)\ttotal: 474ms\tremaining: 1.75s\n",
      "213:\tlearn: 666613.9417350\ttest: 887400.0607841\tbest: 885498.4187182 (202)\ttotal: 475ms\tremaining: 1.74s\n",
      "214:\tlearn: 664114.6918895\ttest: 886980.5559376\tbest: 885498.4187182 (202)\ttotal: 477ms\tremaining: 1.74s\n",
      "215:\tlearn: 663998.0860029\ttest: 887301.8833638\tbest: 885498.4187182 (202)\ttotal: 478ms\tremaining: 1.73s\n",
      "216:\tlearn: 662511.7173951\ttest: 886550.3596532\tbest: 885498.4187182 (202)\ttotal: 479ms\tremaining: 1.73s\n",
      "217:\tlearn: 661054.7819052\ttest: 884698.0867784\tbest: 884698.0867784 (217)\ttotal: 481ms\tremaining: 1.72s\n",
      "218:\tlearn: 658640.6471016\ttest: 882799.0347620\tbest: 882799.0347620 (218)\ttotal: 482ms\tremaining: 1.72s\n",
      "219:\tlearn: 658528.4364479\ttest: 883111.7330062\tbest: 882799.0347620 (218)\ttotal: 484ms\tremaining: 1.72s\n",
      "220:\tlearn: 658419.9252642\ttest: 883422.8974453\tbest: 882799.0347620 (218)\ttotal: 485ms\tremaining: 1.71s\n",
      "221:\tlearn: 658314.9921483\ttest: 883732.4276490\tbest: 882799.0347620 (218)\ttotal: 487ms\tremaining: 1.71s\n",
      "222:\tlearn: 656464.6469332\ttest: 882438.0832731\tbest: 882438.0832731 (222)\ttotal: 488ms\tremaining: 1.7s\n",
      "223:\tlearn: 654882.3057535\ttest: 881451.5496771\tbest: 881451.5496771 (223)\ttotal: 490ms\tremaining: 1.7s\n",
      "224:\tlearn: 652828.5097956\ttest: 882930.0936264\tbest: 881451.5496771 (223)\ttotal: 492ms\tremaining: 1.69s\n",
      "225:\tlearn: 652726.6765235\ttest: 883227.1171512\tbest: 881451.5496771 (223)\ttotal: 494ms\tremaining: 1.69s\n",
      "226:\tlearn: 652628.2020108\ttest: 883522.5705912\tbest: 881451.5496771 (223)\ttotal: 495ms\tremaining: 1.69s\n",
      "227:\tlearn: 652535.1764955\ttest: 883785.2912132\tbest: 881451.5496771 (223)\ttotal: 496ms\tremaining: 1.68s\n",
      "228:\tlearn: 650894.9962306\ttest: 882740.9192590\tbest: 881451.5496771 (223)\ttotal: 498ms\tremaining: 1.68s\n",
      "229:\tlearn: 650802.4408798\ttest: 883033.2961217\tbest: 881451.5496771 (223)\ttotal: 499ms\tremaining: 1.67s\n",
      "230:\tlearn: 650712.9393912\ttest: 883323.8700014\tbest: 881451.5496771 (223)\ttotal: 501ms\tremaining: 1.67s\n",
      "231:\tlearn: 650626.3913981\ttest: 883612.5659941\tbest: 881451.5496771 (223)\ttotal: 502ms\tremaining: 1.66s\n",
      "232:\tlearn: 649323.1896953\ttest: 883493.5094146\tbest: 881451.5496771 (223)\ttotal: 504ms\tremaining: 1.66s\n",
      "233:\tlearn: 646504.3254907\ttest: 882178.3786244\tbest: 881451.5496771 (223)\ttotal: 505ms\tremaining: 1.65s\n",
      "234:\tlearn: 646425.9799432\ttest: 882459.9637628\tbest: 881451.5496771 (223)\ttotal: 507ms\tremaining: 1.65s\n",
      "235:\tlearn: 646350.2209665\ttest: 882739.4481828\tbest: 881451.5496771 (223)\ttotal: 509ms\tremaining: 1.65s\n",
      "236:\tlearn: 646276.9634511\ttest: 883016.7783529\tbest: 881451.5496771 (223)\ttotal: 510ms\tremaining: 1.64s\n",
      "237:\tlearn: 646207.9272788\ttest: 883267.1705252\tbest: 881451.5496771 (223)\ttotal: 512ms\tremaining: 1.64s\n",
      "238:\tlearn: 646141.3458748\ttest: 883515.7954779\tbest: 881451.5496771 (223)\ttotal: 513ms\tremaining: 1.63s\n",
      "239:\tlearn: 646074.9866023\ttest: 883786.3950385\tbest: 881451.5496771 (223)\ttotal: 514ms\tremaining: 1.63s\n",
      "240:\tlearn: 645042.7587850\ttest: 884388.4245472\tbest: 881451.5496771 (223)\ttotal: 516ms\tremaining: 1.63s\n",
      "241:\tlearn: 643739.0415507\ttest: 884495.6442549\tbest: 881451.5496771 (223)\ttotal: 518ms\tremaining: 1.62s\n",
      "242:\tlearn: 641995.0630667\ttest: 884709.6704849\tbest: 881451.5496771 (223)\ttotal: 519ms\tremaining: 1.62s\n",
      "243:\tlearn: 641930.7166381\ttest: 884966.8226931\tbest: 881451.5496771 (223)\ttotal: 521ms\tremaining: 1.61s\n",
      "244:\tlearn: 641870.9304736\ttest: 885199.9518916\tbest: 881451.5496771 (223)\ttotal: 523ms\tremaining: 1.61s\n",
      "245:\tlearn: 640316.7908617\ttest: 883382.8818488\tbest: 881451.5496771 (223)\ttotal: 525ms\tremaining: 1.61s\n",
      "246:\tlearn: 640256.6939432\ttest: 883628.7484933\tbest: 881451.5496771 (223)\ttotal: 527ms\tremaining: 1.6s\n",
      "247:\tlearn: 640198.5826690\ttest: 883872.3889148\tbest: 881451.5496771 (223)\ttotal: 528ms\tremaining: 1.6s\n",
      "248:\tlearn: 638157.0245033\ttest: 883095.1235233\tbest: 881451.5496771 (223)\ttotal: 530ms\tremaining: 1.6s\n",
      "249:\tlearn: 636459.3466623\ttest: 884562.1500149\tbest: 881451.5496771 (223)\ttotal: 531ms\tremaining: 1.59s\n",
      "250:\tlearn: 635135.5399493\ttest: 883944.1825709\tbest: 881451.5496771 (223)\ttotal: 533ms\tremaining: 1.59s\n",
      "251:\tlearn: 633438.1388802\ttest: 884003.3049407\tbest: 881451.5496771 (223)\ttotal: 534ms\tremaining: 1.59s\n",
      "252:\tlearn: 633378.6252249\ttest: 884242.5971476\tbest: 881451.5496771 (223)\ttotal: 536ms\tremaining: 1.58s\n",
      "253:\tlearn: 631785.0303342\ttest: 884300.7904021\tbest: 881451.5496771 (223)\ttotal: 537ms\tremaining: 1.58s\n",
      "254:\tlearn: 630805.9915128\ttest: 883691.6857003\tbest: 881451.5496771 (223)\ttotal: 539ms\tremaining: 1.57s\n",
      "255:\tlearn: 630749.0549680\ttest: 883931.6581373\tbest: 881451.5496771 (223)\ttotal: 541ms\tremaining: 1.57s\n",
      "256:\tlearn: 630693.9999684\ttest: 884169.4550749\tbest: 881451.5496771 (223)\ttotal: 542ms\tremaining: 1.57s\n",
      "257:\tlearn: 629124.2214502\ttest: 884420.6260921\tbest: 881451.5496771 (223)\ttotal: 544ms\tremaining: 1.56s\n",
      "258:\tlearn: 627978.6143377\ttest: 883918.1090546\tbest: 881451.5496771 (223)\ttotal: 545ms\tremaining: 1.56s\n",
      "259:\tlearn: 626111.8685258\ttest: 884468.1648573\tbest: 881451.5496771 (223)\ttotal: 547ms\tremaining: 1.55s\n",
      "260:\tlearn: 625276.6701376\ttest: 882738.1857907\tbest: 881451.5496771 (223)\ttotal: 548ms\tremaining: 1.55s\n",
      "261:\tlearn: 624494.3142507\ttest: 881086.4897278\tbest: 881086.4897278 (261)\ttotal: 550ms\tremaining: 1.55s\n",
      "262:\tlearn: 623399.2505360\ttest: 881119.7950197\tbest: 881086.4897278 (261)\ttotal: 551ms\tremaining: 1.54s\n",
      "263:\tlearn: 621672.1313440\ttest: 881701.1504535\tbest: 881086.4897278 (261)\ttotal: 553ms\tremaining: 1.54s\n",
      "264:\tlearn: 620799.5092845\ttest: 881380.7570047\tbest: 881086.4897278 (261)\ttotal: 555ms\tremaining: 1.54s\n",
      "265:\tlearn: 619640.2339547\ttest: 881208.5107148\tbest: 881086.4897278 (261)\ttotal: 557ms\tremaining: 1.53s\n",
      "266:\tlearn: 618232.2105381\ttest: 881319.3383178\tbest: 881086.4897278 (261)\ttotal: 558ms\tremaining: 1.53s\n",
      "267:\tlearn: 618179.0625055\ttest: 881576.1005344\tbest: 881086.4897278 (261)\ttotal: 559ms\tremaining: 1.53s\n",
      "268:\tlearn: 618127.6712295\ttest: 881830.3422698\tbest: 881086.4897278 (261)\ttotal: 561ms\tremaining: 1.52s\n",
      "269:\tlearn: 618077.9787512\ttest: 882082.0455230\tbest: 881086.4897278 (261)\ttotal: 563ms\tremaining: 1.52s\n",
      "270:\tlearn: 616812.8974654\ttest: 881440.8374083\tbest: 881086.4897278 (261)\ttotal: 564ms\tremaining: 1.52s\n",
      "271:\tlearn: 616764.3749381\ttest: 881687.9740036\tbest: 881086.4897278 (261)\ttotal: 566ms\tremaining: 1.51s\n",
      "272:\tlearn: 616717.4565102\ttest: 881932.5951622\tbest: 881086.4897278 (261)\ttotal: 567ms\tremaining: 1.51s\n",
      "273:\tlearn: 614499.5523738\ttest: 881065.1238439\tbest: 881065.1238439 (273)\ttotal: 569ms\tremaining: 1.51s\n",
      "274:\tlearn: 613342.4453374\ttest: 879524.0529504\tbest: 879524.0529504 (274)\ttotal: 570ms\tremaining: 1.5s\n",
      "275:\tlearn: 613298.6322925\ttest: 879758.3954946\tbest: 879524.0529504 (274)\ttotal: 572ms\tremaining: 1.5s\n",
      "276:\tlearn: 612475.3983284\ttest: 879639.6398784\tbest: 879524.0529504 (274)\ttotal: 573ms\tremaining: 1.5s\n",
      "277:\tlearn: 612432.6576868\ttest: 879866.7722168\tbest: 879524.0529504 (274)\ttotal: 575ms\tremaining: 1.49s\n",
      "278:\tlearn: 611823.3277381\ttest: 879662.8545301\tbest: 879524.0529504 (274)\ttotal: 576ms\tremaining: 1.49s\n",
      "279:\tlearn: 609249.0967463\ttest: 878921.2490333\tbest: 878921.2490333 (279)\ttotal: 578ms\tremaining: 1.49s\n",
      "280:\tlearn: 608258.9023088\ttest: 879026.9135280\tbest: 878921.2490333 (279)\ttotal: 580ms\tremaining: 1.48s\n",
      "281:\tlearn: 606589.9821808\ttest: 880125.8916064\tbest: 878921.2490333 (279)\ttotal: 581ms\tremaining: 1.48s\n",
      "282:\tlearn: 605369.1869782\ttest: 881043.9445474\tbest: 878921.2490333 (279)\ttotal: 583ms\tremaining: 1.48s\n",
      "283:\tlearn: 603022.5156053\ttest: 880408.2216284\tbest: 878921.2490333 (279)\ttotal: 585ms\tremaining: 1.47s\n",
      "284:\tlearn: 602000.1041886\ttest: 879659.9764081\tbest: 878921.2490333 (279)\ttotal: 587ms\tremaining: 1.47s\n",
      "285:\tlearn: 601856.5438949\ttest: 879576.6937024\tbest: 878921.2490333 (279)\ttotal: 588ms\tremaining: 1.47s\n",
      "286:\tlearn: 601796.4802634\ttest: 879606.0385760\tbest: 878921.2490333 (279)\ttotal: 589ms\tremaining: 1.46s\n",
      "287:\tlearn: 600616.0238520\ttest: 881025.9944378\tbest: 878921.2490333 (279)\ttotal: 591ms\tremaining: 1.46s\n",
      "288:\tlearn: 599242.9390672\ttest: 880842.0425166\tbest: 878921.2490333 (279)\ttotal: 592ms\tremaining: 1.46s\n",
      "289:\tlearn: 598800.9495086\ttest: 880720.4019307\tbest: 878921.2490333 (279)\ttotal: 594ms\tremaining: 1.45s\n",
      "290:\tlearn: 598760.9155093\ttest: 880948.4687394\tbest: 878921.2490333 (279)\ttotal: 595ms\tremaining: 1.45s\n",
      "291:\tlearn: 598092.9533583\ttest: 880020.4543401\tbest: 878921.2490333 (279)\ttotal: 597ms\tremaining: 1.45s\n",
      "292:\tlearn: 598054.0716264\ttest: 880193.1998602\tbest: 878921.2490333 (279)\ttotal: 598ms\tremaining: 1.44s\n",
      "293:\tlearn: 596649.5617458\ttest: 880793.4521609\tbest: 878921.2490333 (279)\ttotal: 600ms\tremaining: 1.44s\n",
      "294:\tlearn: 596611.9751465\ttest: 881017.4229995\tbest: 878921.2490333 (279)\ttotal: 601ms\tremaining: 1.44s\n",
      "295:\tlearn: 595922.0972609\ttest: 880905.2006665\tbest: 878921.2490333 (279)\ttotal: 602ms\tremaining: 1.43s\n",
      "296:\tlearn: 595175.3840420\ttest: 881637.2110816\tbest: 878921.2490333 (279)\ttotal: 604ms\tremaining: 1.43s\n",
      "297:\tlearn: 594512.0640900\ttest: 881147.8712894\tbest: 878921.2490333 (279)\ttotal: 605ms\tremaining: 1.43s\n",
      "298:\tlearn: 592471.0637402\ttest: 881144.2196888\tbest: 878921.2490333 (279)\ttotal: 607ms\tremaining: 1.42s\n",
      "299:\tlearn: 591262.5061105\ttest: 880667.2241452\tbest: 878921.2490333 (279)\ttotal: 608ms\tremaining: 1.42s\n",
      "300:\tlearn: 590708.1182114\ttest: 880746.5368141\tbest: 878921.2490333 (279)\ttotal: 610ms\tremaining: 1.42s\n",
      "301:\tlearn: 590671.9933706\ttest: 880962.1755118\tbest: 878921.2490333 (279)\ttotal: 612ms\tremaining: 1.41s\n",
      "302:\tlearn: 589963.1121600\ttest: 881713.5595782\tbest: 878921.2490333 (279)\ttotal: 614ms\tremaining: 1.41s\n",
      "303:\tlearn: 589459.6064676\ttest: 881332.6663008\tbest: 878921.2490333 (279)\ttotal: 616ms\tremaining: 1.41s\n",
      "304:\tlearn: 588174.4721044\ttest: 881948.1993797\tbest: 878921.2490333 (279)\ttotal: 617ms\tremaining: 1.41s\n",
      "305:\tlearn: 587577.8444642\ttest: 881107.7562795\tbest: 878921.2490333 (279)\ttotal: 619ms\tremaining: 1.4s\n",
      "306:\tlearn: 586913.0636011\ttest: 881860.2793333\tbest: 878921.2490333 (279)\ttotal: 621ms\tremaining: 1.4s\n",
      "307:\tlearn: 586069.9570981\ttest: 882020.6967687\tbest: 878921.2490333 (279)\ttotal: 622ms\tremaining: 1.4s\n",
      "308:\tlearn: 584974.6649640\ttest: 881612.8072805\tbest: 878921.2490333 (279)\ttotal: 624ms\tremaining: 1.39s\n",
      "309:\tlearn: 583038.2486683\ttest: 881152.8085997\tbest: 878921.2490333 (279)\ttotal: 625ms\tremaining: 1.39s\n",
      "310:\tlearn: 581839.6175641\ttest: 881149.8400048\tbest: 878921.2490333 (279)\ttotal: 628ms\tremaining: 1.39s\n",
      "311:\tlearn: 581731.2890849\ttest: 881110.0805029\tbest: 878921.2490333 (279)\ttotal: 630ms\tremaining: 1.39s\n",
      "312:\tlearn: 581698.6266367\ttest: 881328.7718396\tbest: 878921.2490333 (279)\ttotal: 631ms\tremaining: 1.39s\n",
      "313:\tlearn: 580860.2150695\ttest: 881337.6863029\tbest: 878921.2490333 (279)\ttotal: 633ms\tremaining: 1.38s\n",
      "314:\tlearn: 580318.8407024\ttest: 881050.0640765\tbest: 878921.2490333 (279)\ttotal: 635ms\tremaining: 1.38s\n",
      "315:\tlearn: 580215.4553066\ttest: 881010.5999728\tbest: 878921.2490333 (279)\ttotal: 637ms\tremaining: 1.38s\n",
      "316:\tlearn: 580182.7380438\ttest: 881225.8013203\tbest: 878921.2490333 (279)\ttotal: 638ms\tremaining: 1.38s\n",
      "317:\tlearn: 578145.3776464\ttest: 881212.6503891\tbest: 878921.2490333 (279)\ttotal: 640ms\tremaining: 1.37s\n",
      "318:\tlearn: 577530.3456160\ttest: 881976.4834739\tbest: 878921.2490333 (279)\ttotal: 643ms\tremaining: 1.37s\n",
      "319:\tlearn: 576414.5316131\ttest: 882532.2436866\tbest: 878921.2490333 (279)\ttotal: 644ms\tremaining: 1.37s\n",
      "320:\tlearn: 574855.0242223\ttest: 882614.3053174\tbest: 878921.2490333 (279)\ttotal: 647ms\tremaining: 1.37s\n",
      "321:\tlearn: 574497.4472683\ttest: 882569.7627621\tbest: 878921.2490333 (279)\ttotal: 649ms\tremaining: 1.36s\n",
      "322:\tlearn: 573008.9172773\ttest: 882074.7356306\tbest: 878921.2490333 (279)\ttotal: 650ms\tremaining: 1.36s\n",
      "323:\tlearn: 572424.9896125\ttest: 882843.7070299\tbest: 878921.2490333 (279)\ttotal: 652ms\tremaining: 1.36s\n",
      "324:\tlearn: 571286.5485437\ttest: 882532.7912158\tbest: 878921.2490333 (279)\ttotal: 655ms\tremaining: 1.36s\n",
      "325:\tlearn: 570680.8771685\ttest: 881987.9168652\tbest: 878921.2490333 (279)\ttotal: 657ms\tremaining: 1.36s\n",
      "326:\tlearn: 570507.3211707\ttest: 881964.4815058\tbest: 878921.2490333 (279)\ttotal: 659ms\tremaining: 1.35s\n",
      "327:\tlearn: 569766.3432365\ttest: 882422.8699935\tbest: 878921.2490333 (279)\ttotal: 661ms\tremaining: 1.35s\n",
      "328:\tlearn: 568949.1638000\ttest: 883699.6006246\tbest: 878921.2490333 (279)\ttotal: 663ms\tremaining: 1.35s\n",
      "329:\tlearn: 568433.5540957\ttest: 884409.5153517\tbest: 878921.2490333 (279)\ttotal: 665ms\tremaining: 1.35s\n",
      "330:\tlearn: 568126.2585953\ttest: 884382.2777598\tbest: 878921.2490333 (279)\ttotal: 667ms\tremaining: 1.35s\n",
      "331:\tlearn: 568096.1068815\ttest: 884605.6654583\tbest: 878921.2490333 (279)\ttotal: 670ms\tremaining: 1.35s\n",
      "332:\tlearn: 568066.9155675\ttest: 884826.3490307\tbest: 878921.2490333 (279)\ttotal: 672ms\tremaining: 1.34s\n",
      "333:\tlearn: 568038.7244254\ttest: 885044.3450955\tbest: 878921.2490333 (279)\ttotal: 674ms\tremaining: 1.34s\n",
      "334:\tlearn: 567372.7465525\ttest: 885144.9539696\tbest: 878921.2490333 (279)\ttotal: 675ms\tremaining: 1.34s\n",
      "335:\tlearn: 567345.7885511\ttest: 885358.3234893\tbest: 878921.2490333 (279)\ttotal: 677ms\tremaining: 1.34s\n",
      "336:\tlearn: 567319.7224820\ttest: 885569.0408672\tbest: 878921.2490333 (279)\ttotal: 678ms\tremaining: 1.33s\n",
      "337:\tlearn: 567281.9902999\ttest: 885629.5024996\tbest: 878921.2490333 (279)\ttotal: 680ms\tremaining: 1.33s\n",
      "338:\tlearn: 567257.6191657\ttest: 885834.1395840\tbest: 878921.2490333 (279)\ttotal: 681ms\tremaining: 1.33s\n",
      "339:\tlearn: 567234.0544807\ttest: 886036.1814923\tbest: 878921.2490333 (279)\ttotal: 683ms\tremaining: 1.32s\n",
      "340:\tlearn: 566801.7436214\ttest: 885836.3830449\tbest: 878921.2490333 (279)\ttotal: 684ms\tremaining: 1.32s\n",
      "341:\tlearn: 566767.1509528\ttest: 885893.1694156\tbest: 878921.2490333 (279)\ttotal: 686ms\tremaining: 1.32s\n",
      "342:\tlearn: 566744.9316501\ttest: 886088.5682371\tbest: 878921.2490333 (279)\ttotal: 688ms\tremaining: 1.32s\n",
      "343:\tlearn: 566712.7837377\ttest: 886143.4473321\tbest: 878921.2490333 (279)\ttotal: 690ms\tremaining: 1.32s\n",
      "344:\tlearn: 565944.7846840\ttest: 886054.0845562\tbest: 878921.2490333 (279)\ttotal: 693ms\tremaining: 1.31s\n",
      "345:\tlearn: 564818.5712025\ttest: 886461.6973710\tbest: 878921.2490333 (279)\ttotal: 695ms\tremaining: 1.31s\n",
      "346:\tlearn: 563984.3523567\ttest: 886052.5155679\tbest: 878921.2490333 (279)\ttotal: 697ms\tremaining: 1.31s\n",
      "347:\tlearn: 562942.8567433\ttest: 886452.5683020\tbest: 878921.2490333 (279)\ttotal: 699ms\tremaining: 1.31s\n",
      "348:\tlearn: 562058.1933722\ttest: 887134.9567609\tbest: 878921.2490333 (279)\ttotal: 702ms\tremaining: 1.31s\n",
      "349:\tlearn: 561410.1447428\ttest: 886793.4243643\tbest: 878921.2490333 (279)\ttotal: 707ms\tremaining: 1.31s\n",
      "350:\tlearn: 561379.5222018\ttest: 886848.7748301\tbest: 878921.2490333 (279)\ttotal: 708ms\tremaining: 1.31s\n",
      "351:\tlearn: 561350.4505278\ttest: 886902.5100384\tbest: 878921.2490333 (279)\ttotal: 710ms\tremaining: 1.31s\n",
      "352:\tlearn: 560505.4288806\ttest: 887556.1687654\tbest: 878921.2490333 (279)\ttotal: 713ms\tremaining: 1.31s\n",
      "353:\tlearn: 560478.3639643\ttest: 887610.2964628\tbest: 878921.2490333 (279)\ttotal: 715ms\tremaining: 1.3s\n",
      "354:\tlearn: 559668.4308266\ttest: 888244.3638080\tbest: 878921.2490333 (279)\ttotal: 717ms\tremaining: 1.3s\n",
      "355:\tlearn: 559643.2029699\ttest: 888298.8798123\tbest: 878921.2490333 (279)\ttotal: 718ms\tremaining: 1.3s\n",
      "356:\tlearn: 559619.2433737\ttest: 888351.7980828\tbest: 878921.2490333 (279)\ttotal: 720ms\tremaining: 1.3s\n",
      "357:\tlearn: 558843.0061881\ttest: 888959.8659913\tbest: 878921.2490333 (279)\ttotal: 722ms\tremaining: 1.29s\n",
      "358:\tlearn: 558820.6281055\ttest: 889013.2469549\tbest: 878921.2490333 (279)\ttotal: 724ms\tremaining: 1.29s\n",
      "359:\tlearn: 558272.7627930\ttest: 889008.4894551\tbest: 878921.2490333 (279)\ttotal: 745ms\tremaining: 1.32s\n",
      "360:\tlearn: 558250.9043762\ttest: 889057.0369404\tbest: 878921.2490333 (279)\ttotal: 755ms\tremaining: 1.34s\n",
      "361:\tlearn: 558236.9068077\ttest: 889215.9636309\tbest: 878921.2490333 (279)\ttotal: 763ms\tremaining: 1.34s\n",
      "362:\tlearn: 557869.8436407\ttest: 889111.6447673\tbest: 878921.2490333 (279)\ttotal: 768ms\tremaining: 1.35s\n",
      "363:\tlearn: 557083.8105420\ttest: 888833.1603814\tbest: 878921.2490333 (279)\ttotal: 770ms\tremaining: 1.34s\n",
      "364:\tlearn: 557063.1524600\ttest: 888880.3648652\tbest: 878921.2490333 (279)\ttotal: 782ms\tremaining: 1.36s\n",
      "365:\tlearn: 557049.9050798\ttest: 889035.1260876\tbest: 878921.2490333 (279)\ttotal: 783ms\tremaining: 1.36s\n",
      "366:\tlearn: 556301.5693457\ttest: 889623.7182006\tbest: 878921.2490333 (279)\ttotal: 785ms\tremaining: 1.35s\n",
      "367:\tlearn: 556282.6533668\ttest: 889671.2942739\tbest: 878921.2490333 (279)\ttotal: 786ms\tremaining: 1.35s\n",
      "368:\tlearn: 556256.5280841\ttest: 889550.1286045\tbest: 878921.2490333 (279)\ttotal: 788ms\tremaining: 1.35s\n",
      "369:\tlearn: 556238.3724755\ttest: 889597.2982121\tbest: 878921.2490333 (279)\ttotal: 790ms\tremaining: 1.34s\n",
      "370:\tlearn: 555561.8217154\ttest: 889550.8548366\tbest: 878921.2490333 (279)\ttotal: 791ms\tremaining: 1.34s\n",
      "371:\tlearn: 554891.8267810\ttest: 889602.2282424\tbest: 878921.2490333 (279)\ttotal: 793ms\tremaining: 1.34s\n",
      "372:\tlearn: 554469.9959381\ttest: 889475.9917535\tbest: 878921.2490333 (279)\ttotal: 794ms\tremaining: 1.33s\n",
      "373:\tlearn: 554458.9273107\ttest: 889626.3126578\tbest: 878921.2490333 (279)\ttotal: 796ms\tremaining: 1.33s\n",
      "374:\tlearn: 553129.8139937\ttest: 889182.0860936\tbest: 878921.2490333 (279)\ttotal: 798ms\tremaining: 1.33s\n",
      "375:\tlearn: 552521.3633759\ttest: 889699.5489811\tbest: 878921.2490333 (279)\ttotal: 800ms\tremaining: 1.33s\n",
      "376:\tlearn: 552510.9647652\ttest: 889849.8503286\tbest: 878921.2490333 (279)\ttotal: 802ms\tremaining: 1.32s\n",
      "377:\tlearn: 551919.3454347\ttest: 889646.7764147\tbest: 878921.2490333 (279)\ttotal: 804ms\tremaining: 1.32s\n",
      "378:\tlearn: 551109.1665440\ttest: 889915.1291250\tbest: 878921.2490333 (279)\ttotal: 806ms\tremaining: 1.32s\n",
      "379:\tlearn: 551098.6975819\ttest: 890060.8890397\tbest: 878921.2490333 (279)\ttotal: 808ms\tremaining: 1.32s\n",
      "380:\tlearn: 549388.6703373\ttest: 889967.8376931\tbest: 878921.2490333 (279)\ttotal: 813ms\tremaining: 1.32s\n",
      "381:\tlearn: 548705.3880708\ttest: 890523.8160498\tbest: 878921.2490333 (279)\ttotal: 816ms\tremaining: 1.32s\n",
      "382:\tlearn: 548049.0839516\ttest: 891070.0227769\tbest: 878921.2490333 (279)\ttotal: 818ms\tremaining: 1.32s\n",
      "383:\tlearn: 547454.3547397\ttest: 890637.8869346\tbest: 878921.2490333 (279)\ttotal: 819ms\tremaining: 1.31s\n",
      "384:\tlearn: 547394.9344408\ttest: 890704.7323526\tbest: 878921.2490333 (279)\ttotal: 821ms\tremaining: 1.31s\n",
      "385:\tlearn: 546764.9841584\ttest: 891242.2146290\tbest: 878921.2490333 (279)\ttotal: 823ms\tremaining: 1.31s\n",
      "386:\tlearn: 546236.8314500\ttest: 891697.9186817\tbest: 878921.2490333 (279)\ttotal: 825ms\tremaining: 1.31s\n",
      "387:\tlearn: 546009.8312191\ttest: 891694.3842883\tbest: 878921.2490333 (279)\ttotal: 827ms\tremaining: 1.3s\n",
      "388:\tlearn: 545311.5155342\ttest: 891780.7051725\tbest: 878921.2490333 (279)\ttotal: 828ms\tremaining: 1.3s\n",
      "389:\tlearn: 544439.5502481\ttest: 892278.4762673\tbest: 878921.2490333 (279)\ttotal: 830ms\tremaining: 1.3s\n",
      "390:\tlearn: 543340.2978700\ttest: 891740.9746531\tbest: 878921.2490333 (279)\ttotal: 832ms\tremaining: 1.3s\n",
      "391:\tlearn: 543109.5051572\ttest: 892013.7307968\tbest: 878921.2490333 (279)\ttotal: 834ms\tremaining: 1.29s\n",
      "392:\tlearn: 542909.6899739\ttest: 892010.6730885\tbest: 878921.2490333 (279)\ttotal: 836ms\tremaining: 1.29s\n",
      "393:\tlearn: 541723.5723127\ttest: 891618.2475780\tbest: 878921.2490333 (279)\ttotal: 838ms\tremaining: 1.29s\n",
      "394:\tlearn: 540907.4511155\ttest: 892121.8353943\tbest: 878921.2490333 (279)\ttotal: 841ms\tremaining: 1.29s\n",
      "395:\tlearn: 540528.2665897\ttest: 892188.0555850\tbest: 878921.2490333 (279)\ttotal: 843ms\tremaining: 1.28s\n",
      "396:\tlearn: 540166.5689735\ttest: 892365.8563825\tbest: 878921.2490333 (279)\ttotal: 845ms\tremaining: 1.28s\n",
      "397:\tlearn: 539619.3173491\ttest: 892591.2581396\tbest: 878921.2490333 (279)\ttotal: 847ms\tremaining: 1.28s\n",
      "398:\tlearn: 539151.0596607\ttest: 892605.9227880\tbest: 878921.2490333 (279)\ttotal: 849ms\tremaining: 1.28s\n",
      "399:\tlearn: 537767.5556398\ttest: 892646.7490791\tbest: 878921.2490333 (279)\ttotal: 851ms\tremaining: 1.27s\n",
      "400:\tlearn: 537226.2794438\ttest: 892482.7192227\tbest: 878921.2490333 (279)\ttotal: 852ms\tremaining: 1.27s\n",
      "401:\tlearn: 536442.6300983\ttest: 892983.2578520\tbest: 878921.2490333 (279)\ttotal: 854ms\tremaining: 1.27s\n",
      "402:\tlearn: 535721.3156801\ttest: 893436.2431229\tbest: 878921.2490333 (279)\ttotal: 856ms\tremaining: 1.27s\n",
      "403:\tlearn: 535598.0890600\ttest: 893939.1632707\tbest: 878921.2490333 (279)\ttotal: 858ms\tremaining: 1.26s\n",
      "404:\tlearn: 535491.2907146\ttest: 894224.4115014\tbest: 878921.2490333 (279)\ttotal: 859ms\tremaining: 1.26s\n",
      "405:\tlearn: 535447.6735572\ttest: 894319.1600604\tbest: 878921.2490333 (279)\ttotal: 861ms\tremaining: 1.26s\n",
      "406:\tlearn: 535438.9877028\ttest: 894424.6821134\tbest: 878921.2490333 (279)\ttotal: 863ms\tremaining: 1.26s\n",
      "407:\tlearn: 535398.4023709\ttest: 894516.5507173\tbest: 878921.2490333 (279)\ttotal: 864ms\tremaining: 1.25s\n",
      "408:\tlearn: 535390.2796408\ttest: 894618.8416176\tbest: 878921.2490333 (279)\ttotal: 866ms\tremaining: 1.25s\n",
      "409:\tlearn: 535352.5034364\ttest: 894707.8999467\tbest: 878921.2490333 (279)\ttotal: 867ms\tremaining: 1.25s\n",
      "410:\tlearn: 534623.9762361\ttest: 895196.8103560\tbest: 878921.2490333 (279)\ttotal: 869ms\tremaining: 1.25s\n",
      "411:\tlearn: 533937.6023927\ttest: 895687.2624490\tbest: 878921.2490333 (279)\ttotal: 872ms\tremaining: 1.24s\n",
      "412:\tlearn: 533626.8050588\ttest: 895613.8449142\tbest: 878921.2490333 (279)\ttotal: 874ms\tremaining: 1.24s\n",
      "413:\tlearn: 532531.6133946\ttest: 895255.5468992\tbest: 878921.2490333 (279)\ttotal: 875ms\tremaining: 1.24s\n",
      "414:\tlearn: 531677.6037600\ttest: 894817.3994205\tbest: 878921.2490333 (279)\ttotal: 877ms\tremaining: 1.24s\n",
      "415:\tlearn: 531591.8694934\ttest: 894862.9403637\tbest: 878921.2490333 (279)\ttotal: 879ms\tremaining: 1.23s\n",
      "416:\tlearn: 531583.5629101\ttest: 894980.8552274\tbest: 878921.2490333 (279)\ttotal: 880ms\tremaining: 1.23s\n",
      "417:\tlearn: 530844.0864775\ttest: 894651.3196326\tbest: 878921.2490333 (279)\ttotal: 881ms\tremaining: 1.23s\n",
      "418:\tlearn: 530831.0460424\ttest: 894705.4928312\tbest: 878921.2490333 (279)\ttotal: 883ms\tremaining: 1.22s\n",
      "419:\tlearn: 530823.2149349\ttest: 894822.3946662\tbest: 878921.2490333 (279)\ttotal: 884ms\tremaining: 1.22s\n",
      "420:\tlearn: 529963.2625931\ttest: 895026.2247967\tbest: 878921.2490333 (279)\ttotal: 886ms\tremaining: 1.22s\n",
      "421:\tlearn: 529926.8540561\ttest: 895119.9621023\tbest: 878921.2490333 (279)\ttotal: 888ms\tremaining: 1.22s\n",
      "422:\tlearn: 529701.8401151\ttest: 895096.1162963\tbest: 878921.2490333 (279)\ttotal: 889ms\tremaining: 1.21s\n",
      "423:\tlearn: 529286.1737884\ttest: 895019.8474706\tbest: 878921.2490333 (279)\ttotal: 891ms\tremaining: 1.21s\n",
      "424:\tlearn: 529251.7456691\ttest: 895111.3677318\tbest: 878921.2490333 (279)\ttotal: 893ms\tremaining: 1.21s\n",
      "425:\tlearn: 528017.3574442\ttest: 895933.4628370\tbest: 878921.2490333 (279)\ttotal: 894ms\tremaining: 1.21s\n",
      "426:\tlearn: 527626.2875465\ttest: 895985.5618055\tbest: 878921.2490333 (279)\ttotal: 896ms\tremaining: 1.2s\n",
      "427:\tlearn: 527617.7730124\ttest: 896110.1975099\tbest: 878921.2490333 (279)\ttotal: 898ms\tremaining: 1.2s\n",
      "428:\tlearn: 526599.4023312\ttest: 895790.5712711\tbest: 878921.2490333 (279)\ttotal: 900ms\tremaining: 1.2s\n",
      "429:\tlearn: 525394.3714582\ttest: 895121.8498068\tbest: 878921.2490333 (279)\ttotal: 902ms\tremaining: 1.2s\n",
      "430:\tlearn: 524220.6983262\ttest: 895529.5971758\tbest: 878921.2490333 (279)\ttotal: 904ms\tremaining: 1.19s\n",
      "431:\tlearn: 523482.7337535\ttest: 896117.0562151\tbest: 878921.2490333 (279)\ttotal: 906ms\tremaining: 1.19s\n",
      "432:\tlearn: 523448.5359465\ttest: 896208.8130069\tbest: 878921.2490333 (279)\ttotal: 908ms\tremaining: 1.19s\n",
      "433:\tlearn: 522767.4939422\ttest: 896004.5244206\tbest: 878921.2490333 (279)\ttotal: 910ms\tremaining: 1.19s\n",
      "434:\tlearn: 522525.7574061\ttest: 895942.5056363\tbest: 878921.2490333 (279)\ttotal: 912ms\tremaining: 1.18s\n",
      "435:\tlearn: 521913.5451319\ttest: 895460.2602576\tbest: 878921.2490333 (279)\ttotal: 914ms\tremaining: 1.18s\n",
      "436:\tlearn: 521904.7099150\ttest: 895605.2588759\tbest: 878921.2490333 (279)\ttotal: 915ms\tremaining: 1.18s\n",
      "437:\tlearn: 521896.1672822\ttest: 895748.0932965\tbest: 878921.2490333 (279)\ttotal: 917ms\tremaining: 1.18s\n",
      "438:\tlearn: 521863.9279146\ttest: 895834.5868825\tbest: 878921.2490333 (279)\ttotal: 918ms\tremaining: 1.17s\n",
      "439:\tlearn: 521855.8794607\ttest: 895974.1265319\tbest: 878921.2490333 (279)\ttotal: 920ms\tremaining: 1.17s\n",
      "440:\tlearn: 521233.8028684\ttest: 895803.1757815\tbest: 878921.2490333 (279)\ttotal: 922ms\tremaining: 1.17s\n",
      "441:\tlearn: 520555.8461698\ttest: 896989.2695553\tbest: 878921.2490333 (279)\ttotal: 924ms\tremaining: 1.17s\n",
      "442:\tlearn: 520548.1524988\ttest: 897103.0684221\tbest: 878921.2490333 (279)\ttotal: 926ms\tremaining: 1.16s\n",
      "443:\tlearn: 519970.4866502\ttest: 896656.8249628\tbest: 878921.2490333 (279)\ttotal: 927ms\tremaining: 1.16s\n",
      "444:\tlearn: 519884.9216110\ttest: 896693.0081256\tbest: 878921.2490333 (279)\ttotal: 929ms\tremaining: 1.16s\n",
      "445:\tlearn: 519805.1689350\ttest: 896729.5499515\tbest: 878921.2490333 (279)\ttotal: 931ms\tremaining: 1.16s\n",
      "446:\tlearn: 519261.2358514\ttest: 896305.7537336\tbest: 878921.2490333 (279)\ttotal: 933ms\tremaining: 1.15s\n",
      "447:\tlearn: 519253.2300837\ttest: 896427.5500952\tbest: 878921.2490333 (279)\ttotal: 935ms\tremaining: 1.15s\n",
      "448:\tlearn: 519245.1854775\ttest: 896548.8800766\tbest: 878921.2490333 (279)\ttotal: 938ms\tremaining: 1.15s\n",
      "449:\tlearn: 519237.4158793\ttest: 896668.4217656\tbest: 878921.2490333 (279)\ttotal: 943ms\tremaining: 1.15s\n",
      "450:\tlearn: 519230.1734779\ttest: 896784.9263179\tbest: 878921.2490333 (279)\ttotal: 944ms\tremaining: 1.15s\n",
      "451:\tlearn: 518396.0164272\ttest: 896030.4038167\tbest: 878921.2490333 (279)\ttotal: 946ms\tremaining: 1.15s\n",
      "452:\tlearn: 517454.9482915\ttest: 895724.5636373\tbest: 878921.2490333 (279)\ttotal: 948ms\tremaining: 1.14s\n",
      "453:\tlearn: 517447.9282862\ttest: 895843.0224643\tbest: 878921.2490333 (279)\ttotal: 950ms\tremaining: 1.14s\n",
      "454:\tlearn: 516715.2547148\ttest: 895539.3119915\tbest: 878921.2490333 (279)\ttotal: 952ms\tremaining: 1.14s\n",
      "455:\tlearn: 516340.7372404\ttest: 895302.5629126\tbest: 878921.2490333 (279)\ttotal: 954ms\tremaining: 1.14s\n",
      "456:\tlearn: 516303.9015326\ttest: 895374.5612984\tbest: 878921.2490333 (279)\ttotal: 956ms\tremaining: 1.14s\n",
      "457:\tlearn: 515949.2340716\ttest: 895587.5747368\tbest: 878921.2490333 (279)\ttotal: 958ms\tremaining: 1.13s\n",
      "458:\tlearn: 515162.9298576\ttest: 896178.0215381\tbest: 878921.2490333 (279)\ttotal: 960ms\tremaining: 1.13s\n",
      "459:\tlearn: 514945.9476926\ttest: 896215.6517278\tbest: 878921.2490333 (279)\ttotal: 962ms\tremaining: 1.13s\n",
      "460:\tlearn: 514898.7078109\ttest: 896173.5473456\tbest: 878921.2490333 (279)\ttotal: 964ms\tremaining: 1.13s\n",
      "461:\tlearn: 514837.5752029\ttest: 896748.1848257\tbest: 878921.2490333 (279)\ttotal: 965ms\tremaining: 1.12s\n",
      "462:\tlearn: 514336.2283482\ttest: 896365.9324884\tbest: 878921.2490333 (279)\ttotal: 967ms\tremaining: 1.12s\n",
      "463:\tlearn: 514286.4786952\ttest: 896294.0693355\tbest: 878921.2490333 (279)\ttotal: 969ms\tremaining: 1.12s\n",
      "464:\tlearn: 514242.0484078\ttest: 896354.2553576\tbest: 878921.2490333 (279)\ttotal: 971ms\tremaining: 1.12s\n",
      "465:\tlearn: 514202.5243237\ttest: 896416.5935537\tbest: 878921.2490333 (279)\ttotal: 972ms\tremaining: 1.11s\n",
      "466:\tlearn: 513486.0164365\ttest: 896983.6090903\tbest: 878921.2490333 (279)\ttotal: 974ms\tremaining: 1.11s\n",
      "467:\tlearn: 512906.0324906\ttest: 896797.6848724\tbest: 878921.2490333 (279)\ttotal: 977ms\tremaining: 1.11s\n",
      "468:\tlearn: 512543.1161477\ttest: 896747.4104166\tbest: 878921.2490333 (279)\ttotal: 979ms\tremaining: 1.11s\n",
      "469:\tlearn: 512506.2152384\ttest: 896808.4168429\tbest: 878921.2490333 (279)\ttotal: 980ms\tremaining: 1.1s\n",
      "470:\tlearn: 512500.0158957\ttest: 896908.9559731\tbest: 878921.2490333 (279)\ttotal: 982ms\tremaining: 1.1s\n",
      "471:\tlearn: 512076.6260863\ttest: 896862.9798930\tbest: 878921.2490333 (279)\ttotal: 984ms\tremaining: 1.1s\n",
      "472:\tlearn: 510632.3789709\ttest: 895706.5713351\tbest: 878921.2490333 (279)\ttotal: 986ms\tremaining: 1.1s\n",
      "473:\tlearn: 509585.8624890\ttest: 895323.0098966\tbest: 878921.2490333 (279)\ttotal: 987ms\tremaining: 1.09s\n",
      "474:\tlearn: 509299.2117787\ttest: 895314.4528509\tbest: 878921.2490333 (279)\ttotal: 989ms\tremaining: 1.09s\n",
      "475:\tlearn: 508600.6951509\ttest: 894672.4069449\tbest: 878921.2490333 (279)\ttotal: 991ms\tremaining: 1.09s\n",
      "476:\tlearn: 508594.7936529\ttest: 894766.9156774\tbest: 878921.2490333 (279)\ttotal: 992ms\tremaining: 1.09s\n",
      "477:\tlearn: 507868.2224850\ttest: 895111.4200261\tbest: 878921.2490333 (279)\ttotal: 994ms\tremaining: 1.08s\n",
      "478:\tlearn: 507515.9138713\ttest: 895024.7759345\tbest: 878921.2490333 (279)\ttotal: 995ms\tremaining: 1.08s\n",
      "479:\tlearn: 507116.8045244\ttest: 895083.0236142\tbest: 878921.2490333 (279)\ttotal: 997ms\tremaining: 1.08s\n",
      "480:\tlearn: 506646.5290609\ttest: 895966.9589994\tbest: 878921.2490333 (279)\ttotal: 999ms\tremaining: 1.08s\n",
      "481:\tlearn: 506386.5478030\ttest: 896232.4839194\tbest: 878921.2490333 (279)\ttotal: 1s\tremaining: 1.07s\n",
      "482:\tlearn: 506380.5645870\ttest: 896328.7869417\tbest: 878921.2490333 (279)\ttotal: 1s\tremaining: 1.07s\n",
      "483:\tlearn: 506306.4449990\ttest: 896353.7772318\tbest: 878921.2490333 (279)\ttotal: 1s\tremaining: 1.07s\n",
      "484:\tlearn: 506290.0223691\ttest: 896498.4006055\tbest: 878921.2490333 (279)\ttotal: 1s\tremaining: 1.07s\n",
      "485:\tlearn: 505941.3063106\ttest: 896414.1642598\tbest: 878921.2490333 (279)\ttotal: 1.01s\tremaining: 1.06s\n",
      "486:\tlearn: 505925.8986181\ttest: 896553.7153319\tbest: 878921.2490333 (279)\ttotal: 1.01s\tremaining: 1.06s\n",
      "487:\tlearn: 505655.0104971\ttest: 896776.2874581\tbest: 878921.2490333 (279)\ttotal: 1.01s\tremaining: 1.06s\n",
      "488:\tlearn: 505640.2007783\ttest: 896913.9011213\tbest: 878921.2490333 (279)\ttotal: 1.01s\tremaining: 1.06s\n",
      "489:\tlearn: 504920.2977492\ttest: 896631.6832160\tbest: 878921.2490333 (279)\ttotal: 1.01s\tremaining: 1.05s\n",
      "490:\tlearn: 504238.1169393\ttest: 897131.7527729\tbest: 878921.2490333 (279)\ttotal: 1.01s\tremaining: 1.05s\n",
      "491:\tlearn: 503523.3676890\ttest: 896949.2584068\tbest: 878921.2490333 (279)\ttotal: 1.02s\tremaining: 1.05s\n",
      "492:\tlearn: 503290.5240809\ttest: 897137.8376376\tbest: 878921.2490333 (279)\ttotal: 1.02s\tremaining: 1.05s\n",
      "493:\tlearn: 503276.9568743\ttest: 897268.0383485\tbest: 878921.2490333 (279)\ttotal: 1.02s\tremaining: 1.04s\n",
      "494:\tlearn: 503272.0864718\ttest: 897354.3082579\tbest: 878921.2490333 (279)\ttotal: 1.02s\tremaining: 1.04s\n",
      "495:\tlearn: 503056.0867365\ttest: 897546.6507452\tbest: 878921.2490333 (279)\ttotal: 1.02s\tremaining: 1.04s\n",
      "496:\tlearn: 502469.9907889\ttest: 897780.8972620\tbest: 878921.2490333 (279)\ttotal: 1.03s\tremaining: 1.04s\n",
      "497:\tlearn: 501887.0211327\ttest: 897279.5890268\tbest: 878921.2490333 (279)\ttotal: 1.03s\tremaining: 1.04s\n",
      "498:\tlearn: 501460.5372850\ttest: 897022.0167711\tbest: 878921.2490333 (279)\ttotal: 1.03s\tremaining: 1.03s\n",
      "499:\tlearn: 500703.8344735\ttest: 897191.7542633\tbest: 878921.2490333 (279)\ttotal: 1.03s\tremaining: 1.03s\n",
      "500:\tlearn: 500699.0139876\ttest: 897269.7885688\tbest: 878921.2490333 (279)\ttotal: 1.03s\tremaining: 1.03s\n",
      "501:\tlearn: 500458.5383485\ttest: 897514.8653744\tbest: 878921.2490333 (279)\ttotal: 1.03s\tremaining: 1.03s\n",
      "502:\tlearn: 499899.4718983\ttest: 897453.3967183\tbest: 878921.2490333 (279)\ttotal: 1.04s\tremaining: 1.02s\n",
      "503:\tlearn: 499622.0564221\ttest: 897414.7512140\tbest: 878921.2490333 (279)\ttotal: 1.04s\tremaining: 1.02s\n",
      "504:\tlearn: 499454.3047891\ttest: 897397.0230794\tbest: 878921.2490333 (279)\ttotal: 1.04s\tremaining: 1.02s\n",
      "505:\tlearn: 499427.1855858\ttest: 897504.5226574\tbest: 878921.2490333 (279)\ttotal: 1.04s\tremaining: 1.02s\n",
      "506:\tlearn: 498836.7444745\ttest: 896940.1135437\tbest: 878921.2490333 (279)\ttotal: 1.05s\tremaining: 1.02s\n",
      "507:\tlearn: 498805.8632055\ttest: 897023.0626287\tbest: 878921.2490333 (279)\ttotal: 1.05s\tremaining: 1.01s\n",
      "508:\tlearn: 498753.1036864\ttest: 897555.0434531\tbest: 878921.2490333 (279)\ttotal: 1.05s\tremaining: 1.01s\n",
      "509:\tlearn: 498475.4848753\ttest: 897494.0203623\tbest: 878921.2490333 (279)\ttotal: 1.05s\tremaining: 1.01s\n",
      "510:\tlearn: 498032.9976109\ttest: 897223.9993149\tbest: 878921.2490333 (279)\ttotal: 1.05s\tremaining: 1.01s\n",
      "511:\tlearn: 496907.7726410\ttest: 897216.6393584\tbest: 878921.2490333 (279)\ttotal: 1.06s\tremaining: 1.01s\n",
      "512:\tlearn: 496900.7988788\ttest: 897288.8674385\tbest: 878921.2490333 (279)\ttotal: 1.06s\tremaining: 1s\n",
      "513:\tlearn: 496888.7781145\ttest: 897416.1658460\tbest: 878921.2490333 (279)\ttotal: 1.06s\tremaining: 1s\n",
      "514:\tlearn: 496863.3147816\ttest: 897526.5491842\tbest: 878921.2490333 (279)\ttotal: 1.06s\tremaining: 1s\n",
      "515:\tlearn: 496645.4888043\ttest: 897343.1097350\tbest: 878921.2490333 (279)\ttotal: 1.06s\tremaining: 1000ms\n",
      "516:\tlearn: 496617.6762211\ttest: 897412.4218623\tbest: 878921.2490333 (279)\ttotal: 1.07s\tremaining: 998ms\n",
      "517:\tlearn: 496606.8026252\ttest: 897533.9920627\tbest: 878921.2490333 (279)\ttotal: 1.07s\tremaining: 996ms\n",
      "518:\tlearn: 495872.8816108\ttest: 897783.8660422\tbest: 878921.2490333 (279)\ttotal: 1.07s\tremaining: 994ms\n",
      "519:\tlearn: 495868.2562368\ttest: 897869.2769695\tbest: 878921.2490333 (279)\ttotal: 1.07s\tremaining: 992ms\n",
      "520:\tlearn: 495231.0775349\ttest: 897863.5866155\tbest: 878921.2490333 (279)\ttotal: 1.08s\tremaining: 990ms\n",
      "521:\tlearn: 495226.6473814\ttest: 897950.5726331\tbest: 878921.2490333 (279)\ttotal: 1.08s\tremaining: 988ms\n",
      "522:\tlearn: 494420.0334988\ttest: 898010.5309878\tbest: 878921.2490333 (279)\ttotal: 1.08s\tremaining: 986ms\n",
      "523:\tlearn: 493979.5082839\ttest: 898039.2315407\tbest: 878921.2490333 (279)\ttotal: 1.08s\tremaining: 984ms\n",
      "524:\tlearn: 493973.9720709\ttest: 898110.8410718\tbest: 878921.2490333 (279)\ttotal: 1.08s\tremaining: 982ms\n",
      "525:\tlearn: 492929.6866862\ttest: 898101.3342226\tbest: 878921.2490333 (279)\ttotal: 1.09s\tremaining: 980ms\n",
      "526:\tlearn: 492923.6828417\ttest: 898179.3104969\tbest: 878921.2490333 (279)\ttotal: 1.09s\tremaining: 978ms\n",
      "527:\tlearn: 492917.8790209\ttest: 898256.1322408\tbest: 878921.2490333 (279)\ttotal: 1.09s\tremaining: 976ms\n",
      "528:\tlearn: 492719.5066443\ttest: 898249.1526000\tbest: 878921.2490333 (279)\ttotal: 1.09s\tremaining: 974ms\n",
      "529:\tlearn: 492713.9195948\ttest: 898324.7672905\tbest: 878921.2490333 (279)\ttotal: 1.09s\tremaining: 972ms\n",
      "530:\tlearn: 491934.2076176\ttest: 898707.5215888\tbest: 878921.2490333 (279)\ttotal: 1.1s\tremaining: 971ms\n",
      "531:\tlearn: 491928.5277824\ttest: 898785.3992493\tbest: 878921.2490333 (279)\ttotal: 1.1s\tremaining: 968ms\n",
      "532:\tlearn: 491241.4320254\ttest: 899269.7994562\tbest: 878921.2490333 (279)\ttotal: 1.1s\tremaining: 966ms\n",
      "533:\tlearn: 491236.0869020\ttest: 899344.6315811\tbest: 878921.2490333 (279)\ttotal: 1.1s\tremaining: 963ms\n",
      "534:\tlearn: 491197.5963764\ttest: 899572.3481618\tbest: 878921.2490333 (279)\ttotal: 1.1s\tremaining: 961ms\n",
      "535:\tlearn: 491162.3220506\ttest: 899703.4031802\tbest: 878921.2490333 (279)\ttotal: 1.11s\tremaining: 958ms\n",
      "536:\tlearn: 491157.5523674\ttest: 899774.8845691\tbest: 878921.2490333 (279)\ttotal: 1.11s\tremaining: 956ms\n",
      "537:\tlearn: 490272.0921778\ttest: 899336.9321710\tbest: 878921.2490333 (279)\ttotal: 1.11s\tremaining: 953ms\n",
      "538:\tlearn: 489910.0589507\ttest: 899388.5220913\tbest: 878921.2490333 (279)\ttotal: 1.11s\tremaining: 952ms\n",
      "539:\tlearn: 489418.6911544\ttest: 899344.7262209\tbest: 878921.2490333 (279)\ttotal: 1.11s\tremaining: 950ms\n",
      "540:\tlearn: 489414.9965838\ttest: 899411.7850344\tbest: 878921.2490333 (279)\ttotal: 1.12s\tremaining: 948ms\n",
      "541:\tlearn: 489411.4268752\ttest: 899477.8187909\tbest: 878921.2490333 (279)\ttotal: 1.12s\tremaining: 945ms\n",
      "542:\tlearn: 489407.9777608\ttest: 899542.8412276\tbest: 878921.2490333 (279)\ttotal: 1.12s\tremaining: 943ms\n",
      "543:\tlearn: 488926.2687983\ttest: 899713.3929163\tbest: 878921.2490333 (279)\ttotal: 1.12s\tremaining: 941ms\n",
      "544:\tlearn: 488607.2551266\ttest: 899940.1779157\tbest: 878921.2490333 (279)\ttotal: 1.12s\tremaining: 938ms\n",
      "545:\tlearn: 488577.1153107\ttest: 900068.4950670\tbest: 878921.2490333 (279)\ttotal: 1.13s\tremaining: 935ms\n",
      "546:\tlearn: 488574.1662664\ttest: 900128.4544056\tbest: 878921.2490333 (279)\ttotal: 1.13s\tremaining: 933ms\n",
      "547:\tlearn: 488288.6386092\ttest: 900048.3810894\tbest: 878921.2490333 (279)\ttotal: 1.13s\tremaining: 931ms\n",
      "548:\tlearn: 488281.3600215\ttest: 900025.1435788\tbest: 878921.2490333 (279)\ttotal: 1.13s\tremaining: 928ms\n",
      "549:\tlearn: 488003.0069275\ttest: 899776.5043656\tbest: 878921.2490333 (279)\ttotal: 1.13s\tremaining: 926ms\n",
      "550:\tlearn: 487725.9204430\ttest: 899614.2871997\tbest: 878921.2490333 (279)\ttotal: 1.13s\tremaining: 923ms\n",
      "551:\tlearn: 487254.0209637\ttest: 899597.7130962\tbest: 878921.2490333 (279)\ttotal: 1.13s\tremaining: 921ms\n",
      "552:\tlearn: 487082.6162960\ttest: 899513.9249258\tbest: 878921.2490333 (279)\ttotal: 1.14s\tremaining: 918ms\n",
      "553:\tlearn: 487017.3002843\ttest: 899766.8053245\tbest: 878921.2490333 (279)\ttotal: 1.14s\tremaining: 916ms\n",
      "554:\tlearn: 486752.0109360\ttest: 899690.0613275\tbest: 878921.2490333 (279)\ttotal: 1.14s\tremaining: 913ms\n",
      "555:\tlearn: 486531.5952031\ttest: 899836.8961800\tbest: 878921.2490333 (279)\ttotal: 1.14s\tremaining: 911ms\n",
      "556:\tlearn: 486347.7651096\ttest: 900023.6418755\tbest: 878921.2490333 (279)\ttotal: 1.14s\tremaining: 909ms\n",
      "557:\tlearn: 485899.0751390\ttest: 900007.6171735\tbest: 878921.2490333 (279)\ttotal: 1.14s\tremaining: 906ms\n",
      "558:\tlearn: 485693.8488503\ttest: 900134.3070277\tbest: 878921.2490333 (279)\ttotal: 1.15s\tremaining: 904ms\n",
      "559:\tlearn: 485358.7208660\ttest: 900442.0655037\tbest: 878921.2490333 (279)\ttotal: 1.15s\tremaining: 901ms\n",
      "560:\tlearn: 485188.3529431\ttest: 900628.1609068\tbest: 878921.2490333 (279)\ttotal: 1.15s\tremaining: 899ms\n",
      "561:\tlearn: 483935.7800737\ttest: 900876.1523591\tbest: 878921.2490333 (279)\ttotal: 1.15s\tremaining: 896ms\n",
      "562:\tlearn: 483650.6548536\ttest: 900705.4458193\tbest: 878921.2490333 (279)\ttotal: 1.15s\tremaining: 893ms\n",
      "563:\tlearn: 483490.9373792\ttest: 900892.9659990\tbest: 878921.2490333 (279)\ttotal: 1.15s\tremaining: 891ms\n",
      "564:\tlearn: 483235.2504701\ttest: 900654.3458683\tbest: 878921.2490333 (279)\ttotal: 1.15s\tremaining: 888ms\n",
      "565:\tlearn: 482979.0757403\ttest: 900755.0843081\tbest: 878921.2490333 (279)\ttotal: 1.16s\tremaining: 886ms\n",
      "566:\tlearn: 482265.0693803\ttest: 901083.4229946\tbest: 878921.2490333 (279)\ttotal: 1.16s\tremaining: 883ms\n",
      "567:\tlearn: 482019.3107482\ttest: 900989.3780710\tbest: 878921.2490333 (279)\ttotal: 1.16s\tremaining: 881ms\n",
      "568:\tlearn: 481797.3781272\ttest: 901119.5756998\tbest: 878921.2490333 (279)\ttotal: 1.16s\tremaining: 879ms\n",
      "569:\tlearn: 481379.1134523\ttest: 901349.0820974\tbest: 878921.2490333 (279)\ttotal: 1.16s\tremaining: 876ms\n",
      "570:\tlearn: 481091.7665262\ttest: 901367.0032214\tbest: 878921.2490333 (279)\ttotal: 1.16s\tremaining: 874ms\n",
      "571:\tlearn: 480568.9752513\ttest: 901378.6355178\tbest: 878921.2490333 (279)\ttotal: 1.16s\tremaining: 871ms\n",
      "572:\tlearn: 480404.0339285\ttest: 901321.7250708\tbest: 878921.2490333 (279)\ttotal: 1.17s\tremaining: 869ms\n",
      "573:\tlearn: 480219.4725201\ttest: 901177.2037372\tbest: 878921.2490333 (279)\ttotal: 1.17s\tremaining: 867ms\n",
      "574:\tlearn: 479670.0345340\ttest: 901371.9097111\tbest: 878921.2490333 (279)\ttotal: 1.17s\tremaining: 865ms\n",
      "575:\tlearn: 479018.6161758\ttest: 901110.3152068\tbest: 878921.2490333 (279)\ttotal: 1.17s\tremaining: 862ms\n",
      "576:\tlearn: 478787.2122166\ttest: 900885.7168203\tbest: 878921.2490333 (279)\ttotal: 1.17s\tremaining: 860ms\n",
      "577:\tlearn: 478505.4596105\ttest: 900701.5536362\tbest: 878921.2490333 (279)\ttotal: 1.17s\tremaining: 857ms\n",
      "578:\tlearn: 478248.5912892\ttest: 900738.7351704\tbest: 878921.2490333 (279)\ttotal: 1.18s\tremaining: 855ms\n",
      "579:\tlearn: 477715.3559614\ttest: 901013.1605633\tbest: 878921.2490333 (279)\ttotal: 1.18s\tremaining: 852ms\n",
      "580:\tlearn: 477059.7415267\ttest: 900624.3731018\tbest: 878921.2490333 (279)\ttotal: 1.18s\tremaining: 850ms\n",
      "581:\tlearn: 476775.2918227\ttest: 900866.4152494\tbest: 878921.2490333 (279)\ttotal: 1.18s\tremaining: 847ms\n",
      "582:\tlearn: 476502.8249286\ttest: 901104.3277763\tbest: 878921.2490333 (279)\ttotal: 1.18s\tremaining: 845ms\n",
      "583:\tlearn: 476321.1345018\ttest: 901136.3492412\tbest: 878921.2490333 (279)\ttotal: 1.18s\tremaining: 842ms\n",
      "584:\tlearn: 475872.3648851\ttest: 901853.9511750\tbest: 878921.2490333 (279)\ttotal: 1.18s\tremaining: 840ms\n",
      "585:\tlearn: 475617.9630133\ttest: 902091.0709563\tbest: 878921.2490333 (279)\ttotal: 1.19s\tremaining: 837ms\n",
      "586:\tlearn: 475364.0143382\ttest: 901929.3911381\tbest: 878921.2490333 (279)\ttotal: 1.19s\tremaining: 835ms\n",
      "587:\tlearn: 475119.5876723\ttest: 902163.0260314\tbest: 878921.2490333 (279)\ttotal: 1.19s\tremaining: 833ms\n",
      "588:\tlearn: 474563.6994732\ttest: 902189.6715204\tbest: 878921.2490333 (279)\ttotal: 1.19s\tremaining: 830ms\n",
      "589:\tlearn: 474419.2804276\ttest: 902375.7599293\tbest: 878921.2490333 (279)\ttotal: 1.19s\tremaining: 828ms\n",
      "590:\tlearn: 473993.2339775\ttest: 902463.8830677\tbest: 878921.2490333 (279)\ttotal: 1.19s\tremaining: 826ms\n",
      "591:\tlearn: 473477.6648594\ttest: 902171.6448136\tbest: 878921.2490333 (279)\ttotal: 1.19s\tremaining: 824ms\n",
      "592:\tlearn: 473305.2405054\ttest: 902309.2013555\tbest: 878921.2490333 (279)\ttotal: 1.2s\tremaining: 821ms\n",
      "593:\tlearn: 473091.1213741\ttest: 902618.3215806\tbest: 878921.2490333 (279)\ttotal: 1.2s\tremaining: 819ms\n",
      "594:\tlearn: 472417.0894727\ttest: 902541.8466924\tbest: 878921.2490333 (279)\ttotal: 1.2s\tremaining: 817ms\n",
      "595:\tlearn: 471978.9986859\ttest: 902767.0315148\tbest: 878921.2490333 (279)\ttotal: 1.2s\tremaining: 815ms\n",
      "596:\tlearn: 470663.5452750\ttest: 902981.2408401\tbest: 878921.2490333 (279)\ttotal: 1.2s\tremaining: 813ms\n",
      "597:\tlearn: 470257.6980118\ttest: 903646.1314896\tbest: 878921.2490333 (279)\ttotal: 1.21s\tremaining: 811ms\n",
      "598:\tlearn: 470003.7874021\ttest: 903634.1006504\tbest: 878921.2490333 (279)\ttotal: 1.21s\tremaining: 809ms\n",
      "599:\tlearn: 469434.3307207\ttest: 903824.3469894\tbest: 878921.2490333 (279)\ttotal: 1.21s\tremaining: 807ms\n",
      "600:\tlearn: 469260.2594797\ttest: 903939.9044851\tbest: 878921.2490333 (279)\ttotal: 1.21s\tremaining: 804ms\n",
      "601:\tlearn: 469125.9658873\ttest: 902902.6546282\tbest: 878921.2490333 (279)\ttotal: 1.21s\tremaining: 802ms\n",
      "602:\tlearn: 468920.0589022\ttest: 902768.6027756\tbest: 878921.2490333 (279)\ttotal: 1.21s\tremaining: 800ms\n",
      "603:\tlearn: 468778.4969118\ttest: 902986.9899541\tbest: 878921.2490333 (279)\ttotal: 1.22s\tremaining: 797ms\n",
      "604:\tlearn: 468603.8420172\ttest: 902697.3873725\tbest: 878921.2490333 (279)\ttotal: 1.22s\tremaining: 795ms\n",
      "605:\tlearn: 468385.7056166\ttest: 903058.2094832\tbest: 878921.2490333 (279)\ttotal: 1.22s\tremaining: 793ms\n",
      "606:\tlearn: 467863.3295054\ttest: 902973.7720182\tbest: 878921.2490333 (279)\ttotal: 1.22s\tremaining: 790ms\n",
      "607:\tlearn: 466537.2158921\ttest: 902375.2201820\tbest: 878921.2490333 (279)\ttotal: 1.22s\tremaining: 788ms\n",
      "608:\tlearn: 465934.6974466\ttest: 902635.8259509\tbest: 878921.2490333 (279)\ttotal: 1.22s\tremaining: 786ms\n",
      "609:\tlearn: 465772.3991650\ttest: 902497.1586430\tbest: 878921.2490333 (279)\ttotal: 1.23s\tremaining: 783ms\n",
      "610:\tlearn: 465626.1586433\ttest: 902516.3966031\tbest: 878921.2490333 (279)\ttotal: 1.23s\tremaining: 781ms\n",
      "611:\tlearn: 465124.2494999\ttest: 902558.1352836\tbest: 878921.2490333 (279)\ttotal: 1.23s\tremaining: 778ms\n",
      "612:\tlearn: 464705.2825952\ttest: 902590.5367459\tbest: 878921.2490333 (279)\ttotal: 1.23s\tremaining: 776ms\n",
      "613:\tlearn: 464355.1342284\ttest: 903155.5359271\tbest: 878921.2490333 (279)\ttotal: 1.23s\tremaining: 774ms\n",
      "614:\tlearn: 463937.1024478\ttest: 903440.1921496\tbest: 878921.2490333 (279)\ttotal: 1.23s\tremaining: 771ms\n",
      "615:\tlearn: 463638.7380038\ttest: 903888.5370537\tbest: 878921.2490333 (279)\ttotal: 1.23s\tremaining: 769ms\n",
      "616:\tlearn: 463244.0449102\ttest: 904312.4724406\tbest: 878921.2490333 (279)\ttotal: 1.24s\tremaining: 767ms\n",
      "617:\tlearn: 462895.6668952\ttest: 905052.5924582\tbest: 878921.2490333 (279)\ttotal: 1.24s\tremaining: 765ms\n",
      "618:\tlearn: 462845.4048051\ttest: 905207.1381077\tbest: 878921.2490333 (279)\ttotal: 1.24s\tremaining: 762ms\n",
      "619:\tlearn: 462798.5491943\ttest: 905357.4170267\tbest: 878921.2490333 (279)\ttotal: 1.24s\tremaining: 760ms\n",
      "620:\tlearn: 461904.5687029\ttest: 905557.0364885\tbest: 878921.2490333 (279)\ttotal: 1.24s\tremaining: 757ms\n",
      "621:\tlearn: 461860.5790603\ttest: 905697.1466124\tbest: 878921.2490333 (279)\ttotal: 1.24s\tremaining: 755ms\n",
      "622:\tlearn: 461857.4098367\ttest: 905750.4354663\tbest: 878921.2490333 (279)\ttotal: 1.24s\tremaining: 752ms\n",
      "623:\tlearn: 461855.1527086\ttest: 905800.7241288\tbest: 878921.2490333 (279)\ttotal: 1.24s\tremaining: 750ms\n",
      "624:\tlearn: 461852.9722754\ttest: 905850.2267795\tbest: 878921.2490333 (279)\ttotal: 1.25s\tremaining: 748ms\n",
      "625:\tlearn: 461850.0508271\ttest: 905901.1469019\tbest: 878921.2490333 (279)\ttotal: 1.25s\tremaining: 745ms\n",
      "626:\tlearn: 461847.2262840\ttest: 905951.2934320\tbest: 878921.2490333 (279)\ttotal: 1.25s\tremaining: 743ms\n",
      "627:\tlearn: 461726.7444612\ttest: 905869.7336042\tbest: 878921.2490333 (279)\ttotal: 1.25s\tremaining: 741ms\n",
      "628:\tlearn: 461210.8934733\ttest: 905844.7594241\tbest: 878921.2490333 (279)\ttotal: 1.25s\tremaining: 738ms\n",
      "629:\tlearn: 461207.5961587\ttest: 905862.9493087\tbest: 878921.2490333 (279)\ttotal: 1.25s\tremaining: 736ms\n",
      "630:\tlearn: 461205.5163214\ttest: 905919.6195361\tbest: 878921.2490333 (279)\ttotal: 1.25s\tremaining: 734ms\n",
      "631:\tlearn: 460944.4931810\ttest: 905774.5201213\tbest: 878921.2490333 (279)\ttotal: 1.26s\tremaining: 731ms\n",
      "632:\tlearn: 460811.4065647\ttest: 905687.3117196\tbest: 878921.2490333 (279)\ttotal: 1.26s\tremaining: 729ms\n",
      "633:\tlearn: 460467.3061155\ttest: 905696.1759987\tbest: 878921.2490333 (279)\ttotal: 1.26s\tremaining: 727ms\n",
      "634:\tlearn: 460088.8837831\ttest: 905725.8093447\tbest: 878921.2490333 (279)\ttotal: 1.26s\tremaining: 725ms\n",
      "635:\tlearn: 460085.9885774\ttest: 905744.6157465\tbest: 878921.2490333 (279)\ttotal: 1.26s\tremaining: 722ms\n",
      "636:\tlearn: 459870.3975884\ttest: 905857.2022193\tbest: 878921.2490333 (279)\ttotal: 1.26s\tremaining: 720ms\n",
      "637:\tlearn: 459867.6704491\ttest: 905875.0143960\tbest: 878921.2490333 (279)\ttotal: 1.26s\tremaining: 718ms\n",
      "638:\tlearn: 459727.5018041\ttest: 905973.4427829\tbest: 878921.2490333 (279)\ttotal: 1.27s\tremaining: 715ms\n",
      "639:\tlearn: 459465.1208078\ttest: 906023.0370865\tbest: 878921.2490333 (279)\ttotal: 1.27s\tremaining: 713ms\n",
      "640:\tlearn: 459340.4045435\ttest: 906208.0813425\tbest: 878921.2490333 (279)\ttotal: 1.27s\tremaining: 711ms\n",
      "641:\tlearn: 459338.7012363\ttest: 906260.6898908\tbest: 878921.2490333 (279)\ttotal: 1.27s\tremaining: 709ms\n",
      "642:\tlearn: 459337.0543839\ttest: 906312.4613273\tbest: 878921.2490333 (279)\ttotal: 1.27s\tremaining: 706ms\n",
      "643:\tlearn: 459335.4621125\ttest: 906363.4082436\tbest: 878921.2490333 (279)\ttotal: 1.27s\tremaining: 704ms\n",
      "644:\tlearn: 459096.2753227\ttest: 906220.7185207\tbest: 878921.2490333 (279)\ttotal: 1.27s\tremaining: 702ms\n",
      "645:\tlearn: 458717.5917973\ttest: 905975.0534918\tbest: 878921.2490333 (279)\ttotal: 1.28s\tremaining: 700ms\n",
      "646:\tlearn: 458467.7351937\ttest: 905883.7258125\tbest: 878921.2490333 (279)\ttotal: 1.28s\tremaining: 697ms\n",
      "647:\tlearn: 458223.8095264\ttest: 905993.9807148\tbest: 878921.2490333 (279)\ttotal: 1.28s\tremaining: 695ms\n",
      "648:\tlearn: 457732.0862250\ttest: 906170.5325451\tbest: 878921.2490333 (279)\ttotal: 1.28s\tremaining: 693ms\n",
      "649:\tlearn: 457474.6078856\ttest: 905816.1731106\tbest: 878921.2490333 (279)\ttotal: 1.28s\tremaining: 691ms\n",
      "650:\tlearn: 457330.3016668\ttest: 906014.4827646\tbest: 878921.2490333 (279)\ttotal: 1.28s\tremaining: 689ms\n",
      "651:\tlearn: 457327.8197567\ttest: 906032.5314662\tbest: 878921.2490333 (279)\ttotal: 1.29s\tremaining: 686ms\n",
      "652:\tlearn: 457326.2584675\ttest: 906085.6406083\tbest: 878921.2490333 (279)\ttotal: 1.29s\tremaining: 684ms\n",
      "653:\tlearn: 457323.9529906\ttest: 906102.9973795\tbest: 878921.2490333 (279)\ttotal: 1.29s\tremaining: 682ms\n",
      "654:\tlearn: 457014.8192181\ttest: 906267.3139566\tbest: 878921.2490333 (279)\ttotal: 1.29s\tremaining: 680ms\n",
      "655:\tlearn: 456475.5295692\ttest: 906673.5340332\tbest: 878921.2490333 (279)\ttotal: 1.29s\tremaining: 677ms\n",
      "656:\tlearn: 456459.7845448\ttest: 906697.1897867\tbest: 878921.2490333 (279)\ttotal: 1.29s\tremaining: 675ms\n",
      "657:\tlearn: 456450.8457311\ttest: 906740.3764826\tbest: 878921.2490333 (279)\ttotal: 1.29s\tremaining: 673ms\n",
      "658:\tlearn: 455271.2109217\ttest: 906242.3324513\tbest: 878921.2490333 (279)\ttotal: 1.3s\tremaining: 671ms\n",
      "659:\tlearn: 455268.8891080\ttest: 906258.2357366\tbest: 878921.2490333 (279)\ttotal: 1.3s\tremaining: 669ms\n",
      "660:\tlearn: 455266.6836692\ttest: 906273.5768384\tbest: 878921.2490333 (279)\ttotal: 1.3s\tremaining: 666ms\n",
      "661:\tlearn: 454944.8886992\ttest: 906887.3735608\tbest: 878921.2490333 (279)\ttotal: 1.3s\tremaining: 664ms\n",
      "662:\tlearn: 454941.7912517\ttest: 906846.0761155\tbest: 878921.2490333 (279)\ttotal: 1.3s\tremaining: 662ms\n",
      "663:\tlearn: 454777.8334921\ttest: 906803.0335694\tbest: 878921.2490333 (279)\ttotal: 1.3s\tremaining: 660ms\n",
      "664:\tlearn: 454188.8932708\ttest: 906998.2714735\tbest: 878921.2490333 (279)\ttotal: 1.3s\tremaining: 657ms\n",
      "665:\tlearn: 453969.5605356\ttest: 907110.6586371\tbest: 878921.2490333 (279)\ttotal: 1.31s\tremaining: 655ms\n",
      "666:\tlearn: 453968.0533517\ttest: 907161.6826868\tbest: 878921.2490333 (279)\ttotal: 1.31s\tremaining: 653ms\n",
      "667:\tlearn: 453697.5532191\ttest: 907492.9574606\tbest: 878921.2490333 (279)\ttotal: 1.31s\tremaining: 651ms\n",
      "668:\tlearn: 453053.0757613\ttest: 907476.3173451\tbest: 878921.2490333 (279)\ttotal: 1.31s\tremaining: 648ms\n",
      "669:\tlearn: 453051.7611812\ttest: 907525.1643129\tbest: 878921.2490333 (279)\ttotal: 1.31s\tremaining: 646ms\n",
      "670:\tlearn: 452759.7542976\ttest: 907680.5969721\tbest: 878921.2490333 (279)\ttotal: 1.31s\tremaining: 644ms\n",
      "671:\tlearn: 452480.1600037\ttest: 907830.7417202\tbest: 878921.2490333 (279)\ttotal: 1.31s\tremaining: 642ms\n",
      "672:\tlearn: 452212.3412034\ttest: 907975.7570357\tbest: 878921.2490333 (279)\ttotal: 1.32s\tremaining: 640ms\n",
      "673:\tlearn: 451783.6880936\ttest: 907475.2109356\tbest: 878921.2490333 (279)\ttotal: 1.32s\tremaining: 637ms\n",
      "674:\tlearn: 451594.1042497\ttest: 907696.4663665\tbest: 878921.2490333 (279)\ttotal: 1.32s\tremaining: 635ms\n",
      "675:\tlearn: 451399.4452060\ttest: 907781.7630616\tbest: 878921.2490333 (279)\ttotal: 1.32s\tremaining: 633ms\n",
      "676:\tlearn: 451260.3538442\ttest: 907779.8019216\tbest: 878921.2490333 (279)\ttotal: 1.32s\tremaining: 631ms\n",
      "677:\tlearn: 450870.2684124\ttest: 907308.1468334\tbest: 878921.2490333 (279)\ttotal: 1.32s\tremaining: 628ms\n",
      "678:\tlearn: 450593.9124485\ttest: 907746.0501495\tbest: 878921.2490333 (279)\ttotal: 1.32s\tremaining: 626ms\n",
      "679:\tlearn: 450231.5647005\ttest: 907299.7001862\tbest: 878921.2490333 (279)\ttotal: 1.33s\tremaining: 624ms\n",
      "680:\tlearn: 450008.8971722\ttest: 907661.3991747\tbest: 878921.2490333 (279)\ttotal: 1.33s\tremaining: 622ms\n",
      "681:\tlearn: 449851.5850354\ttest: 907872.6643900\tbest: 878921.2490333 (279)\ttotal: 1.33s\tremaining: 620ms\n",
      "682:\tlearn: 449700.6919561\ttest: 908079.6273092\tbest: 878921.2490333 (279)\ttotal: 1.33s\tremaining: 618ms\n",
      "683:\tlearn: 449555.8979645\ttest: 908282.3996706\tbest: 878921.2490333 (279)\ttotal: 1.33s\tremaining: 615ms\n",
      "684:\tlearn: 449045.6327473\ttest: 907874.0913975\tbest: 878921.2490333 (279)\ttotal: 1.33s\tremaining: 613ms\n",
      "685:\tlearn: 449043.9833944\ttest: 907943.4314507\tbest: 878921.2490333 (279)\ttotal: 1.33s\tremaining: 611ms\n",
      "686:\tlearn: 449042.4008058\ttest: 908011.5757523\tbest: 878921.2490333 (279)\ttotal: 1.34s\tremaining: 609ms\n",
      "687:\tlearn: 448898.8690281\ttest: 908276.9075365\tbest: 878921.2490333 (279)\ttotal: 1.34s\tremaining: 607ms\n",
      "688:\tlearn: 448647.5012460\ttest: 908007.5289804\tbest: 878921.2490333 (279)\ttotal: 1.34s\tremaining: 605ms\n",
      "689:\tlearn: 448527.0046965\ttest: 907937.2118026\tbest: 878921.2490333 (279)\ttotal: 1.34s\tremaining: 602ms\n",
      "690:\tlearn: 447947.3164581\ttest: 908110.5187377\tbest: 878921.2490333 (279)\ttotal: 1.34s\tremaining: 600ms\n",
      "691:\tlearn: 447653.8595237\ttest: 908157.4188438\tbest: 878921.2490333 (279)\ttotal: 1.34s\tremaining: 598ms\n",
      "692:\tlearn: 447462.1226542\ttest: 908565.2365875\tbest: 878921.2490333 (279)\ttotal: 1.34s\tremaining: 596ms\n",
      "693:\tlearn: 447219.5194645\ttest: 908473.1659726\tbest: 878921.2490333 (279)\ttotal: 1.35s\tremaining: 594ms\n",
      "694:\tlearn: 447138.1624747\ttest: 908495.1469600\tbest: 878921.2490333 (279)\ttotal: 1.35s\tremaining: 592ms\n",
      "695:\tlearn: 446819.0116936\ttest: 908647.4400586\tbest: 878921.2490333 (279)\ttotal: 1.35s\tremaining: 590ms\n",
      "696:\tlearn: 446535.5291345\ttest: 908797.6557140\tbest: 878921.2490333 (279)\ttotal: 1.35s\tremaining: 588ms\n",
      "697:\tlearn: 446330.2426813\ttest: 909226.6116884\tbest: 878921.2490333 (279)\ttotal: 1.35s\tremaining: 586ms\n",
      "698:\tlearn: 446248.5040957\ttest: 909255.7636076\tbest: 878921.2490333 (279)\ttotal: 1.35s\tremaining: 583ms\n",
      "699:\tlearn: 445991.4632667\ttest: 909319.5506413\tbest: 878921.2490333 (279)\ttotal: 1.36s\tremaining: 581ms\n",
      "700:\tlearn: 445835.9443734\ttest: 909418.4166035\tbest: 878921.2490333 (279)\ttotal: 1.36s\tremaining: 580ms\n",
      "701:\tlearn: 445590.6217224\ttest: 909481.3156142\tbest: 878921.2490333 (279)\ttotal: 1.36s\tremaining: 578ms\n",
      "702:\tlearn: 445367.3360827\ttest: 909243.6906056\tbest: 878921.2490333 (279)\ttotal: 1.36s\tremaining: 576ms\n",
      "703:\tlearn: 445302.2566939\ttest: 909443.3190496\tbest: 878921.2490333 (279)\ttotal: 1.36s\tremaining: 574ms\n",
      "704:\tlearn: 445151.3024078\ttest: 909594.2031450\tbest: 878921.2490333 (279)\ttotal: 1.37s\tremaining: 572ms\n",
      "705:\tlearn: 445107.9334582\ttest: 909593.7490361\tbest: 878921.2490333 (279)\ttotal: 1.37s\tremaining: 570ms\n",
      "706:\tlearn: 445005.9505728\ttest: 909572.8190898\tbest: 878921.2490333 (279)\ttotal: 1.37s\tremaining: 568ms\n",
      "707:\tlearn: 443975.4685811\ttest: 909695.2775674\tbest: 878921.2490333 (279)\ttotal: 1.37s\tremaining: 566ms\n",
      "708:\tlearn: 443825.2438457\ttest: 909664.4053080\tbest: 878921.2490333 (279)\ttotal: 1.37s\tremaining: 564ms\n",
      "709:\tlearn: 443429.1187187\ttest: 909936.2022100\tbest: 878921.2490333 (279)\ttotal: 1.38s\tremaining: 562ms\n",
      "710:\tlearn: 443160.8668381\ttest: 909893.5224277\tbest: 878921.2490333 (279)\ttotal: 1.38s\tremaining: 560ms\n",
      "711:\tlearn: 442921.4612258\ttest: 909752.9070474\tbest: 878921.2490333 (279)\ttotal: 1.38s\tremaining: 558ms\n",
      "712:\tlearn: 442566.8911246\ttest: 909878.9838312\tbest: 878921.2490333 (279)\ttotal: 1.38s\tremaining: 556ms\n",
      "713:\tlearn: 442499.4997387\ttest: 909834.9713182\tbest: 878921.2490333 (279)\ttotal: 1.38s\tremaining: 553ms\n",
      "714:\tlearn: 442160.2207144\ttest: 909631.6619855\tbest: 878921.2490333 (279)\ttotal: 1.38s\tremaining: 551ms\n",
      "715:\tlearn: 441186.2755552\ttest: 909821.5356442\tbest: 878921.2490333 (279)\ttotal: 1.38s\tremaining: 549ms\n",
      "716:\tlearn: 441003.0207765\ttest: 909745.0505961\tbest: 878921.2490333 (279)\ttotal: 1.39s\tremaining: 547ms\n",
      "717:\tlearn: 440831.8758270\ttest: 909672.5339905\tbest: 878921.2490333 (279)\ttotal: 1.39s\tremaining: 545ms\n",
      "718:\tlearn: 440655.7260113\ttest: 909596.2626925\tbest: 878921.2490333 (279)\ttotal: 1.39s\tremaining: 543ms\n",
      "719:\tlearn: 440532.1927697\ttest: 909397.7149562\tbest: 878921.2490333 (279)\ttotal: 1.39s\tremaining: 541ms\n",
      "720:\tlearn: 440530.9002804\ttest: 909448.8994939\tbest: 878921.2490333 (279)\ttotal: 1.39s\tremaining: 539ms\n",
      "721:\tlearn: 440416.6500127\ttest: 909268.3530089\tbest: 878921.2490333 (279)\ttotal: 1.39s\tremaining: 537ms\n",
      "722:\tlearn: 440261.9309534\ttest: 909250.2103453\tbest: 878921.2490333 (279)\ttotal: 1.4s\tremaining: 535ms\n",
      "723:\tlearn: 440075.8158973\ttest: 909638.1756961\tbest: 878921.2490333 (279)\ttotal: 1.4s\tremaining: 533ms\n",
      "724:\tlearn: 440015.9100849\ttest: 909589.4599781\tbest: 878921.2490333 (279)\ttotal: 1.4s\tremaining: 531ms\n",
      "725:\tlearn: 439952.6290844\ttest: 909745.5383798\tbest: 878921.2490333 (279)\ttotal: 1.4s\tremaining: 529ms\n",
      "726:\tlearn: 439950.0461042\ttest: 909813.3881501\tbest: 878921.2490333 (279)\ttotal: 1.4s\tremaining: 526ms\n",
      "727:\tlearn: 439788.2807500\ttest: 909668.3012042\tbest: 878921.2490333 (279)\ttotal: 1.4s\tremaining: 524ms\n",
      "728:\tlearn: 439465.3571575\ttest: 909391.6313109\tbest: 878921.2490333 (279)\ttotal: 1.4s\tremaining: 522ms\n",
      "729:\tlearn: 439219.1280216\ttest: 909599.6916251\tbest: 878921.2490333 (279)\ttotal: 1.41s\tremaining: 520ms\n",
      "730:\tlearn: 438587.5906267\ttest: 910074.8967072\tbest: 878921.2490333 (279)\ttotal: 1.41s\tremaining: 518ms\n",
      "731:\tlearn: 438373.9153673\ttest: 909974.4238818\tbest: 878921.2490333 (279)\ttotal: 1.41s\tremaining: 516ms\n",
      "732:\tlearn: 438220.9852929\ttest: 910072.0815929\tbest: 878921.2490333 (279)\ttotal: 1.41s\tremaining: 514ms\n",
      "733:\tlearn: 438184.2658812\ttest: 910065.4033828\tbest: 878921.2490333 (279)\ttotal: 1.41s\tremaining: 512ms\n",
      "734:\tlearn: 438183.1323933\ttest: 910110.3336458\tbest: 878921.2490333 (279)\ttotal: 1.41s\tremaining: 510ms\n",
      "735:\tlearn: 437980.4161246\ttest: 909902.7765964\tbest: 878921.2490333 (279)\ttotal: 1.41s\tremaining: 508ms\n",
      "736:\tlearn: 437149.9644516\ttest: 910126.5960503\tbest: 878921.2490333 (279)\ttotal: 1.42s\tremaining: 505ms\n",
      "737:\tlearn: 436638.8498753\ttest: 910028.2140585\tbest: 878921.2490333 (279)\ttotal: 1.42s\tremaining: 504ms\n",
      "738:\tlearn: 436079.9846827\ttest: 910181.9711291\tbest: 878921.2490333 (279)\ttotal: 1.42s\tremaining: 502ms\n",
      "739:\tlearn: 435548.8502210\ttest: 910308.4137830\tbest: 878921.2490333 (279)\ttotal: 1.42s\tremaining: 500ms\n",
      "740:\tlearn: 435034.7960647\ttest: 910483.5757359\tbest: 878921.2490333 (279)\ttotal: 1.42s\tremaining: 497ms\n",
      "741:\tlearn: 434659.5160454\ttest: 910388.1799302\tbest: 878921.2490333 (279)\ttotal: 1.42s\tremaining: 495ms\n",
      "742:\tlearn: 434319.1470399\ttest: 910458.1626515\tbest: 878921.2490333 (279)\ttotal: 1.43s\tremaining: 493ms\n",
      "743:\tlearn: 433872.6107855\ttest: 910638.5401116\tbest: 878921.2490333 (279)\ttotal: 1.43s\tremaining: 491ms\n",
      "744:\tlearn: 433669.9368714\ttest: 910515.1813126\tbest: 878921.2490333 (279)\ttotal: 1.43s\tremaining: 489ms\n",
      "745:\tlearn: 433212.1939778\ttest: 910175.5751605\tbest: 878921.2490333 (279)\ttotal: 1.43s\tremaining: 487ms\n",
      "746:\tlearn: 433115.2596053\ttest: 910242.8339809\tbest: 878921.2490333 (279)\ttotal: 1.43s\tremaining: 485ms\n",
      "747:\tlearn: 432876.0380646\ttest: 910064.7953665\tbest: 878921.2490333 (279)\ttotal: 1.43s\tremaining: 483ms\n",
      "748:\tlearn: 432399.2647223\ttest: 910261.1740180\tbest: 878921.2490333 (279)\ttotal: 1.44s\tremaining: 481ms\n",
      "749:\tlearn: 432308.0281962\ttest: 910343.6699144\tbest: 878921.2490333 (279)\ttotal: 1.44s\tremaining: 479ms\n",
      "750:\tlearn: 431860.8188851\ttest: 910546.6029424\tbest: 878921.2490333 (279)\ttotal: 1.44s\tremaining: 477ms\n",
      "751:\tlearn: 431384.3755271\ttest: 910938.5540007\tbest: 878921.2490333 (279)\ttotal: 1.44s\tremaining: 475ms\n",
      "752:\tlearn: 430945.7671872\ttest: 911317.3595343\tbest: 878921.2490333 (279)\ttotal: 1.44s\tremaining: 473ms\n",
      "753:\tlearn: 430549.8494469\ttest: 911031.6163764\tbest: 878921.2490333 (279)\ttotal: 1.44s\tremaining: 471ms\n",
      "754:\tlearn: 430172.3872500\ttest: 911483.0599999\tbest: 878921.2490333 (279)\ttotal: 1.44s\tremaining: 468ms\n",
      "755:\tlearn: 429734.7572766\ttest: 911424.9926019\tbest: 878921.2490333 (279)\ttotal: 1.45s\tremaining: 466ms\n",
      "756:\tlearn: 429591.2932420\ttest: 911405.8901457\tbest: 878921.2490333 (279)\ttotal: 1.45s\tremaining: 464ms\n",
      "757:\tlearn: 429202.4204437\ttest: 911631.8791473\tbest: 878921.2490333 (279)\ttotal: 1.45s\tremaining: 462ms\n",
      "758:\tlearn: 428813.0267636\ttest: 912014.9452835\tbest: 878921.2490333 (279)\ttotal: 1.45s\tremaining: 460ms\n",
      "759:\tlearn: 428754.9179205\ttest: 912225.6871794\tbest: 878921.2490333 (279)\ttotal: 1.45s\tremaining: 458ms\n",
      "760:\tlearn: 428413.9362438\ttest: 912662.9445256\tbest: 878921.2490333 (279)\ttotal: 1.45s\tremaining: 456ms\n",
      "761:\tlearn: 428274.1149824\ttest: 912667.0858673\tbest: 878921.2490333 (279)\ttotal: 1.45s\tremaining: 454ms\n",
      "762:\tlearn: 427919.9656398\ttest: 912871.5757758\tbest: 878921.2490333 (279)\ttotal: 1.46s\tremaining: 452ms\n",
      "763:\tlearn: 427471.1681400\ttest: 913130.9800455\tbest: 878921.2490333 (279)\ttotal: 1.46s\tremaining: 450ms\n",
      "764:\tlearn: 427145.7114036\ttest: 913327.5150278\tbest: 878921.2490333 (279)\ttotal: 1.46s\tremaining: 448ms\n",
      "765:\tlearn: 427057.4154217\ttest: 913450.3474420\tbest: 878921.2490333 (279)\ttotal: 1.46s\tremaining: 446ms\n",
      "766:\tlearn: 426961.5614171\ttest: 913578.3682863\tbest: 878921.2490333 (279)\ttotal: 1.46s\tremaining: 444ms\n",
      "767:\tlearn: 426595.6203547\ttest: 914016.3835260\tbest: 878921.2490333 (279)\ttotal: 1.46s\tremaining: 442ms\n",
      "768:\tlearn: 426137.4021368\ttest: 913995.2809639\tbest: 878921.2490333 (279)\ttotal: 1.46s\tremaining: 440ms\n",
      "769:\tlearn: 425840.2982623\ttest: 914426.8257114\tbest: 878921.2490333 (279)\ttotal: 1.47s\tremaining: 438ms\n",
      "770:\tlearn: 425435.7099577\ttest: 914616.6885997\tbest: 878921.2490333 (279)\ttotal: 1.47s\tremaining: 436ms\n",
      "771:\tlearn: 425397.0323931\ttest: 914587.5599620\tbest: 878921.2490333 (279)\ttotal: 1.47s\tremaining: 434ms\n",
      "772:\tlearn: 425144.3755573\ttest: 914614.4571579\tbest: 878921.2490333 (279)\ttotal: 1.47s\tremaining: 432ms\n",
      "773:\tlearn: 424849.4523244\ttest: 914963.9439136\tbest: 878921.2490333 (279)\ttotal: 1.47s\tremaining: 430ms\n",
      "774:\tlearn: 424580.8187989\ttest: 915435.8948870\tbest: 878921.2490333 (279)\ttotal: 1.47s\tremaining: 428ms\n",
      "775:\tlearn: 424267.8381737\ttest: 915076.3683003\tbest: 878921.2490333 (279)\ttotal: 1.48s\tremaining: 426ms\n",
      "776:\tlearn: 423814.8763092\ttest: 915002.0023717\tbest: 878921.2490333 (279)\ttotal: 1.48s\tremaining: 424ms\n",
      "777:\tlearn: 423813.3657735\ttest: 915014.3391952\tbest: 878921.2490333 (279)\ttotal: 1.48s\tremaining: 422ms\n",
      "778:\tlearn: 423564.4037511\ttest: 915465.7915766\tbest: 878921.2490333 (279)\ttotal: 1.48s\tremaining: 420ms\n",
      "779:\tlearn: 423295.2224629\ttest: 915798.1290279\tbest: 878921.2490333 (279)\ttotal: 1.48s\tremaining: 418ms\n",
      "780:\tlearn: 422946.4597751\ttest: 915694.8074327\tbest: 878921.2490333 (279)\ttotal: 1.48s\tremaining: 416ms\n",
      "781:\tlearn: 422569.3952555\ttest: 915953.5410868\tbest: 878921.2490333 (279)\ttotal: 1.48s\tremaining: 414ms\n",
      "782:\tlearn: 422227.1698989\ttest: 916047.9208738\tbest: 878921.2490333 (279)\ttotal: 1.49s\tremaining: 412ms\n",
      "783:\tlearn: 422025.9793881\ttest: 916086.1128796\tbest: 878921.2490333 (279)\ttotal: 1.49s\tremaining: 410ms\n",
      "784:\tlearn: 421935.1637541\ttest: 916259.5188059\tbest: 878921.2490333 (279)\ttotal: 1.49s\tremaining: 408ms\n",
      "785:\tlearn: 421828.3318419\ttest: 916179.8865046\tbest: 878921.2490333 (279)\ttotal: 1.49s\tremaining: 406ms\n",
      "786:\tlearn: 421242.6818471\ttest: 916131.9624000\tbest: 878921.2490333 (279)\ttotal: 1.49s\tremaining: 404ms\n",
      "787:\tlearn: 421167.0858835\ttest: 916089.6916509\tbest: 878921.2490333 (279)\ttotal: 1.49s\tremaining: 402ms\n",
      "788:\tlearn: 420922.9574245\ttest: 916109.6740384\tbest: 878921.2490333 (279)\ttotal: 1.49s\tremaining: 400ms\n",
      "789:\tlearn: 420858.6501745\ttest: 916012.1604174\tbest: 878921.2490333 (279)\ttotal: 1.5s\tremaining: 398ms\n",
      "790:\tlearn: 420807.2980259\ttest: 915968.8159482\tbest: 878921.2490333 (279)\ttotal: 1.5s\tremaining: 396ms\n",
      "791:\tlearn: 420629.1058991\ttest: 916073.2403768\tbest: 878921.2490333 (279)\ttotal: 1.5s\tremaining: 394ms\n",
      "792:\tlearn: 420226.2029378\ttest: 916048.2739213\tbest: 878921.2490333 (279)\ttotal: 1.5s\tremaining: 392ms\n",
      "793:\tlearn: 419873.1820201\ttest: 916232.0776157\tbest: 878921.2490333 (279)\ttotal: 1.5s\tremaining: 390ms\n",
      "794:\tlearn: 419821.8570557\ttest: 916192.0997281\tbest: 878921.2490333 (279)\ttotal: 1.5s\tremaining: 388ms\n",
      "795:\tlearn: 419652.8785125\ttest: 916299.5382978\tbest: 878921.2490333 (279)\ttotal: 1.5s\tremaining: 386ms\n",
      "796:\tlearn: 419457.7875077\ttest: 916172.9551031\tbest: 878921.2490333 (279)\ttotal: 1.5s\tremaining: 384ms\n",
      "797:\tlearn: 419241.2671747\ttest: 916592.3889258\tbest: 878921.2490333 (279)\ttotal: 1.51s\tremaining: 382ms\n",
      "798:\tlearn: 418942.0112581\ttest: 916694.0720191\tbest: 878921.2490333 (279)\ttotal: 1.51s\tremaining: 380ms\n",
      "799:\tlearn: 418636.6136754\ttest: 916764.6186640\tbest: 878921.2490333 (279)\ttotal: 1.51s\tremaining: 378ms\n",
      "800:\tlearn: 418194.8351133\ttest: 916984.6118627\tbest: 878921.2490333 (279)\ttotal: 1.51s\tremaining: 376ms\n",
      "801:\tlearn: 417569.9982168\ttest: 916717.3452928\tbest: 878921.2490333 (279)\ttotal: 1.51s\tremaining: 374ms\n",
      "802:\tlearn: 417331.0811404\ttest: 916679.9054204\tbest: 878921.2490333 (279)\ttotal: 1.51s\tremaining: 372ms\n",
      "803:\tlearn: 416763.3804301\ttest: 916091.7592534\tbest: 878921.2490333 (279)\ttotal: 1.52s\tremaining: 370ms\n",
      "804:\tlearn: 416353.4370674\ttest: 916305.7695488\tbest: 878921.2490333 (279)\ttotal: 1.52s\tremaining: 368ms\n",
      "805:\tlearn: 415829.7560429\ttest: 915758.6500017\tbest: 878921.2490333 (279)\ttotal: 1.52s\tremaining: 366ms\n",
      "806:\tlearn: 415339.3510282\ttest: 915285.3439482\tbest: 878921.2490333 (279)\ttotal: 1.52s\tremaining: 364ms\n",
      "807:\tlearn: 415025.9531459\ttest: 915199.2367376\tbest: 878921.2490333 (279)\ttotal: 1.52s\tremaining: 362ms\n",
      "808:\tlearn: 414667.4773627\ttest: 915529.1477162\tbest: 878921.2490333 (279)\ttotal: 1.52s\tremaining: 360ms\n",
      "809:\tlearn: 414144.6164299\ttest: 915341.1487357\tbest: 878921.2490333 (279)\ttotal: 1.52s\tremaining: 358ms\n",
      "810:\tlearn: 413817.1053793\ttest: 915077.1446735\tbest: 878921.2490333 (279)\ttotal: 1.53s\tremaining: 356ms\n",
      "811:\tlearn: 413507.3634242\ttest: 914825.2433941\tbest: 878921.2490333 (279)\ttotal: 1.53s\tremaining: 354ms\n",
      "812:\tlearn: 413174.2001508\ttest: 914707.6400072\tbest: 878921.2490333 (279)\ttotal: 1.53s\tremaining: 352ms\n",
      "813:\tlearn: 412813.3340571\ttest: 914942.0565355\tbest: 878921.2490333 (279)\ttotal: 1.53s\tremaining: 350ms\n",
      "814:\tlearn: 412535.3846168\ttest: 914704.9918675\tbest: 878921.2490333 (279)\ttotal: 1.53s\tremaining: 348ms\n",
      "815:\tlearn: 412172.8213667\ttest: 914431.6365363\tbest: 878921.2490333 (279)\ttotal: 1.53s\tremaining: 346ms\n",
      "816:\tlearn: 411962.5714178\ttest: 914418.0397375\tbest: 878921.2490333 (279)\ttotal: 1.53s\tremaining: 344ms\n",
      "817:\tlearn: 411538.6288974\ttest: 914576.4297424\tbest: 878921.2490333 (279)\ttotal: 1.54s\tremaining: 342ms\n",
      "818:\tlearn: 411536.6316355\ttest: 914574.3787630\tbest: 878921.2490333 (279)\ttotal: 1.54s\tremaining: 340ms\n",
      "819:\tlearn: 411066.5278742\ttest: 914819.3770512\tbest: 878921.2490333 (279)\ttotal: 1.54s\tremaining: 338ms\n",
      "820:\tlearn: 410851.4618092\ttest: 914783.9776355\tbest: 878921.2490333 (279)\ttotal: 1.54s\tremaining: 336ms\n",
      "821:\tlearn: 410598.0172906\ttest: 914857.5947136\tbest: 878921.2490333 (279)\ttotal: 1.54s\tremaining: 334ms\n",
      "822:\tlearn: 410317.7374746\ttest: 914790.6158503\tbest: 878921.2490333 (279)\ttotal: 1.54s\tremaining: 332ms\n",
      "823:\tlearn: 410145.9307637\ttest: 915026.1424763\tbest: 878921.2490333 (279)\ttotal: 1.54s\tremaining: 330ms\n",
      "824:\tlearn: 409949.0611534\ttest: 914922.3026053\tbest: 878921.2490333 (279)\ttotal: 1.55s\tremaining: 328ms\n",
      "825:\tlearn: 409613.9356701\ttest: 914663.6968327\tbest: 878921.2490333 (279)\ttotal: 1.55s\tremaining: 326ms\n",
      "826:\tlearn: 409415.2793619\ttest: 914617.8286864\tbest: 878921.2490333 (279)\ttotal: 1.55s\tremaining: 324ms\n",
      "827:\tlearn: 409170.9190264\ttest: 914766.4179471\tbest: 878921.2490333 (279)\ttotal: 1.55s\tremaining: 323ms\n",
      "828:\tlearn: 409019.7157029\ttest: 915222.4849089\tbest: 878921.2490333 (279)\ttotal: 1.55s\tremaining: 321ms\n",
      "829:\tlearn: 408898.8688258\ttest: 915149.1610487\tbest: 878921.2490333 (279)\ttotal: 1.56s\tremaining: 319ms\n",
      "830:\tlearn: 408543.0000811\ttest: 915130.6032298\tbest: 878921.2490333 (279)\ttotal: 1.56s\tremaining: 317ms\n",
      "831:\tlearn: 408477.2107956\ttest: 915139.9058876\tbest: 878921.2490333 (279)\ttotal: 1.56s\tremaining: 315ms\n",
      "832:\tlearn: 408475.2035668\ttest: 915143.6186478\tbest: 878921.2490333 (279)\ttotal: 1.56s\tremaining: 313ms\n",
      "833:\tlearn: 408313.4523069\ttest: 915341.8351721\tbest: 878921.2490333 (279)\ttotal: 1.56s\tremaining: 311ms\n",
      "834:\tlearn: 407934.5712265\ttest: 915617.4596513\tbest: 878921.2490333 (279)\ttotal: 1.56s\tremaining: 309ms\n",
      "835:\tlearn: 407653.9839841\ttest: 915735.4653648\tbest: 878921.2490333 (279)\ttotal: 1.56s\tremaining: 307ms\n",
      "836:\tlearn: 407599.6069034\ttest: 915735.1517981\tbest: 878921.2490333 (279)\ttotal: 1.57s\tremaining: 305ms\n",
      "837:\tlearn: 407371.2386401\ttest: 915680.7888807\tbest: 878921.2490333 (279)\ttotal: 1.57s\tremaining: 303ms\n",
      "838:\tlearn: 407235.9959287\ttest: 915814.3296080\tbest: 878921.2490333 (279)\ttotal: 1.57s\tremaining: 301ms\n",
      "839:\tlearn: 407133.8763499\ttest: 915804.8355296\tbest: 878921.2490333 (279)\ttotal: 1.57s\tremaining: 299ms\n",
      "840:\tlearn: 406977.5545693\ttest: 915731.2511811\tbest: 878921.2490333 (279)\ttotal: 1.57s\tremaining: 297ms\n",
      "841:\tlearn: 406719.0451575\ttest: 915849.3322624\tbest: 878921.2490333 (279)\ttotal: 1.57s\tremaining: 296ms\n",
      "842:\tlearn: 406303.0530818\ttest: 916049.3143396\tbest: 878921.2490333 (279)\ttotal: 1.58s\tremaining: 294ms\n",
      "843:\tlearn: 406145.8379034\ttest: 916094.2352702\tbest: 878921.2490333 (279)\ttotal: 1.58s\tremaining: 292ms\n",
      "844:\tlearn: 406143.9174913\ttest: 916092.3484165\tbest: 878921.2490333 (279)\ttotal: 1.58s\tremaining: 290ms\n",
      "845:\tlearn: 405899.3346651\ttest: 916433.2071520\tbest: 878921.2490333 (279)\ttotal: 1.58s\tremaining: 288ms\n",
      "846:\tlearn: 405851.3474722\ttest: 916394.0183616\tbest: 878921.2490333 (279)\ttotal: 1.58s\tremaining: 286ms\n",
      "847:\tlearn: 405523.9296027\ttest: 916481.4606854\tbest: 878921.2490333 (279)\ttotal: 1.58s\tremaining: 284ms\n",
      "848:\tlearn: 405255.8551126\ttest: 916563.9796917\tbest: 878921.2490333 (279)\ttotal: 1.59s\tremaining: 282ms\n",
      "849:\tlearn: 405254.0271708\ttest: 916563.5802511\tbest: 878921.2490333 (279)\ttotal: 1.59s\tremaining: 280ms\n",
      "850:\tlearn: 405040.5950347\ttest: 916800.7855580\tbest: 878921.2490333 (279)\ttotal: 1.59s\tremaining: 278ms\n",
      "851:\tlearn: 404810.0768347\ttest: 917123.2778802\tbest: 878921.2490333 (279)\ttotal: 1.59s\tremaining: 276ms\n",
      "852:\tlearn: 404591.0994988\ttest: 917073.9660977\tbest: 878921.2490333 (279)\ttotal: 1.59s\tremaining: 275ms\n",
      "853:\tlearn: 404505.0324094\ttest: 917010.6710865\tbest: 878921.2490333 (279)\ttotal: 1.59s\tremaining: 273ms\n",
      "854:\tlearn: 404434.3600711\ttest: 916893.6750411\tbest: 878921.2490333 (279)\ttotal: 1.6s\tremaining: 271ms\n",
      "855:\tlearn: 404425.8783737\ttest: 916914.0619046\tbest: 878921.2490333 (279)\ttotal: 1.6s\tremaining: 269ms\n",
      "856:\tlearn: 404423.8945797\ttest: 916898.7680887\tbest: 878921.2490333 (279)\ttotal: 1.6s\tremaining: 267ms\n",
      "857:\tlearn: 404343.4781827\ttest: 916891.5676080\tbest: 878921.2490333 (279)\ttotal: 1.6s\tremaining: 265ms\n",
      "858:\tlearn: 404124.6779307\ttest: 917204.4626221\tbest: 878921.2490333 (279)\ttotal: 1.6s\tremaining: 263ms\n",
      "859:\tlearn: 403862.3416189\ttest: 917210.2007887\tbest: 878921.2490333 (279)\ttotal: 1.6s\tremaining: 261ms\n",
      "860:\tlearn: 403500.4426870\ttest: 917145.7974462\tbest: 878921.2490333 (279)\ttotal: 1.6s\tremaining: 259ms\n",
      "861:\tlearn: 403337.8863986\ttest: 917133.2705540\tbest: 878921.2490333 (279)\ttotal: 1.61s\tremaining: 257ms\n",
      "862:\tlearn: 403028.5714380\ttest: 917227.8671767\tbest: 878921.2490333 (279)\ttotal: 1.61s\tremaining: 255ms\n",
      "863:\tlearn: 402820.4127477\ttest: 917528.4919715\tbest: 878921.2490333 (279)\ttotal: 1.61s\tremaining: 254ms\n",
      "864:\tlearn: 402670.3802855\ttest: 917517.0934750\tbest: 878921.2490333 (279)\ttotal: 1.61s\tremaining: 252ms\n",
      "865:\tlearn: 402569.3766209\ttest: 917450.4662115\tbest: 878921.2490333 (279)\ttotal: 1.61s\tremaining: 250ms\n",
      "866:\tlearn: 402372.0906577\ttest: 917738.8157593\tbest: 878921.2490333 (279)\ttotal: 1.62s\tremaining: 248ms\n",
      "867:\tlearn: 402326.2199644\ttest: 917724.6048321\tbest: 878921.2490333 (279)\ttotal: 1.62s\tremaining: 246ms\n",
      "868:\tlearn: 402100.3650367\ttest: 917757.7519629\tbest: 878921.2490333 (279)\ttotal: 1.62s\tremaining: 244ms\n",
      "869:\tlearn: 401768.9290336\ttest: 917902.9729918\tbest: 878921.2490333 (279)\ttotal: 1.62s\tremaining: 242ms\n",
      "870:\tlearn: 401660.3694029\ttest: 918102.5279852\tbest: 878921.2490333 (279)\ttotal: 1.62s\tremaining: 240ms\n",
      "871:\tlearn: 401591.4597554\ttest: 918186.2279589\tbest: 878921.2490333 (279)\ttotal: 1.63s\tremaining: 239ms\n",
      "872:\tlearn: 401326.5741319\ttest: 918461.1929321\tbest: 878921.2490333 (279)\ttotal: 1.63s\tremaining: 237ms\n",
      "873:\tlearn: 401150.2976320\ttest: 918712.0672050\tbest: 878921.2490333 (279)\ttotal: 1.63s\tremaining: 235ms\n",
      "874:\tlearn: 401117.5365695\ttest: 918682.9547277\tbest: 878921.2490333 (279)\ttotal: 1.63s\tremaining: 233ms\n",
      "875:\tlearn: 400904.9949314\ttest: 919002.3805877\tbest: 878921.2490333 (279)\ttotal: 1.63s\tremaining: 231ms\n",
      "876:\tlearn: 400709.6199773\ttest: 919010.6924443\tbest: 878921.2490333 (279)\ttotal: 1.63s\tremaining: 229ms\n",
      "877:\tlearn: 400531.9851386\ttest: 919085.0109516\tbest: 878921.2490333 (279)\ttotal: 1.64s\tremaining: 227ms\n",
      "878:\tlearn: 400513.4705411\ttest: 919067.9085741\tbest: 878921.2490333 (279)\ttotal: 1.64s\tremaining: 225ms\n",
      "879:\tlearn: 400421.3173622\ttest: 919230.2468856\tbest: 878921.2490333 (279)\ttotal: 1.64s\tremaining: 223ms\n",
      "880:\tlearn: 400233.5812167\ttest: 919549.9937950\tbest: 878921.2490333 (279)\ttotal: 1.64s\tremaining: 222ms\n",
      "881:\tlearn: 399711.2797246\ttest: 920020.0808762\tbest: 878921.2490333 (279)\ttotal: 1.64s\tremaining: 220ms\n",
      "882:\tlearn: 399629.8074271\ttest: 920009.3790270\tbest: 878921.2490333 (279)\ttotal: 1.64s\tremaining: 218ms\n",
      "883:\tlearn: 399574.8707154\ttest: 919939.1560034\tbest: 878921.2490333 (279)\ttotal: 1.64s\tremaining: 216ms\n",
      "884:\tlearn: 399391.4303930\ttest: 919939.2070753\tbest: 878921.2490333 (279)\ttotal: 1.65s\tremaining: 214ms\n",
      "885:\tlearn: 399324.5008806\ttest: 919828.5222117\tbest: 878921.2490333 (279)\ttotal: 1.65s\tremaining: 212ms\n",
      "886:\tlearn: 399091.1481591\ttest: 919993.1629696\tbest: 878921.2490333 (279)\ttotal: 1.65s\tremaining: 210ms\n",
      "887:\tlearn: 399088.6112632\ttest: 919968.4734315\tbest: 878921.2490333 (279)\ttotal: 1.65s\tremaining: 208ms\n",
      "888:\tlearn: 399086.1640471\ttest: 919944.2581092\tbest: 878921.2490333 (279)\ttotal: 1.65s\tremaining: 206ms\n",
      "889:\tlearn: 398862.7945786\ttest: 920102.6082770\tbest: 878921.2490333 (279)\ttotal: 1.65s\tremaining: 204ms\n",
      "890:\tlearn: 398663.2479879\ttest: 920607.5295683\tbest: 878921.2490333 (279)\ttotal: 1.66s\tremaining: 203ms\n",
      "891:\tlearn: 398584.8780551\ttest: 920714.9541429\tbest: 878921.2490333 (279)\ttotal: 1.66s\tremaining: 201ms\n",
      "892:\tlearn: 398295.3290549\ttest: 920540.0229117\tbest: 878921.2490333 (279)\ttotal: 1.66s\tremaining: 199ms\n",
      "893:\tlearn: 398219.2757716\ttest: 920770.5147461\tbest: 878921.2490333 (279)\ttotal: 1.66s\tremaining: 197ms\n",
      "894:\tlearn: 397931.7726322\ttest: 920551.4291254\tbest: 878921.2490333 (279)\ttotal: 1.66s\tremaining: 195ms\n",
      "895:\tlearn: 397718.5130642\ttest: 920707.8666267\tbest: 878921.2490333 (279)\ttotal: 1.67s\tremaining: 193ms\n",
      "896:\tlearn: 397646.9839594\ttest: 920812.4899918\tbest: 878921.2490333 (279)\ttotal: 1.67s\tremaining: 192ms\n",
      "897:\tlearn: 397581.5519946\ttest: 920709.5275419\tbest: 878921.2490333 (279)\ttotal: 1.67s\tremaining: 190ms\n",
      "898:\tlearn: 397357.7609840\ttest: 920270.7060759\tbest: 878921.2490333 (279)\ttotal: 1.67s\tremaining: 188ms\n",
      "899:\tlearn: 397355.5256181\ttest: 920248.6713821\tbest: 878921.2490333 (279)\ttotal: 1.67s\tremaining: 186ms\n",
      "900:\tlearn: 397154.3943527\ttest: 920397.9914884\tbest: 878921.2490333 (279)\ttotal: 1.67s\tremaining: 184ms\n",
      "901:\tlearn: 397152.3131872\ttest: 920375.9396022\tbest: 878921.2490333 (279)\ttotal: 1.68s\tremaining: 182ms\n",
      "902:\tlearn: 396942.6550929\ttest: 919961.5330088\tbest: 878921.2490333 (279)\ttotal: 1.68s\tremaining: 180ms\n",
      "903:\tlearn: 396879.6257258\ttest: 919855.1756127\tbest: 878921.2490333 (279)\ttotal: 1.68s\tremaining: 178ms\n",
      "904:\tlearn: 396877.7012067\ttest: 919850.1628040\tbest: 878921.2490333 (279)\ttotal: 1.68s\tremaining: 177ms\n",
      "905:\tlearn: 396875.8407542\ttest: 919845.2757212\tbest: 878921.2490333 (279)\ttotal: 1.68s\tremaining: 175ms\n",
      "906:\tlearn: 396874.0422056\ttest: 919840.5108655\tbest: 878921.2490333 (279)\ttotal: 1.69s\tremaining: 173ms\n",
      "907:\tlearn: 396872.1097309\ttest: 919818.8911307\tbest: 878921.2490333 (279)\ttotal: 1.69s\tremaining: 171ms\n",
      "908:\tlearn: 396870.2463151\ttest: 919797.6859246\tbest: 878921.2490333 (279)\ttotal: 1.69s\tremaining: 169ms\n",
      "909:\tlearn: 396688.6564210\ttest: 919923.6321325\tbest: 878921.2490333 (279)\ttotal: 1.69s\tremaining: 167ms\n",
      "910:\tlearn: 396628.1311001\ttest: 919820.4066585\tbest: 878921.2490333 (279)\ttotal: 1.69s\tremaining: 165ms\n",
      "911:\tlearn: 396453.2248061\ttest: 919941.2848342\tbest: 878921.2490333 (279)\ttotal: 1.69s\tremaining: 163ms\n",
      "912:\tlearn: 396276.5509594\ttest: 920078.6619050\tbest: 878921.2490333 (279)\ttotal: 1.7s\tremaining: 162ms\n",
      "913:\tlearn: 396114.7100492\ttest: 920189.6622668\tbest: 878921.2490333 (279)\ttotal: 1.7s\tremaining: 160ms\n",
      "914:\tlearn: 395819.7381894\ttest: 920249.5083461\tbest: 878921.2490333 (279)\ttotal: 1.7s\tremaining: 158ms\n",
      "915:\tlearn: 395714.6214962\ttest: 920326.2071503\tbest: 878921.2490333 (279)\ttotal: 1.7s\tremaining: 156ms\n",
      "916:\tlearn: 395487.7061386\ttest: 920165.3110406\tbest: 878921.2490333 (279)\ttotal: 1.7s\tremaining: 154ms\n",
      "917:\tlearn: 395418.3438769\ttest: 920360.3057671\tbest: 878921.2490333 (279)\ttotal: 1.7s\tremaining: 152ms\n",
      "918:\tlearn: 395279.9763420\ttest: 920447.1600561\tbest: 878921.2490333 (279)\ttotal: 1.71s\tremaining: 150ms\n",
      "919:\tlearn: 395123.2757125\ttest: 920526.7494714\tbest: 878921.2490333 (279)\ttotal: 1.71s\tremaining: 149ms\n",
      "920:\tlearn: 394802.1523971\ttest: 920444.2262792\tbest: 878921.2490333 (279)\ttotal: 1.71s\tremaining: 147ms\n",
      "921:\tlearn: 394657.1347795\ttest: 920443.3151690\tbest: 878921.2490333 (279)\ttotal: 1.71s\tremaining: 145ms\n",
      "922:\tlearn: 394473.8399884\ttest: 920076.8936057\tbest: 878921.2490333 (279)\ttotal: 1.71s\tremaining: 143ms\n",
      "923:\tlearn: 394299.1961976\ttest: 919725.2534121\tbest: 878921.2490333 (279)\ttotal: 1.72s\tremaining: 141ms\n",
      "924:\tlearn: 394297.6648940\ttest: 919721.1496536\tbest: 878921.2490333 (279)\ttotal: 1.72s\tremaining: 139ms\n",
      "925:\tlearn: 394296.1845989\ttest: 919717.1496636\tbest: 878921.2490333 (279)\ttotal: 1.72s\tremaining: 137ms\n",
      "926:\tlearn: 394294.7535862\ttest: 919713.2505346\tbest: 878921.2490333 (279)\ttotal: 1.72s\tremaining: 136ms\n",
      "927:\tlearn: 394044.4266561\ttest: 919561.7675765\tbest: 878921.2490333 (279)\ttotal: 1.72s\tremaining: 134ms\n",
      "928:\tlearn: 394043.0508116\ttest: 919558.0447821\tbest: 878921.2490333 (279)\ttotal: 1.73s\tremaining: 132ms\n",
      "929:\tlearn: 394041.7207695\ttest: 919554.4157794\tbest: 878921.2490333 (279)\ttotal: 1.73s\tremaining: 130ms\n",
      "930:\tlearn: 393991.3427164\ttest: 919565.2203097\tbest: 878921.2490333 (279)\ttotal: 1.73s\tremaining: 128ms\n",
      "931:\tlearn: 393674.5321351\ttest: 919525.5982008\tbest: 878921.2490333 (279)\ttotal: 1.73s\tremaining: 126ms\n",
      "932:\tlearn: 393373.4442990\ttest: 919695.8773660\tbest: 878921.2490333 (279)\ttotal: 1.73s\tremaining: 124ms\n",
      "933:\tlearn: 393079.9971752\ttest: 919634.3451577\tbest: 878921.2490333 (279)\ttotal: 1.73s\tremaining: 123ms\n",
      "934:\tlearn: 393078.5281910\ttest: 919610.1372026\tbest: 878921.2490333 (279)\ttotal: 1.74s\tremaining: 121ms\n",
      "935:\tlearn: 392891.0346186\ttest: 919642.0006273\tbest: 878921.2490333 (279)\ttotal: 1.74s\tremaining: 119ms\n",
      "936:\tlearn: 392722.6901244\ttest: 919292.8014910\tbest: 878921.2490333 (279)\ttotal: 1.74s\tremaining: 117ms\n",
      "937:\tlearn: 392721.3250187\ttest: 919286.0094934\tbest: 878921.2490333 (279)\ttotal: 1.74s\tremaining: 115ms\n",
      "938:\tlearn: 392582.9012202\ttest: 919211.6432813\tbest: 878921.2490333 (279)\ttotal: 1.74s\tremaining: 113ms\n",
      "939:\tlearn: 392403.9705720\ttest: 919276.4467671\tbest: 878921.2490333 (279)\ttotal: 1.74s\tremaining: 111ms\n",
      "940:\tlearn: 392167.0699371\ttest: 919135.1404237\tbest: 878921.2490333 (279)\ttotal: 1.75s\tremaining: 109ms\n",
      "941:\tlearn: 392165.6838167\ttest: 919127.9744502\tbest: 878921.2490333 (279)\ttotal: 1.75s\tremaining: 108ms\n",
      "942:\tlearn: 391896.9012570\ttest: 919168.3232576\tbest: 878921.2490333 (279)\ttotal: 1.75s\tremaining: 106ms\n",
      "943:\tlearn: 391893.1983725\ttest: 919173.8370849\tbest: 878921.2490333 (279)\ttotal: 1.75s\tremaining: 104ms\n",
      "944:\tlearn: 391891.9025984\ttest: 919165.3103265\tbest: 878921.2490333 (279)\ttotal: 1.75s\tremaining: 102ms\n",
      "945:\tlearn: 391857.2616309\ttest: 919122.2256411\tbest: 878921.2490333 (279)\ttotal: 1.75s\tremaining: 100ms\n",
      "946:\tlearn: 391590.2429049\ttest: 919073.9409611\tbest: 878921.2490333 (279)\ttotal: 1.75s\tremaining: 98.3ms\n",
      "947:\tlearn: 391382.7643122\ttest: 919081.2676111\tbest: 878921.2490333 (279)\ttotal: 1.76s\tremaining: 96.4ms\n",
      "948:\tlearn: 391198.0735663\ttest: 919380.1608825\tbest: 878921.2490333 (279)\ttotal: 1.76s\tremaining: 94.6ms\n",
      "949:\tlearn: 390909.4545866\ttest: 919563.4327238\tbest: 878921.2490333 (279)\ttotal: 1.76s\tremaining: 92.7ms\n",
      "950:\tlearn: 390697.8626142\ttest: 919425.5927237\tbest: 878921.2490333 (279)\ttotal: 1.76s\tremaining: 90.9ms\n",
      "951:\tlearn: 390308.6968049\ttest: 919049.9894929\tbest: 878921.2490333 (279)\ttotal: 1.76s\tremaining: 89ms\n",
      "952:\tlearn: 390045.7450297\ttest: 919226.6090285\tbest: 878921.2490333 (279)\ttotal: 1.77s\tremaining: 87.2ms\n",
      "953:\tlearn: 389760.0373052\ttest: 919291.7444986\tbest: 878921.2490333 (279)\ttotal: 1.77s\tremaining: 85.3ms\n",
      "954:\tlearn: 389505.5719485\ttest: 919149.2896195\tbest: 878921.2490333 (279)\ttotal: 1.77s\tremaining: 83.4ms\n",
      "955:\tlearn: 389381.0285148\ttest: 919271.4423237\tbest: 878921.2490333 (279)\ttotal: 1.77s\tremaining: 81.6ms\n",
      "956:\tlearn: 389140.5398630\ttest: 919293.5055752\tbest: 878921.2490333 (279)\ttotal: 1.77s\tremaining: 79.7ms\n",
      "957:\tlearn: 389054.4914366\ttest: 919211.7027801\tbest: 878921.2490333 (279)\ttotal: 1.77s\tremaining: 77.8ms\n",
      "958:\tlearn: 388802.8703544\ttest: 919208.6305607\tbest: 878921.2490333 (279)\ttotal: 1.78s\tremaining: 76ms\n",
      "959:\tlearn: 388687.4566819\ttest: 919165.2312273\tbest: 878921.2490333 (279)\ttotal: 1.78s\tremaining: 74.1ms\n",
      "960:\tlearn: 388496.5978118\ttest: 919023.9623513\tbest: 878921.2490333 (279)\ttotal: 1.78s\tremaining: 72.2ms\n",
      "961:\tlearn: 388356.0967052\ttest: 919032.3818038\tbest: 878921.2490333 (279)\ttotal: 1.78s\tremaining: 70.4ms\n",
      "962:\tlearn: 388245.8283806\ttest: 919150.4142357\tbest: 878921.2490333 (279)\ttotal: 1.78s\tremaining: 68.5ms\n",
      "963:\tlearn: 388082.2884336\ttest: 919211.0487478\tbest: 878921.2490333 (279)\ttotal: 1.78s\tremaining: 66.6ms\n",
      "964:\tlearn: 387859.0896935\ttest: 919078.0953593\tbest: 878921.2490333 (279)\ttotal: 1.79s\tremaining: 64.8ms\n",
      "965:\tlearn: 387755.7094927\ttest: 919192.4580715\tbest: 878921.2490333 (279)\ttotal: 1.79s\tremaining: 62.9ms\n",
      "966:\tlearn: 387402.8403274\ttest: 919220.5548827\tbest: 878921.2490333 (279)\ttotal: 1.79s\tremaining: 61.1ms\n",
      "967:\tlearn: 387155.9269580\ttest: 919499.7419878\tbest: 878921.2490333 (279)\ttotal: 1.79s\tremaining: 59.2ms\n",
      "968:\tlearn: 387003.3685017\ttest: 919560.3808068\tbest: 878921.2490333 (279)\ttotal: 1.79s\tremaining: 57.3ms\n",
      "969:\tlearn: 386856.9073336\ttest: 919415.4865899\tbest: 878921.2490333 (279)\ttotal: 1.79s\tremaining: 55.5ms\n",
      "970:\tlearn: 386666.7350013\ttest: 919138.0250423\tbest: 878921.2490333 (279)\ttotal: 1.79s\tremaining: 53.6ms\n",
      "971:\tlearn: 386561.1080509\ttest: 919099.9180342\tbest: 878921.2490333 (279)\ttotal: 1.8s\tremaining: 51.8ms\n",
      "972:\tlearn: 386245.1655530\ttest: 919253.9144644\tbest: 878921.2490333 (279)\ttotal: 1.8s\tremaining: 49.9ms\n",
      "973:\tlearn: 386126.0628439\ttest: 919321.6642591\tbest: 878921.2490333 (279)\ttotal: 1.8s\tremaining: 48.1ms\n",
      "974:\tlearn: 385966.0038835\ttest: 919378.6226140\tbest: 878921.2490333 (279)\ttotal: 1.8s\tremaining: 46.2ms\n",
      "975:\tlearn: 385790.2836368\ttest: 919111.9223170\tbest: 878921.2490333 (279)\ttotal: 1.8s\tremaining: 44.4ms\n",
      "976:\tlearn: 385555.4313162\ttest: 919127.6056361\tbest: 878921.2490333 (279)\ttotal: 1.8s\tremaining: 42.5ms\n",
      "977:\tlearn: 385363.8186386\ttest: 919232.4758909\tbest: 878921.2490333 (279)\ttotal: 1.81s\tremaining: 40.6ms\n",
      "978:\tlearn: 385162.3079016\ttest: 919401.9536823\tbest: 878921.2490333 (279)\ttotal: 1.81s\tremaining: 38.8ms\n",
      "979:\tlearn: 384912.1249067\ttest: 919739.8573224\tbest: 878921.2490333 (279)\ttotal: 1.81s\tremaining: 37ms\n",
      "980:\tlearn: 384826.7703154\ttest: 919666.7801110\tbest: 878921.2490333 (279)\ttotal: 1.81s\tremaining: 35.1ms\n",
      "981:\tlearn: 384619.1322170\ttest: 919674.7742442\tbest: 878921.2490333 (279)\ttotal: 1.81s\tremaining: 33.3ms\n",
      "982:\tlearn: 384387.6819453\ttest: 920004.2018598\tbest: 878921.2490333 (279)\ttotal: 1.82s\tremaining: 31.4ms\n",
      "983:\tlearn: 384178.4677713\ttest: 920304.4445991\tbest: 878921.2490333 (279)\ttotal: 1.82s\tremaining: 29.6ms\n",
      "984:\tlearn: 383906.1286468\ttest: 920456.6812020\tbest: 878921.2490333 (279)\ttotal: 1.82s\tremaining: 27.7ms\n",
      "985:\tlearn: 383665.0813560\ttest: 920479.6624020\tbest: 878921.2490333 (279)\ttotal: 1.82s\tremaining: 25.9ms\n",
      "986:\tlearn: 383589.6177118\ttest: 920421.1976799\tbest: 878921.2490333 (279)\ttotal: 1.82s\tremaining: 24ms\n",
      "987:\tlearn: 383318.1438097\ttest: 920640.2217115\tbest: 878921.2490333 (279)\ttotal: 1.82s\tremaining: 22.2ms\n",
      "988:\tlearn: 383098.2377016\ttest: 920660.8388296\tbest: 878921.2490333 (279)\ttotal: 1.83s\tremaining: 20.3ms\n",
      "989:\tlearn: 383056.0138950\ttest: 920613.2675053\tbest: 878921.2490333 (279)\ttotal: 1.84s\tremaining: 18.6ms\n",
      "990:\tlearn: 382882.6558522\ttest: 920556.6503097\tbest: 878921.2490333 (279)\ttotal: 1.84s\tremaining: 16.7ms\n",
      "991:\tlearn: 382750.9971504\ttest: 920511.7709151\tbest: 878921.2490333 (279)\ttotal: 1.84s\tremaining: 14.9ms\n",
      "992:\tlearn: 382606.6897315\ttest: 920590.0505092\tbest: 878921.2490333 (279)\ttotal: 1.84s\tremaining: 13ms\n",
      "993:\tlearn: 382449.2731542\ttest: 920495.1652202\tbest: 878921.2490333 (279)\ttotal: 1.85s\tremaining: 11.1ms\n",
      "994:\tlearn: 381924.1527099\ttest: 920564.9357789\tbest: 878921.2490333 (279)\ttotal: 1.85s\tremaining: 9.29ms\n",
      "995:\tlearn: 381723.7487826\ttest: 920491.6621612\tbest: 878921.2490333 (279)\ttotal: 1.85s\tremaining: 7.43ms\n",
      "996:\tlearn: 381392.1771314\ttest: 920530.5275091\tbest: 878921.2490333 (279)\ttotal: 1.85s\tremaining: 5.57ms\n",
      "997:\tlearn: 381228.1424506\ttest: 920395.8261359\tbest: 878921.2490333 (279)\ttotal: 1.85s\tremaining: 3.71ms\n",
      "998:\tlearn: 381051.4712500\ttest: 920503.7317701\tbest: 878921.2490333 (279)\ttotal: 1.85s\tremaining: 1.86ms\n",
      "999:\tlearn: 380962.8009293\ttest: 920632.5318364\tbest: 878921.2490333 (279)\ttotal: 1.86s\tremaining: 0us\n",
      "\n",
      "bestTest = 878921.249\n",
      "bestIteration = 279\n",
      "\n",
      "Shrink model to first 280 iterations.\n"
     ]
    },
    {
     "data": {
      "text/plain": [
       "<catboost.core.CatBoostRegressor at 0x296aaab57f0>"
      ]
     },
     "execution_count": 32,
     "metadata": {},
     "output_type": "execute_result"
    }
   ],
   "source": [
    "model = CatBoostRegressor(random_state = 123)\n",
    "model.fit(X_train, y_train, eval_set = [(X_test,y_test)])"
   ]
  },
  {
   "cell_type": "code",
   "execution_count": 33,
   "metadata": {
    "collapsed": false,
    "pycharm": {
     "name": "#%%\n"
    }
   },
   "outputs": [
    {
     "data": {
      "text/plain": [
       "878921.2490333221"
      ]
     },
     "execution_count": 33,
     "metadata": {},
     "output_type": "execute_result"
    }
   ],
   "source": [
    "y_pred = model.predict(X_test)\n",
    "MSE = mean_squared_error(y_test, y_pred)\n",
    "np.sqrt(MSE)"
   ]
  },
  {
   "cell_type": "code",
   "execution_count": null,
   "metadata": {
    "collapsed": false,
    "pycharm": {
     "name": "#%%\n"
    }
   },
   "outputs": [],
   "source": [
    "pred = model.predict(test_df)\n",
    "sub_df['value'] = pred"
   ]
  },
  {
   "cell_type": "code",
   "execution_count": null,
   "metadata": {
    "collapsed": false,
    "pycharm": {
     "name": "#%%\n"
    }
   },
   "outputs": [],
   "source": [
    "sub_df.to_csv('./save/submission.csv', index=False)"
   ]
  },
  {
   "cell_type": "code",
   "execution_count": null,
   "metadata": {
    "collapsed": false,
    "pycharm": {
     "name": "#%%\n"
    }
   },
   "outputs": [],
   "source": []
  }
 ],
 "metadata": {
  "kernelspec": {
   "display_name": "Python 3.6.13 ('cb')",
   "language": "python",
   "name": "python3"
  },
  "language_info": {
   "codemirror_mode": {
    "name": "ipython",
    "version": 3
   },
   "file_extension": ".py",
   "mimetype": "text/x-python",
   "name": "python",
   "nbconvert_exporter": "python",
   "pygments_lexer": "ipython3",
   "version": "3.6.13"
  },
  "orig_nbformat": 4,
  "vscode": {
   "interpreter": {
    "hash": "3c8d5bd3cad5bc346919d179d288858cb19a7b9ffb3b2d344c05ef81741433b8"
   }
  }
 },
 "nbformat": 4,
 "nbformat_minor": 2
}
